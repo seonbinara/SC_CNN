{
 "cells": [
  {
   "cell_type": "code",
   "execution_count": 1,
   "metadata": {},
   "outputs": [],
   "source": [
    "import itertools\n",
    "\n",
    "import torch \n",
    "import torch.nn as nn\n",
    "import torch.nn.functional as F\n",
    "import torch.optim as optim\n",
    "from torchvision import datasets, transforms\n",
    "\n",
    "from IPython.display import Image\n",
    "from IPython import display\n",
    "import matplotlib.pyplot as plt\n",
    "\n",
    "%matplotlib inline"
   ]
  },
  {
   "cell_type": "code",
   "execution_count": 2,
   "metadata": {},
   "outputs": [
    {
     "data": {
      "text/plain": [
       "'GeForce RTX 2060 SUPER'"
      ]
     },
     "execution_count": 2,
     "metadata": {},
     "output_type": "execute_result"
    }
   ],
   "source": [
    "torch.cuda.get_device_name(0)"
   ]
  },
  {
   "cell_type": "code",
   "execution_count": 3,
   "metadata": {},
   "outputs": [
    {
     "name": "stderr",
     "output_type": "stream",
     "text": [
      "\r",
      "0it [00:00, ?it/s]"
     ]
    },
    {
     "name": "stdout",
     "output_type": "stream",
     "text": [
      "Downloading http://yann.lecun.com/exdb/mnist/train-images-idx3-ubyte.gz to ../mnist_data/MNIST/raw/train-images-idx3-ubyte.gz\n"
     ]
    },
    {
     "name": "stderr",
     "output_type": "stream",
     "text": [
      "9920512it [00:03, 2806184.47it/s]                             \n"
     ]
    },
    {
     "name": "stdout",
     "output_type": "stream",
     "text": [
      "Extracting ../mnist_data/MNIST/raw/train-images-idx3-ubyte.gz to ../mnist_data/MNIST/raw\n"
     ]
    },
    {
     "name": "stderr",
     "output_type": "stream",
     "text": [
      "\r",
      "0it [00:00, ?it/s]"
     ]
    },
    {
     "name": "stdout",
     "output_type": "stream",
     "text": [
      "Downloading http://yann.lecun.com/exdb/mnist/train-labels-idx1-ubyte.gz to ../mnist_data/MNIST/raw/train-labels-idx1-ubyte.gz\n"
     ]
    },
    {
     "name": "stderr",
     "output_type": "stream",
     "text": [
      "32768it [00:00, 54872.73it/s]                           \n",
      "0it [00:00, ?it/s]"
     ]
    },
    {
     "name": "stdout",
     "output_type": "stream",
     "text": [
      "Extracting ../mnist_data/MNIST/raw/train-labels-idx1-ubyte.gz to ../mnist_data/MNIST/raw\n",
      "Downloading http://yann.lecun.com/exdb/mnist/t10k-images-idx3-ubyte.gz to ../mnist_data/MNIST/raw/t10k-images-idx3-ubyte.gz\n"
     ]
    },
    {
     "name": "stderr",
     "output_type": "stream",
     "text": [
      "1654784it [00:04, 354571.26it/s]                             \n",
      "0it [00:00, ?it/s]"
     ]
    },
    {
     "name": "stdout",
     "output_type": "stream",
     "text": [
      "Extracting ../mnist_data/MNIST/raw/t10k-images-idx3-ubyte.gz to ../mnist_data/MNIST/raw\n",
      "Downloading http://yann.lecun.com/exdb/mnist/t10k-labels-idx1-ubyte.gz to ../mnist_data/MNIST/raw/t10k-labels-idx1-ubyte.gz\n"
     ]
    },
    {
     "name": "stderr",
     "output_type": "stream",
     "text": [
      "8192it [00:00, 19982.30it/s]            "
     ]
    },
    {
     "name": "stdout",
     "output_type": "stream",
     "text": [
      "Extracting ../mnist_data/MNIST/raw/t10k-labels-idx1-ubyte.gz to ../mnist_data/MNIST/raw\n",
      "Processing...\n",
      "Done!\n"
     ]
    },
    {
     "name": "stderr",
     "output_type": "stream",
     "text": [
      "\n"
     ]
    }
   ],
   "source": [
    "# prepare batch_loader \n",
    "batch_size=64\n",
    "trn_dataset = datasets.MNIST('../mnist_data/',\n",
    "                             download=True,\n",
    "                             train=True,\n",
    "                             transform=transforms.Compose([\n",
    "                                 transforms.ToTensor(), # image to Tensor\n",
    "                                 transforms.Normalize((0.1307,), (0.3081,)) # image, label\n",
    "                             ])) \n",
    "\n",
    "trn_loader = torch.utils.data.DataLoader(trn_dataset,\n",
    "                                         batch_size=batch_size,\n",
    "                                         shuffle=True)"
   ]
  },
  {
   "cell_type": "code",
   "execution_count": 4,
   "metadata": {},
   "outputs": [],
   "source": [
    "val_dataset = datasets.MNIST(\"../mnist_data/\", \n",
    "                             download=False,\n",
    "                             train=False,\n",
    "                             transform= transforms.Compose([\n",
    "                               transforms.ToTensor(),\n",
    "                               transforms.Normalize((0.1307, ),(0.3081, ))\n",
    "                           ]))\n",
    "\n",
    "val_loader = torch.utils.data.DataLoader(val_dataset,\n",
    "                                         batch_size=batch_size,\n",
    "                                         shuffle=True)"
   ]
  },
  {
   "cell_type": "code",
   "execution_count": 5,
   "metadata": {},
   "outputs": [],
   "source": [
    "num_batches = len(trn_loader)"
   ]
  },
  {
   "cell_type": "markdown",
   "metadata": {},
   "source": [
    "## 학습시키려는 MNIST 이미지를 확인해보자"
   ]
  },
  {
   "cell_type": "code",
   "execution_count": 6,
   "metadata": {},
   "outputs": [],
   "source": [
    "data = next(iter(trn_loader))"
   ]
  },
  {
   "cell_type": "code",
   "execution_count": 7,
   "metadata": {},
   "outputs": [],
   "source": [
    "img, label = data"
   ]
  },
  {
   "cell_type": "code",
   "execution_count": 8,
   "metadata": {},
   "outputs": [
    {
     "data": {
      "text/plain": [
       "torch.Size([64, 1, 28, 28])"
      ]
     },
     "execution_count": 8,
     "metadata": {},
     "output_type": "execute_result"
    }
   ],
   "source": [
    "img.size() # batch_size, num_channel, x, y"
   ]
  },
  {
   "cell_type": "code",
   "execution_count": 9,
   "metadata": {},
   "outputs": [
    {
     "data": {
      "text/plain": [
       "torch.Size([64])"
      ]
     },
     "execution_count": 9,
     "metadata": {},
     "output_type": "execute_result"
    }
   ],
   "source": [
    "label.size() # 0~9까지의 숫자가 batch_size 만큼"
   ]
  },
  {
   "cell_type": "code",
   "execution_count": 22,
   "metadata": {},
   "outputs": [
    {
     "data": {
      "text/plain": [
       "tensor([3, 3, 7, 6, 1, 0, 3, 2, 0, 6, 4, 4, 9, 4, 8, 0, 9, 3, 3, 3, 8, 0, 3, 9,\n",
       "        3, 5, 4, 6, 3, 3, 1, 2], device='cuda:0')"
      ]
     },
     "execution_count": 22,
     "metadata": {},
     "output_type": "execute_result"
    }
   ],
   "source": [
    "label"
   ]
  },
  {
   "cell_type": "code",
   "execution_count": 10,
   "metadata": {},
   "outputs": [
    {
     "data": {
      "image/png": "[encoded data removed]",
      "text/plain": [
       "<Figure size 432x432 with 20 Axes>"
      ]
     },
     "metadata": {
      "needs_background": "light"
     },
     "output_type": "display_data"
    }
   ],
   "source": [
    "# create figure for plotting\n",
    "row_num = 5\n",
    "col_num = 4\n",
    "fig, ax = plt.subplots(row_num, col_num, figsize=(6,6))\n",
    "for i, j in itertools.product(range(row_num), range(col_num)):\n",
    "    ax[i,j].get_xaxis().set_visible(False)\n",
    "    ax[i,j].get_yaxis().set_visible(False)\n",
    "    \n",
    "    \n",
    "for k in range(row_num*col_num):\n",
    "    i = k//col_num\n",
    "    j = k%col_num\n",
    "    ax[i,j].cla() # clear the current axis\n",
    "    ax[i,j].imshow(img[k,:].data.cpu().numpy().reshape(28,28), cmap='Greys')"
   ]
  },
  {
   "cell_type": "code",
   "execution_count": 11,
   "metadata": {
    "scrolled": true
   },
   "outputs": [
    {
     "data": {
      "text/html": [
       "<img src=\"https://9bow.github.io/PyTorch-tutorials-kr/_images/mnist.png\"/>"
      ],
      "text/plain": [
       "<IPython.core.display.Image object>"
      ]
     },
     "execution_count": 11,
     "metadata": {},
     "output_type": "execute_result"
    }
   ],
   "source": [
    "Image(url= \"https://9bow.github.io/PyTorch-tutorials-kr/_images/mnist.png\")"
   ]
  },
  {
   "cell_type": "code",
   "execution_count": 12,
   "metadata": {},
   "outputs": [],
   "source": [
    "# construct model on cuda if available\n",
    "\n",
    "use_cuda = torch.cuda.is_available()\n",
    "\n",
    "class CNNClassifier(nn.Module):\n",
    "    \n",
    "    def __init__(self):\n",
    "        # 항상 torch.nn.Module을 상속받고 시작\n",
    "        super(CNNClassifier, self).__init__()\n",
    "        conv1 = nn.Conv2d(1, 6, 5, 1) # 6@24*24\n",
    "        # activation ReLU\n",
    "        pool1 = nn.MaxPool2d(2) # 6@12*12\n",
    "        conv2 = nn.Conv2d(6, 16, 5, 1) # 16@8*8\n",
    "        # activation ReLU\n",
    "        pool2 = nn.MaxPool2d(2) # 16@4*4\n",
    "        \n",
    "        self.conv_module = nn.Sequential(\n",
    "            conv1,\n",
    "            nn.ReLU(),\n",
    "            pool1,\n",
    "            conv2,\n",
    "            nn.ReLU(),\n",
    "            pool2\n",
    "        )\n",
    "        \n",
    "        fc1 = nn.Linear(16*4*4, 120)\n",
    "        # activation ReLU\n",
    "        fc2 = nn.Linear(120, 84)\n",
    "        # activation ReLU\n",
    "        fc3 = nn.Linear(84, 10)\n",
    "\n",
    "        self.fc_module = nn.Sequential(\n",
    "            fc1,\n",
    "            nn.ReLU(),\n",
    "            fc2,\n",
    "            nn.ReLU(),\n",
    "            fc3\n",
    "        )\n",
    "        \n",
    "        # gpu로 할당\n",
    "        if use_cuda:\n",
    "            self.conv_module = self.conv_module.cuda()\n",
    "            self.fc_module = self.fc_module.cuda()\n",
    "        \n",
    "    def forward(self, x):\n",
    "        out = self.conv_module(x) # @16*4*4\n",
    "        # make linear\n",
    "        dim = 1\n",
    "        for d in out.size()[1:]: #16, 4, 4\n",
    "            dim = dim * d\n",
    "        out = out.view(-1, dim)\n",
    "        out = self.fc_module(out)\n",
    "        return F.softmax(out, dim=1)"
   ]
  },
  {
   "cell_type": "code",
   "execution_count": 13,
   "metadata": {},
   "outputs": [],
   "source": [
    "cnn = CNNClassifier()"
   ]
  },
  {
   "cell_type": "markdown",
   "metadata": {},
   "source": [
    "## Training model\n",
    "\n",
    "**What do we need?** <br>\n",
    "1. loss ex) MSELoss\n",
    "2. backpropagation method ex) SGD ... <br>\n",
    "    2.1 update할 parameter들 <br>\n",
    "    2.2 learning rate\n",
    "        \n",
    "3. hyperparamters ex) num_epochs ..."
   ]
  },
  {
   "cell_type": "code",
   "execution_count": 14,
   "metadata": {},
   "outputs": [],
   "source": [
    "# loss\n",
    "criterion = nn.CrossEntropyLoss()\n",
    "# backpropagation method\n",
    "learning_rate = 1e-3\n",
    "optimizer = optim.Adam(cnn.parameters(), lr=learning_rate)"
   ]
  },
  {
   "cell_type": "code",
   "execution_count": 15,
   "metadata": {},
   "outputs": [],
   "source": [
    "# hyper-parameters\n",
    "num_epochs = 2"
   ]
  },
  {
   "cell_type": "code",
   "execution_count": 16,
   "metadata": {},
   "outputs": [
    {
     "data": {
      "text/plain": [
       "938"
      ]
     },
     "execution_count": 16,
     "metadata": {},
     "output_type": "execute_result"
    }
   ],
   "source": [
    "num_batches"
   ]
  },
  {
   "cell_type": "code",
   "execution_count": 17,
   "metadata": {},
   "outputs": [
    {
     "data": {
      "text/plain": [
       "64"
      ]
     },
     "execution_count": 17,
     "metadata": {},
     "output_type": "execute_result"
    }
   ],
   "source": [
    "batch_size"
   ]
  },
  {
   "cell_type": "code",
   "execution_count": 18,
   "metadata": {},
   "outputs": [
    {
     "data": {
      "image/png": "[encoded data removed]",
      "text/plain": [
       "<Figure size 432x432 with 8 Axes>"
      ]
     },
     "metadata": {},
     "output_type": "display_data"
    },
    {
     "name": "stdout",
     "output_type": "stream",
     "text": [
      "label: tensor([2, 4, 2, 4, 7, 2, 8, 8], device='cuda:0')\n",
      "prediction: tensor([2, 4, 2, 4, 7, 2, 8, 8], device='cuda:0')\n",
      "epoch: 2/2 | step: 900/938 | trn loss: 1.4916 | val loss: 1.4844\n"
     ]
    },
    {
     "data": {
      "image/png": "[encoded data removed]",
      "text/plain": [
       "<Figure size 432x432 with 8 Axes>"
      ]
     },
     "metadata": {
      "needs_background": "light"
     },
     "output_type": "display_data"
    }
   ],
   "source": [
    "# create figure for plotting\n",
    "row_num = 2\n",
    "col_num = 4\n",
    "fig, ax = plt.subplots(row_num, col_num, figsize=(6,6))\n",
    "for i, j in itertools.product(range(row_num), range(col_num)):\n",
    "    ax[i,j].get_xaxis().set_visible(False)\n",
    "    ax[i,j].get_yaxis().set_visible(False) \n",
    "    \n",
    "trn_loss_list = []\n",
    "val_loss_list = []\n",
    "\n",
    "for epoch in range(num_epochs):\n",
    "    trn_loss = 0.0\n",
    "    for i, data in enumerate(trn_loader):\n",
    "        x, label = data\n",
    "        if use_cuda:\n",
    "            x = x.cuda()\n",
    "            label = label.cuda()\n",
    "        # grad init\n",
    "        optimizer.zero_grad()\n",
    "        # forward propagation\n",
    "        model_output = cnn(x)\n",
    "        # calculate loss\n",
    "        loss = criterion(model_output, label)\n",
    "        # back propagation \n",
    "        loss.backward()\n",
    "        # weight update\n",
    "        optimizer.step()\n",
    "        \n",
    "        # trn_loss summary\n",
    "        trn_loss += loss.item()\n",
    "        # del (memory issue)\n",
    "        del loss\n",
    "        del model_output\n",
    "        \n",
    "        # 학습과정 출력\n",
    "        if (i+1) % 100 == 0: # every 100 mini-batches\n",
    "            with torch.no_grad(): # very very very very important!!!\n",
    "                val_loss = 0.0\n",
    "                for j, val in enumerate(val_loader):\n",
    "                    val_x, val_label = val\n",
    "                    if use_cuda:\n",
    "                        val_x = val_x.cuda()\n",
    "                        val_label =val_label.cuda()\n",
    "                    val_output = cnn(val_x)\n",
    "                    v_loss = criterion(val_output, val_label)\n",
    "                    val_loss += v_loss\n",
    "\n",
    "            # draw last val dataset\n",
    "            for k in range(row_num*col_num):\n",
    "                ii = k//col_num\n",
    "                jj = k%col_num\n",
    "                ax[ii,jj].cla() # clear the current axis\n",
    "                ax[ii,jj].imshow(val_x[k,:].data.cpu().numpy().reshape(28,28), cmap='Greys')\n",
    "            \n",
    "            display.clear_output(wait=True)\n",
    "            display.display(plt.gcf()) # get a reference to a current figure\n",
    "                \n",
    "            print(\"label: {}\".format(val_label[:row_num*col_num]))\n",
    "            print(\"prediction: {}\".format(val_output.argmax(dim=1)[:row_num*col_num]))\n",
    "            del val_output\n",
    "            del v_loss\n",
    "            \n",
    "            print(\"epoch: {}/{} | step: {}/{} | trn loss: {:.4f} | val loss: {:.4f}\".format(\n",
    "                epoch+1, num_epochs, i+1, num_batches, trn_loss / 100, val_loss / len(val_loader)\n",
    "            ))            \n",
    "            \n",
    "            trn_loss_list.append(trn_loss/100)\n",
    "            val_loss_list.append(val_loss/len(val_loader))\n",
    "            trn_loss = 0.0"
   ]
  },
  {
   "cell_type": "code",
   "execution_count": 26,
   "metadata": {},
   "outputs": [
    {
     "name": "stdout",
     "output_type": "stream",
     "text": [
      "tensor([[1.3323e-15, 9.2113e-23, 4.8392e-25, 2.2556e-11, 2.2597e-21, 1.0000e+00,\n",
      "         2.5402e-18, 6.0958e-21, 1.7665e-14, 1.4656e-11],\n",
      "        [1.9210e-12, 4.4962e-11, 5.1700e-15, 1.8068e-07, 7.8958e-10, 1.0033e-07,\n",
      "         4.5059e-20, 9.0986e-08, 3.1165e-05, 9.9997e-01],\n",
      "        [4.0312e-14, 1.7768e-13, 1.3017e-13, 2.7806e-12, 1.0000e+00, 6.1354e-08,\n",
      "         1.1515e-10, 1.7734e-11, 2.4320e-09, 1.1083e-07],\n",
      "        [5.6989e-13, 1.7074e-12, 7.8817e-11, 6.2298e-14, 2.1540e-15, 2.7318e-11,\n",
      "         3.3749e-13, 1.6211e-17, 1.0000e+00, 1.2244e-15],\n",
      "        [1.6140e-09, 4.7637e-13, 5.1506e-09, 4.6782e-13, 1.7545e-11, 5.6356e-09,\n",
      "         4.7918e-11, 4.4864e-13, 1.0000e+00, 7.1088e-10],\n",
      "        [7.3272e-11, 1.9492e-10, 6.8138e-11, 6.9393e-19, 5.4508e-05, 1.3702e-10,\n",
      "         9.9995e-01, 1.8123e-19, 2.5773e-14, 8.6295e-21],\n",
      "        [2.4527e-07, 9.9952e-01, 1.8034e-07, 3.8551e-08, 1.2637e-04, 3.1160e-06,\n",
      "         2.1799e-08, 3.4580e-04, 8.8383e-08, 2.5560e-07],\n",
      "        [1.7982e-14, 5.7900e-16, 3.6266e-11, 4.3376e-11, 1.0450e-17, 1.7366e-13,\n",
      "         3.5041e-22, 1.6154e-13, 1.0000e+00, 3.4172e-12],\n",
      "        [1.0000e+00, 1.5057e-23, 7.3815e-16, 6.1307e-18, 7.0454e-22, 8.2267e-10,\n",
      "         4.3741e-15, 1.7904e-16, 1.9903e-19, 7.4500e-17],\n",
      "        [9.6877e-16, 1.0895e-14, 5.7642e-13, 3.5047e-14, 4.0396e-18, 3.2338e-17,\n",
      "         4.1613e-28, 1.0000e+00, 1.3039e-19, 1.7456e-13],\n",
      "        [5.6094e-15, 7.5650e-18, 9.2413e-19, 2.0777e-21, 3.9515e-13, 8.1085e-11,\n",
      "         1.0000e+00, 2.8768e-27, 3.8446e-15, 2.5649e-24],\n",
      "        [1.1026e-11, 9.9999e-01, 5.8871e-12, 3.7083e-16, 5.0260e-06, 3.6104e-10,\n",
      "         1.4161e-10, 1.7053e-09, 3.6365e-10, 3.3253e-13],\n",
      "        [7.2252e-13, 3.1612e-13, 1.6780e-11, 1.4583e-14, 1.0000e+00, 1.3411e-11,\n",
      "         9.8670e-12, 5.8158e-08, 1.8426e-12, 3.6733e-07],\n",
      "        [1.4408e-18, 5.2989e-16, 1.7279e-19, 1.0000e+00, 1.7552e-23, 1.3841e-09,\n",
      "         1.0619e-23, 1.4242e-15, 1.5786e-12, 3.1237e-17],\n",
      "        [1.1737e-17, 1.7011e-15, 1.7081e-17, 1.3039e-19, 1.0000e+00, 1.5010e-14,\n",
      "         1.4256e-15, 1.5884e-11, 6.8036e-18, 4.3160e-14],\n",
      "        [1.3782e-15, 2.0211e-14, 1.9320e-13, 7.3049e-12, 1.7573e-14, 2.7074e-08,\n",
      "         4.1212e-14, 4.1204e-16, 1.0000e+00, 4.6394e-15],\n",
      "        [9.9999e-01, 1.3336e-11, 2.4195e-07, 9.3027e-12, 4.8287e-12, 3.7899e-06,\n",
      "         8.2465e-07, 4.7218e-09, 1.7996e-06, 1.1329e-09],\n",
      "        [3.7213e-08, 5.6050e-15, 3.6646e-09, 1.2051e-08, 2.7661e-11, 5.1184e-09,\n",
      "         7.6010e-13, 2.7492e-15, 1.0000e+00, 2.6493e-11],\n",
      "        [2.7680e-22, 3.8090e-19, 1.1327e-17, 2.0537e-19, 2.4788e-24, 7.1228e-23,\n",
      "         1.5722e-36, 1.0000e+00, 5.8215e-24, 1.7101e-18],\n",
      "        [3.8784e-11, 1.3241e-11, 2.2199e-11, 1.9781e-07, 4.7139e-07, 3.7435e-07,\n",
      "         7.1812e-15, 5.4109e-06, 7.1966e-08, 9.9999e-01],\n",
      "        [2.9648e-16, 1.9709e-21, 1.0000e+00, 4.1611e-14, 1.5110e-22, 4.4769e-23,\n",
      "         5.2743e-24, 2.9299e-12, 2.8529e-17, 1.9148e-24],\n",
      "        [1.0523e-16, 1.5620e-13, 7.6769e-06, 2.8599e-07, 1.0754e-19, 2.0665e-17,\n",
      "         2.0475e-26, 9.9999e-01, 2.5831e-16, 1.0611e-19],\n",
      "        [1.7080e-22, 8.7902e-23, 7.0027e-14, 2.7328e-16, 4.3842e-29, 1.3793e-25,\n",
      "         6.1070e-40, 1.0000e+00, 6.9462e-26, 2.7999e-23],\n",
      "        [1.5597e-21, 7.0629e-21, 9.4982e-21, 1.0000e+00, 5.6172e-30, 6.0295e-15,\n",
      "         2.5827e-32, 1.2418e-16, 1.6961e-16, 2.6422e-22],\n",
      "        [4.3021e-18, 2.0750e-14, 1.0035e-14, 8.0066e-14, 2.6745e-18, 1.1754e-17,\n",
      "         1.5471e-30, 1.0000e+00, 5.6777e-19, 1.1900e-12],\n",
      "        [3.5541e-19, 6.6650e-18, 5.7123e-12, 5.9348e-14, 1.0555e-20, 1.1614e-20,\n",
      "         7.2417e-30, 1.0000e+00, 2.3125e-17, 1.0864e-16],\n",
      "        [4.5488e-16, 2.3401e-15, 1.0000e+00, 5.9081e-15, 3.8756e-29, 1.4760e-23,\n",
      "         3.9657e-26, 5.3177e-14, 1.1361e-15, 2.8968e-34],\n",
      "        [1.7151e-08, 8.3730e-09, 2.5449e-13, 1.1939e-05, 2.6110e-10, 9.9999e-01,\n",
      "         6.1296e-10, 2.0146e-09, 3.6694e-08, 7.0023e-07],\n",
      "        [4.2332e-07, 4.8085e-06, 9.9999e-01, 5.9641e-11, 3.1814e-12, 8.8201e-12,\n",
      "         2.7457e-09, 2.1591e-11, 3.1897e-08, 5.2997e-21],\n",
      "        [1.9828e-03, 1.4235e-11, 9.9781e-01, 2.0760e-04, 2.6107e-15, 1.5135e-08,\n",
      "         1.6558e-14, 2.0352e-06, 8.9285e-09, 2.3181e-10],\n",
      "        [4.0205e-13, 3.1062e-15, 6.0626e-10, 1.9421e-07, 1.4133e-20, 1.7807e-13,\n",
      "         2.8231e-22, 6.4445e-13, 1.0000e+00, 1.1569e-15],\n",
      "        [1.1607e-15, 9.4353e-09, 1.0246e-12, 1.0417e-17, 1.0000e+00, 5.4021e-12,\n",
      "         1.9372e-12, 1.7365e-08, 6.6586e-10, 1.7472e-12],\n",
      "        [1.0000e+00, 1.2589e-19, 7.8537e-13, 1.8849e-15, 9.2894e-17, 6.1248e-10,\n",
      "         1.8276e-11, 9.9867e-15, 1.6305e-18, 4.7426e-13],\n",
      "        [6.3141e-20, 4.8455e-18, 2.8745e-15, 6.9924e-18, 1.8567e-23, 4.8452e-21,\n",
      "         2.8747e-33, 1.0000e+00, 3.0136e-20, 7.7334e-17],\n",
      "        [8.6894e-14, 3.1419e-17, 2.1312e-13, 1.4901e-10, 1.7415e-11, 1.1641e-11,\n",
      "         4.7605e-20, 8.6698e-08, 4.4720e-11, 1.0000e+00],\n",
      "        [3.6623e-10, 9.9830e-01, 6.7018e-11, 6.8820e-12, 1.0514e-03, 1.2429e-06,\n",
      "         8.8228e-11, 6.4809e-04, 9.9674e-13, 7.1512e-10],\n",
      "        [4.0910e-17, 1.0905e-19, 1.6006e-15, 3.6090e-11, 5.9760e-11, 1.3018e-12,\n",
      "         2.8959e-23, 1.0262e-09, 3.6570e-12, 1.0000e+00],\n",
      "        [8.2332e-12, 1.0000e+00, 1.4274e-11, 2.2063e-12, 3.0523e-06, 1.4678e-09,\n",
      "         1.5392e-10, 9.7820e-09, 7.9627e-10, 1.6172e-11],\n",
      "        [9.4936e-13, 5.4771e-14, 9.9999e-01, 1.1815e-05, 4.5552e-25, 1.8172e-18,\n",
      "         2.1764e-24, 2.3087e-09, 3.3965e-13, 5.2428e-28],\n",
      "        [5.3816e-16, 3.3629e-17, 1.5281e-14, 7.5430e-08, 2.6058e-11, 5.4856e-09,\n",
      "         1.1753e-20, 2.7138e-09, 1.0446e-08, 1.0000e+00],\n",
      "        [4.3385e-11, 9.9998e-01, 3.9675e-10, 7.7559e-16, 1.5154e-05, 1.9089e-09,\n",
      "         2.6751e-11, 1.3518e-07, 1.5724e-11, 1.6895e-15],\n",
      "        [4.6075e-15, 1.0983e-12, 5.8372e-14, 1.0000e+00, 2.3165e-19, 7.4354e-08,\n",
      "         2.9604e-18, 5.3989e-13, 3.7291e-10, 3.8687e-16],\n",
      "        [2.3309e-11, 1.0000e+00, 2.1112e-11, 1.2602e-10, 6.2423e-08, 2.5391e-09,\n",
      "         5.4714e-13, 4.3322e-07, 3.8553e-10, 1.2537e-10],\n",
      "        [2.7555e-17, 6.3476e-19, 1.7776e-17, 1.0000e+00, 9.8646e-25, 2.0741e-10,\n",
      "         9.2905e-30, 2.1692e-14, 5.5994e-16, 3.8075e-15],\n",
      "        [1.8896e-15, 8.6865e-16, 1.0000e+00, 6.8754e-12, 1.2236e-18, 1.2481e-19,\n",
      "         5.7201e-20, 6.1708e-14, 8.1021e-16, 1.1009e-24],\n",
      "        [2.2528e-15, 1.1865e-12, 9.7153e-17, 2.0370e-17, 1.0000e+00, 9.3191e-11,\n",
      "         3.6840e-14, 9.4568e-10, 6.7087e-13, 1.4187e-08],\n",
      "        [3.3113e-20, 7.3775e-18, 1.3280e-18, 4.9362e-18, 4.2610e-20, 3.3318e-19,\n",
      "         1.0621e-31, 1.0000e+00, 3.1161e-23, 7.8049e-15],\n",
      "        [1.6102e-15, 1.8151e-17, 4.7008e-15, 1.0000e+00, 6.0892e-23, 3.5710e-10,\n",
      "         9.0266e-28, 1.4826e-13, 9.2208e-14, 3.7535e-13],\n",
      "        [1.0000e+00, 7.8778e-15, 3.8294e-09, 1.5713e-11, 2.5408e-14, 1.2562e-07,\n",
      "         5.6191e-08, 6.1504e-12, 5.0661e-14, 1.2847e-13],\n",
      "        [2.2063e-16, 7.3722e-18, 1.1727e-10, 1.5310e-10, 6.4727e-11, 7.6137e-14,\n",
      "         2.8865e-22, 3.3183e-08, 1.0221e-10, 1.0000e+00],\n",
      "        [1.1199e-14, 6.8884e-15, 1.0000e+00, 1.7088e-12, 6.8621e-16, 1.4792e-18,\n",
      "         4.3833e-17, 2.4465e-14, 3.2150e-08, 3.4095e-21],\n",
      "        [2.2674e-11, 4.5395e-15, 2.3477e-15, 1.2522e-19, 8.9590e-08, 4.3379e-08,\n",
      "         1.0000e+00, 1.7150e-20, 8.6310e-15, 9.4903e-18],\n",
      "        [4.0349e-11, 9.9999e-01, 2.2466e-11, 1.4214e-15, 7.2399e-06, 3.1232e-09,\n",
      "         3.0076e-10, 1.0934e-08, 8.9902e-12, 3.9799e-14],\n",
      "        [3.9707e-23, 1.9316e-19, 1.0000e+00, 1.2240e-15, 6.0300e-28, 6.9549e-28,\n",
      "         2.6992e-29, 1.9679e-17, 1.6036e-15, 9.2289e-35],\n",
      "        [7.2002e-13, 1.3471e-16, 1.3043e-16, 4.8172e-08, 3.0365e-07, 2.0177e-07,\n",
      "         2.8377e-19, 1.0425e-07, 8.3440e-12, 1.0000e+00],\n",
      "        [3.1686e-20, 9.6352e-21, 1.2646e-14, 8.6499e-18, 1.1494e-25, 3.2152e-23,\n",
      "         2.4531e-35, 1.0000e+00, 1.2502e-23, 6.3583e-20],\n",
      "        [6.0939e-10, 9.9996e-01, 1.1431e-09, 4.9584e-11, 3.8144e-05, 5.1124e-08,\n",
      "         8.7508e-09, 2.5764e-07, 2.2082e-09, 1.9723e-10],\n",
      "        [9.7866e-18, 1.7434e-16, 2.8470e-14, 6.4631e-17, 1.7659e-19, 3.8688e-19,\n",
      "         7.7205e-30, 1.0000e+00, 5.3161e-19, 4.2774e-13],\n",
      "        [1.5745e-13, 1.7190e-16, 1.5148e-08, 1.0000e+00, 2.8277e-24, 5.9388e-12,\n",
      "         2.9766e-27, 1.4212e-12, 1.1945e-09, 6.3714e-16],\n",
      "        [5.4848e-11, 7.8234e-17, 8.3853e-17, 2.7172e-09, 8.3486e-17, 1.0000e+00,\n",
      "         5.3056e-12, 3.1952e-15, 1.4520e-06, 1.7340e-08],\n",
      "        [1.4718e-13, 9.0193e-19, 1.6980e-18, 5.4924e-04, 4.5161e-20, 9.9937e-01,\n",
      "         3.4483e-19, 3.7779e-14, 8.2916e-05, 6.0133e-08],\n",
      "        [3.2374e-16, 1.5359e-11, 1.0000e+00, 6.9788e-14, 1.3288e-22, 1.3627e-20,\n",
      "         8.5875e-20, 2.0466e-16, 2.9957e-16, 7.5741e-33],\n",
      "        [6.2455e-12, 1.0000e+00, 1.5941e-10, 2.0428e-14, 2.2542e-06, 1.2863e-10,\n",
      "         6.0180e-10, 8.9738e-10, 2.5030e-10, 8.8537e-14],\n",
      "        [3.3043e-09, 4.9773e-03, 2.2040e-12, 4.1790e-06, 9.3459e-01, 2.8150e-02,\n",
      "         9.7234e-11, 1.4007e-02, 6.1138e-07, 1.8273e-02]], device='cuda:0',\n",
      "       grad_fn=<SoftmaxBackward>)\n",
      "torch.Size([64, 10])\n",
      "tensor([5, 9, 4, 8, 8, 6, 1, 8, 0, 7, 6, 1, 4, 3, 4, 8, 0, 8, 7, 9, 2, 7, 7, 3,\n",
      "        7, 7, 2, 5, 2, 2, 8, 4, 0, 7, 9, 1, 9, 1, 2, 9, 1, 3, 1, 3, 2, 4, 7, 3,\n",
      "        0, 9, 2, 6, 1, 2, 9, 7, 1, 7, 3, 5, 5, 2, 1, 4], device='cuda:0')\n",
      "torch.Size([64])\n"
     ]
    }
   ],
   "source": [
    "for i, data in enumerate(trn_loader):\n",
    "        x, label = data\n",
    "        if use_cuda:\n",
    "            x = x.cuda()\n",
    "            label = label.cuda()\n",
    "        # grad init\n",
    "        optimizer.zero_grad()\n",
    "        # forward propagation\n",
    "        model_output = cnn(x)\n",
    "        print(model_output)\n",
    "        print(model_output.size())\n",
    "        print(label)\n",
    "        print(label.size())\n",
    "        break"
   ]
  },
  {
   "cell_type": "code",
   "execution_count": 19,
   "metadata": {},
   "outputs": [
    {
     "data": {
      "text/plain": [
       "Text(0, 0.5, 'loss')"
      ]
     },
     "execution_count": 19,
     "metadata": {},
     "output_type": "execute_result"
    },
    {
     "data": {
      "image/png": "[encoded data removed]",
      "text/plain": [
       "<Figure size 1152x648 with 1 Axes>"
      ]
     },
     "metadata": {
      "needs_background": "light"
     },
     "output_type": "display_data"
    }
   ],
   "source": [
    "plt.figure(figsize=(16,9))\n",
    "x_range = range(len(trn_loss_list))\n",
    "plt.plot(x_range, trn_loss_list, label=\"trn\")\n",
    "plt.plot(x_range, val_loss_list, label=\"val\")\n",
    "plt.legend()\n",
    "plt.xlabel(\"training steps\")\n",
    "plt.ylabel(\"loss\")"
   ]
  },
  {
   "cell_type": "code",
   "execution_count": 20,
   "metadata": {},
   "outputs": [
    {
     "name": "stdout",
     "output_type": "stream",
     "text": [
      "acc: 97.87\n"
     ]
    }
   ],
   "source": [
    "# val acc\n",
    "with torch.no_grad():\n",
    "    corr_num = 0\n",
    "    total_num = 0\n",
    "    for j, val in enumerate(val_loader):\n",
    "        val_x, val_label = val\n",
    "        if use_cuda:\n",
    "            val_x = val_x.cuda()\n",
    "            val_label =val_label.cuda()\n",
    "        val_output = cnn(val_x)\n",
    "        model_label = val_output.argmax(dim=1)\n",
    "        corr = val_label[val_label == model_label].size(0)\n",
    "        corr_num += corr\n",
    "        total_num += val_label.size(0)\n",
    "\n",
    "print(\"acc: {:.2f}\".format(corr_num / total_num * 100))"
   ]
  },
  {
   "cell_type": "code",
   "execution_count": null,
   "metadata": {},
   "outputs": [],
   "source": []
  }
 ],
 "metadata": {
  "kernelspec": {
   "display_name": "Python 3",
   "language": "python",
   "name": "python3"
  },
  "language_info": {
   "codemirror_mode": {
    "name": "ipython",
    "version": 3
   },
   "file_extension": ".py",
   "mimetype": "text/x-python",
   "name": "python",
   "nbconvert_exporter": "python",
   "pygments_lexer": "ipython3",
   "version": "3.6.9"
  }
 },
 "nbformat": 4,
 "nbformat_minor": 2
}
