{
 "cells": [
  {
   "cell_type": "code",
   "execution_count": 1,
   "metadata": {
    "colab": {
     "base_uri": "https://localhost:8080/",
     "height": 318
    },
    "colab_type": "code",
    "id": "SD8EvIMWEBPH",
    "outputId": "f582d519-eb7a-457f-9705-0d961fc032a2"
   },
   "outputs": [
    {
     "name": "stdout",
     "output_type": "stream",
     "text": [
      "Tue Jan 21 04:13:21 2020       \r\n",
      "+-----------------------------------------------------------------------------+\r\n",
      "| NVIDIA-SMI 440.33.01    Driver Version: 440.33.01    CUDA Version: 10.2     |\r\n",
      "|-------------------------------+----------------------+----------------------+\r\n",
      "| GPU  Name        Persistence-M| Bus-Id        Disp.A | Volatile Uncorr. ECC |\r\n",
      "| Fan  Temp  Perf  Pwr:Usage/Cap|         Memory-Usage | GPU-Util  Compute M. |\r\n",
      "|===============================+======================+======================|\r\n",
      "|   0  GeForce RTX 206...  Off  | 00000000:08:00.0 Off |                  N/A |\r\n",
      "| 68%   60C    P0    49W / 175W |      0MiB /  7979MiB |      0%      Default |\r\n",
      "+-------------------------------+----------------------+----------------------+\r\n",
      "|   1  GeForce RTX 206...  Off  | 00000000:09:00.0 Off |                  N/A |\r\n",
      "| 36%   44C    P0    20W / 175W |      0MiB /  7982MiB |      0%      Default |\r\n",
      "+-------------------------------+----------------------+----------------------+\r\n",
      "                                                                               \r\n",
      "+-----------------------------------------------------------------------------+\r\n",
      "| Processes:                                                       GPU Memory |\r\n",
      "|  GPU       PID   Type   Process name                             Usage      |\r\n",
      "|=============================================================================|\r\n",
      "|  No running processes found                                                 |\r\n",
      "+-----------------------------------------------------------------------------+\r\n"
     ]
    }
   ],
   "source": [
    "!nvidia-smi "
   ]
  },
  {
   "cell_type": "code",
   "execution_count": 2,
   "metadata": {},
   "outputs": [
    {
     "data": {
      "text/plain": [
       "\"import sys\\nsys.stdout = open('/dev/stdout', 'w')\""
      ]
     },
     "execution_count": 2,
     "metadata": {},
     "output_type": "execute_result"
    }
   ],
   "source": [
    "'''import sys\n",
    "sys.stdout = open('/dev/stdout', 'w')'''"
   ]
  },
  {
   "cell_type": "code",
   "execution_count": 3,
   "metadata": {},
   "outputs": [
    {
     "name": "stdout",
     "output_type": "stream",
     "text": [
      "01_CNN.ipynb\t\t\t deepscln_jan20.pt\t  nohup.out\r\n",
      "SC_CNN_v0.ipynb\t\t\t elastic_test.ipynb\t  parallel.py\r\n",
      "SC_CNN_v0.py\t\t\t ln_jan20_testresult.csv  sized_val\r\n",
      "SC_CNN_v0_deepSC_Ln_jan20.ipynb  mnist_4x\t\t  sized_val.tar.gz\r\n",
      "Untitled.ipynb\t\t\t mnist_4x.tar.gz\t  test.csv\r\n",
      "__pycache__\t\t\t mnist_png.tar\t\t  total_acc_no_size.csv\r\n",
      "class_acc_no_size.csv\t\t mnist_sized\t\t  total_acc_sized.csv\r\n",
      "class_acc_sized.csv\t\t mnist_sized.tar.gz\t  untitled.txt\r\n",
      "data\t\t\t\t mnist_sized_trans.ipynb\r\n"
     ]
    }
   ],
   "source": [
    "!ls"
   ]
  },
  {
   "cell_type": "code",
   "execution_count": 4,
   "metadata": {
    "colab": {},
    "colab_type": "code",
    "id": "ndE45qny75h7"
   },
   "outputs": [],
   "source": [
    "DATA_PATH = ''"
   ]
  },
  {
   "cell_type": "code",
   "execution_count": 5,
   "metadata": {
    "colab": {},
    "colab_type": "code",
    "id": "Bkbd3Z9yeGVL"
   },
   "outputs": [],
   "source": [
    "import os"
   ]
  },
  {
   "cell_type": "code",
   "execution_count": 6,
   "metadata": {
    "colab": {},
    "colab_type": "code",
    "id": "JVOENNOie_qk"
   },
   "outputs": [],
   "source": [
    "#!tar -zxvf 'mnist_4x.tar.gz'"
   ]
  },
  {
   "cell_type": "code",
   "execution_count": 7,
   "metadata": {
    "colab": {},
    "colab_type": "code",
    "id": "sn6W5p2EQcdy"
   },
   "outputs": [],
   "source": [
    "INTERNAL_DATA_PATH = 'mnist_4x/'\n",
    "INTERNAL_DATA_PATH_MAIN = 'mnist_4x/resized'\n",
    "INTERNAL_DATA_PATH_OTHER = 'mnist_4x/centered'"
   ]
  },
  {
   "cell_type": "code",
   "execution_count": 8,
   "metadata": {
    "colab": {},
    "colab_type": "code",
    "id": "QuCAgoS1Hn4L"
   },
   "outputs": [],
   "source": [
    "import os\n",
    "import fnmatch\n",
    " \n",
    "# Get a list of all files in directory\n",
    "for rootDir, subdirs, filenames in os.walk(INTERNAL_DATA_PATH):\n",
    "    # Find the files that matches the given patterm\n",
    "    for filename in fnmatch.filter(filenames, '.*'):\n",
    "        try:\n",
    "            #print(filename)\n",
    "            os.remove(os.path.join(rootDir, filename))\n",
    "        except OSError:\n",
    "            print(\"Error while deleting file\")"
   ]
  },
  {
   "cell_type": "code",
   "execution_count": 9,
   "metadata": {
    "colab": {
     "base_uri": "https://localhost:8080/",
     "height": 107
    },
    "colab_type": "code",
    "id": "Wdo5yu_g4iLs",
    "outputId": "3a21d03f-310c-4f9c-9d07-fa08ad62bb87"
   },
   "outputs": [
    {
     "name": "stderr",
     "output_type": "stream",
     "text": [
      "100%|██████████| 10/10 [00:00<00:00, 936.48it/s]\n"
     ]
    }
   ],
   "source": [
    "from time import sleep\n",
    "from tqdm import tqdm\n",
    "for _ in tqdm(range(10)):\n",
    "    sleep(0.001)"
   ]
  },
  {
   "cell_type": "code",
   "execution_count": 10,
   "metadata": {},
   "outputs": [],
   "source": [
    "#os.mkdir('data')"
   ]
  },
  {
   "cell_type": "code",
   "execution_count": 11,
   "metadata": {
    "colab": {
     "base_uri": "https://localhost:8080/",
     "height": 1000
    },
    "colab_type": "code",
    "id": "g5aQe5lBNhO-",
    "outputId": "3660c43b-5f22-43eb-c34d-d912061581f0"
   },
   "outputs": [
    {
     "data": {
      "text/plain": [
       "\"import cv2\\nimport os\\n\\nnew_path = ['data/ds6']#['data/ds1','data/ds2','data/ds3','data/ds4','data/ds5']\\nimg_size = [3]#[729,243,81,27,9]  \\n\\nfor l in range(1):\\n    os.mkdir(new_path[l])\\n    for i in os.listdir(INTERNAL_DATA_PATH_MAIN):\\n        os.mkdir(os.path.join(new_path[l],i))\\n        for j in os.listdir(os.path.join(INTERNAL_DATA_PATH_MAIN,i)):\\n            os.mkdir(os.path.join(new_path[l],i,j))\\n            for k in tqdm(os.listdir(os.path.join(INTERNAL_DATA_PATH_MAIN,i,j))):\\n                img_origin = cv2.imread(os.path.join(INTERNAL_DATA_PATH_MAIN,i,j,k))\\n                img_resized = cv2.resize(img_origin,(img_size[l],img_size[l]))\\n                cv2.imwrite(os.path.join(new_path[l],i,j,k),img_resized)\""
      ]
     },
     "execution_count": 11,
     "metadata": {},
     "output_type": "execute_result"
    }
   ],
   "source": [
    "'''import cv2\n",
    "import os\n",
    "\n",
    "new_path = ['data/ds6']#['data/ds1','data/ds2','data/ds3','data/ds4','data/ds5']\n",
    "img_size = [3]#[729,243,81,27,9]  \n",
    "\n",
    "for l in range(1):\n",
    "    os.mkdir(new_path[l])\n",
    "    for i in os.listdir(INTERNAL_DATA_PATH_MAIN):\n",
    "        os.mkdir(os.path.join(new_path[l],i))\n",
    "        for j in os.listdir(os.path.join(INTERNAL_DATA_PATH_MAIN,i)):\n",
    "            os.mkdir(os.path.join(new_path[l],i,j))\n",
    "            for k in tqdm(os.listdir(os.path.join(INTERNAL_DATA_PATH_MAIN,i,j))):\n",
    "                img_origin = cv2.imread(os.path.join(INTERNAL_DATA_PATH_MAIN,i,j,k))\n",
    "                img_resized = cv2.resize(img_origin,(img_size[l],img_size[l]))\n",
    "                cv2.imwrite(os.path.join(new_path[l],i,j,k),img_resized)'''"
   ]
  },
  {
   "cell_type": "code",
   "execution_count": 12,
   "metadata": {
    "colab": {},
    "colab_type": "code",
    "id": "q-52A9hHEf9y"
   },
   "outputs": [],
   "source": [
    "import torchvision.datasets as datasets\n",
    "import torchvision.transforms as transforms\n",
    "import torchvision\n",
    "import torch\n",
    "from torch.utils.data import Dataset, DataLoader\n",
    "import os\n",
    "import matplotlib.pyplot as plt\n",
    "import numpy as np\n"
   ]
  },
  {
   "cell_type": "code",
   "execution_count": 13,
   "metadata": {
    "colab": {},
    "colab_type": "code",
    "id": "Uv0z7-vNFNS4"
   },
   "outputs": [],
   "source": [
    "device = torch.device(\"cuda\" if torch.cuda.is_available() else \"cpu\")"
   ]
  },
  {
   "cell_type": "code",
   "execution_count": 14,
   "metadata": {},
   "outputs": [],
   "source": [
    "#device = torch.device(\"cuda\" if torch.cuda.is_available() else \"cpu\")\n",
    "#net = Net()\n",
    "#if torch.cuda.device_count() > 1:\n",
    "#    net = nn.DataParallel(net)\n",
    "#net.to(device)\n"
   ]
  },
  {
   "cell_type": "code",
   "execution_count": 15,
   "metadata": {},
   "outputs": [],
   "source": [
    "class SizedMnistDataset(Dataset):\n",
    "    def __init__(self,dir_list,transform=None):\n",
    "        self.dir_list = dir_list\n",
    "        self.transform = transform\n",
    "        \n",
    "        self.dataset_list = []\n",
    "        for i in range(len(dir_list)):\n",
    "            temp_dataset = datasets.ImageFolder(root=self.dir_list[i],transform = self.transform)\n",
    "            self.dataset_list.append(temp_dataset)\n",
    "        \n",
    "    def __len__(self):\n",
    "        return len(self.dataset_list[0])\n",
    "    \n",
    "    def __getitem__(self,idx):\n",
    "        return self.dataset_list[0][idx],self.dataset_list[1][idx],self.dataset_list[2][idx],self.dataset_list[3][idx],self.dataset_list[4][idx]\n",
    "    "
   ]
  },
  {
   "cell_type": "code",
   "execution_count": 16,
   "metadata": {},
   "outputs": [
    {
     "data": {
      "text/plain": [
       "['data/ds2/testing',\n",
       " 'data/ds3/testing',\n",
       " 'data/ds4/testing',\n",
       " 'data/ds5/testing',\n",
       " 'data/ds6/testing']"
      ]
     },
     "execution_count": 16,
     "metadata": {},
     "output_type": "execute_result"
    }
   ],
   "source": [
    "new_path = ['data/ds2','data/ds3','data/ds4','data/ds5','data/ds6']\n",
    "\n",
    "train_dataset_path = [x+\"/training\" for x in new_path]\n",
    "test_dataset_path = [x+\"/testing\" for x in new_path]\n",
    "test_dataset_path"
   ]
  },
  {
   "cell_type": "code",
   "execution_count": 17,
   "metadata": {},
   "outputs": [],
   "source": [
    "img_size = [729,243,81,27,9]  \n",
    "\n",
    "transform = transforms.Compose(\n",
    "    [\n",
    "    transforms.ToTensor(),\n",
    "    transforms.Normalize((0.5, 0.5, 0.5), (0.5, 0.5, 0.5))])\n",
    "\n",
    "trainMnistDataset = SizedMnistDataset(train_dataset_path,transform)\n",
    "testMnistDataset = SizedMnistDataset(test_dataset_path,transform)\n",
    "\n",
    "trainloader = torch.utils.data.DataLoader(trainMnistDataset,\n",
    "                                          batch_size = 32, \n",
    "                                          shuffle=True,\n",
    "                                         num_workers=8)\n",
    "\n",
    "testloader = torch.utils.data.DataLoader(testMnistDataset,\n",
    "                                          batch_size = 32, \n",
    "                                          shuffle=False,\n",
    "                                        num_workers=8)\n"
   ]
  },
  {
   "cell_type": "code",
   "execution_count": 18,
   "metadata": {},
   "outputs": [
    {
     "data": {
      "text/plain": [
       "'temptrainloader = torch.utils.data.DataLoader(temp_dataset,\\n                                          batch_size = 32, \\n                                          shuffle=True)\\nfor i,image in enumerate(temptrainloader):\\n    print(image[0].size())\\n    break'"
      ]
     },
     "execution_count": 18,
     "metadata": {},
     "output_type": "execute_result"
    }
   ],
   "source": [
    "'''temptrainloader = torch.utils.data.DataLoader(temp_dataset,\n",
    "                                          batch_size = 32, \n",
    "                                          shuffle=True)\n",
    "for i,image in enumerate(temptrainloader):\n",
    "    print(image[0].size())\n",
    "    break'''"
   ]
  },
  {
   "cell_type": "code",
   "execution_count": 19,
   "metadata": {},
   "outputs": [
    {
     "data": {
      "text/plain": [
       "'imshow(image[0][0])\\nplt.show()\\nimshow(image[1][0])\\nplt.show()\\nimshow(image[2][0])\\nplt.show()\\nimshow(image[3][0])\\nplt.show()\\nimshow(image[4][0])\\nplt.show()'"
      ]
     },
     "execution_count": 19,
     "metadata": {},
     "output_type": "execute_result"
    }
   ],
   "source": [
    "'''def imshow(img):\n",
    "    img = img / 2 + 0.5     # unnormalize\n",
    "    npimg = img.numpy()\n",
    "    plt.imshow(np.transpose(npimg, (1, 2, 0)))\n",
    "\n",
    "for j in range(10):\n",
    "    for i,image in tqdm(enumerate(trainloader)):\n",
    "        if(i==0):\n",
    "            print(image[0][0].size())\n",
    "            print(image[0][1])\n",
    "            print(image[1][1])\n",
    "            print(image[2][1])\n",
    "            print(image[3][1])\n",
    "            print(image[4][1])'''\n",
    "    \n",
    "'''imshow(image[0][0])\n",
    "plt.show()\n",
    "imshow(image[1][0])\n",
    "plt.show()\n",
    "imshow(image[2][0])\n",
    "plt.show()\n",
    "imshow(image[3][0])\n",
    "plt.show()\n",
    "imshow(image[4][0])\n",
    "plt.show()'''\n"
   ]
  },
  {
   "cell_type": "code",
   "execution_count": 20,
   "metadata": {
    "colab": {
     "base_uri": "https://localhost:8080/",
     "height": 1000
    },
    "colab_type": "code",
    "id": "Ez0McqnuHEZy",
    "outputId": "90401c4e-c7a6-4723-aa91-6d7be9b1c123"
   },
   "outputs": [
    {
     "data": {
      "text/plain": [
       "\"import matplotlib.pyplot as plt\\nimport numpy as np\\n\\n# 이미지를 보여주기 위한 함수\\n\\n\\ndef imshow(img):\\n    img = img / 2 + 0.5     # unnormalize\\n    npimg = img.numpy()\\n    plt.imshow(np.transpose(npimg, (1, 2, 0)))\\n\\n\\n# 학습용 이미지를 무작위로 가져오기\\ndataiter = iter(trainloader)\\nimages = dataiter.next()\\n\\nfor i,images in enumerate(trainloader):\\n    print(images[0].shape)\\n    imshow(images[0][0][0])\\n    plt.show()\\n    imshow(images[0][0][1])\\n    plt.show()\\n    imshow(images[0][0][2])\\n    plt.show()\\n    imshow(images[0][0][3])\\n    plt.show()\\n    imshow(images[0][0][4])\\n    plt.show()\\n    break\\n\\n# 이미지 보여주기\\nimshow(torchvision.utils.make_grid(images))\\n# 정답(label) 출력\\nprint(' '.join('%5s' % labels[j] for j in range(4)))\\nplt.show()\""
      ]
     },
     "execution_count": 20,
     "metadata": {},
     "output_type": "execute_result"
    }
   ],
   "source": [
    "'''import matplotlib.pyplot as plt\n",
    "import numpy as np\n",
    "\n",
    "# 이미지를 보여주기 위한 함수\n",
    "\n",
    "\n",
    "def imshow(img):\n",
    "    img = img / 2 + 0.5     # unnormalize\n",
    "    npimg = img.numpy()\n",
    "    plt.imshow(np.transpose(npimg, (1, 2, 0)))\n",
    "\n",
    "\n",
    "# 학습용 이미지를 무작위로 가져오기\n",
    "dataiter = iter(trainloader)\n",
    "images = dataiter.next()\n",
    "\n",
    "for i,images in enumerate(trainloader):\n",
    "    print(images[0].shape)\n",
    "    imshow(images[0][0][0])\n",
    "    plt.show()\n",
    "    imshow(images[0][0][1])\n",
    "    plt.show()\n",
    "    imshow(images[0][0][2])\n",
    "    plt.show()\n",
    "    imshow(images[0][0][3])\n",
    "    plt.show()\n",
    "    imshow(images[0][0][4])\n",
    "    plt.show()\n",
    "    break\n",
    "\n",
    "# 이미지 보여주기\n",
    "imshow(torchvision.utils.make_grid(images))\n",
    "# 정답(label) 출력\n",
    "print(' '.join('%5s' % labels[j] for j in range(4)))\n",
    "plt.show()'''"
   ]
  },
  {
   "cell_type": "code",
   "execution_count": 21,
   "metadata": {
    "colab": {},
    "colab_type": "code",
    "id": "P3xw8JRiG1hf"
   },
   "outputs": [],
   "source": [
    "import torch.nn as nn\n",
    "import torch.nn.functional as F\n",
    "\n",
    "class SCModule(nn.Module):\n",
    "    def __init__(self,in_channels,out_channels,output_number):\n",
    "        super(SCModule, self).__init__()\n",
    "        self.in_channels = in_channels\n",
    "        self.out_channels = out_channels\n",
    "        self.output_number = output_number\n",
    "\n",
    "        self.conv1 = nn.Conv2d(in_channels, out_channels, 9, stride=9, padding=4)\n",
    "        self.conv2 = nn.Conv2d(in_channels, out_channels, 3, stride=3, padding=1)\n",
    "        self.conv3 = nn.Conv2d(in_channels, out_channels, 1)\n",
    "        \n",
    "    def forward(self, x):\n",
    "        #print(self.out_channels)\n",
    "        if self.output_number == 3:\n",
    "            x_1_1 = self.conv1(x[0])\n",
    "            x_1_2 = self.conv1(x[1])\n",
    "            x_1_3 = self.conv1(x[2])\n",
    "            \n",
    "            x_2_1 = self.conv2(x[1])\n",
    "            x_2_2 = self.conv2(x[2])\n",
    "            x_2_3 = self.conv2(x[3])\n",
    "            \n",
    "            x_3_1 = self.conv3(x[2])\n",
    "            x_3_2 = self.conv3(x[3])\n",
    "            x_3_3 = self.conv3(x[4])\n",
    "            \n",
    "            o_1_1 = torch.stack([x_1_1,x_2_1,x_3_1])\n",
    "            o_1_1 = torch.sum(o_1_1,0)\n",
    "            \n",
    "            o_1_2 = torch.stack([x_2_1,x_3_1])\n",
    "            o_1_2 = torch.sum(o_1_2,0)\n",
    "            \n",
    "            o_2_1 = torch.stack([x_1_2,x_2_2,x_3_2])\n",
    "            o_2_1 = torch.sum(o_2_1,0)\n",
    "            \n",
    "            o_2_2 = torch.stack([x_2_2,x_3_2])\n",
    "            o_2_2 = torch.sum(o_2_2,0)\n",
    "            \n",
    "            o_3_1 = torch.stack([x_1_3,x_2_3,x_3_3])\n",
    "            o_3_1 = torch.sum(o_3_1,0)\n",
    "            \n",
    "            o_3_2 = torch.stack([x_2_3,x_3_3])\n",
    "            o_3_2 = torch.sum(o_3_2,0)\n",
    "            \n",
    "            return [torch.cat([o_1_1,o_1_2,x_3_1],dim=1),\n",
    "                    torch.cat([o_2_1,o_2_2,x_3_2],dim=1),\n",
    "                    torch.cat([o_3_1,o_3_2,x_3_3],dim=1)]\n",
    "    \n",
    "        if self.output_number == 1:\n",
    "            outputs = []\n",
    "            x_1_1 = self.conv1(x[0]) \n",
    "            x_1_2 = self.conv2(x[1]) \n",
    "            x_1_3 = self.conv3(x[2]) \n",
    "            #return [x_1_1,x_1_2,x_1_3]\n",
    "            x_1 = torch.stack([x_1_1,x_1_2,x_1_3])\n",
    "            x_1 = torch.sum(x_1,0)\n",
    "            #print(x_1.size())\n",
    "            #x_1 = torch.cat([x_1_1,x_1_2],dim=1)\n",
    "            outputs.append(x_1)\n",
    "            return outputs\n",
    "        \n",
    "            \n",
    "        '''outputs = []\n",
    "        for i in range(self.output_number):\n",
    "            x_1_1 = self.conv1(x[0+i]) \n",
    "            x_1_2 = self.conv2(x[1+i]) \n",
    "            x_1_3 = self.conv3(x[2+i]) \n",
    "            #return [x_1_1,x_1_2,x_1_3]\n",
    "            x_1 = torch.stack([x_1_1,x_1_2,x_1_3])\n",
    "            x_1 = torch.sum(x_1,0)\n",
    "            #print(x_1.size())\n",
    "            #x_1 = torch.cat([x_1_1,x_1_2],dim=1)\n",
    "            outputs.append(x_1)\n",
    "        return outputs'''\n",
    "    \n",
    "\n",
    "    \n",
    "#model = SCModule(3,6,3)"
   ]
  },
  {
   "cell_type": "code",
   "execution_count": 22,
   "metadata": {
    "colab": {
     "base_uri": "https://localhost:8080/",
     "height": 49
    },
    "colab_type": "code",
    "id": "WVlamFzsir1-",
    "outputId": "88e3ab6f-1f33-439a-baeb-ae62300b4c6c"
   },
   "outputs": [
    {
     "data": {
      "text/plain": [
       "'for i,(d1,d2,d3,d4,d5) in enumerate(zip(trainloader1,trainloader2,trainloader3,trainloader4,trainloader5)):\\n    print(d1[0][0].shape)\\n    imshow(d1[0][0])\\n    plt.show()\\n    imshow(d2[0][0])\\n    plt.show()\\n    imshow(d3[0][0])\\n    plt.show()\\n    imshow(d4[0][0])\\n    plt.show()\\n    imshow(d5[0][0])\\n    plt.show()\\n\\n    print(d1[0].shape)\\n\\n    o1,o2,o3 = model(d1[0],d2[0],d3[0],d4[0],d5[0])\\n\\n    print(o1.shape)\\n    break\\n'"
      ]
     },
     "execution_count": 22,
     "metadata": {},
     "output_type": "execute_result"
    }
   ],
   "source": [
    "'''for i,(d1,d2,d3,d4,d5) in enumerate(zip(trainloader1,trainloader2,trainloader3,trainloader4,trainloader5)):\n",
    "    print(d1[0][0].shape)\n",
    "    imshow(d1[0][0])\n",
    "    plt.show()\n",
    "    imshow(d2[0][0])\n",
    "    plt.show()\n",
    "    imshow(d3[0][0])\n",
    "    plt.show()\n",
    "    imshow(d4[0][0])\n",
    "    plt.show()\n",
    "    imshow(d5[0][0])\n",
    "    plt.show()\n",
    "\n",
    "    print(d1[0].shape)\n",
    "\n",
    "    o1,o2,o3 = model(d1[0],d2[0],d3[0],d4[0],d5[0])\n",
    "\n",
    "    print(o1.shape)\n",
    "    break\n",
    "'''"
   ]
  },
  {
   "cell_type": "code",
   "execution_count": 23,
   "metadata": {},
   "outputs": [
    {
     "data": {
      "text/plain": [
       "\"tensor = torch.tensor((), dtype=torch.float64,device='cuda')\\npad2_1 = tensor.new_zeros((32,16,729,729))#.to('cuda')\\npad2_1[:,:6,:,:].size()\""
      ]
     },
     "execution_count": 23,
     "metadata": {},
     "output_type": "execute_result"
    }
   ],
   "source": [
    "'''tensor = torch.tensor((), dtype=torch.float64,device='cuda')\n",
    "pad2_1 = tensor.new_zeros((32,16,729,729))#.to('cuda')\n",
    "pad2_1[:,:6,:,:].size()'''"
   ]
  },
  {
   "cell_type": "code",
   "execution_count": 24,
   "metadata": {
    "colab": {},
    "colab_type": "code",
    "id": "z3r33VtajV0m"
   },
   "outputs": [],
   "source": [
    "import torch.nn as nn\n",
    "import torch.nn.functional as F\n",
    "\n",
    "class Net(nn.Module):\n",
    "    def __init__(self):\n",
    "        super(Net, self).__init__()\n",
    "        self.sc1 = SCModule(3,6,3) \n",
    "        self.bn1_1 = nn.BatchNorm2d(18)\n",
    "        self.bn1_2 = nn.BatchNorm2d(18)\n",
    "        self.bn1_3 = nn.BatchNorm2d(18)\n",
    "        self.sc2 = SCModule(18,10,3)\n",
    "        self.bn2_1 = nn.BatchNorm2d(30)\n",
    "        self.bn2_2 = nn.BatchNorm2d(30)\n",
    "        self.bn2_3 = nn.BatchNorm2d(30)\n",
    "        self.sc3 = SCModule(30,15,3)\n",
    "        self.bn3_1 = nn.BatchNorm2d(45)\n",
    "        self.bn3_2 = nn.BatchNorm2d(45)\n",
    "        self.bn3_3 = nn.BatchNorm2d(45)\n",
    "        self.sc4 = SCModule(45,20,3)\n",
    "        self.bn4_1 = nn.BatchNorm2d(60)\n",
    "        self.bn4_2 = nn.BatchNorm2d(60)\n",
    "        self.bn4_3 = nn.BatchNorm2d(60)\n",
    "        self.sc5 = SCModule(60,90,1)\n",
    "        self.bn5 = nn.BatchNorm2d(90)\n",
    "        #self.sc3 = SCModule(20,15,1)\n",
    "        #self.fc1_1 = nn.Linear(6*81*81,500)\n",
    "        #self.fc1_2 = nn.Linear(6*27*27,500)\n",
    "        #self.fc1_3 = nn.Linear(6*9*9,500)\n",
    "        \n",
    "        self.fc2 = nn.Linear(90*3*3,120)\n",
    "        #self.bnfc2 = nn.BatchNorm1d(120)\n",
    "        #self.fc2 = nn.Linear(1500,120)\n",
    "        self.fc3 = nn.Linear(120,84)\n",
    "        #self.bnfc3 = nn.BatchNorm1d(84)\n",
    "        self.fc4 = nn.Linear(84,10)\n",
    "        \n",
    "        tensor = torch.tensor((), dtype=torch.float)\n",
    " \n",
    "        self.pad1 = tensor.new_zeros((32,60,243,243))#.to('cuda')\n",
    "        self.pad2 = tensor.new_zeros((32,60,81,81))#.to('cuda')\n",
    "\n",
    "\n",
    "    def forward(self, i1,i2,i3,i4,i5):\n",
    "        self.pad1 = self.pad1.to(i1.device)\n",
    "        self.pad2 = self.pad2.to(i1.device)\n",
    "        x1_1,x1_2,x1_3 = self.sc1([i1,i2,i3,i4,i5])\n",
    "        #x1_2,x1_3 = self.sc1([i2,i3,i4,i5])\n",
    "        x1_1 = F.relu(self.bn1_1(x1_1))\n",
    "        x1_2 = F.relu(self.bn1_2(x1_2))\n",
    "        x1_3 = F.relu(self.bn1_3(x1_3))\n",
    "        \n",
    "        #print(x1_1)\n",
    "        #print(self.pad1)\n",
    "        bat_size = x1_1.size()[0]\n",
    "        chan_size = x1_1.size()[1]\n",
    "        x2_1,x2_2,x2_3 = self.sc2([self.pad1[:bat_size,:chan_size,:,:],self.pad2[:bat_size,:chan_size,:,:],x1_1,x1_2,x1_3])\n",
    "        #x1_2,x1_3 = self.sc1([i2,i3,i4,i5])\n",
    "        x2_1 = F.relu(self.bn2_1(x2_1))\n",
    "        x2_2 = F.relu(self.bn2_2(x2_2))\n",
    "        x2_3 = F.relu(self.bn2_3(x2_3))\n",
    "        \n",
    "        bat_size = x2_1.size()[0]\n",
    "        chan_size = x2_1.size()[1]\n",
    "        x3_1,x3_2,x3_3 = self.sc3([self.pad1[:bat_size,:chan_size,:,:],self.pad2[:bat_size,:chan_size,:,:],x2_1,x2_2,x2_3])\n",
    "        #x1_2,x1_3 = self.sc1([i2,i3,i4,i5])\n",
    "        x3_1 = F.relu(self.bn3_1(x3_1))\n",
    "        x3_2 = F.relu(self.bn3_2(x3_2))\n",
    "        x3_3 = F.relu(self.bn3_3(x3_3))\n",
    "        \n",
    "        bat_size = x3_1.size()[0]\n",
    "        chan_size = x3_1.size()[1]\n",
    "        x4_1,x4_2,x4_3 = self.sc4([self.pad1[:bat_size,:chan_size,:,:],self.pad2[:bat_size,:chan_size,:,:],x3_1,x3_2,x3_3])\n",
    "        #x1_2,x1_3 = self.sc1([i2,i3,i4,i5])\n",
    "        x4_1 = F.relu(self.bn4_1(x4_1))\n",
    "        x4_2 = F.relu(self.bn4_2(x4_2))\n",
    "        x4_3 = F.relu(self.bn4_3(x4_3))\n",
    "    \n",
    "        #print(x1_1.size())\n",
    "        \n",
    "        #x1_1 = x1_1.view(-1,6*81*81)\n",
    "        #x1_2 = x1_2.view(-1,6*27*27)\n",
    "        #x1_3 = x1_3.view(-1,6*9*9)\n",
    "        \n",
    "        #x1_1 = F.relu(self.fc1_1(x1_1))\n",
    "        #x1_2 = F.relu(self.fc1_2(x1_2))\n",
    "        #x1_3 = F.relu(self.fc1_3(x1_3))\n",
    "        \n",
    "        #x2 = torch.cat([x1_1,x1_2,x1_3],dim=1)\n",
    "        \n",
    "        x2 = self.sc5([x4_1,x4_2,x4_3])\n",
    "        x2 = F.relu(self.bn5(x2[0]))\n",
    "        \n",
    "        #print(x2.size())\n",
    "        \n",
    "        #print(x2_1.size())\n",
    "        \n",
    "        #print(x3.size())\n",
    "        \n",
    "        x2 = x2.view(-1, 90 * 3 * 3)\n",
    "        x2 = F.relu(self.fc2(x2))\n",
    "        x2 = F.relu(self.fc3(x2))\n",
    "        x2 = self.fc4(x2)\n",
    "        #print(x4.shape)\n",
    "        return x2"
   ]
  },
  {
   "cell_type": "code",
   "execution_count": 25,
   "metadata": {
    "colab": {
     "base_uri": "https://localhost:8080/",
     "height": 214
    },
    "colab_type": "code",
    "id": "xdajs104otKK",
    "outputId": "294463e8-ed55-49c4-939e-6bdda6c87d72"
   },
   "outputs": [
    {
     "data": {
      "text/plain": [
       "Net(\n",
       "  (sc1): SCModule(\n",
       "    (conv1): Conv2d(3, 6, kernel_size=(9, 9), stride=(9, 9), padding=(4, 4))\n",
       "    (conv2): Conv2d(3, 6, kernel_size=(3, 3), stride=(3, 3), padding=(1, 1))\n",
       "    (conv3): Conv2d(3, 6, kernel_size=(1, 1), stride=(1, 1))\n",
       "  )\n",
       "  (bn1_1): BatchNorm2d(18, eps=1e-05, momentum=0.1, affine=True, track_running_stats=True)\n",
       "  (bn1_2): BatchNorm2d(18, eps=1e-05, momentum=0.1, affine=True, track_running_stats=True)\n",
       "  (bn1_3): BatchNorm2d(18, eps=1e-05, momentum=0.1, affine=True, track_running_stats=True)\n",
       "  (sc2): SCModule(\n",
       "    (conv1): Conv2d(18, 10, kernel_size=(9, 9), stride=(9, 9), padding=(4, 4))\n",
       "    (conv2): Conv2d(18, 10, kernel_size=(3, 3), stride=(3, 3), padding=(1, 1))\n",
       "    (conv3): Conv2d(18, 10, kernel_size=(1, 1), stride=(1, 1))\n",
       "  )\n",
       "  (bn2_1): BatchNorm2d(30, eps=1e-05, momentum=0.1, affine=True, track_running_stats=True)\n",
       "  (bn2_2): BatchNorm2d(30, eps=1e-05, momentum=0.1, affine=True, track_running_stats=True)\n",
       "  (bn2_3): BatchNorm2d(30, eps=1e-05, momentum=0.1, affine=True, track_running_stats=True)\n",
       "  (sc3): SCModule(\n",
       "    (conv1): Conv2d(30, 15, kernel_size=(9, 9), stride=(9, 9), padding=(4, 4))\n",
       "    (conv2): Conv2d(30, 15, kernel_size=(3, 3), stride=(3, 3), padding=(1, 1))\n",
       "    (conv3): Conv2d(30, 15, kernel_size=(1, 1), stride=(1, 1))\n",
       "  )\n",
       "  (bn3_1): BatchNorm2d(45, eps=1e-05, momentum=0.1, affine=True, track_running_stats=True)\n",
       "  (bn3_2): BatchNorm2d(45, eps=1e-05, momentum=0.1, affine=True, track_running_stats=True)\n",
       "  (bn3_3): BatchNorm2d(45, eps=1e-05, momentum=0.1, affine=True, track_running_stats=True)\n",
       "  (sc4): SCModule(\n",
       "    (conv1): Conv2d(45, 20, kernel_size=(9, 9), stride=(9, 9), padding=(4, 4))\n",
       "    (conv2): Conv2d(45, 20, kernel_size=(3, 3), stride=(3, 3), padding=(1, 1))\n",
       "    (conv3): Conv2d(45, 20, kernel_size=(1, 1), stride=(1, 1))\n",
       "  )\n",
       "  (bn4_1): BatchNorm2d(60, eps=1e-05, momentum=0.1, affine=True, track_running_stats=True)\n",
       "  (bn4_2): BatchNorm2d(60, eps=1e-05, momentum=0.1, affine=True, track_running_stats=True)\n",
       "  (bn4_3): BatchNorm2d(60, eps=1e-05, momentum=0.1, affine=True, track_running_stats=True)\n",
       "  (sc5): SCModule(\n",
       "    (conv1): Conv2d(60, 90, kernel_size=(9, 9), stride=(9, 9), padding=(4, 4))\n",
       "    (conv2): Conv2d(60, 90, kernel_size=(3, 3), stride=(3, 3), padding=(1, 1))\n",
       "    (conv3): Conv2d(60, 90, kernel_size=(1, 1), stride=(1, 1))\n",
       "  )\n",
       "  (bn5): BatchNorm2d(90, eps=1e-05, momentum=0.1, affine=True, track_running_stats=True)\n",
       "  (fc2): Linear(in_features=810, out_features=120, bias=True)\n",
       "  (fc3): Linear(in_features=120, out_features=84, bias=True)\n",
       "  (fc4): Linear(in_features=84, out_features=10, bias=True)\n",
       ")"
      ]
     },
     "execution_count": 25,
     "metadata": {},
     "output_type": "execute_result"
    }
   ],
   "source": [
    "from parallel import DataParallelModel,DataParallelCriterion\n",
    "from torch.nn.parallel.data_parallel import DataParallel\n",
    "from torch.nn.parallel import DistributedDataParallel as DDP\n",
    "import torch.distributed as dist\n",
    "\n",
    "device = torch.device(\"cuda\" if torch.cuda.is_available() else \"cpu\")\n",
    "device_ids = [0,1]\n",
    "#os.environ['MASTER_ADDR'] = '127.0.0.1'\n",
    "#os.environ['MASTER_PORT'] = '29500'\n",
    "#dist.init_process_group(backend='nccl',rank=0,world_size=1)\n",
    "model = Net()#.to('cuda:0')\n",
    "if torch.cuda.device_count() > 10:\n",
    "    model = DataParallel(model)\n",
    "model.to(device)"
   ]
  },
  {
   "cell_type": "code",
   "execution_count": 26,
   "metadata": {},
   "outputs": [
    {
     "name": "stdout",
     "output_type": "stream",
     "text": [
      "cuda\n"
     ]
    }
   ],
   "source": [
    "print(device)"
   ]
  },
  {
   "cell_type": "code",
   "execution_count": 27,
   "metadata": {
    "colab": {},
    "colab_type": "code",
    "id": "74xBqeGcpub_"
   },
   "outputs": [],
   "source": [
    "import torch.optim as optim\n",
    "\n",
    "criterion = nn.CrossEntropyLoss()\n",
    "#criterion = DataParallelCriterion(criterion,device_ids=[0,1])\n",
    "optimizer = optim.Adam(model.parameters(), lr=0.001)"
   ]
  },
  {
   "cell_type": "code",
   "execution_count": 28,
   "metadata": {},
   "outputs": [
    {
     "name": "stderr",
     "output_type": "stream",
     "text": [
      "100%|██████████| 112/112 [00:01<00:00, 107.95it/s]\n"
     ]
    }
   ],
   "source": [
    "SIZED_VAL_PATH = 'sized_val'\n",
    "new_path = []\n",
    "for i in os.listdir('mnist_sized'):\n",
    "    #print(i)\n",
    "    temp = []\n",
    "    for j in range(1,6):\n",
    "        temp.append(os.path.join(SIZED_VAL_PATH,str(i),'ds'+str(j)))\n",
    "    new_path.append(temp)\n",
    "\n",
    "new_path.sort(key=lambda x:int(x[0].split('/')[1]))\n",
    "\n",
    "val_gen_arr = []\n",
    "for i in tqdm(range(0,len(new_path))):\n",
    "    transform = transforms.Compose(\n",
    "        [\n",
    "        transforms.ToTensor(),\n",
    "        transforms.Normalize((0.5, 0.5, 0.5), (0.5, 0.5, 0.5))])\n",
    "\n",
    "    testMnistDataset = SizedMnistDataset(new_path[i],transform)\n",
    "\n",
    "    testloader = torch.utils.data.DataLoader(testMnistDataset,\n",
    "                                              batch_size = 32, \n",
    "                                              shuffle=False,\n",
    "                                            num_workers=8)\n",
    "    val_gen_arr.append(testloader)\n",
    "#\n",
    "#val_gen_arr\n",
    "accuracy = []\n"
   ]
  },
  {
   "cell_type": "code",
   "execution_count": 29,
   "metadata": {
    "colab": {
     "base_uri": "https://localhost:8080/",
     "height": 1000
    },
    "colab_type": "code",
    "id": "Pd0stQ4Jolv7",
    "outputId": "3e1b592d-71a2-41cf-9936-8dd874e59431"
   },
   "outputs": [
    {
     "name": "stderr",
     "output_type": "stream",
     "text": [
      "1875it [00:57, 32.45it/s]\n",
      "  0%|          | 0/112 [00:00<?, ?it/s]"
     ]
    },
    {
     "name": "stdout",
     "output_type": "stream",
     "text": [
      "Accuracy of     0 : 99 %\n",
      "Accuracy of     1 : 99 %\n",
      "Accuracy of     2 : 100 %\n",
      "Accuracy of     3 : 98 %\n",
      "Accuracy of     4 : 99 %\n",
      "Accuracy of     5 : 100 %\n",
      "Accuracy of     6 : 99 %\n",
      "Accuracy of     7 : 97 %\n",
      "Accuracy of     8 : 96 %\n",
      "Accuracy of     9 : 94 %\n",
      "epoch: 1/30 | step: 10/1875 | trn loss: 0.1410 | val loss: 0.0625\n",
      "Accuracy of the network on the 10000 test images: 98 %\n"
     ]
    },
    {
     "name": "stderr",
     "output_type": "stream",
     "text": [
      "\r",
      "  1%|          | 1/112 [00:00<01:50,  1.00it/s]"
     ]
    },
    {
     "name": "stdout",
     "output_type": "stream",
     "text": [
      "Accuracy of the network on the 10000 test images: 10 %\n"
     ]
    },
    {
     "name": "stderr",
     "output_type": "stream",
     "text": [
      "\r",
      "  2%|▏         | 2/112 [00:01<01:49,  1.01it/s]"
     ]
    },
    {
     "name": "stdout",
     "output_type": "stream",
     "text": [
      "Accuracy of the network on the 10000 test images: 10 %\n"
     ]
    },
    {
     "name": "stderr",
     "output_type": "stream",
     "text": [
      "\r",
      "  3%|▎         | 3/112 [00:02<01:48,  1.00it/s]"
     ]
    },
    {
     "name": "stdout",
     "output_type": "stream",
     "text": [
      "Accuracy of the network on the 10000 test images: 10 %\n"
     ]
    },
    {
     "name": "stderr",
     "output_type": "stream",
     "text": [
      "\r",
      "  4%|▎         | 4/112 [00:03<01:47,  1.01it/s]"
     ]
    },
    {
     "name": "stdout",
     "output_type": "stream",
     "text": [
      "Accuracy of the network on the 10000 test images: 10 %\n"
     ]
    },
    {
     "name": "stderr",
     "output_type": "stream",
     "text": [
      "\r",
      "  4%|▍         | 5/112 [00:04<01:46,  1.01it/s]"
     ]
    },
    {
     "name": "stdout",
     "output_type": "stream",
     "text": [
      "Accuracy of the network on the 10000 test images: 10 %\n"
     ]
    },
    {
     "name": "stderr",
     "output_type": "stream",
     "text": [
      "\r",
      "  5%|▌         | 6/112 [00:05<01:45,  1.01it/s]"
     ]
    },
    {
     "name": "stdout",
     "output_type": "stream",
     "text": [
      "Accuracy of the network on the 10000 test images: 10 %\n"
     ]
    },
    {
     "name": "stderr",
     "output_type": "stream",
     "text": [
      "\r",
      "  6%|▋         | 7/112 [00:06<01:44,  1.01it/s]"
     ]
    },
    {
     "name": "stdout",
     "output_type": "stream",
     "text": [
      "Accuracy of the network on the 10000 test images: 10 %\n"
     ]
    },
    {
     "name": "stderr",
     "output_type": "stream",
     "text": [
      "\r",
      "  7%|▋         | 8/112 [00:07<01:43,  1.01it/s]"
     ]
    },
    {
     "name": "stdout",
     "output_type": "stream",
     "text": [
      "Accuracy of the network on the 10000 test images: 10 %\n"
     ]
    },
    {
     "name": "stderr",
     "output_type": "stream",
     "text": [
      "\r",
      "  8%|▊         | 9/112 [00:08<01:42,  1.01it/s]"
     ]
    },
    {
     "name": "stdout",
     "output_type": "stream",
     "text": [
      "Accuracy of the network on the 10000 test images: 10 %\n"
     ]
    },
    {
     "name": "stderr",
     "output_type": "stream",
     "text": [
      "\r",
      "  9%|▉         | 10/112 [00:09<01:41,  1.01it/s]"
     ]
    },
    {
     "name": "stdout",
     "output_type": "stream",
     "text": [
      "Accuracy of the network on the 10000 test images: 10 %\n"
     ]
    },
    {
     "name": "stderr",
     "output_type": "stream",
     "text": [
      "\r",
      " 10%|▉         | 11/112 [00:10<01:40,  1.01it/s]"
     ]
    },
    {
     "name": "stdout",
     "output_type": "stream",
     "text": [
      "Accuracy of the network on the 10000 test images: 10 %\n"
     ]
    },
    {
     "name": "stderr",
     "output_type": "stream",
     "text": [
      "\r",
      " 11%|█         | 12/112 [00:11<01:38,  1.01it/s]"
     ]
    },
    {
     "name": "stdout",
     "output_type": "stream",
     "text": [
      "Accuracy of the network on the 10000 test images: 10 %\n"
     ]
    },
    {
     "name": "stderr",
     "output_type": "stream",
     "text": [
      "\r",
      " 12%|█▏        | 13/112 [00:12<01:37,  1.01it/s]"
     ]
    },
    {
     "name": "stdout",
     "output_type": "stream",
     "text": [
      "Accuracy of the network on the 10000 test images: 10 %\n"
     ]
    },
    {
     "name": "stderr",
     "output_type": "stream",
     "text": [
      "\r",
      " 12%|█▎        | 14/112 [00:13<01:37,  1.01it/s]"
     ]
    },
    {
     "name": "stdout",
     "output_type": "stream",
     "text": [
      "Accuracy of the network on the 10000 test images: 10 %\n"
     ]
    },
    {
     "name": "stderr",
     "output_type": "stream",
     "text": [
      "\r",
      " 13%|█▎        | 15/112 [00:14<01:36,  1.01it/s]"
     ]
    },
    {
     "name": "stdout",
     "output_type": "stream",
     "text": [
      "Accuracy of the network on the 10000 test images: 10 %\n"
     ]
    },
    {
     "name": "stderr",
     "output_type": "stream",
     "text": [
      "\r",
      " 14%|█▍        | 16/112 [00:15<01:35,  1.01it/s]"
     ]
    },
    {
     "name": "stdout",
     "output_type": "stream",
     "text": [
      "Accuracy of the network on the 10000 test images: 10 %\n"
     ]
    },
    {
     "name": "stderr",
     "output_type": "stream",
     "text": [
      "\r",
      " 15%|█▌        | 17/112 [00:16<01:34,  1.00it/s]"
     ]
    },
    {
     "name": "stdout",
     "output_type": "stream",
     "text": [
      "Accuracy of the network on the 10000 test images: 10 %\n"
     ]
    },
    {
     "name": "stderr",
     "output_type": "stream",
     "text": [
      "\r",
      " 16%|█▌        | 18/112 [00:17<01:33,  1.00it/s]"
     ]
    },
    {
     "name": "stdout",
     "output_type": "stream",
     "text": [
      "Accuracy of the network on the 10000 test images: 10 %\n"
     ]
    },
    {
     "name": "stderr",
     "output_type": "stream",
     "text": [
      "\r",
      " 17%|█▋        | 19/112 [00:18<01:32,  1.00it/s]"
     ]
    },
    {
     "name": "stdout",
     "output_type": "stream",
     "text": [
      "Accuracy of the network on the 10000 test images: 10 %\n"
     ]
    },
    {
     "name": "stderr",
     "output_type": "stream",
     "text": [
      "\r",
      " 18%|█▊        | 20/112 [00:19<01:31,  1.00it/s]"
     ]
    },
    {
     "name": "stdout",
     "output_type": "stream",
     "text": [
      "Accuracy of the network on the 10000 test images: 10 %\n"
     ]
    },
    {
     "name": "stderr",
     "output_type": "stream",
     "text": [
      "\r",
      " 19%|█▉        | 21/112 [00:20<01:30,  1.01it/s]"
     ]
    },
    {
     "name": "stdout",
     "output_type": "stream",
     "text": [
      "Accuracy of the network on the 10000 test images: 10 %\n"
     ]
    },
    {
     "name": "stderr",
     "output_type": "stream",
     "text": [
      "\r",
      " 20%|█▉        | 22/112 [00:21<01:29,  1.01it/s]"
     ]
    },
    {
     "name": "stdout",
     "output_type": "stream",
     "text": [
      "Accuracy of the network on the 10000 test images: 10 %\n"
     ]
    },
    {
     "name": "stderr",
     "output_type": "stream",
     "text": [
      "\r",
      " 21%|██        | 23/112 [00:22<01:28,  1.01it/s]"
     ]
    },
    {
     "name": "stdout",
     "output_type": "stream",
     "text": [
      "Accuracy of the network on the 10000 test images: 10 %\n"
     ]
    },
    {
     "name": "stderr",
     "output_type": "stream",
     "text": [
      "\r",
      " 21%|██▏       | 24/112 [00:23<01:27,  1.01it/s]"
     ]
    },
    {
     "name": "stdout",
     "output_type": "stream",
     "text": [
      "Accuracy of the network on the 10000 test images: 10 %\n"
     ]
    },
    {
     "name": "stderr",
     "output_type": "stream",
     "text": [
      "\r",
      " 22%|██▏       | 25/112 [00:24<01:26,  1.01it/s]"
     ]
    },
    {
     "name": "stdout",
     "output_type": "stream",
     "text": [
      "Accuracy of the network on the 10000 test images: 10 %\n"
     ]
    },
    {
     "name": "stderr",
     "output_type": "stream",
     "text": [
      "\r",
      " 23%|██▎       | 26/112 [00:25<01:25,  1.01it/s]"
     ]
    },
    {
     "name": "stdout",
     "output_type": "stream",
     "text": [
      "Accuracy of the network on the 10000 test images: 10 %\n"
     ]
    },
    {
     "name": "stderr",
     "output_type": "stream",
     "text": [
      "\r",
      " 24%|██▍       | 27/112 [00:26<01:24,  1.01it/s]"
     ]
    },
    {
     "name": "stdout",
     "output_type": "stream",
     "text": [
      "Accuracy of the network on the 10000 test images: 10 %\n"
     ]
    },
    {
     "name": "stderr",
     "output_type": "stream",
     "text": [
      "\r",
      " 25%|██▌       | 28/112 [00:27<01:23,  1.01it/s]"
     ]
    },
    {
     "name": "stdout",
     "output_type": "stream",
     "text": [
      "Accuracy of the network on the 10000 test images: 10 %\n"
     ]
    },
    {
     "name": "stderr",
     "output_type": "stream",
     "text": [
      "\r",
      " 26%|██▌       | 29/112 [00:28<01:22,  1.01it/s]"
     ]
    },
    {
     "name": "stdout",
     "output_type": "stream",
     "text": [
      "Accuracy of the network on the 10000 test images: 10 %\n"
     ]
    },
    {
     "name": "stderr",
     "output_type": "stream",
     "text": [
      "\r",
      " 27%|██▋       | 30/112 [00:29<01:21,  1.01it/s]"
     ]
    },
    {
     "name": "stdout",
     "output_type": "stream",
     "text": [
      "Accuracy of the network on the 10000 test images: 10 %\n"
     ]
    },
    {
     "name": "stderr",
     "output_type": "stream",
     "text": [
      "\r",
      " 28%|██▊       | 31/112 [00:30<01:20,  1.01it/s]"
     ]
    },
    {
     "name": "stdout",
     "output_type": "stream",
     "text": [
      "Accuracy of the network on the 10000 test images: 11 %\n"
     ]
    },
    {
     "name": "stderr",
     "output_type": "stream",
     "text": [
      "\r",
      " 29%|██▊       | 32/112 [00:31<01:19,  1.01it/s]"
     ]
    },
    {
     "name": "stdout",
     "output_type": "stream",
     "text": [
      "Accuracy of the network on the 10000 test images: 11 %\n"
     ]
    },
    {
     "name": "stderr",
     "output_type": "stream",
     "text": [
      "\r",
      " 29%|██▉       | 33/112 [00:32<01:18,  1.01it/s]"
     ]
    },
    {
     "name": "stdout",
     "output_type": "stream",
     "text": [
      "Accuracy of the network on the 10000 test images: 11 %\n"
     ]
    },
    {
     "name": "stderr",
     "output_type": "stream",
     "text": [
      "\r",
      " 30%|███       | 34/112 [00:33<01:17,  1.01it/s]"
     ]
    },
    {
     "name": "stdout",
     "output_type": "stream",
     "text": [
      "Accuracy of the network on the 10000 test images: 12 %\n"
     ]
    },
    {
     "name": "stderr",
     "output_type": "stream",
     "text": [
      "\r",
      " 31%|███▏      | 35/112 [00:34<01:16,  1.01it/s]"
     ]
    },
    {
     "name": "stdout",
     "output_type": "stream",
     "text": [
      "Accuracy of the network on the 10000 test images: 13 %\n"
     ]
    },
    {
     "name": "stderr",
     "output_type": "stream",
     "text": [
      "\r",
      " 32%|███▏      | 36/112 [00:35<01:15,  1.00it/s]"
     ]
    },
    {
     "name": "stdout",
     "output_type": "stream",
     "text": [
      "Accuracy of the network on the 10000 test images: 12 %\n"
     ]
    },
    {
     "name": "stderr",
     "output_type": "stream",
     "text": [
      "\r",
      " 33%|███▎      | 37/112 [00:36<01:14,  1.00it/s]"
     ]
    },
    {
     "name": "stdout",
     "output_type": "stream",
     "text": [
      "Accuracy of the network on the 10000 test images: 15 %\n"
     ]
    },
    {
     "name": "stderr",
     "output_type": "stream",
     "text": [
      "\r",
      " 34%|███▍      | 38/112 [00:37<01:13,  1.00it/s]"
     ]
    },
    {
     "name": "stdout",
     "output_type": "stream",
     "text": [
      "Accuracy of the network on the 10000 test images: 15 %\n"
     ]
    },
    {
     "name": "stderr",
     "output_type": "stream",
     "text": [
      "\r",
      " 35%|███▍      | 39/112 [00:38<01:12,  1.01it/s]"
     ]
    },
    {
     "name": "stdout",
     "output_type": "stream",
     "text": [
      "Accuracy of the network on the 10000 test images: 16 %\n"
     ]
    },
    {
     "name": "stderr",
     "output_type": "stream",
     "text": [
      "\r",
      " 36%|███▌      | 40/112 [00:39<01:11,  1.01it/s]"
     ]
    },
    {
     "name": "stdout",
     "output_type": "stream",
     "text": [
      "Accuracy of the network on the 10000 test images: 17 %\n"
     ]
    },
    {
     "name": "stderr",
     "output_type": "stream",
     "text": [
      "\r",
      " 37%|███▋      | 41/112 [00:40<01:10,  1.00it/s]"
     ]
    },
    {
     "name": "stdout",
     "output_type": "stream",
     "text": [
      "Accuracy of the network on the 10000 test images: 19 %\n"
     ]
    },
    {
     "name": "stderr",
     "output_type": "stream",
     "text": [
      "\r",
      " 38%|███▊      | 42/112 [00:41<01:09,  1.00it/s]"
     ]
    },
    {
     "name": "stdout",
     "output_type": "stream",
     "text": [
      "Accuracy of the network on the 10000 test images: 19 %\n"
     ]
    },
    {
     "name": "stderr",
     "output_type": "stream",
     "text": [
      "\r",
      " 38%|███▊      | 43/112 [00:42<01:08,  1.00it/s]"
     ]
    },
    {
     "name": "stdout",
     "output_type": "stream",
     "text": [
      "Accuracy of the network on the 10000 test images: 20 %\n"
     ]
    },
    {
     "name": "stderr",
     "output_type": "stream",
     "text": [
      "\r",
      " 39%|███▉      | 44/112 [00:43<01:07,  1.00it/s]"
     ]
    },
    {
     "name": "stdout",
     "output_type": "stream",
     "text": [
      "Accuracy of the network on the 10000 test images: 21 %\n"
     ]
    },
    {
     "name": "stderr",
     "output_type": "stream",
     "text": [
      "\r",
      " 40%|████      | 45/112 [00:44<01:06,  1.01it/s]"
     ]
    },
    {
     "name": "stdout",
     "output_type": "stream",
     "text": [
      "Accuracy of the network on the 10000 test images: 23 %\n"
     ]
    },
    {
     "name": "stderr",
     "output_type": "stream",
     "text": [
      "\r",
      " 41%|████      | 46/112 [00:45<01:05,  1.00it/s]"
     ]
    },
    {
     "name": "stdout",
     "output_type": "stream",
     "text": [
      "Accuracy of the network on the 10000 test images: 24 %\n"
     ]
    },
    {
     "name": "stderr",
     "output_type": "stream",
     "text": [
      "\r",
      " 42%|████▏     | 47/112 [00:46<01:04,  1.00it/s]"
     ]
    },
    {
     "name": "stdout",
     "output_type": "stream",
     "text": [
      "Accuracy of the network on the 10000 test images: 26 %\n"
     ]
    },
    {
     "name": "stderr",
     "output_type": "stream",
     "text": [
      "\r",
      " 43%|████▎     | 48/112 [00:47<01:03,  1.00it/s]"
     ]
    },
    {
     "name": "stdout",
     "output_type": "stream",
     "text": [
      "Accuracy of the network on the 10000 test images: 28 %\n"
     ]
    },
    {
     "name": "stderr",
     "output_type": "stream",
     "text": [
      "\r",
      " 44%|████▍     | 49/112 [00:48<01:02,  1.00it/s]"
     ]
    },
    {
     "name": "stdout",
     "output_type": "stream",
     "text": [
      "Accuracy of the network on the 10000 test images: 29 %\n"
     ]
    },
    {
     "name": "stderr",
     "output_type": "stream",
     "text": [
      "\r",
      " 45%|████▍     | 50/112 [00:49<01:01,  1.00it/s]"
     ]
    },
    {
     "name": "stdout",
     "output_type": "stream",
     "text": [
      "Accuracy of the network on the 10000 test images: 33 %\n"
     ]
    },
    {
     "name": "stderr",
     "output_type": "stream",
     "text": [
      "\r",
      " 46%|████▌     | 51/112 [00:50<01:00,  1.01it/s]"
     ]
    },
    {
     "name": "stdout",
     "output_type": "stream",
     "text": [
      "Accuracy of the network on the 10000 test images: 33 %\n"
     ]
    },
    {
     "name": "stderr",
     "output_type": "stream",
     "text": [
      "\r",
      " 46%|████▋     | 52/112 [00:51<00:59,  1.01it/s]"
     ]
    },
    {
     "name": "stdout",
     "output_type": "stream",
     "text": [
      "Accuracy of the network on the 10000 test images: 37 %\n"
     ]
    },
    {
     "name": "stderr",
     "output_type": "stream",
     "text": [
      "\r",
      " 47%|████▋     | 53/112 [00:52<00:58,  1.01it/s]"
     ]
    },
    {
     "name": "stdout",
     "output_type": "stream",
     "text": [
      "Accuracy of the network on the 10000 test images: 36 %\n"
     ]
    },
    {
     "name": "stderr",
     "output_type": "stream",
     "text": [
      "\r",
      " 48%|████▊     | 54/112 [00:53<00:57,  1.01it/s]"
     ]
    },
    {
     "name": "stdout",
     "output_type": "stream",
     "text": [
      "Accuracy of the network on the 10000 test images: 41 %\n"
     ]
    },
    {
     "name": "stderr",
     "output_type": "stream",
     "text": [
      "\r",
      " 49%|████▉     | 55/112 [00:54<00:57,  1.00s/it]"
     ]
    },
    {
     "name": "stdout",
     "output_type": "stream",
     "text": [
      "Accuracy of the network on the 10000 test images: 42 %\n"
     ]
    },
    {
     "name": "stderr",
     "output_type": "stream",
     "text": [
      "\r",
      " 50%|█████     | 56/112 [00:55<00:56,  1.00s/it]"
     ]
    },
    {
     "name": "stdout",
     "output_type": "stream",
     "text": [
      "Accuracy of the network on the 10000 test images: 46 %\n"
     ]
    },
    {
     "name": "stderr",
     "output_type": "stream",
     "text": [
      "\r",
      " 51%|█████     | 57/112 [00:56<00:54,  1.00it/s]"
     ]
    },
    {
     "name": "stdout",
     "output_type": "stream",
     "text": [
      "Accuracy of the network on the 10000 test images: 45 %\n"
     ]
    },
    {
     "name": "stderr",
     "output_type": "stream",
     "text": [
      "\r",
      " 52%|█████▏    | 58/112 [00:57<00:53,  1.01it/s]"
     ]
    },
    {
     "name": "stdout",
     "output_type": "stream",
     "text": [
      "Accuracy of the network on the 10000 test images: 49 %\n"
     ]
    },
    {
     "name": "stderr",
     "output_type": "stream",
     "text": [
      "\r",
      " 53%|█████▎    | 59/112 [00:58<00:52,  1.00it/s]"
     ]
    },
    {
     "name": "stdout",
     "output_type": "stream",
     "text": [
      "Accuracy of the network on the 10000 test images: 48 %\n"
     ]
    },
    {
     "name": "stderr",
     "output_type": "stream",
     "text": [
      "\r",
      " 54%|█████▎    | 60/112 [00:59<00:51,  1.01it/s]"
     ]
    },
    {
     "name": "stdout",
     "output_type": "stream",
     "text": [
      "Accuracy of the network on the 10000 test images: 53 %\n"
     ]
    },
    {
     "name": "stderr",
     "output_type": "stream",
     "text": [
      "\r",
      " 54%|█████▍    | 61/112 [01:00<00:50,  1.00it/s]"
     ]
    },
    {
     "name": "stdout",
     "output_type": "stream",
     "text": [
      "Accuracy of the network on the 10000 test images: 54 %\n"
     ]
    },
    {
     "name": "stderr",
     "output_type": "stream",
     "text": [
      "\r",
      " 55%|█████▌    | 62/112 [01:01<00:49,  1.00it/s]"
     ]
    },
    {
     "name": "stdout",
     "output_type": "stream",
     "text": [
      "Accuracy of the network on the 10000 test images: 58 %\n"
     ]
    },
    {
     "name": "stderr",
     "output_type": "stream",
     "text": [
      "\r",
      " 56%|█████▋    | 63/112 [01:02<00:48,  1.01it/s]"
     ]
    },
    {
     "name": "stdout",
     "output_type": "stream",
     "text": [
      "Accuracy of the network on the 10000 test images: 59 %\n"
     ]
    },
    {
     "name": "stderr",
     "output_type": "stream",
     "text": [
      "\r",
      " 57%|█████▋    | 64/112 [01:03<00:47,  1.01it/s]"
     ]
    },
    {
     "name": "stdout",
     "output_type": "stream",
     "text": [
      "Accuracy of the network on the 10000 test images: 63 %\n"
     ]
    },
    {
     "name": "stderr",
     "output_type": "stream",
     "text": [
      "\r",
      " 58%|█████▊    | 65/112 [01:04<00:46,  1.01it/s]"
     ]
    },
    {
     "name": "stdout",
     "output_type": "stream",
     "text": [
      "Accuracy of the network on the 10000 test images: 62 %\n"
     ]
    },
    {
     "name": "stderr",
     "output_type": "stream",
     "text": [
      "\r",
      " 59%|█████▉    | 66/112 [01:05<00:45,  1.01it/s]"
     ]
    },
    {
     "name": "stdout",
     "output_type": "stream",
     "text": [
      "Accuracy of the network on the 10000 test images: 67 %\n"
     ]
    },
    {
     "name": "stderr",
     "output_type": "stream",
     "text": [
      "\r",
      " 60%|█████▉    | 67/112 [01:06<00:44,  1.01it/s]"
     ]
    },
    {
     "name": "stdout",
     "output_type": "stream",
     "text": [
      "Accuracy of the network on the 10000 test images: 66 %\n"
     ]
    },
    {
     "name": "stderr",
     "output_type": "stream",
     "text": [
      "\r",
      " 61%|██████    | 68/112 [01:07<00:43,  1.01it/s]"
     ]
    },
    {
     "name": "stdout",
     "output_type": "stream",
     "text": [
      "Accuracy of the network on the 10000 test images: 70 %\n"
     ]
    },
    {
     "name": "stderr",
     "output_type": "stream",
     "text": [
      "\r",
      " 62%|██████▏   | 69/112 [01:08<00:42,  1.00it/s]"
     ]
    },
    {
     "name": "stdout",
     "output_type": "stream",
     "text": [
      "Accuracy of the network on the 10000 test images: 71 %\n"
     ]
    },
    {
     "name": "stderr",
     "output_type": "stream",
     "text": [
      "\r",
      " 62%|██████▎   | 70/112 [01:09<00:41,  1.00it/s]"
     ]
    },
    {
     "name": "stdout",
     "output_type": "stream",
     "text": [
      "Accuracy of the network on the 10000 test images: 76 %\n"
     ]
    },
    {
     "name": "stderr",
     "output_type": "stream",
     "text": [
      "\r",
      " 63%|██████▎   | 71/112 [01:10<00:40,  1.01it/s]"
     ]
    },
    {
     "name": "stdout",
     "output_type": "stream",
     "text": [
      "Accuracy of the network on the 10000 test images: 76 %\n"
     ]
    },
    {
     "name": "stderr",
     "output_type": "stream",
     "text": [
      "\r",
      " 64%|██████▍   | 72/112 [01:11<00:39,  1.01it/s]"
     ]
    },
    {
     "name": "stdout",
     "output_type": "stream",
     "text": [
      "Accuracy of the network on the 10000 test images: 80 %\n"
     ]
    },
    {
     "name": "stderr",
     "output_type": "stream",
     "text": [
      "\r",
      " 65%|██████▌   | 73/112 [01:12<00:38,  1.01it/s]"
     ]
    },
    {
     "name": "stdout",
     "output_type": "stream",
     "text": [
      "Accuracy of the network on the 10000 test images: 80 %\n"
     ]
    },
    {
     "name": "stderr",
     "output_type": "stream",
     "text": [
      "\r",
      " 66%|██████▌   | 74/112 [01:13<00:37,  1.01it/s]"
     ]
    },
    {
     "name": "stdout",
     "output_type": "stream",
     "text": [
      "Accuracy of the network on the 10000 test images: 83 %\n"
     ]
    },
    {
     "name": "stderr",
     "output_type": "stream",
     "text": [
      "\r",
      " 67%|██████▋   | 75/112 [01:14<00:36,  1.01it/s]"
     ]
    },
    {
     "name": "stdout",
     "output_type": "stream",
     "text": [
      "Accuracy of the network on the 10000 test images: 82 %\n"
     ]
    },
    {
     "name": "stderr",
     "output_type": "stream",
     "text": [
      "\r",
      " 68%|██████▊   | 76/112 [01:15<00:35,  1.00it/s]"
     ]
    },
    {
     "name": "stdout",
     "output_type": "stream",
     "text": [
      "Accuracy of the network on the 10000 test images: 84 %\n"
     ]
    },
    {
     "name": "stderr",
     "output_type": "stream",
     "text": [
      "\r",
      " 69%|██████▉   | 77/112 [01:16<00:34,  1.00it/s]"
     ]
    },
    {
     "name": "stdout",
     "output_type": "stream",
     "text": [
      "Accuracy of the network on the 10000 test images: 85 %\n"
     ]
    },
    {
     "name": "stderr",
     "output_type": "stream",
     "text": [
      "\r",
      " 70%|██████▉   | 78/112 [01:17<00:33,  1.00it/s]"
     ]
    },
    {
     "name": "stdout",
     "output_type": "stream",
     "text": [
      "Accuracy of the network on the 10000 test images: 87 %\n"
     ]
    },
    {
     "name": "stderr",
     "output_type": "stream",
     "text": [
      "\r",
      " 71%|███████   | 79/112 [01:18<00:32,  1.01it/s]"
     ]
    },
    {
     "name": "stdout",
     "output_type": "stream",
     "text": [
      "Accuracy of the network on the 10000 test images: 88 %\n"
     ]
    },
    {
     "name": "stderr",
     "output_type": "stream",
     "text": [
      "\r",
      " 71%|███████▏  | 80/112 [01:19<00:31,  1.01it/s]"
     ]
    },
    {
     "name": "stdout",
     "output_type": "stream",
     "text": [
      "Accuracy of the network on the 10000 test images: 89 %\n"
     ]
    },
    {
     "name": "stderr",
     "output_type": "stream",
     "text": [
      "\r",
      " 72%|███████▏  | 81/112 [01:20<00:30,  1.01it/s]"
     ]
    },
    {
     "name": "stdout",
     "output_type": "stream",
     "text": [
      "Accuracy of the network on the 10000 test images: 89 %\n"
     ]
    },
    {
     "name": "stderr",
     "output_type": "stream",
     "text": [
      "\r",
      " 73%|███████▎  | 82/112 [01:21<00:29,  1.01it/s]"
     ]
    },
    {
     "name": "stdout",
     "output_type": "stream",
     "text": [
      "Accuracy of the network on the 10000 test images: 91 %\n"
     ]
    },
    {
     "name": "stderr",
     "output_type": "stream",
     "text": [
      "\r",
      " 74%|███████▍  | 83/112 [01:22<00:28,  1.01it/s]"
     ]
    },
    {
     "name": "stdout",
     "output_type": "stream",
     "text": [
      "Accuracy of the network on the 10000 test images: 91 %\n"
     ]
    },
    {
     "name": "stderr",
     "output_type": "stream",
     "text": [
      "\r",
      " 75%|███████▌  | 84/112 [01:23<00:27,  1.00it/s]"
     ]
    },
    {
     "name": "stdout",
     "output_type": "stream",
     "text": [
      "Accuracy of the network on the 10000 test images: 92 %\n"
     ]
    },
    {
     "name": "stderr",
     "output_type": "stream",
     "text": [
      "\r",
      " 76%|███████▌  | 85/112 [01:24<00:26,  1.00it/s]"
     ]
    },
    {
     "name": "stdout",
     "output_type": "stream",
     "text": [
      "Accuracy of the network on the 10000 test images: 92 %\n"
     ]
    },
    {
     "name": "stderr",
     "output_type": "stream",
     "text": [
      "\r",
      " 77%|███████▋  | 86/112 [01:25<00:26,  1.00s/it]"
     ]
    },
    {
     "name": "stdout",
     "output_type": "stream",
     "text": [
      "Accuracy of the network on the 10000 test images: 93 %\n"
     ]
    },
    {
     "name": "stderr",
     "output_type": "stream",
     "text": [
      "\r",
      " 78%|███████▊  | 87/112 [01:26<00:24,  1.00it/s]"
     ]
    },
    {
     "name": "stdout",
     "output_type": "stream",
     "text": [
      "Accuracy of the network on the 10000 test images: 93 %\n"
     ]
    },
    {
     "name": "stderr",
     "output_type": "stream",
     "text": [
      "\r",
      " 79%|███████▊  | 88/112 [01:27<00:24,  1.00s/it]"
     ]
    },
    {
     "name": "stdout",
     "output_type": "stream",
     "text": [
      "Accuracy of the network on the 10000 test images: 94 %\n"
     ]
    },
    {
     "name": "stderr",
     "output_type": "stream",
     "text": [
      "\r",
      " 79%|███████▉  | 89/112 [01:28<00:23,  1.01s/it]"
     ]
    },
    {
     "name": "stdout",
     "output_type": "stream",
     "text": [
      "Accuracy of the network on the 10000 test images: 94 %\n"
     ]
    },
    {
     "name": "stderr",
     "output_type": "stream",
     "text": [
      "\r",
      " 80%|████████  | 90/112 [01:29<00:22,  1.00s/it]"
     ]
    },
    {
     "name": "stdout",
     "output_type": "stream",
     "text": [
      "Accuracy of the network on the 10000 test images: 95 %\n"
     ]
    },
    {
     "name": "stderr",
     "output_type": "stream",
     "text": [
      "\r",
      " 81%|████████▏ | 91/112 [01:30<00:20,  1.00it/s]"
     ]
    },
    {
     "name": "stdout",
     "output_type": "stream",
     "text": [
      "Accuracy of the network on the 10000 test images: 95 %\n"
     ]
    },
    {
     "name": "stderr",
     "output_type": "stream",
     "text": [
      "\r",
      " 82%|████████▏ | 92/112 [01:31<00:19,  1.00it/s]"
     ]
    },
    {
     "name": "stdout",
     "output_type": "stream",
     "text": [
      "Accuracy of the network on the 10000 test images: 95 %\n"
     ]
    },
    {
     "name": "stderr",
     "output_type": "stream",
     "text": [
      "\r",
      " 83%|████████▎ | 93/112 [01:32<00:18,  1.01it/s]"
     ]
    },
    {
     "name": "stdout",
     "output_type": "stream",
     "text": [
      "Accuracy of the network on the 10000 test images: 96 %\n"
     ]
    },
    {
     "name": "stderr",
     "output_type": "stream",
     "text": [
      "\r",
      " 84%|████████▍ | 94/112 [01:33<00:17,  1.01it/s]"
     ]
    },
    {
     "name": "stdout",
     "output_type": "stream",
     "text": [
      "Accuracy of the network on the 10000 test images: 96 %\n"
     ]
    },
    {
     "name": "stderr",
     "output_type": "stream",
     "text": [
      "\r",
      " 85%|████████▍ | 95/112 [01:34<00:16,  1.01it/s]"
     ]
    },
    {
     "name": "stdout",
     "output_type": "stream",
     "text": [
      "Accuracy of the network on the 10000 test images: 96 %\n"
     ]
    },
    {
     "name": "stderr",
     "output_type": "stream",
     "text": [
      "\r",
      " 86%|████████▌ | 96/112 [01:35<00:15,  1.00it/s]"
     ]
    },
    {
     "name": "stdout",
     "output_type": "stream",
     "text": [
      "Accuracy of the network on the 10000 test images: 96 %\n"
     ]
    },
    {
     "name": "stderr",
     "output_type": "stream",
     "text": [
      "\r",
      " 87%|████████▋ | 97/112 [01:36<00:14,  1.00it/s]"
     ]
    },
    {
     "name": "stdout",
     "output_type": "stream",
     "text": [
      "Accuracy of the network on the 10000 test images: 97 %\n"
     ]
    },
    {
     "name": "stderr",
     "output_type": "stream",
     "text": [
      "\r",
      " 88%|████████▊ | 98/112 [01:37<00:13,  1.00it/s]"
     ]
    },
    {
     "name": "stdout",
     "output_type": "stream",
     "text": [
      "Accuracy of the network on the 10000 test images: 97 %\n"
     ]
    },
    {
     "name": "stderr",
     "output_type": "stream",
     "text": [
      "\r",
      " 88%|████████▊ | 99/112 [01:38<00:12,  1.01it/s]"
     ]
    },
    {
     "name": "stdout",
     "output_type": "stream",
     "text": [
      "Accuracy of the network on the 10000 test images: 97 %\n"
     ]
    },
    {
     "name": "stderr",
     "output_type": "stream",
     "text": [
      "\r",
      " 89%|████████▉ | 100/112 [01:39<00:11,  1.01it/s]"
     ]
    },
    {
     "name": "stdout",
     "output_type": "stream",
     "text": [
      "Accuracy of the network on the 10000 test images: 97 %\n"
     ]
    },
    {
     "name": "stderr",
     "output_type": "stream",
     "text": [
      "\r",
      " 90%|█████████ | 101/112 [01:40<00:10,  1.00it/s]"
     ]
    },
    {
     "name": "stdout",
     "output_type": "stream",
     "text": [
      "Accuracy of the network on the 10000 test images: 97 %\n"
     ]
    },
    {
     "name": "stderr",
     "output_type": "stream",
     "text": [
      "\r",
      " 91%|█████████ | 102/112 [01:41<00:09,  1.01it/s]"
     ]
    },
    {
     "name": "stdout",
     "output_type": "stream",
     "text": [
      "Accuracy of the network on the 10000 test images: 97 %\n"
     ]
    },
    {
     "name": "stderr",
     "output_type": "stream",
     "text": [
      "\r",
      " 92%|█████████▏| 103/112 [01:42<00:08,  1.01it/s]"
     ]
    },
    {
     "name": "stdout",
     "output_type": "stream",
     "text": [
      "Accuracy of the network on the 10000 test images: 97 %\n"
     ]
    },
    {
     "name": "stderr",
     "output_type": "stream",
     "text": [
      "\r",
      " 93%|█████████▎| 104/112 [01:43<00:07,  1.01it/s]"
     ]
    },
    {
     "name": "stdout",
     "output_type": "stream",
     "text": [
      "Accuracy of the network on the 10000 test images: 97 %\n"
     ]
    },
    {
     "name": "stderr",
     "output_type": "stream",
     "text": [
      "\r",
      " 94%|█████████▍| 105/112 [01:44<00:06,  1.01it/s]"
     ]
    },
    {
     "name": "stdout",
     "output_type": "stream",
     "text": [
      "Accuracy of the network on the 10000 test images: 97 %\n"
     ]
    },
    {
     "name": "stderr",
     "output_type": "stream",
     "text": [
      "\r",
      " 95%|█████████▍| 106/112 [01:45<00:05,  1.01it/s]"
     ]
    },
    {
     "name": "stdout",
     "output_type": "stream",
     "text": [
      "Accuracy of the network on the 10000 test images: 98 %\n"
     ]
    },
    {
     "name": "stderr",
     "output_type": "stream",
     "text": [
      "\r",
      " 96%|█████████▌| 107/112 [01:46<00:04,  1.00it/s]"
     ]
    },
    {
     "name": "stdout",
     "output_type": "stream",
     "text": [
      "Accuracy of the network on the 10000 test images: 97 %\n"
     ]
    },
    {
     "name": "stderr",
     "output_type": "stream",
     "text": [
      "\r",
      " 96%|█████████▋| 108/112 [01:47<00:03,  1.00it/s]"
     ]
    },
    {
     "name": "stdout",
     "output_type": "stream",
     "text": [
      "Accuracy of the network on the 10000 test images: 98 %\n"
     ]
    },
    {
     "name": "stderr",
     "output_type": "stream",
     "text": [
      "\r",
      " 97%|█████████▋| 109/112 [01:48<00:02,  1.00it/s]"
     ]
    },
    {
     "name": "stdout",
     "output_type": "stream",
     "text": [
      "Accuracy of the network on the 10000 test images: 98 %\n"
     ]
    },
    {
     "name": "stderr",
     "output_type": "stream",
     "text": [
      "\r",
      " 98%|█████████▊| 110/112 [01:49<00:02,  1.00s/it]"
     ]
    },
    {
     "name": "stdout",
     "output_type": "stream",
     "text": [
      "Accuracy of the network on the 10000 test images: 98 %\n"
     ]
    },
    {
     "name": "stderr",
     "output_type": "stream",
     "text": [
      "\r",
      " 99%|█████████▉| 111/112 [01:50<00:00,  1.00it/s]"
     ]
    },
    {
     "name": "stdout",
     "output_type": "stream",
     "text": [
      "Accuracy of the network on the 10000 test images: 97 %\n"
     ]
    },
    {
     "name": "stderr",
     "output_type": "stream",
     "text": [
      "100%|██████████| 112/112 [01:51<00:00,  1.01it/s]"
     ]
    },
    {
     "name": "stdout",
     "output_type": "stream",
     "text": [
      "Accuracy of the network on the 10000 test images: 98 %\n"
     ]
    },
    {
     "name": "stderr",
     "output_type": "stream",
     "text": [
      "\n",
      "1875it [00:58, 32.12it/s]\n",
      "  0%|          | 0/112 [00:00<?, ?it/s]"
     ]
    },
    {
     "name": "stdout",
     "output_type": "stream",
     "text": [
      "Accuracy of     0 : 100 %\n",
      "Accuracy of     1 : 100 %\n",
      "Accuracy of     2 : 99 %\n",
      "Accuracy of     3 : 100 %\n",
      "Accuracy of     4 : 98 %\n",
      "Accuracy of     5 : 97 %\n",
      "Accuracy of     6 : 99 %\n",
      "Accuracy of     7 : 98 %\n",
      "Accuracy of     8 : 95 %\n",
      "Accuracy of     9 : 97 %\n",
      "epoch: 2/30 | step: 10/1875 | trn loss: 0.0560 | val loss: 0.0471\n",
      "Accuracy of the network on the 10000 test images: 98 %\n"
     ]
    },
    {
     "name": "stderr",
     "output_type": "stream",
     "text": [
      "\r",
      "  1%|          | 1/112 [00:00<01:49,  1.02it/s]"
     ]
    },
    {
     "name": "stdout",
     "output_type": "stream",
     "text": [
      "Accuracy of the network on the 10000 test images: 10 %\n"
     ]
    },
    {
     "name": "stderr",
     "output_type": "stream",
     "text": [
      "\r",
      "  2%|▏         | 2/112 [00:01<01:48,  1.01it/s]"
     ]
    },
    {
     "name": "stdout",
     "output_type": "stream",
     "text": [
      "Accuracy of the network on the 10000 test images: 10 %\n"
     ]
    },
    {
     "name": "stderr",
     "output_type": "stream",
     "text": [
      "\r",
      "  3%|▎         | 3/112 [00:02<01:47,  1.01it/s]"
     ]
    },
    {
     "name": "stdout",
     "output_type": "stream",
     "text": [
      "Accuracy of the network on the 10000 test images: 10 %\n"
     ]
    },
    {
     "name": "stderr",
     "output_type": "stream",
     "text": [
      "\r",
      "  4%|▎         | 4/112 [00:03<01:47,  1.01it/s]"
     ]
    },
    {
     "name": "stdout",
     "output_type": "stream",
     "text": [
      "Accuracy of the network on the 10000 test images: 10 %\n"
     ]
    },
    {
     "name": "stderr",
     "output_type": "stream",
     "text": [
      "\r",
      "  4%|▍         | 5/112 [00:04<01:46,  1.01it/s]"
     ]
    },
    {
     "name": "stdout",
     "output_type": "stream",
     "text": [
      "Accuracy of the network on the 10000 test images: 10 %\n"
     ]
    },
    {
     "name": "stderr",
     "output_type": "stream",
     "text": [
      "\r",
      "  5%|▌         | 6/112 [00:05<01:45,  1.01it/s]"
     ]
    },
    {
     "name": "stdout",
     "output_type": "stream",
     "text": [
      "Accuracy of the network on the 10000 test images: 10 %\n"
     ]
    },
    {
     "name": "stderr",
     "output_type": "stream",
     "text": [
      "\r",
      "  6%|▋         | 7/112 [00:06<01:44,  1.00it/s]"
     ]
    },
    {
     "name": "stdout",
     "output_type": "stream",
     "text": [
      "Accuracy of the network on the 10000 test images: 10 %\n"
     ]
    },
    {
     "name": "stderr",
     "output_type": "stream",
     "text": [
      "\r",
      "  7%|▋         | 8/112 [00:07<01:43,  1.00it/s]"
     ]
    },
    {
     "name": "stdout",
     "output_type": "stream",
     "text": [
      "Accuracy of the network on the 10000 test images: 10 %\n"
     ]
    },
    {
     "name": "stderr",
     "output_type": "stream",
     "text": [
      "\r",
      "  8%|▊         | 9/112 [00:08<01:43,  1.00s/it]"
     ]
    },
    {
     "name": "stdout",
     "output_type": "stream",
     "text": [
      "Accuracy of the network on the 10000 test images: 10 %\n"
     ]
    },
    {
     "name": "stderr",
     "output_type": "stream",
     "text": [
      "\r",
      "  9%|▉         | 10/112 [00:09<01:41,  1.00it/s]"
     ]
    },
    {
     "name": "stdout",
     "output_type": "stream",
     "text": [
      "Accuracy of the network on the 10000 test images: 10 %\n"
     ]
    },
    {
     "name": "stderr",
     "output_type": "stream",
     "text": [
      "\r",
      " 10%|▉         | 11/112 [00:10<01:41,  1.00s/it]"
     ]
    },
    {
     "name": "stdout",
     "output_type": "stream",
     "text": [
      "Accuracy of the network on the 10000 test images: 10 %\n"
     ]
    },
    {
     "name": "stderr",
     "output_type": "stream",
     "text": [
      "\r",
      " 11%|█         | 12/112 [00:11<01:40,  1.00s/it]"
     ]
    },
    {
     "name": "stdout",
     "output_type": "stream",
     "text": [
      "Accuracy of the network on the 10000 test images: 10 %\n"
     ]
    },
    {
     "name": "stderr",
     "output_type": "stream",
     "text": [
      "\r",
      " 12%|█▏        | 13/112 [00:12<01:39,  1.00s/it]"
     ]
    },
    {
     "name": "stdout",
     "output_type": "stream",
     "text": [
      "Accuracy of the network on the 10000 test images: 10 %\n"
     ]
    },
    {
     "name": "stderr",
     "output_type": "stream",
     "text": [
      "\r",
      " 12%|█▎        | 14/112 [00:13<01:37,  1.00it/s]"
     ]
    },
    {
     "name": "stdout",
     "output_type": "stream",
     "text": [
      "Accuracy of the network on the 10000 test images: 10 %\n"
     ]
    },
    {
     "name": "stderr",
     "output_type": "stream",
     "text": [
      "\r",
      " 13%|█▎        | 15/112 [00:14<01:36,  1.00it/s]"
     ]
    },
    {
     "name": "stdout",
     "output_type": "stream",
     "text": [
      "Accuracy of the network on the 10000 test images: 10 %\n"
     ]
    },
    {
     "name": "stderr",
     "output_type": "stream",
     "text": [
      "\r",
      " 14%|█▍        | 16/112 [00:15<01:35,  1.00it/s]"
     ]
    },
    {
     "name": "stdout",
     "output_type": "stream",
     "text": [
      "Accuracy of the network on the 10000 test images: 10 %\n"
     ]
    },
    {
     "name": "stderr",
     "output_type": "stream",
     "text": [
      "\r",
      " 15%|█▌        | 17/112 [00:16<01:34,  1.00it/s]"
     ]
    },
    {
     "name": "stdout",
     "output_type": "stream",
     "text": [
      "Accuracy of the network on the 10000 test images: 10 %\n"
     ]
    },
    {
     "name": "stderr",
     "output_type": "stream",
     "text": [
      "\r",
      " 16%|█▌        | 18/112 [00:17<01:34,  1.00s/it]"
     ]
    },
    {
     "name": "stdout",
     "output_type": "stream",
     "text": [
      "Accuracy of the network on the 10000 test images: 10 %\n"
     ]
    },
    {
     "name": "stderr",
     "output_type": "stream",
     "text": [
      "\r",
      " 17%|█▋        | 19/112 [00:18<01:33,  1.01s/it]"
     ]
    },
    {
     "name": "stdout",
     "output_type": "stream",
     "text": [
      "Accuracy of the network on the 10000 test images: 10 %\n"
     ]
    },
    {
     "name": "stderr",
     "output_type": "stream",
     "text": [
      "\r",
      " 18%|█▊        | 20/112 [00:19<01:32,  1.00s/it]"
     ]
    },
    {
     "name": "stdout",
     "output_type": "stream",
     "text": [
      "Accuracy of the network on the 10000 test images: 10 %\n"
     ]
    },
    {
     "name": "stderr",
     "output_type": "stream",
     "text": [
      "\r",
      " 19%|█▉        | 21/112 [00:20<01:31,  1.00s/it]"
     ]
    },
    {
     "name": "stdout",
     "output_type": "stream",
     "text": [
      "Accuracy of the network on the 10000 test images: 10 %\n"
     ]
    },
    {
     "name": "stderr",
     "output_type": "stream",
     "text": [
      "\r",
      " 20%|█▉        | 22/112 [00:21<01:30,  1.00s/it]"
     ]
    },
    {
     "name": "stdout",
     "output_type": "stream",
     "text": [
      "Accuracy of the network on the 10000 test images: 10 %\n"
     ]
    },
    {
     "name": "stderr",
     "output_type": "stream",
     "text": [
      "\r",
      " 21%|██        | 23/112 [00:22<01:28,  1.00it/s]"
     ]
    },
    {
     "name": "stdout",
     "output_type": "stream",
     "text": [
      "Accuracy of the network on the 10000 test images: 10 %\n"
     ]
    },
    {
     "name": "stderr",
     "output_type": "stream",
     "text": [
      "\r",
      " 21%|██▏       | 24/112 [00:23<01:27,  1.00it/s]"
     ]
    },
    {
     "name": "stdout",
     "output_type": "stream",
     "text": [
      "Accuracy of the network on the 10000 test images: 10 %\n"
     ]
    },
    {
     "name": "stderr",
     "output_type": "stream",
     "text": [
      "\r",
      " 22%|██▏       | 25/112 [00:24<01:26,  1.00it/s]"
     ]
    },
    {
     "name": "stdout",
     "output_type": "stream",
     "text": [
      "Accuracy of the network on the 10000 test images: 10 %\n"
     ]
    },
    {
     "name": "stderr",
     "output_type": "stream",
     "text": [
      "\r",
      " 23%|██▎       | 26/112 [00:25<01:25,  1.00it/s]"
     ]
    },
    {
     "name": "stdout",
     "output_type": "stream",
     "text": [
      "Accuracy of the network on the 10000 test images: 10 %\n"
     ]
    },
    {
     "name": "stderr",
     "output_type": "stream",
     "text": [
      "\r",
      " 24%|██▍       | 27/112 [00:26<01:24,  1.00it/s]"
     ]
    },
    {
     "name": "stdout",
     "output_type": "stream",
     "text": [
      "Accuracy of the network on the 10000 test images: 10 %\n"
     ]
    },
    {
     "name": "stderr",
     "output_type": "stream",
     "text": [
      "\r",
      " 25%|██▌       | 28/112 [00:27<01:24,  1.00s/it]"
     ]
    },
    {
     "name": "stdout",
     "output_type": "stream",
     "text": [
      "Accuracy of the network on the 10000 test images: 11 %\n"
     ]
    },
    {
     "name": "stderr",
     "output_type": "stream",
     "text": [
      "\r",
      " 26%|██▌       | 29/112 [00:28<01:23,  1.00s/it]"
     ]
    },
    {
     "name": "stdout",
     "output_type": "stream",
     "text": [
      "Accuracy of the network on the 10000 test images: 11 %\n"
     ]
    },
    {
     "name": "stderr",
     "output_type": "stream",
     "text": [
      "\r",
      " 27%|██▋       | 30/112 [00:29<01:21,  1.00it/s]"
     ]
    },
    {
     "name": "stdout",
     "output_type": "stream",
     "text": [
      "Accuracy of the network on the 10000 test images: 12 %\n"
     ]
    },
    {
     "name": "stderr",
     "output_type": "stream",
     "text": [
      "\r",
      " 28%|██▊       | 31/112 [00:30<01:21,  1.00s/it]"
     ]
    },
    {
     "name": "stdout",
     "output_type": "stream",
     "text": [
      "Accuracy of the network on the 10000 test images: 13 %\n"
     ]
    },
    {
     "name": "stderr",
     "output_type": "stream",
     "text": [
      "\r",
      " 29%|██▊       | 32/112 [00:31<01:20,  1.00s/it]"
     ]
    },
    {
     "name": "stdout",
     "output_type": "stream",
     "text": [
      "Accuracy of the network on the 10000 test images: 14 %\n"
     ]
    },
    {
     "name": "stderr",
     "output_type": "stream",
     "text": [
      "\r",
      " 29%|██▉       | 33/112 [00:32<01:18,  1.00it/s]"
     ]
    },
    {
     "name": "stdout",
     "output_type": "stream",
     "text": [
      "Accuracy of the network on the 10000 test images: 14 %\n"
     ]
    },
    {
     "name": "stderr",
     "output_type": "stream",
     "text": [
      "\r",
      " 30%|███       | 34/112 [00:33<01:17,  1.00it/s]"
     ]
    },
    {
     "name": "stdout",
     "output_type": "stream",
     "text": [
      "Accuracy of the network on the 10000 test images: 15 %\n"
     ]
    },
    {
     "name": "stderr",
     "output_type": "stream",
     "text": [
      "\r",
      " 31%|███▏      | 35/112 [00:34<01:17,  1.01s/it]"
     ]
    },
    {
     "name": "stdout",
     "output_type": "stream",
     "text": [
      "Accuracy of the network on the 10000 test images: 15 %\n"
     ]
    },
    {
     "name": "stderr",
     "output_type": "stream",
     "text": [
      "\r",
      " 32%|███▏      | 36/112 [00:35<01:16,  1.00s/it]"
     ]
    },
    {
     "name": "stdout",
     "output_type": "stream",
     "text": [
      "Accuracy of the network on the 10000 test images: 15 %\n"
     ]
    },
    {
     "name": "stderr",
     "output_type": "stream",
     "text": [
      "\r",
      " 33%|███▎      | 37/112 [00:36<01:15,  1.00s/it]"
     ]
    },
    {
     "name": "stdout",
     "output_type": "stream",
     "text": [
      "Accuracy of the network on the 10000 test images: 16 %\n"
     ]
    },
    {
     "name": "stderr",
     "output_type": "stream",
     "text": [
      "\r",
      " 34%|███▍      | 38/112 [00:37<01:13,  1.00it/s]"
     ]
    },
    {
     "name": "stdout",
     "output_type": "stream",
     "text": [
      "Accuracy of the network on the 10000 test images: 17 %\n"
     ]
    },
    {
     "name": "stderr",
     "output_type": "stream",
     "text": [
      "\r",
      " 35%|███▍      | 39/112 [00:38<01:12,  1.00it/s]"
     ]
    },
    {
     "name": "stdout",
     "output_type": "stream",
     "text": [
      "Accuracy of the network on the 10000 test images: 18 %\n"
     ]
    },
    {
     "name": "stderr",
     "output_type": "stream",
     "text": [
      "\r",
      " 36%|███▌      | 40/112 [00:39<01:12,  1.00s/it]"
     ]
    },
    {
     "name": "stdout",
     "output_type": "stream",
     "text": [
      "Accuracy of the network on the 10000 test images: 19 %\n"
     ]
    },
    {
     "name": "stderr",
     "output_type": "stream",
     "text": [
      "\r",
      " 37%|███▋      | 41/112 [00:40<01:11,  1.00s/it]"
     ]
    },
    {
     "name": "stdout",
     "output_type": "stream",
     "text": [
      "Accuracy of the network on the 10000 test images: 19 %\n"
     ]
    },
    {
     "name": "stderr",
     "output_type": "stream",
     "text": [
      "\r",
      " 38%|███▊      | 42/112 [00:41<01:09,  1.00it/s]"
     ]
    },
    {
     "name": "stdout",
     "output_type": "stream",
     "text": [
      "Accuracy of the network on the 10000 test images: 21 %\n"
     ]
    },
    {
     "name": "stderr",
     "output_type": "stream",
     "text": [
      "\r",
      " 38%|███▊      | 43/112 [00:42<01:08,  1.01it/s]"
     ]
    },
    {
     "name": "stdout",
     "output_type": "stream",
     "text": [
      "Accuracy of the network on the 10000 test images: 22 %\n"
     ]
    },
    {
     "name": "stderr",
     "output_type": "stream",
     "text": [
      "\r",
      " 39%|███▉      | 44/112 [00:43<01:07,  1.00it/s]"
     ]
    },
    {
     "name": "stdout",
     "output_type": "stream",
     "text": [
      "Accuracy of the network on the 10000 test images: 24 %\n"
     ]
    },
    {
     "name": "stderr",
     "output_type": "stream",
     "text": [
      "\r",
      " 40%|████      | 45/112 [00:44<01:06,  1.00it/s]"
     ]
    },
    {
     "name": "stdout",
     "output_type": "stream",
     "text": [
      "Accuracy of the network on the 10000 test images: 24 %\n"
     ]
    },
    {
     "name": "stderr",
     "output_type": "stream",
     "text": [
      "\r",
      " 41%|████      | 46/112 [00:45<01:05,  1.00it/s]"
     ]
    },
    {
     "name": "stdout",
     "output_type": "stream",
     "text": [
      "Accuracy of the network on the 10000 test images: 28 %\n"
     ]
    },
    {
     "name": "stderr",
     "output_type": "stream",
     "text": [
      "\r",
      " 42%|████▏     | 47/112 [00:46<01:04,  1.00it/s]"
     ]
    },
    {
     "name": "stdout",
     "output_type": "stream",
     "text": [
      "Accuracy of the network on the 10000 test images: 28 %\n"
     ]
    },
    {
     "name": "stderr",
     "output_type": "stream",
     "text": [
      "\r",
      " 43%|████▎     | 48/112 [00:47<01:03,  1.00it/s]"
     ]
    },
    {
     "name": "stdout",
     "output_type": "stream",
     "text": [
      "Accuracy of the network on the 10000 test images: 33 %\n"
     ]
    },
    {
     "name": "stderr",
     "output_type": "stream",
     "text": [
      "\r",
      " 44%|████▍     | 49/112 [00:48<01:02,  1.00it/s]"
     ]
    },
    {
     "name": "stdout",
     "output_type": "stream",
     "text": [
      "Accuracy of the network on the 10000 test images: 34 %\n"
     ]
    },
    {
     "name": "stderr",
     "output_type": "stream",
     "text": [
      "\r",
      " 45%|████▍     | 50/112 [00:49<01:01,  1.00it/s]"
     ]
    },
    {
     "name": "stdout",
     "output_type": "stream",
     "text": [
      "Accuracy of the network on the 10000 test images: 38 %\n"
     ]
    },
    {
     "name": "stderr",
     "output_type": "stream",
     "text": [
      "\r",
      " 46%|████▌     | 51/112 [00:50<01:00,  1.00it/s]"
     ]
    },
    {
     "name": "stdout",
     "output_type": "stream",
     "text": [
      "Accuracy of the network on the 10000 test images: 36 %\n"
     ]
    },
    {
     "name": "stderr",
     "output_type": "stream",
     "text": [
      "\r",
      " 46%|████▋     | 52/112 [00:51<01:00,  1.00s/it]"
     ]
    },
    {
     "name": "stdout",
     "output_type": "stream",
     "text": [
      "Accuracy of the network on the 10000 test images: 43 %\n"
     ]
    },
    {
     "name": "stderr",
     "output_type": "stream",
     "text": [
      "\r",
      " 47%|████▋     | 53/112 [00:52<00:59,  1.00s/it]"
     ]
    },
    {
     "name": "stdout",
     "output_type": "stream",
     "text": [
      "Accuracy of the network on the 10000 test images: 39 %\n"
     ]
    },
    {
     "name": "stderr",
     "output_type": "stream",
     "text": [
      "\r",
      " 48%|████▊     | 54/112 [00:53<00:58,  1.00s/it]"
     ]
    },
    {
     "name": "stdout",
     "output_type": "stream",
     "text": [
      "Accuracy of the network on the 10000 test images: 46 %\n"
     ]
    },
    {
     "name": "stderr",
     "output_type": "stream",
     "text": [
      "\r",
      " 49%|████▉     | 55/112 [00:54<00:57,  1.00s/it]"
     ]
    },
    {
     "name": "stdout",
     "output_type": "stream",
     "text": [
      "Accuracy of the network on the 10000 test images: 44 %\n"
     ]
    },
    {
     "name": "stderr",
     "output_type": "stream",
     "text": [
      "\r",
      " 50%|█████     | 56/112 [00:55<00:55,  1.00it/s]"
     ]
    },
    {
     "name": "stdout",
     "output_type": "stream",
     "text": [
      "Accuracy of the network on the 10000 test images: 50 %\n"
     ]
    },
    {
     "name": "stderr",
     "output_type": "stream",
     "text": [
      "\r",
      " 51%|█████     | 57/112 [00:56<00:54,  1.01it/s]"
     ]
    },
    {
     "name": "stdout",
     "output_type": "stream",
     "text": [
      "Accuracy of the network on the 10000 test images: 46 %\n"
     ]
    },
    {
     "name": "stderr",
     "output_type": "stream",
     "text": [
      "\r",
      " 52%|█████▏    | 58/112 [00:57<00:53,  1.01it/s]"
     ]
    },
    {
     "name": "stdout",
     "output_type": "stream",
     "text": [
      "Accuracy of the network on the 10000 test images: 52 %\n"
     ]
    },
    {
     "name": "stderr",
     "output_type": "stream",
     "text": [
      "\r",
      " 53%|█████▎    | 59/112 [00:58<00:52,  1.01it/s]"
     ]
    },
    {
     "name": "stdout",
     "output_type": "stream",
     "text": [
      "Accuracy of the network on the 10000 test images: 49 %\n"
     ]
    },
    {
     "name": "stderr",
     "output_type": "stream",
     "text": [
      "\r",
      " 54%|█████▎    | 60/112 [00:59<00:52,  1.00s/it]"
     ]
    },
    {
     "name": "stdout",
     "output_type": "stream",
     "text": [
      "Accuracy of the network on the 10000 test images: 57 %\n"
     ]
    },
    {
     "name": "stderr",
     "output_type": "stream",
     "text": [
      "\r",
      " 54%|█████▍    | 61/112 [01:00<00:50,  1.00it/s]"
     ]
    },
    {
     "name": "stdout",
     "output_type": "stream",
     "text": [
      "Accuracy of the network on the 10000 test images: 55 %\n"
     ]
    },
    {
     "name": "stderr",
     "output_type": "stream",
     "text": [
      "\r",
      " 55%|█████▌    | 62/112 [01:01<00:49,  1.00it/s]"
     ]
    },
    {
     "name": "stdout",
     "output_type": "stream",
     "text": [
      "Accuracy of the network on the 10000 test images: 60 %\n"
     ]
    },
    {
     "name": "stderr",
     "output_type": "stream",
     "text": [
      "\r",
      " 56%|█████▋    | 63/112 [01:02<00:48,  1.00it/s]"
     ]
    },
    {
     "name": "stdout",
     "output_type": "stream",
     "text": [
      "Accuracy of the network on the 10000 test images: 60 %\n"
     ]
    },
    {
     "name": "stderr",
     "output_type": "stream",
     "text": [
      "\r",
      " 57%|█████▋    | 64/112 [01:03<00:47,  1.00it/s]"
     ]
    },
    {
     "name": "stdout",
     "output_type": "stream",
     "text": [
      "Accuracy of the network on the 10000 test images: 65 %\n"
     ]
    },
    {
     "name": "stderr",
     "output_type": "stream",
     "text": [
      "\r",
      " 58%|█████▊    | 65/112 [01:04<00:47,  1.00s/it]"
     ]
    },
    {
     "name": "stdout",
     "output_type": "stream",
     "text": [
      "Accuracy of the network on the 10000 test images: 63 %\n"
     ]
    },
    {
     "name": "stderr",
     "output_type": "stream",
     "text": [
      "\r",
      " 59%|█████▉    | 66/112 [01:05<00:46,  1.00s/it]"
     ]
    },
    {
     "name": "stdout",
     "output_type": "stream",
     "text": [
      "Accuracy of the network on the 10000 test images: 69 %\n"
     ]
    },
    {
     "name": "stderr",
     "output_type": "stream",
     "text": [
      "\r",
      " 60%|█████▉    | 67/112 [01:06<00:45,  1.00s/it]"
     ]
    },
    {
     "name": "stdout",
     "output_type": "stream",
     "text": [
      "Accuracy of the network on the 10000 test images: 65 %\n"
     ]
    },
    {
     "name": "stderr",
     "output_type": "stream",
     "text": [
      "\r",
      " 61%|██████    | 68/112 [01:07<00:44,  1.00s/it]"
     ]
    },
    {
     "name": "stdout",
     "output_type": "stream",
     "text": [
      "Accuracy of the network on the 10000 test images: 72 %\n"
     ]
    },
    {
     "name": "stderr",
     "output_type": "stream",
     "text": [
      "\r",
      " 62%|██████▏   | 69/112 [01:08<00:43,  1.00s/it]"
     ]
    },
    {
     "name": "stdout",
     "output_type": "stream",
     "text": [
      "Accuracy of the network on the 10000 test images: 70 %\n"
     ]
    },
    {
     "name": "stderr",
     "output_type": "stream",
     "text": [
      "\r",
      " 62%|██████▎   | 70/112 [01:09<00:42,  1.00s/it]"
     ]
    },
    {
     "name": "stdout",
     "output_type": "stream",
     "text": [
      "Accuracy of the network on the 10000 test images: 77 %\n"
     ]
    },
    {
     "name": "stderr",
     "output_type": "stream",
     "text": [
      "\r",
      " 63%|██████▎   | 71/112 [01:10<00:41,  1.00s/it]"
     ]
    },
    {
     "name": "stdout",
     "output_type": "stream",
     "text": [
      "Accuracy of the network on the 10000 test images: 74 %\n"
     ]
    },
    {
     "name": "stderr",
     "output_type": "stream",
     "text": [
      "\r",
      " 64%|██████▍   | 72/112 [01:11<00:40,  1.00s/it]"
     ]
    },
    {
     "name": "stdout",
     "output_type": "stream",
     "text": [
      "Accuracy of the network on the 10000 test images: 80 %\n"
     ]
    },
    {
     "name": "stderr",
     "output_type": "stream",
     "text": [
      "\r",
      " 65%|██████▌   | 73/112 [01:12<00:39,  1.00s/it]"
     ]
    },
    {
     "name": "stdout",
     "output_type": "stream",
     "text": [
      "Accuracy of the network on the 10000 test images: 78 %\n"
     ]
    },
    {
     "name": "stderr",
     "output_type": "stream",
     "text": [
      "\r",
      " 66%|██████▌   | 74/112 [01:13<00:38,  1.00s/it]"
     ]
    },
    {
     "name": "stdout",
     "output_type": "stream",
     "text": [
      "Accuracy of the network on the 10000 test images: 83 %\n"
     ]
    },
    {
     "name": "stderr",
     "output_type": "stream",
     "text": [
      "\r",
      " 67%|██████▋   | 75/112 [01:14<00:37,  1.00s/it]"
     ]
    },
    {
     "name": "stdout",
     "output_type": "stream",
     "text": [
      "Accuracy of the network on the 10000 test images: 81 %\n"
     ]
    },
    {
     "name": "stderr",
     "output_type": "stream",
     "text": [
      "\r",
      " 68%|██████▊   | 76/112 [01:15<00:35,  1.00it/s]"
     ]
    },
    {
     "name": "stdout",
     "output_type": "stream",
     "text": [
      "Accuracy of the network on the 10000 test images: 86 %\n"
     ]
    },
    {
     "name": "stderr",
     "output_type": "stream",
     "text": [
      "\r",
      " 69%|██████▉   | 77/112 [01:16<00:34,  1.00it/s]"
     ]
    },
    {
     "name": "stdout",
     "output_type": "stream",
     "text": [
      "Accuracy of the network on the 10000 test images: 85 %\n"
     ]
    },
    {
     "name": "stderr",
     "output_type": "stream",
     "text": [
      "\r",
      " 70%|██████▉   | 78/112 [01:17<00:33,  1.00it/s]"
     ]
    },
    {
     "name": "stdout",
     "output_type": "stream",
     "text": [
      "Accuracy of the network on the 10000 test images: 88 %\n"
     ]
    },
    {
     "name": "stderr",
     "output_type": "stream",
     "text": [
      "\r",
      " 71%|███████   | 79/112 [01:18<00:32,  1.00it/s]"
     ]
    },
    {
     "name": "stdout",
     "output_type": "stream",
     "text": [
      "Accuracy of the network on the 10000 test images: 87 %\n"
     ]
    },
    {
     "name": "stderr",
     "output_type": "stream",
     "text": [
      "\r",
      " 71%|███████▏  | 80/112 [01:19<00:32,  1.00s/it]"
     ]
    },
    {
     "name": "stdout",
     "output_type": "stream",
     "text": [
      "Accuracy of the network on the 10000 test images: 89 %\n"
     ]
    },
    {
     "name": "stderr",
     "output_type": "stream",
     "text": [
      "\r",
      " 72%|███████▏  | 81/112 [01:20<00:31,  1.00s/it]"
     ]
    },
    {
     "name": "stdout",
     "output_type": "stream",
     "text": [
      "Accuracy of the network on the 10000 test images: 88 %\n"
     ]
    },
    {
     "name": "stderr",
     "output_type": "stream",
     "text": [
      "\r",
      " 73%|███████▎  | 82/112 [01:21<00:29,  1.00it/s]"
     ]
    },
    {
     "name": "stdout",
     "output_type": "stream",
     "text": [
      "Accuracy of the network on the 10000 test images: 91 %\n"
     ]
    },
    {
     "name": "stderr",
     "output_type": "stream",
     "text": [
      "\r",
      " 74%|███████▍  | 83/112 [01:22<00:29,  1.00s/it]"
     ]
    },
    {
     "name": "stdout",
     "output_type": "stream",
     "text": [
      "Accuracy of the network on the 10000 test images: 89 %\n"
     ]
    },
    {
     "name": "stderr",
     "output_type": "stream",
     "text": [
      "\r",
      " 75%|███████▌  | 84/112 [01:23<00:28,  1.00s/it]"
     ]
    },
    {
     "name": "stdout",
     "output_type": "stream",
     "text": [
      "Accuracy of the network on the 10000 test images: 92 %\n"
     ]
    },
    {
     "name": "stderr",
     "output_type": "stream",
     "text": [
      "\r",
      " 76%|███████▌  | 85/112 [01:24<00:27,  1.00s/it]"
     ]
    },
    {
     "name": "stdout",
     "output_type": "stream",
     "text": [
      "Accuracy of the network on the 10000 test images: 93 %\n"
     ]
    },
    {
     "name": "stderr",
     "output_type": "stream",
     "text": [
      "\r",
      " 77%|███████▋  | 86/112 [01:25<00:26,  1.00s/it]"
     ]
    },
    {
     "name": "stdout",
     "output_type": "stream",
     "text": [
      "Accuracy of the network on the 10000 test images: 94 %\n"
     ]
    },
    {
     "name": "stderr",
     "output_type": "stream",
     "text": [
      "\r",
      " 78%|███████▊  | 87/112 [01:26<00:25,  1.01s/it]"
     ]
    },
    {
     "name": "stdout",
     "output_type": "stream",
     "text": [
      "Accuracy of the network on the 10000 test images: 94 %\n"
     ]
    },
    {
     "name": "stderr",
     "output_type": "stream",
     "text": [
      "\r",
      " 79%|███████▊  | 88/112 [01:27<00:24,  1.01s/it]"
     ]
    },
    {
     "name": "stdout",
     "output_type": "stream",
     "text": [
      "Accuracy of the network on the 10000 test images: 95 %\n"
     ]
    },
    {
     "name": "stderr",
     "output_type": "stream",
     "text": [
      "\r",
      " 79%|███████▉  | 89/112 [01:28<00:23,  1.00s/it]"
     ]
    },
    {
     "name": "stdout",
     "output_type": "stream",
     "text": [
      "Accuracy of the network on the 10000 test images: 95 %\n"
     ]
    },
    {
     "name": "stderr",
     "output_type": "stream",
     "text": [
      "\r",
      " 80%|████████  | 90/112 [01:29<00:22,  1.01s/it]"
     ]
    },
    {
     "name": "stdout",
     "output_type": "stream",
     "text": [
      "Accuracy of the network on the 10000 test images: 96 %\n"
     ]
    },
    {
     "name": "stderr",
     "output_type": "stream",
     "text": [
      "\r",
      " 81%|████████▏ | 91/112 [01:30<00:21,  1.00s/it]"
     ]
    },
    {
     "name": "stdout",
     "output_type": "stream",
     "text": [
      "Accuracy of the network on the 10000 test images: 96 %\n"
     ]
    },
    {
     "name": "stderr",
     "output_type": "stream",
     "text": [
      "\r",
      " 82%|████████▏ | 92/112 [01:31<00:19,  1.00it/s]"
     ]
    },
    {
     "name": "stdout",
     "output_type": "stream",
     "text": [
      "Accuracy of the network on the 10000 test images: 96 %\n"
     ]
    },
    {
     "name": "stderr",
     "output_type": "stream",
     "text": [
      "\r",
      " 83%|████████▎ | 93/112 [01:32<00:18,  1.00it/s]"
     ]
    },
    {
     "name": "stdout",
     "output_type": "stream",
     "text": [
      "Accuracy of the network on the 10000 test images: 96 %\n"
     ]
    },
    {
     "name": "stderr",
     "output_type": "stream",
     "text": [
      "\r",
      " 84%|████████▍ | 94/112 [01:33<00:17,  1.01it/s]"
     ]
    },
    {
     "name": "stdout",
     "output_type": "stream",
     "text": [
      "Accuracy of the network on the 10000 test images: 97 %\n"
     ]
    },
    {
     "name": "stderr",
     "output_type": "stream",
     "text": [
      "\r",
      " 85%|████████▍ | 95/112 [01:34<00:16,  1.00it/s]"
     ]
    },
    {
     "name": "stdout",
     "output_type": "stream",
     "text": [
      "Accuracy of the network on the 10000 test images: 97 %\n"
     ]
    },
    {
     "name": "stderr",
     "output_type": "stream",
     "text": [
      "\r",
      " 86%|████████▌ | 96/112 [01:35<00:15,  1.00it/s]"
     ]
    },
    {
     "name": "stdout",
     "output_type": "stream",
     "text": [
      "Accuracy of the network on the 10000 test images: 97 %\n"
     ]
    },
    {
     "name": "stderr",
     "output_type": "stream",
     "text": [
      "\r",
      " 87%|████████▋ | 97/112 [01:36<00:14,  1.00it/s]"
     ]
    },
    {
     "name": "stdout",
     "output_type": "stream",
     "text": [
      "Accuracy of the network on the 10000 test images: 98 %\n"
     ]
    },
    {
     "name": "stderr",
     "output_type": "stream",
     "text": [
      "\r",
      " 88%|████████▊ | 98/112 [01:37<00:13,  1.00it/s]"
     ]
    },
    {
     "name": "stdout",
     "output_type": "stream",
     "text": [
      "Accuracy of the network on the 10000 test images: 98 %\n"
     ]
    },
    {
     "name": "stderr",
     "output_type": "stream",
     "text": [
      "\r",
      " 88%|████████▊ | 99/112 [01:38<00:12,  1.01it/s]"
     ]
    },
    {
     "name": "stdout",
     "output_type": "stream",
     "text": [
      "Accuracy of the network on the 10000 test images: 98 %\n"
     ]
    },
    {
     "name": "stderr",
     "output_type": "stream",
     "text": [
      "\r",
      " 89%|████████▉ | 100/112 [01:39<00:11,  1.01it/s]"
     ]
    },
    {
     "name": "stdout",
     "output_type": "stream",
     "text": [
      "Accuracy of the network on the 10000 test images: 98 %\n"
     ]
    },
    {
     "name": "stderr",
     "output_type": "stream",
     "text": [
      "\r",
      " 90%|█████████ | 101/112 [01:40<00:10,  1.01it/s]"
     ]
    },
    {
     "name": "stdout",
     "output_type": "stream",
     "text": [
      "Accuracy of the network on the 10000 test images: 98 %\n"
     ]
    },
    {
     "name": "stderr",
     "output_type": "stream",
     "text": [
      "\r",
      " 91%|█████████ | 102/112 [01:41<00:09,  1.01it/s]"
     ]
    },
    {
     "name": "stdout",
     "output_type": "stream",
     "text": [
      "Accuracy of the network on the 10000 test images: 98 %\n"
     ]
    },
    {
     "name": "stderr",
     "output_type": "stream",
     "text": [
      "\r",
      " 92%|█████████▏| 103/112 [01:42<00:08,  1.01it/s]"
     ]
    },
    {
     "name": "stdout",
     "output_type": "stream",
     "text": [
      "Accuracy of the network on the 10000 test images: 98 %\n"
     ]
    },
    {
     "name": "stderr",
     "output_type": "stream",
     "text": [
      "\r",
      " 93%|█████████▎| 104/112 [01:43<00:08,  1.00s/it]"
     ]
    },
    {
     "name": "stdout",
     "output_type": "stream",
     "text": [
      "Accuracy of the network on the 10000 test images: 98 %\n"
     ]
    },
    {
     "name": "stderr",
     "output_type": "stream",
     "text": [
      "\r",
      " 94%|█████████▍| 105/112 [01:44<00:07,  1.00s/it]"
     ]
    },
    {
     "name": "stdout",
     "output_type": "stream",
     "text": [
      "Accuracy of the network on the 10000 test images: 98 %\n"
     ]
    },
    {
     "name": "stderr",
     "output_type": "stream",
     "text": [
      "\r",
      " 95%|█████████▍| 106/112 [01:45<00:06,  1.00s/it]"
     ]
    },
    {
     "name": "stdout",
     "output_type": "stream",
     "text": [
      "Accuracy of the network on the 10000 test images: 98 %\n"
     ]
    },
    {
     "name": "stderr",
     "output_type": "stream",
     "text": [
      "\r",
      " 96%|█████████▌| 107/112 [01:46<00:05,  1.00s/it]"
     ]
    },
    {
     "name": "stdout",
     "output_type": "stream",
     "text": [
      "Accuracy of the network on the 10000 test images: 98 %\n"
     ]
    },
    {
     "name": "stderr",
     "output_type": "stream",
     "text": [
      "\r",
      " 96%|█████████▋| 108/112 [01:47<00:03,  1.00it/s]"
     ]
    },
    {
     "name": "stdout",
     "output_type": "stream",
     "text": [
      "Accuracy of the network on the 10000 test images: 98 %\n"
     ]
    },
    {
     "name": "stderr",
     "output_type": "stream",
     "text": [
      "\r",
      " 97%|█████████▋| 109/112 [01:48<00:03,  1.00s/it]"
     ]
    },
    {
     "name": "stdout",
     "output_type": "stream",
     "text": [
      "Accuracy of the network on the 10000 test images: 98 %\n"
     ]
    },
    {
     "name": "stderr",
     "output_type": "stream",
     "text": [
      "\r",
      " 98%|█████████▊| 110/112 [01:49<00:01,  1.00it/s]"
     ]
    },
    {
     "name": "stdout",
     "output_type": "stream",
     "text": [
      "Accuracy of the network on the 10000 test images: 98 %\n"
     ]
    },
    {
     "name": "stderr",
     "output_type": "stream",
     "text": [
      "\r",
      " 99%|█████████▉| 111/112 [01:50<00:00,  1.00it/s]"
     ]
    },
    {
     "name": "stdout",
     "output_type": "stream",
     "text": [
      "Accuracy of the network on the 10000 test images: 98 %\n"
     ]
    },
    {
     "name": "stderr",
     "output_type": "stream",
     "text": [
      "100%|██████████| 112/112 [01:51<00:00,  1.00it/s]"
     ]
    },
    {
     "name": "stdout",
     "output_type": "stream",
     "text": [
      "Accuracy of the network on the 10000 test images: 98 %\n"
     ]
    },
    {
     "name": "stderr",
     "output_type": "stream",
     "text": [
      "\n",
      "1875it [00:58, 32.12it/s]\n",
      "  0%|          | 0/112 [00:00<?, ?it/s]"
     ]
    },
    {
     "name": "stdout",
     "output_type": "stream",
     "text": [
      "Accuracy of     0 : 99 %\n",
      "Accuracy of     1 : 100 %\n",
      "Accuracy of     2 : 100 %\n",
      "Accuracy of     3 : 97 %\n",
      "Accuracy of     4 : 99 %\n",
      "Accuracy of     5 : 99 %\n",
      "Accuracy of     6 : 98 %\n",
      "Accuracy of     7 : 99 %\n",
      "Accuracy of     8 : 98 %\n",
      "Accuracy of     9 : 95 %\n",
      "epoch: 3/30 | step: 10/1875 | trn loss: 0.0397 | val loss: 0.0414\n",
      "Accuracy of the network on the 10000 test images: 98 %\n"
     ]
    },
    {
     "name": "stderr",
     "output_type": "stream",
     "text": [
      "\r",
      "  1%|          | 1/112 [00:00<01:49,  1.01it/s]"
     ]
    },
    {
     "name": "stdout",
     "output_type": "stream",
     "text": [
      "Accuracy of the network on the 10000 test images: 10 %\n"
     ]
    },
    {
     "name": "stderr",
     "output_type": "stream",
     "text": [
      "\r",
      "  2%|▏         | 2/112 [00:01<01:48,  1.01it/s]"
     ]
    },
    {
     "name": "stdout",
     "output_type": "stream",
     "text": [
      "Accuracy of the network on the 10000 test images: 10 %\n"
     ]
    },
    {
     "name": "stderr",
     "output_type": "stream",
     "text": [
      "\r",
      "  3%|▎         | 3/112 [00:02<01:47,  1.01it/s]"
     ]
    },
    {
     "name": "stdout",
     "output_type": "stream",
     "text": [
      "Accuracy of the network on the 10000 test images: 10 %\n"
     ]
    },
    {
     "name": "stderr",
     "output_type": "stream",
     "text": [
      "\r",
      "  4%|▎         | 4/112 [00:03<01:47,  1.00it/s]"
     ]
    },
    {
     "name": "stdout",
     "output_type": "stream",
     "text": [
      "Accuracy of the network on the 10000 test images: 10 %\n"
     ]
    },
    {
     "name": "stderr",
     "output_type": "stream",
     "text": [
      "\r",
      "  4%|▍         | 5/112 [00:04<01:46,  1.00it/s]"
     ]
    },
    {
     "name": "stdout",
     "output_type": "stream",
     "text": [
      "Accuracy of the network on the 10000 test images: 10 %\n"
     ]
    },
    {
     "name": "stderr",
     "output_type": "stream",
     "text": [
      "\r",
      "  5%|▌         | 6/112 [00:05<01:46,  1.00s/it]"
     ]
    },
    {
     "name": "stdout",
     "output_type": "stream",
     "text": [
      "Accuracy of the network on the 10000 test images: 10 %\n"
     ]
    },
    {
     "name": "stderr",
     "output_type": "stream",
     "text": [
      "\r",
      "  6%|▋         | 7/112 [00:06<01:45,  1.00s/it]"
     ]
    },
    {
     "name": "stdout",
     "output_type": "stream",
     "text": [
      "Accuracy of the network on the 10000 test images: 10 %\n"
     ]
    },
    {
     "name": "stderr",
     "output_type": "stream",
     "text": [
      "\r",
      "  7%|▋         | 8/112 [00:07<01:44,  1.00s/it]"
     ]
    },
    {
     "name": "stdout",
     "output_type": "stream",
     "text": [
      "Accuracy of the network on the 10000 test images: 10 %\n"
     ]
    },
    {
     "name": "stderr",
     "output_type": "stream",
     "text": [
      "\r",
      "  8%|▊         | 9/112 [00:08<01:43,  1.00s/it]"
     ]
    },
    {
     "name": "stdout",
     "output_type": "stream",
     "text": [
      "Accuracy of the network on the 10000 test images: 10 %\n"
     ]
    },
    {
     "name": "stderr",
     "output_type": "stream",
     "text": [
      "\r",
      "  9%|▉         | 10/112 [00:09<01:41,  1.00it/s]"
     ]
    },
    {
     "name": "stdout",
     "output_type": "stream",
     "text": [
      "Accuracy of the network on the 10000 test images: 10 %\n"
     ]
    },
    {
     "name": "stderr",
     "output_type": "stream",
     "text": [
      "\r",
      " 10%|▉         | 11/112 [00:10<01:41,  1.00s/it]"
     ]
    },
    {
     "name": "stdout",
     "output_type": "stream",
     "text": [
      "Accuracy of the network on the 10000 test images: 10 %\n"
     ]
    },
    {
     "name": "stderr",
     "output_type": "stream",
     "text": [
      "\r",
      " 11%|█         | 12/112 [00:12<01:40,  1.00s/it]"
     ]
    },
    {
     "name": "stdout",
     "output_type": "stream",
     "text": [
      "Accuracy of the network on the 10000 test images: 10 %\n"
     ]
    },
    {
     "name": "stderr",
     "output_type": "stream",
     "text": [
      "\r",
      " 12%|█▏        | 13/112 [00:13<01:39,  1.00s/it]"
     ]
    },
    {
     "name": "stdout",
     "output_type": "stream",
     "text": [
      "Accuracy of the network on the 10000 test images: 10 %\n"
     ]
    },
    {
     "name": "stderr",
     "output_type": "stream",
     "text": [
      "\r",
      " 12%|█▎        | 14/112 [00:13<01:37,  1.00it/s]"
     ]
    },
    {
     "name": "stdout",
     "output_type": "stream",
     "text": [
      "Accuracy of the network on the 10000 test images: 10 %\n"
     ]
    },
    {
     "name": "stderr",
     "output_type": "stream",
     "text": [
      "\r",
      " 13%|█▎        | 15/112 [00:14<01:36,  1.00it/s]"
     ]
    },
    {
     "name": "stdout",
     "output_type": "stream",
     "text": [
      "Accuracy of the network on the 10000 test images: 10 %\n"
     ]
    },
    {
     "name": "stderr",
     "output_type": "stream",
     "text": [
      "\r",
      " 14%|█▍        | 16/112 [00:15<01:35,  1.00it/s]"
     ]
    },
    {
     "name": "stdout",
     "output_type": "stream",
     "text": [
      "Accuracy of the network on the 10000 test images: 10 %\n"
     ]
    },
    {
     "name": "stderr",
     "output_type": "stream",
     "text": [
      "\r",
      " 15%|█▌        | 17/112 [00:16<01:34,  1.00it/s]"
     ]
    },
    {
     "name": "stdout",
     "output_type": "stream",
     "text": [
      "Accuracy of the network on the 10000 test images: 10 %\n"
     ]
    },
    {
     "name": "stderr",
     "output_type": "stream",
     "text": [
      "\r",
      " 16%|█▌        | 18/112 [00:17<01:33,  1.00it/s]"
     ]
    },
    {
     "name": "stdout",
     "output_type": "stream",
     "text": [
      "Accuracy of the network on the 10000 test images: 10 %\n"
     ]
    },
    {
     "name": "stderr",
     "output_type": "stream",
     "text": [
      "\r",
      " 17%|█▋        | 19/112 [00:18<01:32,  1.00it/s]"
     ]
    },
    {
     "name": "stdout",
     "output_type": "stream",
     "text": [
      "Accuracy of the network on the 10000 test images: 10 %\n"
     ]
    },
    {
     "name": "stderr",
     "output_type": "stream",
     "text": [
      "\r",
      " 18%|█▊        | 20/112 [00:19<01:31,  1.01it/s]"
     ]
    },
    {
     "name": "stdout",
     "output_type": "stream",
     "text": [
      "Accuracy of the network on the 10000 test images: 10 %\n"
     ]
    },
    {
     "name": "stderr",
     "output_type": "stream",
     "text": [
      "\r",
      " 19%|█▉        | 21/112 [00:20<01:30,  1.01it/s]"
     ]
    },
    {
     "name": "stdout",
     "output_type": "stream",
     "text": [
      "Accuracy of the network on the 10000 test images: 10 %\n"
     ]
    },
    {
     "name": "stderr",
     "output_type": "stream",
     "text": [
      "\r",
      " 20%|█▉        | 22/112 [00:21<01:29,  1.00it/s]"
     ]
    },
    {
     "name": "stdout",
     "output_type": "stream",
     "text": [
      "Accuracy of the network on the 10000 test images: 10 %\n"
     ]
    },
    {
     "name": "stderr",
     "output_type": "stream",
     "text": [
      "\r",
      " 21%|██        | 23/112 [00:22<01:28,  1.00it/s]"
     ]
    },
    {
     "name": "stdout",
     "output_type": "stream",
     "text": [
      "Accuracy of the network on the 10000 test images: 10 %\n"
     ]
    },
    {
     "name": "stderr",
     "output_type": "stream",
     "text": [
      "\r",
      " 21%|██▏       | 24/112 [00:23<01:27,  1.00it/s]"
     ]
    },
    {
     "name": "stdout",
     "output_type": "stream",
     "text": [
      "Accuracy of the network on the 10000 test images: 10 %\n"
     ]
    },
    {
     "name": "stderr",
     "output_type": "stream",
     "text": [
      "\r",
      " 22%|██▏       | 25/112 [00:24<01:26,  1.01it/s]"
     ]
    },
    {
     "name": "stdout",
     "output_type": "stream",
     "text": [
      "Accuracy of the network on the 10000 test images: 10 %\n"
     ]
    },
    {
     "name": "stderr",
     "output_type": "stream",
     "text": [
      "\r",
      " 23%|██▎       | 26/112 [00:25<01:25,  1.00it/s]"
     ]
    },
    {
     "name": "stdout",
     "output_type": "stream",
     "text": [
      "Accuracy of the network on the 10000 test images: 10 %\n"
     ]
    },
    {
     "name": "stderr",
     "output_type": "stream",
     "text": [
      "\r",
      " 24%|██▍       | 27/112 [00:26<01:24,  1.00it/s]"
     ]
    },
    {
     "name": "stdout",
     "output_type": "stream",
     "text": [
      "Accuracy of the network on the 10000 test images: 10 %\n"
     ]
    },
    {
     "name": "stderr",
     "output_type": "stream",
     "text": [
      "\r",
      " 25%|██▌       | 28/112 [00:27<01:23,  1.00it/s]"
     ]
    },
    {
     "name": "stdout",
     "output_type": "stream",
     "text": [
      "Accuracy of the network on the 10000 test images: 10 %\n"
     ]
    },
    {
     "name": "stderr",
     "output_type": "stream",
     "text": [
      "\r",
      " 26%|██▌       | 29/112 [00:28<01:23,  1.01s/it]"
     ]
    },
    {
     "name": "stdout",
     "output_type": "stream",
     "text": [
      "Accuracy of the network on the 10000 test images: 10 %\n"
     ]
    },
    {
     "name": "stderr",
     "output_type": "stream",
     "text": [
      "\r",
      " 27%|██▋       | 30/112 [00:29<01:22,  1.00s/it]"
     ]
    },
    {
     "name": "stdout",
     "output_type": "stream",
     "text": [
      "Accuracy of the network on the 10000 test images: 10 %\n"
     ]
    },
    {
     "name": "stderr",
     "output_type": "stream",
     "text": [
      "\r",
      " 28%|██▊       | 31/112 [00:30<01:20,  1.00it/s]"
     ]
    },
    {
     "name": "stdout",
     "output_type": "stream",
     "text": [
      "Accuracy of the network on the 10000 test images: 10 %\n"
     ]
    },
    {
     "name": "stderr",
     "output_type": "stream",
     "text": [
      "\r",
      " 29%|██▊       | 32/112 [00:31<01:19,  1.00it/s]"
     ]
    },
    {
     "name": "stdout",
     "output_type": "stream",
     "text": [
      "Accuracy of the network on the 10000 test images: 11 %\n"
     ]
    },
    {
     "name": "stderr",
     "output_type": "stream",
     "text": [
      "\r",
      " 29%|██▉       | 33/112 [00:32<01:18,  1.00it/s]"
     ]
    },
    {
     "name": "stdout",
     "output_type": "stream",
     "text": [
      "Accuracy of the network on the 10000 test images: 11 %\n"
     ]
    },
    {
     "name": "stderr",
     "output_type": "stream",
     "text": [
      "\r",
      " 30%|███       | 34/112 [00:33<01:17,  1.00it/s]"
     ]
    },
    {
     "name": "stdout",
     "output_type": "stream",
     "text": [
      "Accuracy of the network on the 10000 test images: 12 %\n"
     ]
    },
    {
     "name": "stderr",
     "output_type": "stream",
     "text": [
      "\r",
      " 31%|███▏      | 35/112 [00:34<01:16,  1.00it/s]"
     ]
    },
    {
     "name": "stdout",
     "output_type": "stream",
     "text": [
      "Accuracy of the network on the 10000 test images: 13 %\n"
     ]
    },
    {
     "name": "stderr",
     "output_type": "stream",
     "text": [
      "\r",
      " 32%|███▏      | 36/112 [00:35<01:15,  1.00it/s]"
     ]
    },
    {
     "name": "stdout",
     "output_type": "stream",
     "text": [
      "Accuracy of the network on the 10000 test images: 13 %\n"
     ]
    },
    {
     "name": "stderr",
     "output_type": "stream",
     "text": [
      "\r",
      " 33%|███▎      | 37/112 [00:36<01:15,  1.00s/it]"
     ]
    },
    {
     "name": "stdout",
     "output_type": "stream",
     "text": [
      "Accuracy of the network on the 10000 test images: 14 %\n"
     ]
    },
    {
     "name": "stderr",
     "output_type": "stream",
     "text": [
      "\r",
      " 34%|███▍      | 38/112 [00:37<01:13,  1.00it/s]"
     ]
    },
    {
     "name": "stdout",
     "output_type": "stream",
     "text": [
      "Accuracy of the network on the 10000 test images: 15 %\n"
     ]
    },
    {
     "name": "stderr",
     "output_type": "stream",
     "text": [
      "\r",
      " 35%|███▍      | 39/112 [00:38<01:13,  1.00s/it]"
     ]
    },
    {
     "name": "stdout",
     "output_type": "stream",
     "text": [
      "Accuracy of the network on the 10000 test images: 16 %\n"
     ]
    },
    {
     "name": "stderr",
     "output_type": "stream",
     "text": [
      "\r",
      " 36%|███▌      | 40/112 [00:39<01:12,  1.00s/it]"
     ]
    },
    {
     "name": "stdout",
     "output_type": "stream",
     "text": [
      "Accuracy of the network on the 10000 test images: 17 %\n"
     ]
    },
    {
     "name": "stderr",
     "output_type": "stream",
     "text": [
      "\r",
      " 37%|███▋      | 41/112 [00:40<01:10,  1.00it/s]"
     ]
    },
    {
     "name": "stdout",
     "output_type": "stream",
     "text": [
      "Accuracy of the network on the 10000 test images: 20 %\n"
     ]
    },
    {
     "name": "stderr",
     "output_type": "stream",
     "text": [
      "\r",
      " 38%|███▊      | 42/112 [00:41<01:10,  1.00s/it]"
     ]
    },
    {
     "name": "stdout",
     "output_type": "stream",
     "text": [
      "Accuracy of the network on the 10000 test images: 21 %\n"
     ]
    },
    {
     "name": "stderr",
     "output_type": "stream",
     "text": [
      "\r",
      " 38%|███▊      | 43/112 [00:42<01:08,  1.00it/s]"
     ]
    },
    {
     "name": "stdout",
     "output_type": "stream",
     "text": [
      "Accuracy of the network on the 10000 test images: 23 %\n"
     ]
    },
    {
     "name": "stderr",
     "output_type": "stream",
     "text": [
      "\r",
      " 39%|███▉      | 44/112 [00:43<01:07,  1.01it/s]"
     ]
    },
    {
     "name": "stdout",
     "output_type": "stream",
     "text": [
      "Accuracy of the network on the 10000 test images: 25 %\n"
     ]
    },
    {
     "name": "stderr",
     "output_type": "stream",
     "text": [
      "\r",
      " 40%|████      | 45/112 [00:44<01:06,  1.00it/s]"
     ]
    },
    {
     "name": "stdout",
     "output_type": "stream",
     "text": [
      "Accuracy of the network on the 10000 test images: 28 %\n"
     ]
    },
    {
     "name": "stderr",
     "output_type": "stream",
     "text": [
      "\r",
      " 41%|████      | 46/112 [00:45<01:05,  1.01it/s]"
     ]
    },
    {
     "name": "stdout",
     "output_type": "stream",
     "text": [
      "Accuracy of the network on the 10000 test images: 31 %\n"
     ]
    },
    {
     "name": "stderr",
     "output_type": "stream",
     "text": [
      "\r",
      " 42%|████▏     | 47/112 [00:46<01:04,  1.00it/s]"
     ]
    },
    {
     "name": "stdout",
     "output_type": "stream",
     "text": [
      "Accuracy of the network on the 10000 test images: 32 %\n"
     ]
    },
    {
     "name": "stderr",
     "output_type": "stream",
     "text": [
      "\r",
      " 43%|████▎     | 48/112 [00:47<01:03,  1.00it/s]"
     ]
    },
    {
     "name": "stdout",
     "output_type": "stream",
     "text": [
      "Accuracy of the network on the 10000 test images: 35 %\n"
     ]
    },
    {
     "name": "stderr",
     "output_type": "stream",
     "text": [
      "\r",
      " 44%|████▍     | 49/112 [00:48<01:03,  1.00s/it]"
     ]
    },
    {
     "name": "stdout",
     "output_type": "stream",
     "text": [
      "Accuracy of the network on the 10000 test images: 38 %\n"
     ]
    },
    {
     "name": "stderr",
     "output_type": "stream",
     "text": [
      "\r",
      " 45%|████▍     | 50/112 [00:49<01:02,  1.00s/it]"
     ]
    },
    {
     "name": "stdout",
     "output_type": "stream",
     "text": [
      "Accuracy of the network on the 10000 test images: 40 %\n"
     ]
    },
    {
     "name": "stderr",
     "output_type": "stream",
     "text": [
      "\r",
      " 46%|████▌     | 51/112 [00:50<01:01,  1.01s/it]"
     ]
    },
    {
     "name": "stdout",
     "output_type": "stream",
     "text": [
      "Accuracy of the network on the 10000 test images: 40 %\n"
     ]
    },
    {
     "name": "stderr",
     "output_type": "stream",
     "text": [
      "\r",
      " 46%|████▋     | 52/112 [00:51<01:00,  1.00s/it]"
     ]
    },
    {
     "name": "stdout",
     "output_type": "stream",
     "text": [
      "Accuracy of the network on the 10000 test images: 45 %\n"
     ]
    },
    {
     "name": "stderr",
     "output_type": "stream",
     "text": [
      "\r",
      " 47%|████▋     | 53/112 [00:52<00:59,  1.00s/it]"
     ]
    },
    {
     "name": "stdout",
     "output_type": "stream",
     "text": [
      "Accuracy of the network on the 10000 test images: 44 %\n"
     ]
    },
    {
     "name": "stderr",
     "output_type": "stream",
     "text": [
      "\r",
      " 48%|████▊     | 54/112 [00:53<00:58,  1.00s/it]"
     ]
    },
    {
     "name": "stdout",
     "output_type": "stream",
     "text": [
      "Accuracy of the network on the 10000 test images: 49 %\n"
     ]
    },
    {
     "name": "stderr",
     "output_type": "stream",
     "text": [
      "\r",
      " 49%|████▉     | 55/112 [00:54<00:57,  1.00s/it]"
     ]
    },
    {
     "name": "stdout",
     "output_type": "stream",
     "text": [
      "Accuracy of the network on the 10000 test images: 50 %\n"
     ]
    },
    {
     "name": "stderr",
     "output_type": "stream",
     "text": [
      "\r",
      " 50%|█████     | 56/112 [00:55<00:56,  1.00s/it]"
     ]
    },
    {
     "name": "stdout",
     "output_type": "stream",
     "text": [
      "Accuracy of the network on the 10000 test images: 55 %\n"
     ]
    },
    {
     "name": "stderr",
     "output_type": "stream",
     "text": [
      "\r",
      " 51%|█████     | 57/112 [00:56<00:55,  1.00s/it]"
     ]
    },
    {
     "name": "stdout",
     "output_type": "stream",
     "text": [
      "Accuracy of the network on the 10000 test images: 53 %\n"
     ]
    },
    {
     "name": "stderr",
     "output_type": "stream",
     "text": [
      "\r",
      " 52%|█████▏    | 58/112 [00:57<00:53,  1.00it/s]"
     ]
    },
    {
     "name": "stdout",
     "output_type": "stream",
     "text": [
      "Accuracy of the network on the 10000 test images: 58 %\n"
     ]
    },
    {
     "name": "stderr",
     "output_type": "stream",
     "text": [
      "\r",
      " 53%|█████▎    | 59/112 [00:58<00:53,  1.00s/it]"
     ]
    },
    {
     "name": "stdout",
     "output_type": "stream",
     "text": [
      "Accuracy of the network on the 10000 test images: 55 %\n"
     ]
    },
    {
     "name": "stderr",
     "output_type": "stream",
     "text": [
      "\r",
      " 54%|█████▎    | 60/112 [00:59<00:52,  1.00s/it]"
     ]
    },
    {
     "name": "stdout",
     "output_type": "stream",
     "text": [
      "Accuracy of the network on the 10000 test images: 61 %\n"
     ]
    },
    {
     "name": "stderr",
     "output_type": "stream",
     "text": [
      "\r",
      " 54%|█████▍    | 61/112 [01:00<00:51,  1.00s/it]"
     ]
    },
    {
     "name": "stdout",
     "output_type": "stream",
     "text": [
      "Accuracy of the network on the 10000 test images: 60 %\n"
     ]
    },
    {
     "name": "stderr",
     "output_type": "stream",
     "text": [
      "\r",
      " 55%|█████▌    | 62/112 [01:01<00:50,  1.00s/it]"
     ]
    },
    {
     "name": "stdout",
     "output_type": "stream",
     "text": [
      "Accuracy of the network on the 10000 test images: 63 %\n"
     ]
    },
    {
     "name": "stderr",
     "output_type": "stream",
     "text": [
      "\r",
      " 56%|█████▋    | 63/112 [01:02<00:49,  1.00s/it]"
     ]
    },
    {
     "name": "stdout",
     "output_type": "stream",
     "text": [
      "Accuracy of the network on the 10000 test images: 64 %\n"
     ]
    },
    {
     "name": "stderr",
     "output_type": "stream",
     "text": [
      "\r",
      " 57%|█████▋    | 64/112 [01:03<00:47,  1.00it/s]"
     ]
    },
    {
     "name": "stdout",
     "output_type": "stream",
     "text": [
      "Accuracy of the network on the 10000 test images: 68 %\n"
     ]
    },
    {
     "name": "stderr",
     "output_type": "stream",
     "text": [
      "\r",
      " 58%|█████▊    | 65/112 [01:04<00:46,  1.00it/s]"
     ]
    },
    {
     "name": "stdout",
     "output_type": "stream",
     "text": [
      "Accuracy of the network on the 10000 test images: 66 %\n"
     ]
    },
    {
     "name": "stderr",
     "output_type": "stream",
     "text": [
      "\r",
      " 59%|█████▉    | 66/112 [01:05<00:45,  1.01it/s]"
     ]
    },
    {
     "name": "stdout",
     "output_type": "stream",
     "text": [
      "Accuracy of the network on the 10000 test images: 71 %\n"
     ]
    },
    {
     "name": "stderr",
     "output_type": "stream",
     "text": [
      "\r",
      " 60%|█████▉    | 67/112 [01:06<00:44,  1.01it/s]"
     ]
    },
    {
     "name": "stdout",
     "output_type": "stream",
     "text": [
      "Accuracy of the network on the 10000 test images: 70 %\n"
     ]
    },
    {
     "name": "stderr",
     "output_type": "stream",
     "text": [
      "\r",
      " 61%|██████    | 68/112 [01:07<00:43,  1.00it/s]"
     ]
    },
    {
     "name": "stdout",
     "output_type": "stream",
     "text": [
      "Accuracy of the network on the 10000 test images: 74 %\n"
     ]
    },
    {
     "name": "stderr",
     "output_type": "stream",
     "text": [
      "\r",
      " 62%|██████▏   | 69/112 [01:08<00:43,  1.00s/it]"
     ]
    },
    {
     "name": "stdout",
     "output_type": "stream",
     "text": [
      "Accuracy of the network on the 10000 test images: 74 %\n"
     ]
    },
    {
     "name": "stderr",
     "output_type": "stream",
     "text": [
      "\r",
      " 62%|██████▎   | 70/112 [01:09<00:41,  1.00it/s]"
     ]
    },
    {
     "name": "stdout",
     "output_type": "stream",
     "text": [
      "Accuracy of the network on the 10000 test images: 79 %\n"
     ]
    },
    {
     "name": "stderr",
     "output_type": "stream",
     "text": [
      "\r",
      " 63%|██████▎   | 71/112 [01:10<00:40,  1.00it/s]"
     ]
    },
    {
     "name": "stdout",
     "output_type": "stream",
     "text": [
      "Accuracy of the network on the 10000 test images: 78 %\n"
     ]
    },
    {
     "name": "stderr",
     "output_type": "stream",
     "text": [
      "\r",
      " 64%|██████▍   | 72/112 [01:11<00:40,  1.00s/it]"
     ]
    },
    {
     "name": "stdout",
     "output_type": "stream",
     "text": [
      "Accuracy of the network on the 10000 test images: 82 %\n"
     ]
    },
    {
     "name": "stderr",
     "output_type": "stream",
     "text": [
      "\r",
      " 65%|██████▌   | 73/112 [01:12<00:39,  1.00s/it]"
     ]
    },
    {
     "name": "stdout",
     "output_type": "stream",
     "text": [
      "Accuracy of the network on the 10000 test images: 82 %\n"
     ]
    },
    {
     "name": "stderr",
     "output_type": "stream",
     "text": [
      "\r",
      " 66%|██████▌   | 74/112 [01:13<00:38,  1.00s/it]"
     ]
    },
    {
     "name": "stdout",
     "output_type": "stream",
     "text": [
      "Accuracy of the network on the 10000 test images: 85 %\n"
     ]
    },
    {
     "name": "stderr",
     "output_type": "stream",
     "text": [
      "\r",
      " 67%|██████▋   | 75/112 [01:14<00:37,  1.00s/it]"
     ]
    },
    {
     "name": "stdout",
     "output_type": "stream",
     "text": [
      "Accuracy of the network on the 10000 test images: 84 %\n"
     ]
    },
    {
     "name": "stderr",
     "output_type": "stream",
     "text": [
      "\r",
      " 68%|██████▊   | 76/112 [01:15<00:36,  1.00s/it]"
     ]
    },
    {
     "name": "stdout",
     "output_type": "stream",
     "text": [
      "Accuracy of the network on the 10000 test images: 88 %\n"
     ]
    },
    {
     "name": "stderr",
     "output_type": "stream",
     "text": [
      "\r",
      " 69%|██████▉   | 77/112 [01:16<00:34,  1.00it/s]"
     ]
    },
    {
     "name": "stdout",
     "output_type": "stream",
     "text": [
      "Accuracy of the network on the 10000 test images: 88 %\n"
     ]
    },
    {
     "name": "stderr",
     "output_type": "stream",
     "text": [
      "\r",
      " 70%|██████▉   | 78/112 [01:17<00:34,  1.00s/it]"
     ]
    },
    {
     "name": "stdout",
     "output_type": "stream",
     "text": [
      "Accuracy of the network on the 10000 test images: 91 %\n"
     ]
    },
    {
     "name": "stderr",
     "output_type": "stream",
     "text": [
      "\r",
      " 71%|███████   | 79/112 [01:18<00:33,  1.00s/it]"
     ]
    },
    {
     "name": "stdout",
     "output_type": "stream",
     "text": [
      "Accuracy of the network on the 10000 test images: 90 %\n"
     ]
    },
    {
     "name": "stderr",
     "output_type": "stream",
     "text": [
      "\r",
      " 71%|███████▏  | 80/112 [01:19<00:32,  1.00s/it]"
     ]
    },
    {
     "name": "stdout",
     "output_type": "stream",
     "text": [
      "Accuracy of the network on the 10000 test images: 92 %\n"
     ]
    },
    {
     "name": "stderr",
     "output_type": "stream",
     "text": [
      "\r",
      " 72%|███████▏  | 81/112 [01:20<00:31,  1.00s/it]"
     ]
    },
    {
     "name": "stdout",
     "output_type": "stream",
     "text": [
      "Accuracy of the network on the 10000 test images: 91 %\n"
     ]
    },
    {
     "name": "stderr",
     "output_type": "stream",
     "text": [
      "\r",
      " 73%|███████▎  | 82/112 [01:21<00:30,  1.00s/it]"
     ]
    },
    {
     "name": "stdout",
     "output_type": "stream",
     "text": [
      "Accuracy of the network on the 10000 test images: 94 %\n"
     ]
    },
    {
     "name": "stderr",
     "output_type": "stream",
     "text": [
      "\r",
      " 74%|███████▍  | 83/112 [01:22<00:29,  1.00s/it]"
     ]
    },
    {
     "name": "stdout",
     "output_type": "stream",
     "text": [
      "Accuracy of the network on the 10000 test images: 94 %\n"
     ]
    },
    {
     "name": "stderr",
     "output_type": "stream",
     "text": [
      "\r",
      " 75%|███████▌  | 84/112 [01:23<00:28,  1.00s/it]"
     ]
    },
    {
     "name": "stdout",
     "output_type": "stream",
     "text": [
      "Accuracy of the network on the 10000 test images: 95 %\n"
     ]
    },
    {
     "name": "stderr",
     "output_type": "stream",
     "text": [
      "\r",
      " 76%|███████▌  | 85/112 [01:24<00:27,  1.00s/it]"
     ]
    },
    {
     "name": "stdout",
     "output_type": "stream",
     "text": [
      "Accuracy of the network on the 10000 test images: 95 %\n"
     ]
    },
    {
     "name": "stderr",
     "output_type": "stream",
     "text": [
      "\r",
      " 77%|███████▋  | 86/112 [01:25<00:26,  1.00s/it]"
     ]
    },
    {
     "name": "stdout",
     "output_type": "stream",
     "text": [
      "Accuracy of the network on the 10000 test images: 96 %\n"
     ]
    },
    {
     "name": "stderr",
     "output_type": "stream",
     "text": [
      "\r",
      " 78%|███████▊  | 87/112 [01:26<00:24,  1.00it/s]"
     ]
    },
    {
     "name": "stdout",
     "output_type": "stream",
     "text": [
      "Accuracy of the network on the 10000 test images: 96 %\n"
     ]
    },
    {
     "name": "stderr",
     "output_type": "stream",
     "text": [
      "\r",
      " 79%|███████▊  | 88/112 [01:27<00:23,  1.00it/s]"
     ]
    },
    {
     "name": "stdout",
     "output_type": "stream",
     "text": [
      "Accuracy of the network on the 10000 test images: 97 %\n"
     ]
    },
    {
     "name": "stderr",
     "output_type": "stream",
     "text": [
      "\r",
      " 79%|███████▉  | 89/112 [01:28<00:22,  1.00it/s]"
     ]
    },
    {
     "name": "stdout",
     "output_type": "stream",
     "text": [
      "Accuracy of the network on the 10000 test images: 97 %\n"
     ]
    },
    {
     "name": "stderr",
     "output_type": "stream",
     "text": [
      "\r",
      " 80%|████████  | 90/112 [01:29<00:21,  1.00it/s]"
     ]
    },
    {
     "name": "stdout",
     "output_type": "stream",
     "text": [
      "Accuracy of the network on the 10000 test images: 98 %\n"
     ]
    },
    {
     "name": "stderr",
     "output_type": "stream",
     "text": [
      "\r",
      " 81%|████████▏ | 91/112 [01:30<00:20,  1.00it/s]"
     ]
    },
    {
     "name": "stdout",
     "output_type": "stream",
     "text": [
      "Accuracy of the network on the 10000 test images: 98 %\n"
     ]
    },
    {
     "name": "stderr",
     "output_type": "stream",
     "text": [
      "\r",
      " 82%|████████▏ | 92/112 [01:31<00:20,  1.00s/it]"
     ]
    },
    {
     "name": "stdout",
     "output_type": "stream",
     "text": [
      "Accuracy of the network on the 10000 test images: 98 %\n"
     ]
    },
    {
     "name": "stderr",
     "output_type": "stream",
     "text": [
      "\r",
      " 83%|████████▎ | 93/112 [01:32<00:19,  1.00s/it]"
     ]
    },
    {
     "name": "stdout",
     "output_type": "stream",
     "text": [
      "Accuracy of the network on the 10000 test images: 98 %\n"
     ]
    },
    {
     "name": "stderr",
     "output_type": "stream",
     "text": [
      "\r",
      " 84%|████████▍ | 94/112 [01:33<00:18,  1.00s/it]"
     ]
    },
    {
     "name": "stdout",
     "output_type": "stream",
     "text": [
      "Accuracy of the network on the 10000 test images: 99 %\n"
     ]
    },
    {
     "name": "stderr",
     "output_type": "stream",
     "text": [
      "\r",
      " 85%|████████▍ | 95/112 [01:34<00:17,  1.00s/it]"
     ]
    },
    {
     "name": "stdout",
     "output_type": "stream",
     "text": [
      "Accuracy of the network on the 10000 test images: 99 %\n"
     ]
    },
    {
     "name": "stderr",
     "output_type": "stream",
     "text": [
      "\r",
      " 86%|████████▌ | 96/112 [01:35<00:16,  1.00s/it]"
     ]
    },
    {
     "name": "stdout",
     "output_type": "stream",
     "text": [
      "Accuracy of the network on the 10000 test images: 99 %\n"
     ]
    },
    {
     "name": "stderr",
     "output_type": "stream",
     "text": [
      "\r",
      " 87%|████████▋ | 97/112 [01:36<00:15,  1.00s/it]"
     ]
    },
    {
     "name": "stdout",
     "output_type": "stream",
     "text": [
      "Accuracy of the network on the 10000 test images: 99 %\n"
     ]
    },
    {
     "name": "stderr",
     "output_type": "stream",
     "text": [
      "\r",
      " 88%|████████▊ | 98/112 [01:37<00:14,  1.00s/it]"
     ]
    },
    {
     "name": "stdout",
     "output_type": "stream",
     "text": [
      "Accuracy of the network on the 10000 test images: 99 %\n"
     ]
    },
    {
     "name": "stderr",
     "output_type": "stream",
     "text": [
      "\r",
      " 88%|████████▊ | 99/112 [01:38<00:13,  1.01s/it]"
     ]
    },
    {
     "name": "stdout",
     "output_type": "stream",
     "text": [
      "Accuracy of the network on the 10000 test images: 98 %\n"
     ]
    },
    {
     "name": "stderr",
     "output_type": "stream",
     "text": [
      "\r",
      " 89%|████████▉ | 100/112 [01:40<00:12,  1.01s/it]"
     ]
    },
    {
     "name": "stdout",
     "output_type": "stream",
     "text": [
      "Accuracy of the network on the 10000 test images: 98 %\n"
     ]
    },
    {
     "name": "stderr",
     "output_type": "stream",
     "text": [
      "\r",
      " 90%|█████████ | 101/112 [01:40<00:11,  1.00s/it]"
     ]
    },
    {
     "name": "stdout",
     "output_type": "stream",
     "text": [
      "Accuracy of the network on the 10000 test images: 98 %\n"
     ]
    },
    {
     "name": "stderr",
     "output_type": "stream",
     "text": [
      "\r",
      " 91%|█████████ | 102/112 [01:42<00:10,  1.00s/it]"
     ]
    },
    {
     "name": "stdout",
     "output_type": "stream",
     "text": [
      "Accuracy of the network on the 10000 test images: 98 %\n"
     ]
    },
    {
     "name": "stderr",
     "output_type": "stream",
     "text": [
      "\r",
      " 92%|█████████▏| 103/112 [01:42<00:08,  1.00it/s]"
     ]
    },
    {
     "name": "stdout",
     "output_type": "stream",
     "text": [
      "Accuracy of the network on the 10000 test images: 98 %\n"
     ]
    },
    {
     "name": "stderr",
     "output_type": "stream",
     "text": [
      "\r",
      " 93%|█████████▎| 104/112 [01:43<00:08,  1.00s/it]"
     ]
    },
    {
     "name": "stdout",
     "output_type": "stream",
     "text": [
      "Accuracy of the network on the 10000 test images: 98 %\n"
     ]
    },
    {
     "name": "stderr",
     "output_type": "stream",
     "text": [
      "\r",
      " 94%|█████████▍| 105/112 [01:44<00:06,  1.00it/s]"
     ]
    },
    {
     "name": "stdout",
     "output_type": "stream",
     "text": [
      "Accuracy of the network on the 10000 test images: 98 %\n"
     ]
    },
    {
     "name": "stderr",
     "output_type": "stream",
     "text": [
      "\r",
      " 95%|█████████▍| 106/112 [01:45<00:05,  1.00it/s]"
     ]
    },
    {
     "name": "stdout",
     "output_type": "stream",
     "text": [
      "Accuracy of the network on the 10000 test images: 98 %\n"
     ]
    },
    {
     "name": "stderr",
     "output_type": "stream",
     "text": [
      "\r",
      " 96%|█████████▌| 107/112 [01:46<00:04,  1.00it/s]"
     ]
    },
    {
     "name": "stdout",
     "output_type": "stream",
     "text": [
      "Accuracy of the network on the 10000 test images: 98 %\n"
     ]
    },
    {
     "name": "stderr",
     "output_type": "stream",
     "text": [
      "\r",
      " 96%|█████████▋| 108/112 [01:47<00:03,  1.00it/s]"
     ]
    },
    {
     "name": "stdout",
     "output_type": "stream",
     "text": [
      "Accuracy of the network on the 10000 test images: 98 %\n"
     ]
    },
    {
     "name": "stderr",
     "output_type": "stream",
     "text": [
      "\r",
      " 97%|█████████▋| 109/112 [01:48<00:02,  1.01it/s]"
     ]
    },
    {
     "name": "stdout",
     "output_type": "stream",
     "text": [
      "Accuracy of the network on the 10000 test images: 98 %\n"
     ]
    },
    {
     "name": "stderr",
     "output_type": "stream",
     "text": [
      "\r",
      " 98%|█████████▊| 110/112 [01:49<00:01,  1.00it/s]"
     ]
    },
    {
     "name": "stdout",
     "output_type": "stream",
     "text": [
      "Accuracy of the network on the 10000 test images: 98 %\n"
     ]
    },
    {
     "name": "stderr",
     "output_type": "stream",
     "text": [
      "\r",
      " 99%|█████████▉| 111/112 [01:50<00:01,  1.00s/it]"
     ]
    },
    {
     "name": "stdout",
     "output_type": "stream",
     "text": [
      "Accuracy of the network on the 10000 test images: 98 %\n"
     ]
    },
    {
     "name": "stderr",
     "output_type": "stream",
     "text": [
      "100%|██████████| 112/112 [01:51<00:00,  1.00it/s]"
     ]
    },
    {
     "name": "stdout",
     "output_type": "stream",
     "text": [
      "Accuracy of the network on the 10000 test images: 98 %\n"
     ]
    },
    {
     "name": "stderr",
     "output_type": "stream",
     "text": [
      "\n",
      "1875it [00:58, 32.16it/s]\n",
      "  0%|          | 0/112 [00:00<?, ?it/s]"
     ]
    },
    {
     "name": "stdout",
     "output_type": "stream",
     "text": [
      "Accuracy of     0 : 100 %\n",
      "Accuracy of     1 : 100 %\n",
      "Accuracy of     2 : 100 %\n",
      "Accuracy of     3 : 100 %\n",
      "Accuracy of     4 : 96 %\n",
      "Accuracy of     5 : 98 %\n",
      "Accuracy of     6 : 98 %\n",
      "Accuracy of     7 : 99 %\n",
      "Accuracy of     8 : 98 %\n",
      "Accuracy of     9 : 95 %\n",
      "epoch: 4/30 | step: 10/1875 | trn loss: 0.0322 | val loss: 0.0528\n",
      "Accuracy of the network on the 10000 test images: 98 %\n"
     ]
    },
    {
     "name": "stderr",
     "output_type": "stream",
     "text": [
      "\r",
      "  1%|          | 1/112 [00:00<01:50,  1.00it/s]"
     ]
    },
    {
     "name": "stdout",
     "output_type": "stream",
     "text": [
      "Accuracy of the network on the 10000 test images: 10 %\n"
     ]
    },
    {
     "name": "stderr",
     "output_type": "stream",
     "text": [
      "\r",
      "  2%|▏         | 2/112 [00:02<01:49,  1.00it/s]"
     ]
    },
    {
     "name": "stdout",
     "output_type": "stream",
     "text": [
      "Accuracy of the network on the 10000 test images: 10 %\n"
     ]
    },
    {
     "name": "stderr",
     "output_type": "stream",
     "text": [
      "\r",
      "  3%|▎         | 3/112 [00:02<01:48,  1.00it/s]"
     ]
    },
    {
     "name": "stdout",
     "output_type": "stream",
     "text": [
      "Accuracy of the network on the 10000 test images: 10 %\n"
     ]
    },
    {
     "name": "stderr",
     "output_type": "stream",
     "text": [
      "\r",
      "  4%|▎         | 4/112 [00:03<01:47,  1.00it/s]"
     ]
    },
    {
     "name": "stdout",
     "output_type": "stream",
     "text": [
      "Accuracy of the network on the 10000 test images: 10 %\n"
     ]
    },
    {
     "name": "stderr",
     "output_type": "stream",
     "text": [
      "\r",
      "  4%|▍         | 5/112 [00:04<01:46,  1.00it/s]"
     ]
    },
    {
     "name": "stdout",
     "output_type": "stream",
     "text": [
      "Accuracy of the network on the 10000 test images: 10 %\n"
     ]
    },
    {
     "name": "stderr",
     "output_type": "stream",
     "text": [
      "\r",
      "  5%|▌         | 6/112 [00:05<01:45,  1.00it/s]"
     ]
    },
    {
     "name": "stdout",
     "output_type": "stream",
     "text": [
      "Accuracy of the network on the 10000 test images: 10 %\n"
     ]
    },
    {
     "name": "stderr",
     "output_type": "stream",
     "text": [
      "\r",
      "  6%|▋         | 7/112 [00:06<01:44,  1.00it/s]"
     ]
    },
    {
     "name": "stdout",
     "output_type": "stream",
     "text": [
      "Accuracy of the network on the 10000 test images: 10 %\n"
     ]
    },
    {
     "name": "stderr",
     "output_type": "stream",
     "text": [
      "\r",
      "  7%|▋         | 8/112 [00:07<01:43,  1.00it/s]"
     ]
    },
    {
     "name": "stdout",
     "output_type": "stream",
     "text": [
      "Accuracy of the network on the 10000 test images: 10 %\n"
     ]
    },
    {
     "name": "stderr",
     "output_type": "stream",
     "text": [
      "\r",
      "  8%|▊         | 9/112 [00:08<01:42,  1.01it/s]"
     ]
    },
    {
     "name": "stdout",
     "output_type": "stream",
     "text": [
      "Accuracy of the network on the 10000 test images: 10 %\n"
     ]
    },
    {
     "name": "stderr",
     "output_type": "stream",
     "text": [
      "\r",
      "  9%|▉         | 10/112 [00:09<01:41,  1.00it/s]"
     ]
    },
    {
     "name": "stdout",
     "output_type": "stream",
     "text": [
      "Accuracy of the network on the 10000 test images: 10 %\n"
     ]
    },
    {
     "name": "stderr",
     "output_type": "stream",
     "text": [
      "\r",
      " 10%|▉         | 11/112 [00:10<01:40,  1.00it/s]"
     ]
    },
    {
     "name": "stdout",
     "output_type": "stream",
     "text": [
      "Accuracy of the network on the 10000 test images: 10 %\n"
     ]
    },
    {
     "name": "stderr",
     "output_type": "stream",
     "text": [
      "\r",
      " 11%|█         | 12/112 [00:11<01:39,  1.00it/s]"
     ]
    },
    {
     "name": "stdout",
     "output_type": "stream",
     "text": [
      "Accuracy of the network on the 10000 test images: 10 %\n"
     ]
    },
    {
     "name": "stderr",
     "output_type": "stream",
     "text": [
      "\r",
      " 12%|█▏        | 13/112 [00:12<01:39,  1.00s/it]"
     ]
    },
    {
     "name": "stdout",
     "output_type": "stream",
     "text": [
      "Accuracy of the network on the 10000 test images: 10 %\n"
     ]
    },
    {
     "name": "stderr",
     "output_type": "stream",
     "text": [
      "\r",
      " 12%|█▎        | 14/112 [00:13<01:38,  1.00s/it]"
     ]
    },
    {
     "name": "stdout",
     "output_type": "stream",
     "text": [
      "Accuracy of the network on the 10000 test images: 10 %\n"
     ]
    },
    {
     "name": "stderr",
     "output_type": "stream",
     "text": [
      "\r",
      " 13%|█▎        | 15/112 [00:14<01:37,  1.00s/it]"
     ]
    },
    {
     "name": "stdout",
     "output_type": "stream",
     "text": [
      "Accuracy of the network on the 10000 test images: 10 %\n"
     ]
    },
    {
     "name": "stderr",
     "output_type": "stream",
     "text": [
      "\r",
      " 14%|█▍        | 16/112 [00:15<01:35,  1.00it/s]"
     ]
    },
    {
     "name": "stdout",
     "output_type": "stream",
     "text": [
      "Accuracy of the network on the 10000 test images: 10 %\n"
     ]
    },
    {
     "name": "stderr",
     "output_type": "stream",
     "text": [
      "\r",
      " 15%|█▌        | 17/112 [00:16<01:34,  1.00it/s]"
     ]
    },
    {
     "name": "stdout",
     "output_type": "stream",
     "text": [
      "Accuracy of the network on the 10000 test images: 10 %\n"
     ]
    },
    {
     "name": "stderr",
     "output_type": "stream",
     "text": [
      "\r",
      " 16%|█▌        | 18/112 [00:17<01:33,  1.00it/s]"
     ]
    },
    {
     "name": "stdout",
     "output_type": "stream",
     "text": [
      "Accuracy of the network on the 10000 test images: 10 %\n"
     ]
    },
    {
     "name": "stderr",
     "output_type": "stream",
     "text": [
      "\r",
      " 17%|█▋        | 19/112 [00:18<01:32,  1.01it/s]"
     ]
    },
    {
     "name": "stdout",
     "output_type": "stream",
     "text": [
      "Accuracy of the network on the 10000 test images: 10 %\n"
     ]
    },
    {
     "name": "stderr",
     "output_type": "stream",
     "text": [
      "\r",
      " 18%|█▊        | 20/112 [00:19<01:31,  1.00it/s]"
     ]
    },
    {
     "name": "stdout",
     "output_type": "stream",
     "text": [
      "Accuracy of the network on the 10000 test images: 10 %\n"
     ]
    },
    {
     "name": "stderr",
     "output_type": "stream",
     "text": [
      "\r",
      " 19%|█▉        | 21/112 [00:20<01:30,  1.00it/s]"
     ]
    },
    {
     "name": "stdout",
     "output_type": "stream",
     "text": [
      "Accuracy of the network on the 10000 test images: 10 %\n"
     ]
    },
    {
     "name": "stderr",
     "output_type": "stream",
     "text": [
      "\r",
      " 20%|█▉        | 22/112 [00:21<01:29,  1.00it/s]"
     ]
    },
    {
     "name": "stdout",
     "output_type": "stream",
     "text": [
      "Accuracy of the network on the 10000 test images: 10 %\n"
     ]
    },
    {
     "name": "stderr",
     "output_type": "stream",
     "text": [
      "\r",
      " 21%|██        | 23/112 [00:22<01:28,  1.00it/s]"
     ]
    },
    {
     "name": "stdout",
     "output_type": "stream",
     "text": [
      "Accuracy of the network on the 10000 test images: 10 %\n"
     ]
    },
    {
     "name": "stderr",
     "output_type": "stream",
     "text": [
      "\r",
      " 21%|██▏       | 24/112 [00:23<01:28,  1.00s/it]"
     ]
    },
    {
     "name": "stdout",
     "output_type": "stream",
     "text": [
      "Accuracy of the network on the 10000 test images: 10 %\n"
     ]
    },
    {
     "name": "stderr",
     "output_type": "stream",
     "text": [
      "\r",
      " 22%|██▏       | 25/112 [00:24<01:27,  1.01s/it]"
     ]
    },
    {
     "name": "stdout",
     "output_type": "stream",
     "text": [
      "Accuracy of the network on the 10000 test images: 10 %\n"
     ]
    },
    {
     "name": "stderr",
     "output_type": "stream",
     "text": [
      "\r",
      " 23%|██▎       | 26/112 [00:25<01:26,  1.01s/it]"
     ]
    },
    {
     "name": "stdout",
     "output_type": "stream",
     "text": [
      "Accuracy of the network on the 10000 test images: 10 %\n"
     ]
    },
    {
     "name": "stderr",
     "output_type": "stream",
     "text": [
      "\r",
      " 24%|██▍       | 27/112 [00:26<01:25,  1.00s/it]"
     ]
    },
    {
     "name": "stdout",
     "output_type": "stream",
     "text": [
      "Accuracy of the network on the 10000 test images: 10 %\n"
     ]
    },
    {
     "name": "stderr",
     "output_type": "stream",
     "text": [
      "\r",
      " 25%|██▌       | 28/112 [00:27<01:23,  1.00it/s]"
     ]
    },
    {
     "name": "stdout",
     "output_type": "stream",
     "text": [
      "Accuracy of the network on the 10000 test images: 11 %\n"
     ]
    },
    {
     "name": "stderr",
     "output_type": "stream",
     "text": [
      "\r",
      " 26%|██▌       | 29/112 [00:28<01:22,  1.00it/s]"
     ]
    },
    {
     "name": "stdout",
     "output_type": "stream",
     "text": [
      "Accuracy of the network on the 10000 test images: 11 %\n"
     ]
    },
    {
     "name": "stderr",
     "output_type": "stream",
     "text": [
      "\r",
      " 27%|██▋       | 30/112 [00:29<01:21,  1.00it/s]"
     ]
    },
    {
     "name": "stdout",
     "output_type": "stream",
     "text": [
      "Accuracy of the network on the 10000 test images: 11 %\n"
     ]
    },
    {
     "name": "stderr",
     "output_type": "stream",
     "text": [
      "\r",
      " 28%|██▊       | 31/112 [00:30<01:21,  1.00s/it]"
     ]
    },
    {
     "name": "stdout",
     "output_type": "stream",
     "text": [
      "Accuracy of the network on the 10000 test images: 12 %\n"
     ]
    },
    {
     "name": "stderr",
     "output_type": "stream",
     "text": [
      "\r",
      " 29%|██▊       | 32/112 [00:31<01:19,  1.00it/s]"
     ]
    },
    {
     "name": "stdout",
     "output_type": "stream",
     "text": [
      "Accuracy of the network on the 10000 test images: 12 %\n"
     ]
    },
    {
     "name": "stderr",
     "output_type": "stream",
     "text": [
      "\r",
      " 29%|██▉       | 33/112 [00:32<01:18,  1.00it/s]"
     ]
    },
    {
     "name": "stdout",
     "output_type": "stream",
     "text": [
      "Accuracy of the network on the 10000 test images: 14 %\n"
     ]
    },
    {
     "name": "stderr",
     "output_type": "stream",
     "text": [
      "\r",
      " 30%|███       | 34/112 [00:33<01:17,  1.00it/s]"
     ]
    },
    {
     "name": "stdout",
     "output_type": "stream",
     "text": [
      "Accuracy of the network on the 10000 test images: 13 %\n"
     ]
    },
    {
     "name": "stderr",
     "output_type": "stream",
     "text": [
      "\r",
      " 31%|███▏      | 35/112 [00:34<01:17,  1.00s/it]"
     ]
    },
    {
     "name": "stdout",
     "output_type": "stream",
     "text": [
      "Accuracy of the network on the 10000 test images: 15 %\n"
     ]
    },
    {
     "name": "stderr",
     "output_type": "stream",
     "text": [
      "\r",
      " 32%|███▏      | 36/112 [00:35<01:16,  1.00s/it]"
     ]
    },
    {
     "name": "stdout",
     "output_type": "stream",
     "text": [
      "Accuracy of the network on the 10000 test images: 16 %\n"
     ]
    },
    {
     "name": "stderr",
     "output_type": "stream",
     "text": [
      "\r",
      " 33%|███▎      | 37/112 [00:36<01:14,  1.00it/s]"
     ]
    },
    {
     "name": "stdout",
     "output_type": "stream",
     "text": [
      "Accuracy of the network on the 10000 test images: 19 %\n"
     ]
    },
    {
     "name": "stderr",
     "output_type": "stream",
     "text": [
      "\r",
      " 34%|███▍      | 38/112 [00:37<01:13,  1.00it/s]"
     ]
    },
    {
     "name": "stdout",
     "output_type": "stream",
     "text": [
      "Accuracy of the network on the 10000 test images: 19 %\n"
     ]
    },
    {
     "name": "stderr",
     "output_type": "stream",
     "text": [
      "\r",
      " 35%|███▍      | 39/112 [00:38<01:12,  1.00it/s]"
     ]
    },
    {
     "name": "stdout",
     "output_type": "stream",
     "text": [
      "Accuracy of the network on the 10000 test images: 22 %\n"
     ]
    },
    {
     "name": "stderr",
     "output_type": "stream",
     "text": [
      "\r",
      " 36%|███▌      | 40/112 [00:39<01:12,  1.00s/it]"
     ]
    },
    {
     "name": "stdout",
     "output_type": "stream",
     "text": [
      "Accuracy of the network on the 10000 test images: 23 %\n"
     ]
    },
    {
     "name": "stderr",
     "output_type": "stream",
     "text": [
      "\r",
      " 37%|███▋      | 41/112 [00:40<01:10,  1.00it/s]"
     ]
    },
    {
     "name": "stdout",
     "output_type": "stream",
     "text": [
      "Accuracy of the network on the 10000 test images: 27 %\n"
     ]
    },
    {
     "name": "stderr",
     "output_type": "stream",
     "text": [
      "\r",
      " 38%|███▊      | 42/112 [00:41<01:09,  1.00it/s]"
     ]
    },
    {
     "name": "stdout",
     "output_type": "stream",
     "text": [
      "Accuracy of the network on the 10000 test images: 28 %\n"
     ]
    },
    {
     "name": "stderr",
     "output_type": "stream",
     "text": [
      "\r",
      " 38%|███▊      | 43/112 [00:42<01:08,  1.01it/s]"
     ]
    },
    {
     "name": "stdout",
     "output_type": "stream",
     "text": [
      "Accuracy of the network on the 10000 test images: 31 %\n"
     ]
    },
    {
     "name": "stderr",
     "output_type": "stream",
     "text": [
      "\r",
      " 39%|███▉      | 44/112 [00:43<01:07,  1.01it/s]"
     ]
    },
    {
     "name": "stdout",
     "output_type": "stream",
     "text": [
      "Accuracy of the network on the 10000 test images: 32 %\n"
     ]
    },
    {
     "name": "stderr",
     "output_type": "stream",
     "text": [
      "\r",
      " 40%|████      | 45/112 [00:44<01:06,  1.01it/s]"
     ]
    },
    {
     "name": "stdout",
     "output_type": "stream",
     "text": [
      "Accuracy of the network on the 10000 test images: 35 %\n"
     ]
    },
    {
     "name": "stderr",
     "output_type": "stream",
     "text": [
      "\r",
      " 41%|████      | 46/112 [00:45<01:05,  1.00it/s]"
     ]
    },
    {
     "name": "stdout",
     "output_type": "stream",
     "text": [
      "Accuracy of the network on the 10000 test images: 37 %\n"
     ]
    },
    {
     "name": "stderr",
     "output_type": "stream",
     "text": [
      "\r",
      " 42%|████▏     | 47/112 [00:46<01:04,  1.00it/s]"
     ]
    },
    {
     "name": "stdout",
     "output_type": "stream",
     "text": [
      "Accuracy of the network on the 10000 test images: 39 %\n"
     ]
    },
    {
     "name": "stderr",
     "output_type": "stream",
     "text": [
      "\r",
      " 43%|████▎     | 48/112 [00:47<01:03,  1.00it/s]"
     ]
    },
    {
     "name": "stdout",
     "output_type": "stream",
     "text": [
      "Accuracy of the network on the 10000 test images: 40 %\n"
     ]
    },
    {
     "name": "stderr",
     "output_type": "stream",
     "text": [
      "\r",
      " 44%|████▍     | 49/112 [00:48<01:03,  1.00s/it]"
     ]
    },
    {
     "name": "stdout",
     "output_type": "stream",
     "text": [
      "Accuracy of the network on the 10000 test images: 43 %\n"
     ]
    },
    {
     "name": "stderr",
     "output_type": "stream",
     "text": [
      "\r",
      " 45%|████▍     | 50/112 [00:49<01:02,  1.00s/it]"
     ]
    },
    {
     "name": "stdout",
     "output_type": "stream",
     "text": [
      "Accuracy of the network on the 10000 test images: 45 %\n"
     ]
    },
    {
     "name": "stderr",
     "output_type": "stream",
     "text": [
      "\r",
      " 46%|████▌     | 51/112 [00:50<01:01,  1.00s/it]"
     ]
    },
    {
     "name": "stdout",
     "output_type": "stream",
     "text": [
      "Accuracy of the network on the 10000 test images: 47 %\n"
     ]
    },
    {
     "name": "stderr",
     "output_type": "stream",
     "text": [
      "\r",
      " 46%|████▋     | 52/112 [00:51<00:59,  1.00it/s]"
     ]
    },
    {
     "name": "stdout",
     "output_type": "stream",
     "text": [
      "Accuracy of the network on the 10000 test images: 49 %\n"
     ]
    },
    {
     "name": "stderr",
     "output_type": "stream",
     "text": [
      "\r",
      " 47%|████▋     | 53/112 [00:52<00:58,  1.00it/s]"
     ]
    },
    {
     "name": "stdout",
     "output_type": "stream",
     "text": [
      "Accuracy of the network on the 10000 test images: 50 %\n"
     ]
    },
    {
     "name": "stderr",
     "output_type": "stream",
     "text": [
      "\r",
      " 48%|████▊     | 54/112 [00:53<00:58,  1.00s/it]"
     ]
    },
    {
     "name": "stdout",
     "output_type": "stream",
     "text": [
      "Accuracy of the network on the 10000 test images: 52 %\n"
     ]
    },
    {
     "name": "stderr",
     "output_type": "stream",
     "text": [
      "\r",
      " 49%|████▉     | 55/112 [00:54<00:57,  1.00s/it]"
     ]
    },
    {
     "name": "stdout",
     "output_type": "stream",
     "text": [
      "Accuracy of the network on the 10000 test images: 54 %\n"
     ]
    },
    {
     "name": "stderr",
     "output_type": "stream",
     "text": [
      "\r",
      " 50%|█████     | 56/112 [00:55<00:56,  1.00s/it]"
     ]
    },
    {
     "name": "stdout",
     "output_type": "stream",
     "text": [
      "Accuracy of the network on the 10000 test images: 56 %\n"
     ]
    },
    {
     "name": "stderr",
     "output_type": "stream",
     "text": [
      "\r",
      " 51%|█████     | 57/112 [00:56<00:55,  1.00s/it]"
     ]
    },
    {
     "name": "stdout",
     "output_type": "stream",
     "text": [
      "Accuracy of the network on the 10000 test images: 57 %\n"
     ]
    },
    {
     "name": "stderr",
     "output_type": "stream",
     "text": [
      "\r",
      " 52%|█████▏    | 58/112 [00:57<00:54,  1.00s/it]"
     ]
    },
    {
     "name": "stdout",
     "output_type": "stream",
     "text": [
      "Accuracy of the network on the 10000 test images: 61 %\n"
     ]
    },
    {
     "name": "stderr",
     "output_type": "stream",
     "text": [
      "\r",
      " 53%|█████▎    | 59/112 [00:58<00:53,  1.01s/it]"
     ]
    },
    {
     "name": "stdout",
     "output_type": "stream",
     "text": [
      "Accuracy of the network on the 10000 test images: 60 %\n"
     ]
    },
    {
     "name": "stderr",
     "output_type": "stream",
     "text": [
      "\r",
      " 54%|█████▎    | 60/112 [00:59<00:52,  1.01s/it]"
     ]
    },
    {
     "name": "stdout",
     "output_type": "stream",
     "text": [
      "Accuracy of the network on the 10000 test images: 63 %\n"
     ]
    },
    {
     "name": "stderr",
     "output_type": "stream",
     "text": [
      "\r",
      " 54%|█████▍    | 61/112 [01:01<00:51,  1.01s/it]"
     ]
    },
    {
     "name": "stdout",
     "output_type": "stream",
     "text": [
      "Accuracy of the network on the 10000 test images: 63 %\n"
     ]
    },
    {
     "name": "stderr",
     "output_type": "stream",
     "text": [
      "\r",
      " 55%|█████▌    | 62/112 [01:02<00:50,  1.01s/it]"
     ]
    },
    {
     "name": "stdout",
     "output_type": "stream",
     "text": [
      "Accuracy of the network on the 10000 test images: 65 %\n"
     ]
    },
    {
     "name": "stderr",
     "output_type": "stream",
     "text": [
      "\r",
      " 56%|█████▋    | 63/112 [01:03<00:49,  1.01s/it]"
     ]
    },
    {
     "name": "stdout",
     "output_type": "stream",
     "text": [
      "Accuracy of the network on the 10000 test images: 67 %\n"
     ]
    },
    {
     "name": "stderr",
     "output_type": "stream",
     "text": [
      "\r",
      " 57%|█████▋    | 64/112 [01:03<00:48,  1.00s/it]"
     ]
    },
    {
     "name": "stdout",
     "output_type": "stream",
     "text": [
      "Accuracy of the network on the 10000 test images: 69 %\n"
     ]
    },
    {
     "name": "stderr",
     "output_type": "stream",
     "text": [
      "\r",
      " 58%|█████▊    | 65/112 [01:04<00:46,  1.00it/s]"
     ]
    },
    {
     "name": "stdout",
     "output_type": "stream",
     "text": [
      "Accuracy of the network on the 10000 test images: 69 %\n"
     ]
    },
    {
     "name": "stderr",
     "output_type": "stream",
     "text": [
      "\r",
      " 59%|█████▉    | 66/112 [01:05<00:45,  1.00it/s]"
     ]
    },
    {
     "name": "stdout",
     "output_type": "stream",
     "text": [
      "Accuracy of the network on the 10000 test images: 72 %\n"
     ]
    },
    {
     "name": "stderr",
     "output_type": "stream",
     "text": [
      "\r",
      " 60%|█████▉    | 67/112 [01:06<00:44,  1.00it/s]"
     ]
    },
    {
     "name": "stdout",
     "output_type": "stream",
     "text": [
      "Accuracy of the network on the 10000 test images: 72 %\n"
     ]
    },
    {
     "name": "stderr",
     "output_type": "stream",
     "text": [
      "\r",
      " 61%|██████    | 68/112 [01:07<00:43,  1.00it/s]"
     ]
    },
    {
     "name": "stdout",
     "output_type": "stream",
     "text": [
      "Accuracy of the network on the 10000 test images: 76 %\n"
     ]
    },
    {
     "name": "stderr",
     "output_type": "stream",
     "text": [
      "\r",
      " 62%|██████▏   | 69/112 [01:08<00:42,  1.01it/s]"
     ]
    },
    {
     "name": "stdout",
     "output_type": "stream",
     "text": [
      "Accuracy of the network on the 10000 test images: 74 %\n"
     ]
    },
    {
     "name": "stderr",
     "output_type": "stream",
     "text": [
      "\r",
      " 62%|██████▎   | 70/112 [01:09<00:42,  1.00s/it]"
     ]
    },
    {
     "name": "stdout",
     "output_type": "stream",
     "text": [
      "Accuracy of the network on the 10000 test images: 78 %\n"
     ]
    },
    {
     "name": "stderr",
     "output_type": "stream",
     "text": [
      "\r",
      " 63%|██████▎   | 71/112 [01:10<00:41,  1.00s/it]"
     ]
    },
    {
     "name": "stdout",
     "output_type": "stream",
     "text": [
      "Accuracy of the network on the 10000 test images: 77 %\n"
     ]
    },
    {
     "name": "stderr",
     "output_type": "stream",
     "text": [
      "\r",
      " 64%|██████▍   | 72/112 [01:11<00:40,  1.00s/it]"
     ]
    },
    {
     "name": "stdout",
     "output_type": "stream",
     "text": [
      "Accuracy of the network on the 10000 test images: 81 %\n"
     ]
    },
    {
     "name": "stderr",
     "output_type": "stream",
     "text": [
      "\r",
      " 65%|██████▌   | 73/112 [01:12<00:39,  1.00s/it]"
     ]
    },
    {
     "name": "stdout",
     "output_type": "stream",
     "text": [
      "Accuracy of the network on the 10000 test images: 81 %\n"
     ]
    },
    {
     "name": "stderr",
     "output_type": "stream",
     "text": [
      "\r",
      " 66%|██████▌   | 74/112 [01:13<00:38,  1.00s/it]"
     ]
    },
    {
     "name": "stdout",
     "output_type": "stream",
     "text": [
      "Accuracy of the network on the 10000 test images: 85 %\n"
     ]
    },
    {
     "name": "stderr",
     "output_type": "stream",
     "text": [
      "\r",
      " 67%|██████▋   | 75/112 [01:14<00:36,  1.00it/s]"
     ]
    },
    {
     "name": "stdout",
     "output_type": "stream",
     "text": [
      "Accuracy of the network on the 10000 test images: 84 %\n"
     ]
    },
    {
     "name": "stderr",
     "output_type": "stream",
     "text": [
      "\r",
      " 68%|██████▊   | 76/112 [01:15<00:36,  1.00s/it]"
     ]
    },
    {
     "name": "stdout",
     "output_type": "stream",
     "text": [
      "Accuracy of the network on the 10000 test images: 87 %\n"
     ]
    },
    {
     "name": "stderr",
     "output_type": "stream",
     "text": [
      "\r",
      " 69%|██████▉   | 77/112 [01:16<00:35,  1.00s/it]"
     ]
    },
    {
     "name": "stdout",
     "output_type": "stream",
     "text": [
      "Accuracy of the network on the 10000 test images: 87 %\n"
     ]
    },
    {
     "name": "stderr",
     "output_type": "stream",
     "text": [
      "\r",
      " 70%|██████▉   | 78/112 [01:17<00:34,  1.00s/it]"
     ]
    },
    {
     "name": "stdout",
     "output_type": "stream",
     "text": [
      "Accuracy of the network on the 10000 test images: 89 %\n"
     ]
    },
    {
     "name": "stderr",
     "output_type": "stream",
     "text": [
      "\r",
      " 71%|███████   | 79/112 [01:18<00:33,  1.00s/it]"
     ]
    },
    {
     "name": "stdout",
     "output_type": "stream",
     "text": [
      "Accuracy of the network on the 10000 test images: 89 %\n"
     ]
    },
    {
     "name": "stderr",
     "output_type": "stream",
     "text": [
      "\r",
      " 71%|███████▏  | 80/112 [01:19<00:31,  1.00it/s]"
     ]
    },
    {
     "name": "stdout",
     "output_type": "stream",
     "text": [
      "Accuracy of the network on the 10000 test images: 92 %\n"
     ]
    },
    {
     "name": "stderr",
     "output_type": "stream",
     "text": [
      "\r",
      " 72%|███████▏  | 81/112 [01:20<00:30,  1.00it/s]"
     ]
    },
    {
     "name": "stdout",
     "output_type": "stream",
     "text": [
      "Accuracy of the network on the 10000 test images: 92 %\n"
     ]
    },
    {
     "name": "stderr",
     "output_type": "stream",
     "text": [
      "\r",
      " 73%|███████▎  | 82/112 [01:21<00:30,  1.00s/it]"
     ]
    },
    {
     "name": "stdout",
     "output_type": "stream",
     "text": [
      "Accuracy of the network on the 10000 test images: 94 %\n"
     ]
    },
    {
     "name": "stderr",
     "output_type": "stream",
     "text": [
      "\r",
      " 74%|███████▍  | 83/112 [01:22<00:28,  1.00it/s]"
     ]
    },
    {
     "name": "stdout",
     "output_type": "stream",
     "text": [
      "Accuracy of the network on the 10000 test images: 95 %\n"
     ]
    },
    {
     "name": "stderr",
     "output_type": "stream",
     "text": [
      "\r",
      " 75%|███████▌  | 84/112 [01:23<00:27,  1.00it/s]"
     ]
    },
    {
     "name": "stdout",
     "output_type": "stream",
     "text": [
      "Accuracy of the network on the 10000 test images: 95 %\n"
     ]
    },
    {
     "name": "stderr",
     "output_type": "stream",
     "text": [
      "\r",
      " 76%|███████▌  | 85/112 [01:24<00:27,  1.00s/it]"
     ]
    },
    {
     "name": "stdout",
     "output_type": "stream",
     "text": [
      "Accuracy of the network on the 10000 test images: 95 %\n"
     ]
    },
    {
     "name": "stderr",
     "output_type": "stream",
     "text": [
      "\r",
      " 77%|███████▋  | 86/112 [01:26<00:26,  1.00s/it]"
     ]
    },
    {
     "name": "stdout",
     "output_type": "stream",
     "text": [
      "Accuracy of the network on the 10000 test images: 96 %\n"
     ]
    },
    {
     "name": "stderr",
     "output_type": "stream",
     "text": [
      "\r",
      " 78%|███████▊  | 87/112 [01:27<00:25,  1.01s/it]"
     ]
    },
    {
     "name": "stdout",
     "output_type": "stream",
     "text": [
      "Accuracy of the network on the 10000 test images: 96 %\n"
     ]
    },
    {
     "name": "stderr",
     "output_type": "stream",
     "text": [
      "\r",
      " 79%|███████▊  | 88/112 [01:28<00:24,  1.00s/it]"
     ]
    },
    {
     "name": "stdout",
     "output_type": "stream",
     "text": [
      "Accuracy of the network on the 10000 test images: 96 %\n"
     ]
    },
    {
     "name": "stderr",
     "output_type": "stream",
     "text": [
      "\r",
      " 79%|███████▉  | 89/112 [01:29<00:22,  1.00it/s]"
     ]
    },
    {
     "name": "stdout",
     "output_type": "stream",
     "text": [
      "Accuracy of the network on the 10000 test images: 97 %\n"
     ]
    },
    {
     "name": "stderr",
     "output_type": "stream",
     "text": [
      "\r",
      " 80%|████████  | 90/112 [01:30<00:21,  1.00it/s]"
     ]
    },
    {
     "name": "stdout",
     "output_type": "stream",
     "text": [
      "Accuracy of the network on the 10000 test images: 97 %\n"
     ]
    },
    {
     "name": "stderr",
     "output_type": "stream",
     "text": [
      "\r",
      " 81%|████████▏ | 91/112 [01:30<00:20,  1.00it/s]"
     ]
    },
    {
     "name": "stdout",
     "output_type": "stream",
     "text": [
      "Accuracy of the network on the 10000 test images: 98 %\n"
     ]
    },
    {
     "name": "stderr",
     "output_type": "stream",
     "text": [
      "\r",
      " 82%|████████▏ | 92/112 [01:31<00:19,  1.00it/s]"
     ]
    },
    {
     "name": "stdout",
     "output_type": "stream",
     "text": [
      "Accuracy of the network on the 10000 test images: 98 %\n"
     ]
    },
    {
     "name": "stderr",
     "output_type": "stream",
     "text": [
      "\r",
      " 83%|████████▎ | 93/112 [01:32<00:18,  1.00it/s]"
     ]
    },
    {
     "name": "stdout",
     "output_type": "stream",
     "text": [
      "Accuracy of the network on the 10000 test images: 98 %\n"
     ]
    },
    {
     "name": "stderr",
     "output_type": "stream",
     "text": [
      "\r",
      " 84%|████████▍ | 94/112 [01:33<00:17,  1.00it/s]"
     ]
    },
    {
     "name": "stdout",
     "output_type": "stream",
     "text": [
      "Accuracy of the network on the 10000 test images: 98 %\n"
     ]
    },
    {
     "name": "stderr",
     "output_type": "stream",
     "text": [
      "\r",
      " 85%|████████▍ | 95/112 [01:34<00:16,  1.01it/s]"
     ]
    },
    {
     "name": "stdout",
     "output_type": "stream",
     "text": [
      "Accuracy of the network on the 10000 test images: 98 %\n"
     ]
    },
    {
     "name": "stderr",
     "output_type": "stream",
     "text": [
      "\r",
      " 86%|████████▌ | 96/112 [01:35<00:15,  1.00it/s]"
     ]
    },
    {
     "name": "stdout",
     "output_type": "stream",
     "text": [
      "Accuracy of the network on the 10000 test images: 98 %\n"
     ]
    },
    {
     "name": "stderr",
     "output_type": "stream",
     "text": [
      "\r",
      " 87%|████████▋ | 97/112 [01:36<00:14,  1.00it/s]"
     ]
    },
    {
     "name": "stdout",
     "output_type": "stream",
     "text": [
      "Accuracy of the network on the 10000 test images: 98 %\n"
     ]
    },
    {
     "name": "stderr",
     "output_type": "stream",
     "text": [
      "\r",
      " 88%|████████▊ | 98/112 [01:37<00:14,  1.00s/it]"
     ]
    },
    {
     "name": "stdout",
     "output_type": "stream",
     "text": [
      "Accuracy of the network on the 10000 test images: 98 %\n"
     ]
    },
    {
     "name": "stderr",
     "output_type": "stream",
     "text": [
      "\r",
      " 88%|████████▊ | 99/112 [01:38<00:12,  1.00it/s]"
     ]
    },
    {
     "name": "stdout",
     "output_type": "stream",
     "text": [
      "Accuracy of the network on the 10000 test images: 98 %\n"
     ]
    },
    {
     "name": "stderr",
     "output_type": "stream",
     "text": [
      "\r",
      " 89%|████████▉ | 100/112 [01:39<00:11,  1.00it/s]"
     ]
    },
    {
     "name": "stdout",
     "output_type": "stream",
     "text": [
      "Accuracy of the network on the 10000 test images: 98 %\n"
     ]
    },
    {
     "name": "stderr",
     "output_type": "stream",
     "text": [
      "\r",
      " 90%|█████████ | 101/112 [01:40<00:10,  1.00it/s]"
     ]
    },
    {
     "name": "stdout",
     "output_type": "stream",
     "text": [
      "Accuracy of the network on the 10000 test images: 98 %\n"
     ]
    },
    {
     "name": "stderr",
     "output_type": "stream",
     "text": [
      "\r",
      " 91%|█████████ | 102/112 [01:41<00:09,  1.00it/s]"
     ]
    },
    {
     "name": "stdout",
     "output_type": "stream",
     "text": [
      "Accuracy of the network on the 10000 test images: 98 %\n"
     ]
    },
    {
     "name": "stderr",
     "output_type": "stream",
     "text": [
      "\r",
      " 92%|█████████▏| 103/112 [01:42<00:08,  1.00it/s]"
     ]
    },
    {
     "name": "stdout",
     "output_type": "stream",
     "text": [
      "Accuracy of the network on the 10000 test images: 98 %\n"
     ]
    },
    {
     "name": "stderr",
     "output_type": "stream",
     "text": [
      "\r",
      " 93%|█████████▎| 104/112 [01:43<00:07,  1.00it/s]"
     ]
    },
    {
     "name": "stdout",
     "output_type": "stream",
     "text": [
      "Accuracy of the network on the 10000 test images: 98 %\n"
     ]
    },
    {
     "name": "stderr",
     "output_type": "stream",
     "text": [
      "\r",
      " 94%|█████████▍| 105/112 [01:44<00:06,  1.00it/s]"
     ]
    },
    {
     "name": "stdout",
     "output_type": "stream",
     "text": [
      "Accuracy of the network on the 10000 test images: 98 %\n"
     ]
    },
    {
     "name": "stderr",
     "output_type": "stream",
     "text": [
      "\r",
      " 95%|█████████▍| 106/112 [01:45<00:06,  1.00s/it]"
     ]
    },
    {
     "name": "stdout",
     "output_type": "stream",
     "text": [
      "Accuracy of the network on the 10000 test images: 98 %\n"
     ]
    },
    {
     "name": "stderr",
     "output_type": "stream",
     "text": [
      "\r",
      " 96%|█████████▌| 107/112 [01:46<00:04,  1.00it/s]"
     ]
    },
    {
     "name": "stdout",
     "output_type": "stream",
     "text": [
      "Accuracy of the network on the 10000 test images: 98 %\n"
     ]
    },
    {
     "name": "stderr",
     "output_type": "stream",
     "text": [
      "\r",
      " 96%|█████████▋| 108/112 [01:47<00:03,  1.00it/s]"
     ]
    },
    {
     "name": "stdout",
     "output_type": "stream",
     "text": [
      "Accuracy of the network on the 10000 test images: 98 %\n"
     ]
    },
    {
     "name": "stderr",
     "output_type": "stream",
     "text": [
      "\r",
      " 97%|█████████▋| 109/112 [01:48<00:02,  1.01it/s]"
     ]
    },
    {
     "name": "stdout",
     "output_type": "stream",
     "text": [
      "Accuracy of the network on the 10000 test images: 98 %\n"
     ]
    },
    {
     "name": "stderr",
     "output_type": "stream",
     "text": [
      "\r",
      " 98%|█████████▊| 110/112 [01:49<00:01,  1.01it/s]"
     ]
    },
    {
     "name": "stdout",
     "output_type": "stream",
     "text": [
      "Accuracy of the network on the 10000 test images: 98 %\n"
     ]
    },
    {
     "name": "stderr",
     "output_type": "stream",
     "text": [
      "\r",
      " 99%|█████████▉| 111/112 [01:50<00:00,  1.00it/s]"
     ]
    },
    {
     "name": "stdout",
     "output_type": "stream",
     "text": [
      "Accuracy of the network on the 10000 test images: 98 %\n"
     ]
    },
    {
     "name": "stderr",
     "output_type": "stream",
     "text": [
      "100%|██████████| 112/112 [01:51<00:00,  1.00it/s]"
     ]
    },
    {
     "name": "stdout",
     "output_type": "stream",
     "text": [
      "Accuracy of the network on the 10000 test images: 98 %\n"
     ]
    },
    {
     "name": "stderr",
     "output_type": "stream",
     "text": [
      "\n",
      "1875it [00:58, 32.13it/s]\n",
      "  0%|          | 0/112 [00:00<?, ?it/s]"
     ]
    },
    {
     "name": "stdout",
     "output_type": "stream",
     "text": [
      "Accuracy of     0 : 100 %\n",
      "Accuracy of     1 : 100 %\n",
      "Accuracy of     2 : 98 %\n",
      "Accuracy of     3 : 99 %\n",
      "Accuracy of     4 : 99 %\n",
      "Accuracy of     5 : 100 %\n",
      "Accuracy of     6 : 99 %\n",
      "Accuracy of     7 : 100 %\n",
      "Accuracy of     8 : 94 %\n",
      "Accuracy of     9 : 98 %\n",
      "epoch: 5/30 | step: 10/1875 | trn loss: 0.0250 | val loss: 0.0484\n",
      "Accuracy of the network on the 10000 test images: 98 %\n"
     ]
    },
    {
     "name": "stderr",
     "output_type": "stream",
     "text": [
      "\r",
      "  1%|          | 1/112 [00:01<01:51,  1.00s/it]"
     ]
    },
    {
     "name": "stdout",
     "output_type": "stream",
     "text": [
      "Accuracy of the network on the 10000 test images: 10 %\n"
     ]
    },
    {
     "name": "stderr",
     "output_type": "stream",
     "text": [
      "\r",
      "  2%|▏         | 2/112 [00:01<01:49,  1.00it/s]"
     ]
    },
    {
     "name": "stdout",
     "output_type": "stream",
     "text": [
      "Accuracy of the network on the 10000 test images: 10 %\n"
     ]
    },
    {
     "name": "stderr",
     "output_type": "stream",
     "text": [
      "\r",
      "  3%|▎         | 3/112 [00:02<01:48,  1.01it/s]"
     ]
    },
    {
     "name": "stdout",
     "output_type": "stream",
     "text": [
      "Accuracy of the network on the 10000 test images: 10 %\n"
     ]
    },
    {
     "name": "stderr",
     "output_type": "stream",
     "text": [
      "\r",
      "  4%|▎         | 4/112 [00:03<01:47,  1.01it/s]"
     ]
    },
    {
     "name": "stdout",
     "output_type": "stream",
     "text": [
      "Accuracy of the network on the 10000 test images: 10 %\n"
     ]
    },
    {
     "name": "stderr",
     "output_type": "stream",
     "text": [
      "\r",
      "  4%|▍         | 5/112 [00:04<01:46,  1.00it/s]"
     ]
    },
    {
     "name": "stdout",
     "output_type": "stream",
     "text": [
      "Accuracy of the network on the 10000 test images: 10 %\n"
     ]
    },
    {
     "name": "stderr",
     "output_type": "stream",
     "text": [
      "\r",
      "  5%|▌         | 6/112 [00:05<01:45,  1.00it/s]"
     ]
    },
    {
     "name": "stdout",
     "output_type": "stream",
     "text": [
      "Accuracy of the network on the 10000 test images: 10 %\n"
     ]
    },
    {
     "name": "stderr",
     "output_type": "stream",
     "text": [
      "\r",
      "  6%|▋         | 7/112 [00:06<01:45,  1.00s/it]"
     ]
    },
    {
     "name": "stdout",
     "output_type": "stream",
     "text": [
      "Accuracy of the network on the 10000 test images: 10 %\n"
     ]
    },
    {
     "name": "stderr",
     "output_type": "stream",
     "text": [
      "\r",
      "  7%|▋         | 8/112 [00:07<01:43,  1.00it/s]"
     ]
    },
    {
     "name": "stdout",
     "output_type": "stream",
     "text": [
      "Accuracy of the network on the 10000 test images: 10 %\n"
     ]
    },
    {
     "name": "stderr",
     "output_type": "stream",
     "text": [
      "\r",
      "  8%|▊         | 9/112 [00:08<01:42,  1.00it/s]"
     ]
    },
    {
     "name": "stdout",
     "output_type": "stream",
     "text": [
      "Accuracy of the network on the 10000 test images: 10 %\n"
     ]
    },
    {
     "name": "stderr",
     "output_type": "stream",
     "text": [
      "\r",
      "  9%|▉         | 10/112 [00:09<01:40,  1.01it/s]"
     ]
    },
    {
     "name": "stdout",
     "output_type": "stream",
     "text": [
      "Accuracy of the network on the 10000 test images: 10 %\n"
     ]
    },
    {
     "name": "stderr",
     "output_type": "stream",
     "text": [
      "\r",
      " 10%|▉         | 11/112 [00:10<01:39,  1.01it/s]"
     ]
    },
    {
     "name": "stdout",
     "output_type": "stream",
     "text": [
      "Accuracy of the network on the 10000 test images: 10 %\n"
     ]
    },
    {
     "name": "stderr",
     "output_type": "stream",
     "text": [
      "\r",
      " 11%|█         | 12/112 [00:11<01:38,  1.01it/s]"
     ]
    },
    {
     "name": "stdout",
     "output_type": "stream",
     "text": [
      "Accuracy of the network on the 10000 test images: 10 %\n"
     ]
    },
    {
     "name": "stderr",
     "output_type": "stream",
     "text": [
      "\r",
      " 12%|█▏        | 13/112 [00:12<01:38,  1.01it/s]"
     ]
    },
    {
     "name": "stdout",
     "output_type": "stream",
     "text": [
      "Accuracy of the network on the 10000 test images: 10 %\n"
     ]
    },
    {
     "name": "stderr",
     "output_type": "stream",
     "text": [
      "\r",
      " 12%|█▎        | 14/112 [00:13<01:37,  1.01it/s]"
     ]
    },
    {
     "name": "stdout",
     "output_type": "stream",
     "text": [
      "Accuracy of the network on the 10000 test images: 10 %\n"
     ]
    },
    {
     "name": "stderr",
     "output_type": "stream",
     "text": [
      "\r",
      " 13%|█▎        | 15/112 [00:14<01:36,  1.00it/s]"
     ]
    },
    {
     "name": "stdout",
     "output_type": "stream",
     "text": [
      "Accuracy of the network on the 10000 test images: 10 %\n"
     ]
    },
    {
     "name": "stderr",
     "output_type": "stream",
     "text": [
      "\r",
      " 14%|█▍        | 16/112 [00:15<01:35,  1.00it/s]"
     ]
    },
    {
     "name": "stdout",
     "output_type": "stream",
     "text": [
      "Accuracy of the network on the 10000 test images: 10 %\n"
     ]
    },
    {
     "name": "stderr",
     "output_type": "stream",
     "text": [
      "\r",
      " 15%|█▌        | 17/112 [00:16<01:35,  1.00s/it]"
     ]
    },
    {
     "name": "stdout",
     "output_type": "stream",
     "text": [
      "Accuracy of the network on the 10000 test images: 10 %\n"
     ]
    },
    {
     "name": "stderr",
     "output_type": "stream",
     "text": [
      "\r",
      " 16%|█▌        | 18/112 [00:17<01:34,  1.00s/it]"
     ]
    },
    {
     "name": "stdout",
     "output_type": "stream",
     "text": [
      "Accuracy of the network on the 10000 test images: 10 %\n"
     ]
    },
    {
     "name": "stderr",
     "output_type": "stream",
     "text": [
      "\r",
      " 17%|█▋        | 19/112 [00:18<01:33,  1.00s/it]"
     ]
    },
    {
     "name": "stdout",
     "output_type": "stream",
     "text": [
      "Accuracy of the network on the 10000 test images: 10 %\n"
     ]
    },
    {
     "name": "stderr",
     "output_type": "stream",
     "text": [
      "\r",
      " 18%|█▊        | 20/112 [00:19<01:32,  1.00s/it]"
     ]
    },
    {
     "name": "stdout",
     "output_type": "stream",
     "text": [
      "Accuracy of the network on the 10000 test images: 10 %\n"
     ]
    },
    {
     "name": "stderr",
     "output_type": "stream",
     "text": [
      "\r",
      " 19%|█▉        | 21/112 [00:20<01:30,  1.00it/s]"
     ]
    },
    {
     "name": "stdout",
     "output_type": "stream",
     "text": [
      "Accuracy of the network on the 10000 test images: 10 %\n"
     ]
    },
    {
     "name": "stderr",
     "output_type": "stream",
     "text": [
      "\r",
      " 20%|█▉        | 22/112 [00:21<01:29,  1.00it/s]"
     ]
    },
    {
     "name": "stdout",
     "output_type": "stream",
     "text": [
      "Accuracy of the network on the 10000 test images: 10 %\n"
     ]
    },
    {
     "name": "stderr",
     "output_type": "stream",
     "text": [
      "\r",
      " 21%|██        | 23/112 [00:22<01:28,  1.01it/s]"
     ]
    },
    {
     "name": "stdout",
     "output_type": "stream",
     "text": [
      "Accuracy of the network on the 10000 test images: 10 %\n"
     ]
    },
    {
     "name": "stderr",
     "output_type": "stream",
     "text": [
      "\r",
      " 21%|██▏       | 24/112 [00:23<01:27,  1.01it/s]"
     ]
    },
    {
     "name": "stdout",
     "output_type": "stream",
     "text": [
      "Accuracy of the network on the 10000 test images: 10 %\n"
     ]
    },
    {
     "name": "stderr",
     "output_type": "stream",
     "text": [
      "\r",
      " 22%|██▏       | 25/112 [00:24<01:26,  1.01it/s]"
     ]
    },
    {
     "name": "stdout",
     "output_type": "stream",
     "text": [
      "Accuracy of the network on the 10000 test images: 10 %\n"
     ]
    },
    {
     "name": "stderr",
     "output_type": "stream",
     "text": [
      "\r",
      " 23%|██▎       | 26/112 [00:25<01:25,  1.00it/s]"
     ]
    },
    {
     "name": "stdout",
     "output_type": "stream",
     "text": [
      "Accuracy of the network on the 10000 test images: 10 %\n"
     ]
    },
    {
     "name": "stderr",
     "output_type": "stream",
     "text": [
      "\r",
      " 24%|██▍       | 27/112 [00:26<01:24,  1.00it/s]"
     ]
    },
    {
     "name": "stdout",
     "output_type": "stream",
     "text": [
      "Accuracy of the network on the 10000 test images: 10 %\n"
     ]
    },
    {
     "name": "stderr",
     "output_type": "stream",
     "text": [
      "\r",
      " 25%|██▌       | 28/112 [00:27<01:24,  1.00s/it]"
     ]
    },
    {
     "name": "stdout",
     "output_type": "stream",
     "text": [
      "Accuracy of the network on the 10000 test images: 10 %\n"
     ]
    },
    {
     "name": "stderr",
     "output_type": "stream",
     "text": [
      "\r",
      " 26%|██▌       | 29/112 [00:28<01:22,  1.00it/s]"
     ]
    },
    {
     "name": "stdout",
     "output_type": "stream",
     "text": [
      "Accuracy of the network on the 10000 test images: 10 %\n"
     ]
    },
    {
     "name": "stderr",
     "output_type": "stream",
     "text": [
      "\r",
      " 27%|██▋       | 30/112 [00:29<01:22,  1.00s/it]"
     ]
    },
    {
     "name": "stdout",
     "output_type": "stream",
     "text": [
      "Accuracy of the network on the 10000 test images: 10 %\n"
     ]
    },
    {
     "name": "stderr",
     "output_type": "stream",
     "text": [
      "\r",
      " 28%|██▊       | 31/112 [00:30<01:21,  1.00s/it]"
     ]
    },
    {
     "name": "stdout",
     "output_type": "stream",
     "text": [
      "Accuracy of the network on the 10000 test images: 10 %\n"
     ]
    },
    {
     "name": "stderr",
     "output_type": "stream",
     "text": [
      "\r",
      " 29%|██▊       | 32/112 [00:31<01:19,  1.00it/s]"
     ]
    },
    {
     "name": "stdout",
     "output_type": "stream",
     "text": [
      "Accuracy of the network on the 10000 test images: 10 %\n"
     ]
    },
    {
     "name": "stderr",
     "output_type": "stream",
     "text": [
      "\r",
      " 29%|██▉       | 33/112 [00:32<01:18,  1.00it/s]"
     ]
    },
    {
     "name": "stdout",
     "output_type": "stream",
     "text": [
      "Accuracy of the network on the 10000 test images: 11 %\n"
     ]
    },
    {
     "name": "stderr",
     "output_type": "stream",
     "text": [
      "\r",
      " 30%|███       | 34/112 [00:33<01:17,  1.00it/s]"
     ]
    },
    {
     "name": "stdout",
     "output_type": "stream",
     "text": [
      "Accuracy of the network on the 10000 test images: 11 %\n"
     ]
    },
    {
     "name": "stderr",
     "output_type": "stream",
     "text": [
      "\r",
      " 31%|███▏      | 35/112 [00:34<01:16,  1.00it/s]"
     ]
    },
    {
     "name": "stdout",
     "output_type": "stream",
     "text": [
      "Accuracy of the network on the 10000 test images: 12 %\n"
     ]
    },
    {
     "name": "stderr",
     "output_type": "stream",
     "text": [
      "\r",
      " 32%|███▏      | 36/112 [00:35<01:15,  1.00it/s]"
     ]
    },
    {
     "name": "stdout",
     "output_type": "stream",
     "text": [
      "Accuracy of the network on the 10000 test images: 12 %\n"
     ]
    },
    {
     "name": "stderr",
     "output_type": "stream",
     "text": [
      "\r",
      " 33%|███▎      | 37/112 [00:36<01:14,  1.00it/s]"
     ]
    },
    {
     "name": "stdout",
     "output_type": "stream",
     "text": [
      "Accuracy of the network on the 10000 test images: 14 %\n"
     ]
    },
    {
     "name": "stderr",
     "output_type": "stream",
     "text": [
      "\r",
      " 34%|███▍      | 38/112 [00:37<01:13,  1.00it/s]"
     ]
    },
    {
     "name": "stdout",
     "output_type": "stream",
     "text": [
      "Accuracy of the network on the 10000 test images: 14 %\n"
     ]
    },
    {
     "name": "stderr",
     "output_type": "stream",
     "text": [
      "\r",
      " 35%|███▍      | 39/112 [00:38<01:13,  1.00s/it]"
     ]
    },
    {
     "name": "stdout",
     "output_type": "stream",
     "text": [
      "Accuracy of the network on the 10000 test images: 16 %\n"
     ]
    },
    {
     "name": "stderr",
     "output_type": "stream",
     "text": [
      "\r",
      " 36%|███▌      | 40/112 [00:39<01:12,  1.00s/it]"
     ]
    },
    {
     "name": "stdout",
     "output_type": "stream",
     "text": [
      "Accuracy of the network on the 10000 test images: 18 %\n"
     ]
    },
    {
     "name": "stderr",
     "output_type": "stream",
     "text": [
      "\r",
      " 37%|███▋      | 41/112 [00:40<01:10,  1.00it/s]"
     ]
    },
    {
     "name": "stdout",
     "output_type": "stream",
     "text": [
      "Accuracy of the network on the 10000 test images: 19 %\n"
     ]
    },
    {
     "name": "stderr",
     "output_type": "stream",
     "text": [
      "\r",
      " 38%|███▊      | 42/112 [00:41<01:09,  1.00it/s]"
     ]
    },
    {
     "name": "stdout",
     "output_type": "stream",
     "text": [
      "Accuracy of the network on the 10000 test images: 23 %\n"
     ]
    },
    {
     "name": "stderr",
     "output_type": "stream",
     "text": [
      "\r",
      " 38%|███▊      | 43/112 [00:42<01:08,  1.00it/s]"
     ]
    },
    {
     "name": "stdout",
     "output_type": "stream",
     "text": [
      "Accuracy of the network on the 10000 test images: 23 %\n"
     ]
    },
    {
     "name": "stderr",
     "output_type": "stream",
     "text": [
      "\r",
      " 39%|███▉      | 44/112 [00:43<01:07,  1.01it/s]"
     ]
    },
    {
     "name": "stdout",
     "output_type": "stream",
     "text": [
      "Accuracy of the network on the 10000 test images: 27 %\n"
     ]
    },
    {
     "name": "stderr",
     "output_type": "stream",
     "text": [
      "\r",
      " 40%|████      | 45/112 [00:44<01:06,  1.00it/s]"
     ]
    },
    {
     "name": "stdout",
     "output_type": "stream",
     "text": [
      "Accuracy of the network on the 10000 test images: 26 %\n"
     ]
    },
    {
     "name": "stderr",
     "output_type": "stream",
     "text": [
      "\r",
      " 41%|████      | 46/112 [00:45<01:05,  1.00it/s]"
     ]
    },
    {
     "name": "stdout",
     "output_type": "stream",
     "text": [
      "Accuracy of the network on the 10000 test images: 31 %\n"
     ]
    },
    {
     "name": "stderr",
     "output_type": "stream",
     "text": [
      "\r",
      " 42%|████▏     | 47/112 [00:46<01:05,  1.00s/it]"
     ]
    },
    {
     "name": "stdout",
     "output_type": "stream",
     "text": [
      "Accuracy of the network on the 10000 test images: 31 %\n"
     ]
    },
    {
     "name": "stderr",
     "output_type": "stream",
     "text": [
      "\r",
      " 43%|████▎     | 48/112 [00:47<01:04,  1.00s/it]"
     ]
    },
    {
     "name": "stdout",
     "output_type": "stream",
     "text": [
      "Accuracy of the network on the 10000 test images: 37 %\n"
     ]
    },
    {
     "name": "stderr",
     "output_type": "stream",
     "text": [
      "\r",
      " 44%|████▍     | 49/112 [00:48<01:03,  1.00s/it]"
     ]
    },
    {
     "name": "stdout",
     "output_type": "stream",
     "text": [
      "Accuracy of the network on the 10000 test images: 36 %\n"
     ]
    },
    {
     "name": "stderr",
     "output_type": "stream",
     "text": [
      "\r",
      " 45%|████▍     | 50/112 [00:49<01:01,  1.00it/s]"
     ]
    },
    {
     "name": "stdout",
     "output_type": "stream",
     "text": [
      "Accuracy of the network on the 10000 test images: 41 %\n"
     ]
    },
    {
     "name": "stderr",
     "output_type": "stream",
     "text": [
      "\r",
      " 46%|████▌     | 51/112 [00:50<01:01,  1.00s/it]"
     ]
    },
    {
     "name": "stdout",
     "output_type": "stream",
     "text": [
      "Accuracy of the network on the 10000 test images: 39 %\n"
     ]
    },
    {
     "name": "stderr",
     "output_type": "stream",
     "text": [
      "\r",
      " 46%|████▋     | 52/112 [00:51<01:00,  1.00s/it]"
     ]
    },
    {
     "name": "stdout",
     "output_type": "stream",
     "text": [
      "Accuracy of the network on the 10000 test images: 45 %\n"
     ]
    },
    {
     "name": "stderr",
     "output_type": "stream",
     "text": [
      "\r",
      " 47%|████▋     | 53/112 [00:52<00:59,  1.00s/it]"
     ]
    },
    {
     "name": "stdout",
     "output_type": "stream",
     "text": [
      "Accuracy of the network on the 10000 test images: 42 %\n"
     ]
    },
    {
     "name": "stderr",
     "output_type": "stream",
     "text": [
      "\r",
      " 48%|████▊     | 54/112 [00:53<00:58,  1.00s/it]"
     ]
    },
    {
     "name": "stdout",
     "output_type": "stream",
     "text": [
      "Accuracy of the network on the 10000 test images: 48 %\n"
     ]
    },
    {
     "name": "stderr",
     "output_type": "stream",
     "text": [
      "\r",
      " 49%|████▉     | 55/112 [00:54<00:57,  1.01s/it]"
     ]
    },
    {
     "name": "stdout",
     "output_type": "stream",
     "text": [
      "Accuracy of the network on the 10000 test images: 46 %\n"
     ]
    },
    {
     "name": "stderr",
     "output_type": "stream",
     "text": [
      "\r",
      " 50%|█████     | 56/112 [00:55<00:56,  1.00s/it]"
     ]
    },
    {
     "name": "stdout",
     "output_type": "stream",
     "text": [
      "Accuracy of the network on the 10000 test images: 50 %\n"
     ]
    },
    {
     "name": "stderr",
     "output_type": "stream",
     "text": [
      "\r",
      " 51%|█████     | 57/112 [00:56<00:55,  1.01s/it]"
     ]
    },
    {
     "name": "stdout",
     "output_type": "stream",
     "text": [
      "Accuracy of the network on the 10000 test images: 47 %\n"
     ]
    },
    {
     "name": "stderr",
     "output_type": "stream",
     "text": [
      "\r",
      " 52%|█████▏    | 58/112 [00:57<00:54,  1.01s/it]"
     ]
    },
    {
     "name": "stdout",
     "output_type": "stream",
     "text": [
      "Accuracy of the network on the 10000 test images: 54 %\n"
     ]
    },
    {
     "name": "stderr",
     "output_type": "stream",
     "text": [
      "\r",
      " 53%|█████▎    | 59/112 [00:58<00:53,  1.00s/it]"
     ]
    },
    {
     "name": "stdout",
     "output_type": "stream",
     "text": [
      "Accuracy of the network on the 10000 test images: 51 %\n"
     ]
    },
    {
     "name": "stderr",
     "output_type": "stream",
     "text": [
      "\r",
      " 54%|█████▎    | 60/112 [00:59<00:52,  1.01s/it]"
     ]
    },
    {
     "name": "stdout",
     "output_type": "stream",
     "text": [
      "Accuracy of the network on the 10000 test images: 58 %\n"
     ]
    },
    {
     "name": "stderr",
     "output_type": "stream",
     "text": [
      "\r",
      " 54%|█████▍    | 61/112 [01:00<00:51,  1.00s/it]"
     ]
    },
    {
     "name": "stdout",
     "output_type": "stream",
     "text": [
      "Accuracy of the network on the 10000 test images: 54 %\n"
     ]
    },
    {
     "name": "stderr",
     "output_type": "stream",
     "text": [
      "\r",
      " 55%|█████▌    | 62/112 [01:01<00:50,  1.01s/it]"
     ]
    },
    {
     "name": "stdout",
     "output_type": "stream",
     "text": [
      "Accuracy of the network on the 10000 test images: 60 %\n"
     ]
    },
    {
     "name": "stderr",
     "output_type": "stream",
     "text": [
      "\r",
      " 56%|█████▋    | 63/112 [01:02<00:49,  1.01s/it]"
     ]
    },
    {
     "name": "stdout",
     "output_type": "stream",
     "text": [
      "Accuracy of the network on the 10000 test images: 57 %\n"
     ]
    },
    {
     "name": "stderr",
     "output_type": "stream",
     "text": [
      "\r",
      " 57%|█████▋    | 64/112 [01:03<00:48,  1.01s/it]"
     ]
    },
    {
     "name": "stdout",
     "output_type": "stream",
     "text": [
      "Accuracy of the network on the 10000 test images: 63 %\n"
     ]
    },
    {
     "name": "stderr",
     "output_type": "stream",
     "text": [
      "\r",
      " 58%|█████▊    | 65/112 [01:04<00:47,  1.00s/it]"
     ]
    },
    {
     "name": "stdout",
     "output_type": "stream",
     "text": [
      "Accuracy of the network on the 10000 test images: 59 %\n"
     ]
    },
    {
     "name": "stderr",
     "output_type": "stream",
     "text": [
      "\r",
      " 59%|█████▉    | 66/112 [01:05<00:46,  1.01s/it]"
     ]
    },
    {
     "name": "stdout",
     "output_type": "stream",
     "text": [
      "Accuracy of the network on the 10000 test images: 67 %\n"
     ]
    },
    {
     "name": "stderr",
     "output_type": "stream",
     "text": [
      "\r",
      " 60%|█████▉    | 67/112 [01:06<00:45,  1.00s/it]"
     ]
    },
    {
     "name": "stdout",
     "output_type": "stream",
     "text": [
      "Accuracy of the network on the 10000 test images: 63 %\n"
     ]
    },
    {
     "name": "stderr",
     "output_type": "stream",
     "text": [
      "\r",
      " 61%|██████    | 68/112 [01:07<00:44,  1.00s/it]"
     ]
    },
    {
     "name": "stdout",
     "output_type": "stream",
     "text": [
      "Accuracy of the network on the 10000 test images: 70 %\n"
     ]
    },
    {
     "name": "stderr",
     "output_type": "stream",
     "text": [
      "\r",
      " 62%|██████▏   | 69/112 [01:08<00:42,  1.00it/s]"
     ]
    },
    {
     "name": "stdout",
     "output_type": "stream",
     "text": [
      "Accuracy of the network on the 10000 test images: 67 %\n"
     ]
    },
    {
     "name": "stderr",
     "output_type": "stream",
     "text": [
      "\r",
      " 62%|██████▎   | 70/112 [01:09<00:42,  1.00s/it]"
     ]
    },
    {
     "name": "stdout",
     "output_type": "stream",
     "text": [
      "Accuracy of the network on the 10000 test images: 73 %\n"
     ]
    },
    {
     "name": "stderr",
     "output_type": "stream",
     "text": [
      "\r",
      " 63%|██████▎   | 71/112 [01:10<00:41,  1.01s/it]"
     ]
    },
    {
     "name": "stdout",
     "output_type": "stream",
     "text": [
      "Accuracy of the network on the 10000 test images: 70 %\n"
     ]
    },
    {
     "name": "stderr",
     "output_type": "stream",
     "text": [
      "\r",
      " 64%|██████▍   | 72/112 [01:11<00:40,  1.00s/it]"
     ]
    },
    {
     "name": "stdout",
     "output_type": "stream",
     "text": [
      "Accuracy of the network on the 10000 test images: 76 %\n"
     ]
    },
    {
     "name": "stderr",
     "output_type": "stream",
     "text": [
      "\r",
      " 65%|██████▌   | 73/112 [01:12<00:38,  1.00it/s]"
     ]
    },
    {
     "name": "stdout",
     "output_type": "stream",
     "text": [
      "Accuracy of the network on the 10000 test images: 74 %\n"
     ]
    },
    {
     "name": "stderr",
     "output_type": "stream",
     "text": [
      "\r",
      " 66%|██████▌   | 74/112 [01:13<00:37,  1.00it/s]"
     ]
    },
    {
     "name": "stdout",
     "output_type": "stream",
     "text": [
      "Accuracy of the network on the 10000 test images: 79 %\n"
     ]
    },
    {
     "name": "stderr",
     "output_type": "stream",
     "text": [
      "\r",
      " 67%|██████▋   | 75/112 [01:14<00:37,  1.00s/it]"
     ]
    },
    {
     "name": "stdout",
     "output_type": "stream",
     "text": [
      "Accuracy of the network on the 10000 test images: 77 %\n"
     ]
    },
    {
     "name": "stderr",
     "output_type": "stream",
     "text": [
      "\r",
      " 68%|██████▊   | 76/112 [01:15<00:36,  1.00s/it]"
     ]
    },
    {
     "name": "stdout",
     "output_type": "stream",
     "text": [
      "Accuracy of the network on the 10000 test images: 82 %\n"
     ]
    },
    {
     "name": "stderr",
     "output_type": "stream",
     "text": [
      "\r",
      " 69%|██████▉   | 77/112 [01:16<00:35,  1.00s/it]"
     ]
    },
    {
     "name": "stdout",
     "output_type": "stream",
     "text": [
      "Accuracy of the network on the 10000 test images: 81 %\n"
     ]
    },
    {
     "name": "stderr",
     "output_type": "stream",
     "text": [
      "\r",
      " 70%|██████▉   | 78/112 [01:17<00:33,  1.00it/s]"
     ]
    },
    {
     "name": "stdout",
     "output_type": "stream",
     "text": [
      "Accuracy of the network on the 10000 test images: 85 %\n"
     ]
    },
    {
     "name": "stderr",
     "output_type": "stream",
     "text": [
      "\r",
      " 71%|███████   | 79/112 [01:18<00:32,  1.00it/s]"
     ]
    },
    {
     "name": "stdout",
     "output_type": "stream",
     "text": [
      "Accuracy of the network on the 10000 test images: 83 %\n"
     ]
    },
    {
     "name": "stderr",
     "output_type": "stream",
     "text": [
      "\r",
      " 71%|███████▏  | 80/112 [01:19<00:31,  1.00it/s]"
     ]
    },
    {
     "name": "stdout",
     "output_type": "stream",
     "text": [
      "Accuracy of the network on the 10000 test images: 88 %\n"
     ]
    },
    {
     "name": "stderr",
     "output_type": "stream",
     "text": [
      "\r",
      " 72%|███████▏  | 81/112 [01:20<00:30,  1.00it/s]"
     ]
    },
    {
     "name": "stdout",
     "output_type": "stream",
     "text": [
      "Accuracy of the network on the 10000 test images: 87 %\n"
     ]
    },
    {
     "name": "stderr",
     "output_type": "stream",
     "text": [
      "\r",
      " 73%|███████▎  | 82/112 [01:21<00:29,  1.00it/s]"
     ]
    },
    {
     "name": "stdout",
     "output_type": "stream",
     "text": [
      "Accuracy of the network on the 10000 test images: 92 %\n"
     ]
    },
    {
     "name": "stderr",
     "output_type": "stream",
     "text": [
      "\r",
      " 74%|███████▍  | 83/112 [01:22<00:28,  1.00it/s]"
     ]
    },
    {
     "name": "stdout",
     "output_type": "stream",
     "text": [
      "Accuracy of the network on the 10000 test images: 90 %\n"
     ]
    },
    {
     "name": "stderr",
     "output_type": "stream",
     "text": [
      "\r",
      " 75%|███████▌  | 84/112 [01:23<00:27,  1.00it/s]"
     ]
    },
    {
     "name": "stdout",
     "output_type": "stream",
     "text": [
      "Accuracy of the network on the 10000 test images: 92 %\n"
     ]
    },
    {
     "name": "stderr",
     "output_type": "stream",
     "text": [
      "\r",
      " 76%|███████▌  | 85/112 [01:24<00:26,  1.00it/s]"
     ]
    },
    {
     "name": "stdout",
     "output_type": "stream",
     "text": [
      "Accuracy of the network on the 10000 test images: 92 %\n"
     ]
    },
    {
     "name": "stderr",
     "output_type": "stream",
     "text": [
      "\r",
      " 77%|███████▋  | 86/112 [01:25<00:25,  1.00it/s]"
     ]
    },
    {
     "name": "stdout",
     "output_type": "stream",
     "text": [
      "Accuracy of the network on the 10000 test images: 93 %\n"
     ]
    },
    {
     "name": "stderr",
     "output_type": "stream",
     "text": [
      "\r",
      " 78%|███████▊  | 87/112 [01:26<00:24,  1.00it/s]"
     ]
    },
    {
     "name": "stdout",
     "output_type": "stream",
     "text": [
      "Accuracy of the network on the 10000 test images: 93 %\n"
     ]
    },
    {
     "name": "stderr",
     "output_type": "stream",
     "text": [
      "\r",
      " 79%|███████▊  | 88/112 [01:27<00:23,  1.00it/s]"
     ]
    },
    {
     "name": "stdout",
     "output_type": "stream",
     "text": [
      "Accuracy of the network on the 10000 test images: 95 %\n"
     ]
    },
    {
     "name": "stderr",
     "output_type": "stream",
     "text": [
      "\r",
      " 79%|███████▉  | 89/112 [01:28<00:23,  1.00s/it]"
     ]
    },
    {
     "name": "stdout",
     "output_type": "stream",
     "text": [
      "Accuracy of the network on the 10000 test images: 94 %\n"
     ]
    },
    {
     "name": "stderr",
     "output_type": "stream",
     "text": [
      "\r",
      " 80%|████████  | 90/112 [01:29<00:21,  1.00it/s]"
     ]
    },
    {
     "name": "stdout",
     "output_type": "stream",
     "text": [
      "Accuracy of the network on the 10000 test images: 95 %\n"
     ]
    },
    {
     "name": "stderr",
     "output_type": "stream",
     "text": [
      "\r",
      " 81%|████████▏ | 91/112 [01:30<00:20,  1.00it/s]"
     ]
    },
    {
     "name": "stdout",
     "output_type": "stream",
     "text": [
      "Accuracy of the network on the 10000 test images: 96 %\n"
     ]
    },
    {
     "name": "stderr",
     "output_type": "stream",
     "text": [
      "\r",
      " 82%|████████▏ | 92/112 [01:31<00:19,  1.00it/s]"
     ]
    },
    {
     "name": "stdout",
     "output_type": "stream",
     "text": [
      "Accuracy of the network on the 10000 test images: 96 %\n"
     ]
    },
    {
     "name": "stderr",
     "output_type": "stream",
     "text": [
      "\r",
      " 83%|████████▎ | 93/112 [01:32<00:18,  1.00it/s]"
     ]
    },
    {
     "name": "stdout",
     "output_type": "stream",
     "text": [
      "Accuracy of the network on the 10000 test images: 96 %\n"
     ]
    },
    {
     "name": "stderr",
     "output_type": "stream",
     "text": [
      "\r",
      " 84%|████████▍ | 94/112 [01:33<00:17,  1.00it/s]"
     ]
    },
    {
     "name": "stdout",
     "output_type": "stream",
     "text": [
      "Accuracy of the network on the 10000 test images: 97 %\n"
     ]
    },
    {
     "name": "stderr",
     "output_type": "stream",
     "text": [
      "\r",
      " 85%|████████▍ | 95/112 [01:34<00:16,  1.00it/s]"
     ]
    },
    {
     "name": "stdout",
     "output_type": "stream",
     "text": [
      "Accuracy of the network on the 10000 test images: 97 %\n"
     ]
    },
    {
     "name": "stderr",
     "output_type": "stream",
     "text": [
      "\r",
      " 86%|████████▌ | 96/112 [01:35<00:15,  1.00it/s]"
     ]
    },
    {
     "name": "stdout",
     "output_type": "stream",
     "text": [
      "Accuracy of the network on the 10000 test images: 97 %\n"
     ]
    },
    {
     "name": "stderr",
     "output_type": "stream",
     "text": [
      "\r",
      " 87%|████████▋ | 97/112 [01:36<00:14,  1.00it/s]"
     ]
    },
    {
     "name": "stdout",
     "output_type": "stream",
     "text": [
      "Accuracy of the network on the 10000 test images: 97 %\n"
     ]
    },
    {
     "name": "stderr",
     "output_type": "stream",
     "text": [
      "\r",
      " 88%|████████▊ | 98/112 [01:37<00:14,  1.00s/it]"
     ]
    },
    {
     "name": "stdout",
     "output_type": "stream",
     "text": [
      "Accuracy of the network on the 10000 test images: 98 %\n"
     ]
    },
    {
     "name": "stderr",
     "output_type": "stream",
     "text": [
      "\r",
      " 88%|████████▊ | 99/112 [01:38<00:13,  1.01s/it]"
     ]
    },
    {
     "name": "stdout",
     "output_type": "stream",
     "text": [
      "Accuracy of the network on the 10000 test images: 97 %\n"
     ]
    },
    {
     "name": "stderr",
     "output_type": "stream",
     "text": [
      "\r",
      " 89%|████████▉ | 100/112 [01:39<00:12,  1.00s/it]"
     ]
    },
    {
     "name": "stdout",
     "output_type": "stream",
     "text": [
      "Accuracy of the network on the 10000 test images: 98 %\n"
     ]
    },
    {
     "name": "stderr",
     "output_type": "stream",
     "text": [
      "\r",
      " 90%|█████████ | 101/112 [01:40<00:11,  1.00s/it]"
     ]
    },
    {
     "name": "stdout",
     "output_type": "stream",
     "text": [
      "Accuracy of the network on the 10000 test images: 97 %\n"
     ]
    },
    {
     "name": "stderr",
     "output_type": "stream",
     "text": [
      "\r",
      " 91%|█████████ | 102/112 [01:41<00:10,  1.00s/it]"
     ]
    },
    {
     "name": "stdout",
     "output_type": "stream",
     "text": [
      "Accuracy of the network on the 10000 test images: 98 %\n"
     ]
    },
    {
     "name": "stderr",
     "output_type": "stream",
     "text": [
      "\r",
      " 92%|█████████▏| 103/112 [01:42<00:09,  1.01s/it]"
     ]
    },
    {
     "name": "stdout",
     "output_type": "stream",
     "text": [
      "Accuracy of the network on the 10000 test images: 97 %\n"
     ]
    },
    {
     "name": "stderr",
     "output_type": "stream",
     "text": [
      "\r",
      " 93%|█████████▎| 104/112 [01:43<00:08,  1.01s/it]"
     ]
    },
    {
     "name": "stdout",
     "output_type": "stream",
     "text": [
      "Accuracy of the network on the 10000 test images: 98 %\n"
     ]
    },
    {
     "name": "stderr",
     "output_type": "stream",
     "text": [
      "\r",
      " 94%|█████████▍| 105/112 [01:44<00:07,  1.01s/it]"
     ]
    },
    {
     "name": "stdout",
     "output_type": "stream",
     "text": [
      "Accuracy of the network on the 10000 test images: 98 %\n"
     ]
    },
    {
     "name": "stderr",
     "output_type": "stream",
     "text": [
      "\r",
      " 95%|█████████▍| 106/112 [01:45<00:06,  1.00s/it]"
     ]
    },
    {
     "name": "stdout",
     "output_type": "stream",
     "text": [
      "Accuracy of the network on the 10000 test images: 98 %\n"
     ]
    },
    {
     "name": "stderr",
     "output_type": "stream",
     "text": [
      "\r",
      " 96%|█████████▌| 107/112 [01:46<00:05,  1.00s/it]"
     ]
    },
    {
     "name": "stdout",
     "output_type": "stream",
     "text": [
      "Accuracy of the network on the 10000 test images: 98 %\n"
     ]
    },
    {
     "name": "stderr",
     "output_type": "stream",
     "text": [
      "\r",
      " 96%|█████████▋| 108/112 [01:47<00:04,  1.00s/it]"
     ]
    },
    {
     "name": "stdout",
     "output_type": "stream",
     "text": [
      "Accuracy of the network on the 10000 test images: 98 %\n"
     ]
    },
    {
     "name": "stderr",
     "output_type": "stream",
     "text": [
      "\r",
      " 97%|█████████▋| 109/112 [01:48<00:03,  1.01s/it]"
     ]
    },
    {
     "name": "stdout",
     "output_type": "stream",
     "text": [
      "Accuracy of the network on the 10000 test images: 98 %\n"
     ]
    },
    {
     "name": "stderr",
     "output_type": "stream",
     "text": [
      "\r",
      " 98%|█████████▊| 110/112 [01:50<00:02,  1.01s/it]"
     ]
    },
    {
     "name": "stdout",
     "output_type": "stream",
     "text": [
      "Accuracy of the network on the 10000 test images: 98 %\n"
     ]
    },
    {
     "name": "stderr",
     "output_type": "stream",
     "text": [
      "\r",
      " 99%|█████████▉| 111/112 [01:51<00:01,  1.01s/it]"
     ]
    },
    {
     "name": "stdout",
     "output_type": "stream",
     "text": [
      "Accuracy of the network on the 10000 test images: 98 %\n"
     ]
    },
    {
     "name": "stderr",
     "output_type": "stream",
     "text": [
      "100%|██████████| 112/112 [01:51<00:00,  1.00it/s]"
     ]
    },
    {
     "name": "stdout",
     "output_type": "stream",
     "text": [
      "Accuracy of the network on the 10000 test images: 98 %\n"
     ]
    },
    {
     "name": "stderr",
     "output_type": "stream",
     "text": [
      "\n",
      "715it [00:22, 32.32it/s]"
     ]
    },
    {
     "ename": "KeyboardInterrupt",
     "evalue": "",
     "output_type": "error",
     "traceback": [
      "\u001b[0;31m---------------------------------------------------------------------------\u001b[0m",
      "\u001b[0;31mKeyboardInterrupt\u001b[0m                         Traceback (most recent call last)",
      "\u001b[0;32m<ipython-input-29-8cb44cdfa591>\u001b[0m in \u001b[0;36m<module>\u001b[0;34m\u001b[0m\n\u001b[1;32m     11\u001b[0m     \u001b[0mmodel\u001b[0m\u001b[0;34m.\u001b[0m\u001b[0mtrain\u001b[0m\u001b[0;34m(\u001b[0m\u001b[0;34m)\u001b[0m\u001b[0;34m\u001b[0m\u001b[0;34m\u001b[0m\u001b[0m\n\u001b[1;32m     12\u001b[0m     \u001b[0;31m#device = 'cuda:0'\u001b[0m\u001b[0;34m\u001b[0m\u001b[0;34m\u001b[0m\u001b[0;34m\u001b[0m\u001b[0m\n\u001b[0;32m---> 13\u001b[0;31m     \u001b[0;32mfor\u001b[0m \u001b[0mi\u001b[0m\u001b[0;34m,\u001b[0m\u001b[0mimages\u001b[0m \u001b[0;32min\u001b[0m \u001b[0mtqdm\u001b[0m\u001b[0;34m(\u001b[0m\u001b[0menumerate\u001b[0m\u001b[0;34m(\u001b[0m\u001b[0mtrainloader\u001b[0m\u001b[0;34m)\u001b[0m\u001b[0;34m)\u001b[0m\u001b[0;34m:\u001b[0m\u001b[0;34m\u001b[0m\u001b[0;34m\u001b[0m\u001b[0m\n\u001b[0m\u001b[1;32m     14\u001b[0m         \u001b[0;31m#data, target = Variable(data), Variable(target)\u001b[0m\u001b[0;34m\u001b[0m\u001b[0;34m\u001b[0m\u001b[0;34m\u001b[0m\u001b[0m\n\u001b[1;32m     15\u001b[0m         \u001b[0moptimizer\u001b[0m\u001b[0;34m.\u001b[0m\u001b[0mzero_grad\u001b[0m\u001b[0;34m(\u001b[0m\u001b[0;34m)\u001b[0m\u001b[0;34m\u001b[0m\u001b[0;34m\u001b[0m\u001b[0m\n",
      "\u001b[0;32m~/.local/lib/python3.6/site-packages/tqdm/std.py\u001b[0m in \u001b[0;36m__iter__\u001b[0;34m(self)\u001b[0m\n\u001b[1;32m   1102\u001b[0m                 fp_write=getattr(self.fp, 'write', sys.stderr.write))\n\u001b[1;32m   1103\u001b[0m \u001b[0;34m\u001b[0m\u001b[0m\n\u001b[0;32m-> 1104\u001b[0;31m         \u001b[0;32mfor\u001b[0m \u001b[0mobj\u001b[0m \u001b[0;32min\u001b[0m \u001b[0miterable\u001b[0m\u001b[0;34m:\u001b[0m\u001b[0;34m\u001b[0m\u001b[0;34m\u001b[0m\u001b[0m\n\u001b[0m\u001b[1;32m   1105\u001b[0m             \u001b[0;32myield\u001b[0m \u001b[0mobj\u001b[0m\u001b[0;34m\u001b[0m\u001b[0;34m\u001b[0m\u001b[0m\n\u001b[1;32m   1106\u001b[0m             \u001b[0;31m# Update and possibly print the progressbar.\u001b[0m\u001b[0;34m\u001b[0m\u001b[0;34m\u001b[0m\u001b[0;34m\u001b[0m\u001b[0m\n",
      "\u001b[0;32m~/.local/lib/python3.6/site-packages/torch/utils/data/dataloader.py\u001b[0m in \u001b[0;36m__next__\u001b[0;34m(self)\u001b[0m\n\u001b[1;32m    802\u001b[0m \u001b[0;34m\u001b[0m\u001b[0m\n\u001b[1;32m    803\u001b[0m             \u001b[0;32massert\u001b[0m \u001b[0;32mnot\u001b[0m \u001b[0mself\u001b[0m\u001b[0;34m.\u001b[0m\u001b[0m_shutdown\u001b[0m \u001b[0;32mand\u001b[0m \u001b[0mself\u001b[0m\u001b[0;34m.\u001b[0m\u001b[0m_tasks_outstanding\u001b[0m \u001b[0;34m>\u001b[0m \u001b[0;36m0\u001b[0m\u001b[0;34m\u001b[0m\u001b[0;34m\u001b[0m\u001b[0m\n\u001b[0;32m--> 804\u001b[0;31m             \u001b[0midx\u001b[0m\u001b[0;34m,\u001b[0m \u001b[0mdata\u001b[0m \u001b[0;34m=\u001b[0m \u001b[0mself\u001b[0m\u001b[0;34m.\u001b[0m\u001b[0m_get_data\u001b[0m\u001b[0;34m(\u001b[0m\u001b[0;34m)\u001b[0m\u001b[0;34m\u001b[0m\u001b[0;34m\u001b[0m\u001b[0m\n\u001b[0m\u001b[1;32m    805\u001b[0m             \u001b[0mself\u001b[0m\u001b[0;34m.\u001b[0m\u001b[0m_tasks_outstanding\u001b[0m \u001b[0;34m-=\u001b[0m \u001b[0;36m1\u001b[0m\u001b[0;34m\u001b[0m\u001b[0;34m\u001b[0m\u001b[0m\n\u001b[1;32m    806\u001b[0m \u001b[0;34m\u001b[0m\u001b[0m\n",
      "\u001b[0;32m~/.local/lib/python3.6/site-packages/torch/utils/data/dataloader.py\u001b[0m in \u001b[0;36m_get_data\u001b[0;34m(self)\u001b[0m\n\u001b[1;32m    769\u001b[0m         \u001b[0;32melse\u001b[0m\u001b[0;34m:\u001b[0m\u001b[0;34m\u001b[0m\u001b[0;34m\u001b[0m\u001b[0m\n\u001b[1;32m    770\u001b[0m             \u001b[0;32mwhile\u001b[0m \u001b[0;32mTrue\u001b[0m\u001b[0;34m:\u001b[0m\u001b[0;34m\u001b[0m\u001b[0;34m\u001b[0m\u001b[0m\n\u001b[0;32m--> 771\u001b[0;31m                 \u001b[0msuccess\u001b[0m\u001b[0;34m,\u001b[0m \u001b[0mdata\u001b[0m \u001b[0;34m=\u001b[0m \u001b[0mself\u001b[0m\u001b[0;34m.\u001b[0m\u001b[0m_try_get_data\u001b[0m\u001b[0;34m(\u001b[0m\u001b[0;34m)\u001b[0m\u001b[0;34m\u001b[0m\u001b[0;34m\u001b[0m\u001b[0m\n\u001b[0m\u001b[1;32m    772\u001b[0m                 \u001b[0;32mif\u001b[0m \u001b[0msuccess\u001b[0m\u001b[0;34m:\u001b[0m\u001b[0;34m\u001b[0m\u001b[0;34m\u001b[0m\u001b[0m\n\u001b[1;32m    773\u001b[0m                     \u001b[0;32mreturn\u001b[0m \u001b[0mdata\u001b[0m\u001b[0;34m\u001b[0m\u001b[0;34m\u001b[0m\u001b[0m\n",
      "\u001b[0;32m~/.local/lib/python3.6/site-packages/torch/utils/data/dataloader.py\u001b[0m in \u001b[0;36m_try_get_data\u001b[0;34m(self, timeout)\u001b[0m\n\u001b[1;32m    722\u001b[0m         \u001b[0;31m#   (bool: whether successfully get data, any: data if successful else None)\u001b[0m\u001b[0;34m\u001b[0m\u001b[0;34m\u001b[0m\u001b[0;34m\u001b[0m\u001b[0m\n\u001b[1;32m    723\u001b[0m         \u001b[0;32mtry\u001b[0m\u001b[0;34m:\u001b[0m\u001b[0;34m\u001b[0m\u001b[0;34m\u001b[0m\u001b[0m\n\u001b[0;32m--> 724\u001b[0;31m             \u001b[0mdata\u001b[0m \u001b[0;34m=\u001b[0m \u001b[0mself\u001b[0m\u001b[0;34m.\u001b[0m\u001b[0m_data_queue\u001b[0m\u001b[0;34m.\u001b[0m\u001b[0mget\u001b[0m\u001b[0;34m(\u001b[0m\u001b[0mtimeout\u001b[0m\u001b[0;34m=\u001b[0m\u001b[0mtimeout\u001b[0m\u001b[0;34m)\u001b[0m\u001b[0;34m\u001b[0m\u001b[0;34m\u001b[0m\u001b[0m\n\u001b[0m\u001b[1;32m    725\u001b[0m             \u001b[0;32mreturn\u001b[0m \u001b[0;34m(\u001b[0m\u001b[0;32mTrue\u001b[0m\u001b[0;34m,\u001b[0m \u001b[0mdata\u001b[0m\u001b[0;34m)\u001b[0m\u001b[0;34m\u001b[0m\u001b[0;34m\u001b[0m\u001b[0m\n\u001b[1;32m    726\u001b[0m         \u001b[0;32mexcept\u001b[0m \u001b[0mException\u001b[0m \u001b[0;32mas\u001b[0m \u001b[0me\u001b[0m\u001b[0;34m:\u001b[0m\u001b[0;34m\u001b[0m\u001b[0;34m\u001b[0m\u001b[0m\n",
      "\u001b[0;32m/usr/lib/python3.6/multiprocessing/queues.py\u001b[0m in \u001b[0;36mget\u001b[0;34m(self, block, timeout)\u001b[0m\n\u001b[1;32m    111\u001b[0m                 \u001b[0mself\u001b[0m\u001b[0;34m.\u001b[0m\u001b[0m_rlock\u001b[0m\u001b[0;34m.\u001b[0m\u001b[0mrelease\u001b[0m\u001b[0;34m(\u001b[0m\u001b[0;34m)\u001b[0m\u001b[0;34m\u001b[0m\u001b[0;34m\u001b[0m\u001b[0m\n\u001b[1;32m    112\u001b[0m         \u001b[0;31m# unserialize the data after having released the lock\u001b[0m\u001b[0;34m\u001b[0m\u001b[0;34m\u001b[0m\u001b[0;34m\u001b[0m\u001b[0m\n\u001b[0;32m--> 113\u001b[0;31m         \u001b[0;32mreturn\u001b[0m \u001b[0m_ForkingPickler\u001b[0m\u001b[0;34m.\u001b[0m\u001b[0mloads\u001b[0m\u001b[0;34m(\u001b[0m\u001b[0mres\u001b[0m\u001b[0;34m)\u001b[0m\u001b[0;34m\u001b[0m\u001b[0;34m\u001b[0m\u001b[0m\n\u001b[0m\u001b[1;32m    114\u001b[0m \u001b[0;34m\u001b[0m\u001b[0m\n\u001b[1;32m    115\u001b[0m     \u001b[0;32mdef\u001b[0m \u001b[0mqsize\u001b[0m\u001b[0;34m(\u001b[0m\u001b[0mself\u001b[0m\u001b[0;34m)\u001b[0m\u001b[0;34m:\u001b[0m\u001b[0;34m\u001b[0m\u001b[0;34m\u001b[0m\u001b[0m\n",
      "\u001b[0;32m~/.local/lib/python3.6/site-packages/torch/multiprocessing/reductions.py\u001b[0m in \u001b[0;36mrebuild_storage_fd\u001b[0;34m(cls, df, size)\u001b[0m\n\u001b[1;32m    292\u001b[0m                     \u001b[0;32mraise\u001b[0m\u001b[0;34m\u001b[0m\u001b[0;34m\u001b[0m\u001b[0m\n\u001b[1;32m    293\u001b[0m     \u001b[0;32melse\u001b[0m\u001b[0;34m:\u001b[0m\u001b[0;34m\u001b[0m\u001b[0;34m\u001b[0m\u001b[0m\n\u001b[0;32m--> 294\u001b[0;31m         \u001b[0mfd\u001b[0m \u001b[0;34m=\u001b[0m \u001b[0mdf\u001b[0m\u001b[0;34m.\u001b[0m\u001b[0mdetach\u001b[0m\u001b[0;34m(\u001b[0m\u001b[0;34m)\u001b[0m\u001b[0;34m\u001b[0m\u001b[0;34m\u001b[0m\u001b[0m\n\u001b[0m\u001b[1;32m    295\u001b[0m     \u001b[0;32mtry\u001b[0m\u001b[0;34m:\u001b[0m\u001b[0;34m\u001b[0m\u001b[0;34m\u001b[0m\u001b[0m\n\u001b[1;32m    296\u001b[0m         \u001b[0mstorage\u001b[0m \u001b[0;34m=\u001b[0m \u001b[0mstorage_from_cache\u001b[0m\u001b[0;34m(\u001b[0m\u001b[0mcls\u001b[0m\u001b[0;34m,\u001b[0m \u001b[0mfd_id\u001b[0m\u001b[0;34m(\u001b[0m\u001b[0mfd\u001b[0m\u001b[0;34m)\u001b[0m\u001b[0;34m)\u001b[0m\u001b[0;34m\u001b[0m\u001b[0;34m\u001b[0m\u001b[0m\n",
      "\u001b[0;32m/usr/lib/python3.6/multiprocessing/resource_sharer.py\u001b[0m in \u001b[0;36mdetach\u001b[0;34m(self)\u001b[0m\n\u001b[1;32m     55\u001b[0m         \u001b[0;32mdef\u001b[0m \u001b[0mdetach\u001b[0m\u001b[0;34m(\u001b[0m\u001b[0mself\u001b[0m\u001b[0;34m)\u001b[0m\u001b[0;34m:\u001b[0m\u001b[0;34m\u001b[0m\u001b[0;34m\u001b[0m\u001b[0m\n\u001b[1;32m     56\u001b[0m             \u001b[0;34m'''Get the fd.  This should only be called once.'''\u001b[0m\u001b[0;34m\u001b[0m\u001b[0;34m\u001b[0m\u001b[0m\n\u001b[0;32m---> 57\u001b[0;31m             \u001b[0;32mwith\u001b[0m \u001b[0m_resource_sharer\u001b[0m\u001b[0;34m.\u001b[0m\u001b[0mget_connection\u001b[0m\u001b[0;34m(\u001b[0m\u001b[0mself\u001b[0m\u001b[0;34m.\u001b[0m\u001b[0m_id\u001b[0m\u001b[0;34m)\u001b[0m \u001b[0;32mas\u001b[0m \u001b[0mconn\u001b[0m\u001b[0;34m:\u001b[0m\u001b[0;34m\u001b[0m\u001b[0;34m\u001b[0m\u001b[0m\n\u001b[0m\u001b[1;32m     58\u001b[0m                 \u001b[0;32mreturn\u001b[0m \u001b[0mreduction\u001b[0m\u001b[0;34m.\u001b[0m\u001b[0mrecv_handle\u001b[0m\u001b[0;34m(\u001b[0m\u001b[0mconn\u001b[0m\u001b[0;34m)\u001b[0m\u001b[0;34m\u001b[0m\u001b[0;34m\u001b[0m\u001b[0m\n\u001b[1;32m     59\u001b[0m \u001b[0;34m\u001b[0m\u001b[0m\n",
      "\u001b[0;32m/usr/lib/python3.6/multiprocessing/resource_sharer.py\u001b[0m in \u001b[0;36mget_connection\u001b[0;34m(ident)\u001b[0m\n\u001b[1;32m     85\u001b[0m         \u001b[0;32mfrom\u001b[0m \u001b[0;34m.\u001b[0m\u001b[0mconnection\u001b[0m \u001b[0;32mimport\u001b[0m \u001b[0mClient\u001b[0m\u001b[0;34m\u001b[0m\u001b[0;34m\u001b[0m\u001b[0m\n\u001b[1;32m     86\u001b[0m         \u001b[0maddress\u001b[0m\u001b[0;34m,\u001b[0m \u001b[0mkey\u001b[0m \u001b[0;34m=\u001b[0m \u001b[0mident\u001b[0m\u001b[0;34m\u001b[0m\u001b[0;34m\u001b[0m\u001b[0m\n\u001b[0;32m---> 87\u001b[0;31m         \u001b[0mc\u001b[0m \u001b[0;34m=\u001b[0m \u001b[0mClient\u001b[0m\u001b[0;34m(\u001b[0m\u001b[0maddress\u001b[0m\u001b[0;34m,\u001b[0m \u001b[0mauthkey\u001b[0m\u001b[0;34m=\u001b[0m\u001b[0mprocess\u001b[0m\u001b[0;34m.\u001b[0m\u001b[0mcurrent_process\u001b[0m\u001b[0;34m(\u001b[0m\u001b[0;34m)\u001b[0m\u001b[0;34m.\u001b[0m\u001b[0mauthkey\u001b[0m\u001b[0;34m)\u001b[0m\u001b[0;34m\u001b[0m\u001b[0;34m\u001b[0m\u001b[0m\n\u001b[0m\u001b[1;32m     88\u001b[0m         \u001b[0mc\u001b[0m\u001b[0;34m.\u001b[0m\u001b[0msend\u001b[0m\u001b[0;34m(\u001b[0m\u001b[0;34m(\u001b[0m\u001b[0mkey\u001b[0m\u001b[0;34m,\u001b[0m \u001b[0mos\u001b[0m\u001b[0;34m.\u001b[0m\u001b[0mgetpid\u001b[0m\u001b[0;34m(\u001b[0m\u001b[0;34m)\u001b[0m\u001b[0;34m)\u001b[0m\u001b[0;34m)\u001b[0m\u001b[0;34m\u001b[0m\u001b[0;34m\u001b[0m\u001b[0m\n\u001b[1;32m     89\u001b[0m         \u001b[0;32mreturn\u001b[0m \u001b[0mc\u001b[0m\u001b[0;34m\u001b[0m\u001b[0;34m\u001b[0m\u001b[0m\n",
      "\u001b[0;32m/usr/lib/python3.6/multiprocessing/connection.py\u001b[0m in \u001b[0;36mClient\u001b[0;34m(address, family, authkey)\u001b[0m\n\u001b[1;32m    485\u001b[0m         \u001b[0mc\u001b[0m \u001b[0;34m=\u001b[0m \u001b[0mPipeClient\u001b[0m\u001b[0;34m(\u001b[0m\u001b[0maddress\u001b[0m\u001b[0;34m)\u001b[0m\u001b[0;34m\u001b[0m\u001b[0;34m\u001b[0m\u001b[0m\n\u001b[1;32m    486\u001b[0m     \u001b[0;32melse\u001b[0m\u001b[0;34m:\u001b[0m\u001b[0;34m\u001b[0m\u001b[0;34m\u001b[0m\u001b[0m\n\u001b[0;32m--> 487\u001b[0;31m         \u001b[0mc\u001b[0m \u001b[0;34m=\u001b[0m \u001b[0mSocketClient\u001b[0m\u001b[0;34m(\u001b[0m\u001b[0maddress\u001b[0m\u001b[0;34m)\u001b[0m\u001b[0;34m\u001b[0m\u001b[0;34m\u001b[0m\u001b[0m\n\u001b[0m\u001b[1;32m    488\u001b[0m \u001b[0;34m\u001b[0m\u001b[0m\n\u001b[1;32m    489\u001b[0m     \u001b[0;32mif\u001b[0m \u001b[0mauthkey\u001b[0m \u001b[0;32mis\u001b[0m \u001b[0;32mnot\u001b[0m \u001b[0;32mNone\u001b[0m \u001b[0;32mand\u001b[0m \u001b[0;32mnot\u001b[0m \u001b[0misinstance\u001b[0m\u001b[0;34m(\u001b[0m\u001b[0mauthkey\u001b[0m\u001b[0;34m,\u001b[0m \u001b[0mbytes\u001b[0m\u001b[0;34m)\u001b[0m\u001b[0;34m:\u001b[0m\u001b[0;34m\u001b[0m\u001b[0;34m\u001b[0m\u001b[0m\n",
      "\u001b[0;32m/usr/lib/python3.6/multiprocessing/connection.py\u001b[0m in \u001b[0;36mSocketClient\u001b[0;34m(address)\u001b[0m\n\u001b[1;32m    612\u001b[0m     \u001b[0;32mwith\u001b[0m \u001b[0msocket\u001b[0m\u001b[0;34m.\u001b[0m\u001b[0msocket\u001b[0m\u001b[0;34m(\u001b[0m \u001b[0mgetattr\u001b[0m\u001b[0;34m(\u001b[0m\u001b[0msocket\u001b[0m\u001b[0;34m,\u001b[0m \u001b[0mfamily\u001b[0m\u001b[0;34m)\u001b[0m \u001b[0;34m)\u001b[0m \u001b[0;32mas\u001b[0m \u001b[0ms\u001b[0m\u001b[0;34m:\u001b[0m\u001b[0;34m\u001b[0m\u001b[0;34m\u001b[0m\u001b[0m\n\u001b[1;32m    613\u001b[0m         \u001b[0ms\u001b[0m\u001b[0;34m.\u001b[0m\u001b[0msetblocking\u001b[0m\u001b[0;34m(\u001b[0m\u001b[0;32mTrue\u001b[0m\u001b[0;34m)\u001b[0m\u001b[0;34m\u001b[0m\u001b[0;34m\u001b[0m\u001b[0m\n\u001b[0;32m--> 614\u001b[0;31m         \u001b[0ms\u001b[0m\u001b[0;34m.\u001b[0m\u001b[0mconnect\u001b[0m\u001b[0;34m(\u001b[0m\u001b[0maddress\u001b[0m\u001b[0;34m)\u001b[0m\u001b[0;34m\u001b[0m\u001b[0;34m\u001b[0m\u001b[0m\n\u001b[0m\u001b[1;32m    615\u001b[0m         \u001b[0;32mreturn\u001b[0m \u001b[0mConnection\u001b[0m\u001b[0;34m(\u001b[0m\u001b[0ms\u001b[0m\u001b[0;34m.\u001b[0m\u001b[0mdetach\u001b[0m\u001b[0;34m(\u001b[0m\u001b[0;34m)\u001b[0m\u001b[0;34m)\u001b[0m\u001b[0;34m\u001b[0m\u001b[0;34m\u001b[0m\u001b[0m\n\u001b[1;32m    616\u001b[0m \u001b[0;34m\u001b[0m\u001b[0m\n",
      "\u001b[0;31mKeyboardInterrupt\u001b[0m: "
     ]
    }
   ],
   "source": [
    "import torch.optim as optim\n",
    "from tqdm import tqdm\n",
    "import sys\n",
    "\n",
    "trn_loss_list = []\n",
    "val_loss_list = []\n",
    "acc_list = []\n",
    "num_batches = len(trainloader)\n",
    "for epoch in range(30):\n",
    "    running_loss = 0.0\n",
    "    model.train()\n",
    "    #device = 'cuda:0'\n",
    "    for i,images in tqdm(enumerate(trainloader)):\n",
    "        #data, target = Variable(data), Variable(target)\n",
    "        optimizer.zero_grad()\n",
    "        c1 = images[0][0].to(device)\n",
    "        c2 = images[1][0].to(device)\n",
    "        c3 = images[2][0].to(device)\n",
    "        c4 = images[3][0].to(device)\n",
    "        c5 = images[4][0].to(device)\n",
    "        c6 = images[0][1].to(device)\n",
    "        #c61 = c6[:128].to('cuda:0')\n",
    "        #c62 = c6[128:].to('cuda:1')\n",
    "        output = model(c1,c2,c3,c4,c5)\n",
    "        #output = torch.nn.parallel.gather(output,'cuda:1')\n",
    "        loss = criterion(output, c6)\n",
    "        loss.backward()    # calc gradients\n",
    "        optimizer.step()   # update gradients\n",
    "        running_loss += loss.item()\n",
    "        #print(i)\n",
    "    \n",
    "    model.eval()\n",
    "    with torch.no_grad(): # very very very very important!!!\n",
    "        val_loss = 0.0\n",
    "        class_correct = list(0. for i in range(10))\n",
    "        class_total = list(0. for i in range(10))\n",
    "        correct = 0\n",
    "        total = 0\n",
    "        for j,val in enumerate(testloader):\n",
    "            v1 = val[0][0].to(device)\n",
    "            v2 = val[1][0].to(device)\n",
    "            v3 = val[2][0].to(device)\n",
    "            v4 = val[3][0].to(device)\n",
    "            v5 = val[4][0].to(device)\n",
    "            val_labels = val[0][1].to(device)\n",
    "            val_output = model(v1,v2,v3,v4,v5)\n",
    "            v_loss = criterion(val_output, val_labels)\n",
    "            val_loss += v_loss\n",
    "            _, predicted = torch.max(val_output, 1)\n",
    "            c = (predicted == val_labels).squeeze()\n",
    "            total += val_labels.size(0)\n",
    "            correct += (predicted == val_labels).sum().item()\n",
    "            for i in range(len(val_labels)):\n",
    "                val_label = val_labels[i]\n",
    "                class_correct[val_label] += c[i].item()\n",
    "                class_total[val_label] += 1\n",
    "\n",
    "        for i in range(10):\n",
    "            if class_total[i]==0:\n",
    "                print('class_total = 0',class_correct,class_total)\n",
    "            else:\n",
    "                print('Accuracy of %5s : %2d %%' % (i, 100 * class_correct[i] / class_total[i]))\n",
    "\n",
    "    print(\"epoch: {}/{} | step: {}/{} | trn loss: {:.4f} | val loss: {:.4f}\".format(\n",
    "        epoch+1, 30, i+1, num_batches, running_loss / 1875, val_loss / len(testloader)\n",
    "    ))        \n",
    "    print('Accuracy of the network on the 10000 test images: %d %%' % (100 * correct / total))\n",
    "\n",
    "    trn_loss_list.append(running_loss/1875)\n",
    "    val_loss_list.append(val_loss/len(testloader))\n",
    "    running_loss = 0.0\n",
    "    \n",
    "    temp_acc = []\n",
    "    for testloader in tqdm(val_gen_arr):\n",
    "        correct = 0\n",
    "        total = 0\n",
    "        class_correct = list(0. for i in range(10))\n",
    "        class_total = list(0. for i in range(10))\n",
    "        with torch.no_grad():\n",
    "            for images in testloader:\n",
    "                c1 = images[0][0].to(device)\n",
    "                c2 = images[1][0].to(device)\n",
    "                c3 = images[2][0].to(device)\n",
    "                c4 = images[3][0].to(device)\n",
    "                c5 = images[4][0].to(device)\n",
    "                val_labels = images[0][1].to(device)\n",
    "                outputs = model(c1,c2,c3,c4,c5)\n",
    "                _, predicted = torch.max(outputs.data, 1)\n",
    "                c = (predicted == val_labels).squeeze()\n",
    "                total += val_labels.size(0)\n",
    "                correct += (predicted == val_labels).sum().item()\n",
    "        #print(total,correct,end='')\n",
    "\n",
    "        print('Accuracy of the network on the 10000 test images: %d %%' % (100 * correct / total))\n",
    "        temp_acc.append(100 * correct / total)\n",
    "    acc_list.append(temp_acc)\n",
    "        \n",
    "    #optimizer = optim.SGD(model.parameters(), lr=0.001, momentum=0.9)\n",
    "    "
   ]
  },
  {
   "cell_type": "code",
   "execution_count": 32,
   "metadata": {},
   "outputs": [
    {
     "name": "stderr",
     "output_type": "stream",
     "text": [
      "\r",
      "715it [00:39, 32.32it/s]"
     ]
    }
   ],
   "source": [
    "import csv\n",
    "\n",
    "csvfile = open('ln_jan20_testresult.csv','w',newline=\"\")\n",
    "\n",
    "csvwriter = csv.writer(csvfile)\n",
    "for row in acc_list:\n",
    "    csvwriter.writerow(row)\n",
    "    \n",
    "csvfile.close()"
   ]
  },
  {
   "cell_type": "code",
   "execution_count": 30,
   "metadata": {},
   "outputs": [
    {
     "data": {
      "image/png": "[encoded data removed]",
      "text/plain": [
       "<Figure size 432x288 with 1 Axes>"
      ]
     },
     "metadata": {
      "needs_background": "light"
     },
     "output_type": "display_data"
    }
   ],
   "source": [
    "import matplotlib.pyplot as plt\n",
    "\n",
    "plt.plot(acc_list)\n",
    "plt.show()"
   ]
  },
  {
   "cell_type": "code",
   "execution_count": 31,
   "metadata": {},
   "outputs": [
    {
     "data": {
      "text/plain": [
       "[[10.0,\n",
       "  10.0,\n",
       "  10.0,\n",
       "  10.0,\n",
       "  10.0,\n",
       "  10.0,\n",
       "  10.0,\n",
       "  10.0,\n",
       "  10.0,\n",
       "  10.0,\n",
       "  10.0,\n",
       "  10.0,\n",
       "  10.0,\n",
       "  10.0,\n",
       "  10.0,\n",
       "  10.0,\n",
       "  10.0,\n",
       "  10.0,\n",
       "  10.0,\n",
       "  10.0,\n",
       "  10.0,\n",
       "  10.0,\n",
       "  10.0,\n",
       "  10.0,\n",
       "  10.0,\n",
       "  10.0,\n",
       "  10.2,\n",
       "  10.4,\n",
       "  10.8,\n",
       "  10.7,\n",
       "  11.2,\n",
       "  11.9,\n",
       "  11.8,\n",
       "  12.2,\n",
       "  13.2,\n",
       "  12.8,\n",
       "  15.0,\n",
       "  15.7,\n",
       "  16.7,\n",
       "  17.8,\n",
       "  19.2,\n",
       "  19.0,\n",
       "  20.5,\n",
       "  21.8,\n",
       "  23.4,\n",
       "  24.7,\n",
       "  26.0,\n",
       "  28.8,\n",
       "  29.5,\n",
       "  33.5,\n",
       "  33.3,\n",
       "  37.9,\n",
       "  36.5,\n",
       "  41.1,\n",
       "  42.3,\n",
       "  46.2,\n",
       "  45.7,\n",
       "  49.6,\n",
       "  48.7,\n",
       "  53.0,\n",
       "  54.1,\n",
       "  58.2,\n",
       "  59.8,\n",
       "  63.4,\n",
       "  62.3,\n",
       "  67.5,\n",
       "  66.8,\n",
       "  70.5,\n",
       "  71.9,\n",
       "  76.6,\n",
       "  76.5,\n",
       "  80.2,\n",
       "  80.1,\n",
       "  83.5,\n",
       "  82.9,\n",
       "  84.9,\n",
       "  85.0,\n",
       "  87.1,\n",
       "  88.7,\n",
       "  89.8,\n",
       "  89.8,\n",
       "  91.2,\n",
       "  91.4,\n",
       "  92.6,\n",
       "  92.0,\n",
       "  93.4,\n",
       "  93.2,\n",
       "  94.5,\n",
       "  94.0,\n",
       "  95.1,\n",
       "  95.4,\n",
       "  95.9,\n",
       "  96.0,\n",
       "  96.6,\n",
       "  96.5,\n",
       "  96.8,\n",
       "  97.1,\n",
       "  97.4,\n",
       "  97.5,\n",
       "  97.3,\n",
       "  97.0,\n",
       "  97.5,\n",
       "  97.3,\n",
       "  97.4,\n",
       "  97.6,\n",
       "  98.0,\n",
       "  97.8,\n",
       "  98.1,\n",
       "  98.1,\n",
       "  98.2,\n",
       "  97.7,\n",
       "  98.1],\n",
       " [10.0,\n",
       "  10.0,\n",
       "  10.0,\n",
       "  10.0,\n",
       "  10.0,\n",
       "  10.0,\n",
       "  10.0,\n",
       "  10.0,\n",
       "  10.0,\n",
       "  10.0,\n",
       "  10.0,\n",
       "  10.0,\n",
       "  10.0,\n",
       "  10.0,\n",
       "  10.0,\n",
       "  10.0,\n",
       "  10.0,\n",
       "  10.0,\n",
       "  10.0,\n",
       "  10.0,\n",
       "  10.0,\n",
       "  10.0,\n",
       "  10.1,\n",
       "  10.1,\n",
       "  10.1,\n",
       "  10.2,\n",
       "  10.8,\n",
       "  11.3,\n",
       "  11.9,\n",
       "  12.5,\n",
       "  13.8,\n",
       "  14.2,\n",
       "  14.7,\n",
       "  15.0,\n",
       "  15.3,\n",
       "  15.8,\n",
       "  16.6,\n",
       "  17.2,\n",
       "  18.2,\n",
       "  19.2,\n",
       "  19.9,\n",
       "  21.6,\n",
       "  22.0,\n",
       "  24.3,\n",
       "  24.6,\n",
       "  28.2,\n",
       "  28.8,\n",
       "  33.2,\n",
       "  34.0,\n",
       "  38.2,\n",
       "  36.5,\n",
       "  43.0,\n",
       "  39.7,\n",
       "  46.1,\n",
       "  44.5,\n",
       "  50.0,\n",
       "  46.6,\n",
       "  52.5,\n",
       "  49.8,\n",
       "  57.5,\n",
       "  55.0,\n",
       "  60.7,\n",
       "  60.7,\n",
       "  65.4,\n",
       "  63.9,\n",
       "  69.4,\n",
       "  65.9,\n",
       "  72.4,\n",
       "  70.3,\n",
       "  77.1,\n",
       "  74.3,\n",
       "  80.6,\n",
       "  78.9,\n",
       "  83.1,\n",
       "  81.4,\n",
       "  86.6,\n",
       "  85.1,\n",
       "  88.6,\n",
       "  87.4,\n",
       "  89.7,\n",
       "  88.7,\n",
       "  91.1,\n",
       "  89.9,\n",
       "  92.7,\n",
       "  93.2,\n",
       "  94.6,\n",
       "  94.0,\n",
       "  95.8,\n",
       "  95.2,\n",
       "  96.1,\n",
       "  96.2,\n",
       "  96.8,\n",
       "  96.9,\n",
       "  97.6,\n",
       "  97.8,\n",
       "  97.9,\n",
       "  98.0,\n",
       "  98.3,\n",
       "  98.2,\n",
       "  98.4,\n",
       "  98.6,\n",
       "  98.3,\n",
       "  98.5,\n",
       "  98.3,\n",
       "  98.4,\n",
       "  98.4,\n",
       "  98.3,\n",
       "  98.5,\n",
       "  98.5,\n",
       "  98.5,\n",
       "  98.5,\n",
       "  98.3],\n",
       " [10.0,\n",
       "  10.0,\n",
       "  10.0,\n",
       "  10.0,\n",
       "  10.0,\n",
       "  10.0,\n",
       "  10.0,\n",
       "  10.0,\n",
       "  10.0,\n",
       "  10.0,\n",
       "  10.0,\n",
       "  10.0,\n",
       "  10.0,\n",
       "  10.0,\n",
       "  10.0,\n",
       "  10.0,\n",
       "  10.0,\n",
       "  10.0,\n",
       "  10.0,\n",
       "  10.0,\n",
       "  10.0,\n",
       "  10.0,\n",
       "  10.0,\n",
       "  10.0,\n",
       "  10.1,\n",
       "  10.0,\n",
       "  10.0,\n",
       "  10.6,\n",
       "  10.4,\n",
       "  10.6,\n",
       "  10.6,\n",
       "  11.4,\n",
       "  11.6,\n",
       "  12.3,\n",
       "  13.0,\n",
       "  13.6,\n",
       "  14.1,\n",
       "  15.3,\n",
       "  16.1,\n",
       "  17.9,\n",
       "  20.8,\n",
       "  21.8,\n",
       "  23.9,\n",
       "  25.8,\n",
       "  28.4,\n",
       "  31.8,\n",
       "  32.5,\n",
       "  35.5,\n",
       "  38.0,\n",
       "  40.9,\n",
       "  40.7,\n",
       "  45.1,\n",
       "  44.5,\n",
       "  49.0,\n",
       "  50.9,\n",
       "  55.3,\n",
       "  53.8,\n",
       "  58.2,\n",
       "  55.4,\n",
       "  61.7,\n",
       "  60.1,\n",
       "  63.9,\n",
       "  64.2,\n",
       "  68.2,\n",
       "  66.6,\n",
       "  71.7,\n",
       "  70.9,\n",
       "  74.5,\n",
       "  74.0,\n",
       "  79.4,\n",
       "  78.4,\n",
       "  82.7,\n",
       "  82.0,\n",
       "  85.4,\n",
       "  84.4,\n",
       "  88.9,\n",
       "  88.4,\n",
       "  91.3,\n",
       "  90.4,\n",
       "  92.7,\n",
       "  91.8,\n",
       "  94.0,\n",
       "  94.0,\n",
       "  95.5,\n",
       "  95.2,\n",
       "  96.4,\n",
       "  96.6,\n",
       "  97.5,\n",
       "  97.4,\n",
       "  98.3,\n",
       "  98.2,\n",
       "  98.8,\n",
       "  98.8,\n",
       "  99.0,\n",
       "  99.0,\n",
       "  99.1,\n",
       "  99.0,\n",
       "  99.0,\n",
       "  98.8,\n",
       "  98.7,\n",
       "  98.7,\n",
       "  98.8,\n",
       "  98.7,\n",
       "  98.8,\n",
       "  98.8,\n",
       "  98.7,\n",
       "  98.8,\n",
       "  98.7,\n",
       "  98.8,\n",
       "  98.7,\n",
       "  98.7,\n",
       "  98.4],\n",
       " [10.0,\n",
       "  10.0,\n",
       "  10.0,\n",
       "  10.0,\n",
       "  10.0,\n",
       "  10.0,\n",
       "  10.0,\n",
       "  10.0,\n",
       "  10.0,\n",
       "  10.0,\n",
       "  10.0,\n",
       "  10.0,\n",
       "  10.0,\n",
       "  10.0,\n",
       "  10.0,\n",
       "  10.0,\n",
       "  10.0,\n",
       "  10.0,\n",
       "  10.0,\n",
       "  10.0,\n",
       "  10.0,\n",
       "  10.1,\n",
       "  10.1,\n",
       "  10.1,\n",
       "  10.3,\n",
       "  10.3,\n",
       "  10.6,\n",
       "  11.4,\n",
       "  11.3,\n",
       "  11.5,\n",
       "  12.5,\n",
       "  12.0,\n",
       "  14.3,\n",
       "  13.8,\n",
       "  15.3,\n",
       "  16.2,\n",
       "  19.4,\n",
       "  19.9,\n",
       "  22.1,\n",
       "  23.7,\n",
       "  27.3,\n",
       "  28.2,\n",
       "  31.9,\n",
       "  32.9,\n",
       "  35.0,\n",
       "  37.4,\n",
       "  39.2,\n",
       "  40.7,\n",
       "  43.8,\n",
       "  45.2,\n",
       "  47.0,\n",
       "  49.3,\n",
       "  50.0,\n",
       "  52.9,\n",
       "  54.0,\n",
       "  56.6,\n",
       "  57.6,\n",
       "  61.3,\n",
       "  60.4,\n",
       "  63.8,\n",
       "  63.5,\n",
       "  65.1,\n",
       "  67.0,\n",
       "  69.4,\n",
       "  69.0,\n",
       "  72.3,\n",
       "  72.7,\n",
       "  76.2,\n",
       "  74.8,\n",
       "  78.3,\n",
       "  77.9,\n",
       "  81.7,\n",
       "  81.3,\n",
       "  85.1,\n",
       "  84.2,\n",
       "  87.0,\n",
       "  87.2,\n",
       "  89.9,\n",
       "  89.8,\n",
       "  92.0,\n",
       "  92.5,\n",
       "  94.6,\n",
       "  95.1,\n",
       "  95.6,\n",
       "  95.9,\n",
       "  96.0,\n",
       "  96.7,\n",
       "  96.5,\n",
       "  97.2,\n",
       "  97.3,\n",
       "  98.0,\n",
       "  98.0,\n",
       "  98.1,\n",
       "  98.2,\n",
       "  98.3,\n",
       "  98.3,\n",
       "  98.4,\n",
       "  98.3,\n",
       "  98.3,\n",
       "  98.2,\n",
       "  98.2,\n",
       "  98.3,\n",
       "  98.1,\n",
       "  98.3,\n",
       "  98.2,\n",
       "  98.3,\n",
       "  98.6,\n",
       "  98.4,\n",
       "  98.7,\n",
       "  98.6,\n",
       "  98.6,\n",
       "  98.4],\n",
       " [10.0,\n",
       "  10.0,\n",
       "  10.0,\n",
       "  10.0,\n",
       "  10.0,\n",
       "  10.0,\n",
       "  10.0,\n",
       "  10.0,\n",
       "  10.0,\n",
       "  10.0,\n",
       "  10.0,\n",
       "  10.0,\n",
       "  10.0,\n",
       "  10.0,\n",
       "  10.0,\n",
       "  10.0,\n",
       "  10.0,\n",
       "  10.0,\n",
       "  10.0,\n",
       "  10.0,\n",
       "  10.0,\n",
       "  10.0,\n",
       "  10.0,\n",
       "  10.1,\n",
       "  10.0,\n",
       "  10.3,\n",
       "  10.0,\n",
       "  10.7,\n",
       "  10.2,\n",
       "  10.8,\n",
       "  10.4,\n",
       "  10.7,\n",
       "  11.3,\n",
       "  11.1,\n",
       "  12.4,\n",
       "  12.0,\n",
       "  14.1,\n",
       "  14.3,\n",
       "  16.2,\n",
       "  18.4,\n",
       "  19.9,\n",
       "  23.6,\n",
       "  23.5,\n",
       "  27.3,\n",
       "  26.7,\n",
       "  31.8,\n",
       "  31.5,\n",
       "  37.3,\n",
       "  36.0,\n",
       "  41.7,\n",
       "  39.8,\n",
       "  45.0,\n",
       "  42.0,\n",
       "  48.3,\n",
       "  46.3,\n",
       "  50.8,\n",
       "  47.9,\n",
       "  54.9,\n",
       "  51.9,\n",
       "  58.0,\n",
       "  54.7,\n",
       "  60.1,\n",
       "  57.8,\n",
       "  63.9,\n",
       "  59.7,\n",
       "  67.6,\n",
       "  63.4,\n",
       "  70.2,\n",
       "  67.5,\n",
       "  73.4,\n",
       "  70.3,\n",
       "  76.6,\n",
       "  74.2,\n",
       "  79.5,\n",
       "  77.4,\n",
       "  82.9,\n",
       "  81.3,\n",
       "  85.5,\n",
       "  83.9,\n",
       "  88.7,\n",
       "  87.7,\n",
       "  92.2,\n",
       "  90.2,\n",
       "  92.5,\n",
       "  92.1,\n",
       "  93.2,\n",
       "  93.5,\n",
       "  95.1,\n",
       "  94.2,\n",
       "  95.8,\n",
       "  96.1,\n",
       "  96.8,\n",
       "  96.6,\n",
       "  97.2,\n",
       "  97.3,\n",
       "  97.7,\n",
       "  97.8,\n",
       "  98.1,\n",
       "  97.3,\n",
       "  98.1,\n",
       "  97.5,\n",
       "  98.2,\n",
       "  97.9,\n",
       "  98.4,\n",
       "  98.1,\n",
       "  98.4,\n",
       "  98.4,\n",
       "  98.3,\n",
       "  98.9,\n",
       "  98.4,\n",
       "  98.7,\n",
       "  98.7]]"
      ]
     },
     "execution_count": 31,
     "metadata": {},
     "output_type": "execute_result"
    }
   ],
   "source": [
    "acc_list"
   ]
  },
  {
   "cell_type": "code",
   "execution_count": 35,
   "metadata": {},
   "outputs": [
    {
     "data": {
      "text/plain": [
       "Parameter containing:\n",
       "tensor([[[[ 3.3432e-02,  6.5793e-02,  1.4002e-01,  ...,  2.1923e-01,\n",
       "            2.3481e-01,  2.2607e-01],\n",
       "          [ 5.6389e-02, -1.8555e-02,  8.8081e-02,  ...,  1.2100e-01,\n",
       "            1.8945e-01,  1.2545e-01],\n",
       "          [-1.8425e-02, -3.1649e-03, -9.9248e-03,  ..., -2.4641e-02,\n",
       "            5.0960e-02,  1.4391e-02],\n",
       "          ...,\n",
       "          [-1.2570e-01, -6.9318e-02, -5.4270e-02,  ...,  7.7431e-02,\n",
       "            9.7144e-02,  9.4179e-02],\n",
       "          [-6.4767e-02, -1.1527e-01, -7.1164e-02,  ..., -4.9493e-02,\n",
       "           -1.0074e-02,  5.7282e-02],\n",
       "          [-1.6020e-01, -1.8147e-01, -8.9943e-02,  ..., -1.3002e-02,\n",
       "           -4.2157e-02, -6.5157e-03]],\n",
       "\n",
       "         [[ 9.9896e-02,  5.5257e-02,  1.1160e-01,  ...,  2.4678e-01,\n",
       "            2.6183e-01,  2.6050e-01],\n",
       "          [ 6.6815e-02,  6.0311e-02,  2.7421e-02,  ...,  5.1445e-02,\n",
       "            1.9910e-01,  1.5020e-01],\n",
       "          [-5.4155e-02, -2.6448e-02,  1.8471e-02,  ...,  4.4953e-02,\n",
       "            5.2052e-02,  9.9970e-02],\n",
       "          ...,\n",
       "          [-8.0390e-02,  9.6060e-03,  3.2053e-03,  ..., -2.4072e-02,\n",
       "           -1.3254e-02,  5.1122e-02],\n",
       "          [-7.6044e-02, -1.5634e-01, -3.8866e-02,  ...,  3.6298e-02,\n",
       "           -2.8430e-02, -3.1116e-02],\n",
       "          [-2.0172e-01, -1.2548e-01, -1.6885e-01,  ..., -1.0246e-01,\n",
       "           -3.9040e-03, -5.7205e-02]],\n",
       "\n",
       "         [[ 2.3829e-02,  7.1091e-02,  1.1541e-01,  ...,  2.7909e-01,\n",
       "            2.7917e-01,  3.0292e-01],\n",
       "          [ 5.7570e-02,  9.1223e-02,  8.3723e-03,  ...,  9.3076e-02,\n",
       "            1.4864e-01,  1.2429e-01],\n",
       "          [-8.1916e-02, -2.0927e-02, -5.5350e-03,  ..., -1.6790e-02,\n",
       "            2.7323e-02,  1.0747e-01],\n",
       "          ...,\n",
       "          [-3.7748e-02, -6.6360e-03, -3.9432e-02,  ...,  5.6089e-02,\n",
       "            5.1253e-02,  3.2178e-02],\n",
       "          [-9.4359e-02, -5.4161e-02, -1.3246e-01,  ..., -4.6012e-02,\n",
       "           -4.1995e-02, -2.3108e-02],\n",
       "          [-1.8950e-01, -9.3417e-02, -1.3836e-01,  ..., -3.6175e-02,\n",
       "           -3.5785e-02, -3.4262e-02]]],\n",
       "\n",
       "\n",
       "        [[[-2.2726e-01, -1.6055e-01, -1.3217e-01,  ..., -1.5329e-01,\n",
       "           -7.7808e-02, -8.3776e-02],\n",
       "          [-1.6790e-01, -1.5465e-01, -1.2846e-02,  ..., -5.9929e-02,\n",
       "           -7.3069e-02, -1.2721e-01],\n",
       "          [-1.5921e-01, -1.4572e-01, -6.2602e-02,  ..., -5.7417e-02,\n",
       "           -2.5846e-02, -3.5750e-02],\n",
       "          ...,\n",
       "          [-1.2132e-01, -4.0177e-02,  4.1464e-02,  ...,  1.9549e-02,\n",
       "           -8.1343e-03,  3.4358e-02],\n",
       "          [-1.7815e-02, -7.0942e-02,  1.6982e-02,  ..., -1.7169e-02,\n",
       "            1.3713e-03,  7.9326e-02],\n",
       "          [-1.6158e-02, -5.4412e-02, -4.2977e-02,  ...,  2.5196e-02,\n",
       "            8.6062e-02,  5.1531e-02]],\n",
       "\n",
       "         [[-2.3354e-01, -1.5043e-01, -1.3498e-01,  ..., -1.0697e-01,\n",
       "           -1.8901e-01, -1.4548e-01],\n",
       "          [-2.3917e-01, -9.4009e-02, -9.7481e-02,  ..., -6.8993e-02,\n",
       "           -1.2572e-01, -1.2719e-01],\n",
       "          [-1.0738e-01, -1.1342e-01, -6.5899e-02,  ..., -8.9393e-02,\n",
       "           -2.8954e-02, -2.6909e-02],\n",
       "          ...,\n",
       "          [-9.1030e-02,  6.5358e-03, -4.7729e-02,  ..., -2.2988e-02,\n",
       "            8.3211e-03,  9.4245e-02],\n",
       "          [-1.1199e-01, -7.8334e-02, -4.5278e-02,  ...,  9.2442e-02,\n",
       "           -1.4996e-03,  6.6930e-04],\n",
       "          [-3.5638e-02, -9.0688e-02, -6.5398e-02,  ...,  8.7694e-02,\n",
       "            7.2823e-02, -1.8177e-02]],\n",
       "\n",
       "         [[-1.8184e-01, -1.6458e-01, -2.6018e-02,  ..., -1.6284e-01,\n",
       "           -1.4948e-01, -1.4397e-01],\n",
       "          [-2.1104e-01, -1.1332e-01, -3.2749e-02,  ..., -1.1035e-01,\n",
       "           -1.5857e-01, -1.1878e-01],\n",
       "          [-1.7456e-01, -1.1065e-01, -8.1006e-02,  ..., -7.9524e-02,\n",
       "           -7.9340e-02, -2.5788e-02],\n",
       "          ...,\n",
       "          [-8.4647e-02, -6.9193e-03,  2.1809e-02,  ...,  1.8315e-02,\n",
       "           -1.1726e-02,  8.0891e-02],\n",
       "          [-6.0903e-03,  9.2942e-03,  1.8974e-02,  ..., -2.4866e-02,\n",
       "            3.3367e-02,  6.3155e-02],\n",
       "          [-1.0385e-01, -7.1527e-02, -1.5229e-02,  ...,  2.7436e-02,\n",
       "            7.1195e-02,  1.2559e-02]]],\n",
       "\n",
       "\n",
       "        [[[ 1.8541e-01,  1.4720e-01,  2.5873e-01,  ...,  4.7418e-02,\n",
       "            1.9250e-02, -1.0015e-01],\n",
       "          [ 1.6102e-01,  1.4245e-01,  1.6503e-01,  ...,  8.0192e-02,\n",
       "           -4.3045e-02, -6.8088e-02],\n",
       "          [ 1.4751e-01,  1.2287e-01,  1.2053e-01,  ...,  1.3411e-01,\n",
       "            7.6344e-02, -9.8003e-02],\n",
       "          ...,\n",
       "          [-6.8477e-03, -8.4553e-02, -7.9521e-02,  ...,  2.9189e-02,\n",
       "           -1.0659e-02,  8.4722e-03],\n",
       "          [-5.1167e-02, -1.2334e-01, -3.5124e-02,  ...,  1.4719e-02,\n",
       "            5.5642e-02,  4.9737e-02],\n",
       "          [-3.5996e-02, -1.1166e-01, -1.2086e-02,  ...,  7.0638e-02,\n",
       "           -2.9577e-03,  3.5657e-02]],\n",
       "\n",
       "         [[ 2.2906e-01,  1.5490e-01,  1.8589e-01,  ...,  7.2870e-03,\n",
       "           -4.1960e-02, -5.8662e-02],\n",
       "          [ 1.9869e-01,  1.7856e-01,  1.5804e-01,  ...,  9.8222e-02,\n",
       "            2.8421e-02, -1.1425e-01],\n",
       "          [ 9.0776e-02,  1.6233e-01,  1.2683e-01,  ...,  1.3609e-01,\n",
       "            5.7117e-02, -2.5250e-02],\n",
       "          ...,\n",
       "          [-1.2615e-01, -1.3758e-02, -6.3869e-02,  ...,  5.1375e-02,\n",
       "            3.4370e-02, -5.7599e-04],\n",
       "          [-1.0918e-01, -1.1926e-01, -7.7984e-02,  ...,  9.1377e-04,\n",
       "           -6.3146e-03,  7.5275e-02],\n",
       "          [-3.8392e-02, -2.9005e-02, -2.0259e-02,  ...,  5.1060e-02,\n",
       "           -2.6268e-02,  5.5811e-02]],\n",
       "\n",
       "         [[ 2.0549e-01,  2.5570e-01,  2.8895e-01,  ...,  1.0849e-01,\n",
       "            2.3557e-02, -9.9810e-02],\n",
       "          [ 9.4289e-02,  2.3866e-01,  1.9002e-01,  ...,  5.2562e-02,\n",
       "           -5.9690e-02, -4.9977e-02],\n",
       "          [ 1.0462e-01,  1.7823e-01,  1.5263e-01,  ...,  1.2388e-01,\n",
       "            5.9634e-02, -2.1285e-02],\n",
       "          ...,\n",
       "          [-7.1756e-02, -9.3961e-02, -1.6418e-02,  ...,  2.1617e-02,\n",
       "            1.9303e-02, -7.5551e-02],\n",
       "          [-2.6933e-02, -5.0704e-02, -5.6763e-02,  ..., -4.4473e-03,\n",
       "            1.8784e-02, -1.6283e-02],\n",
       "          [-1.2563e-01, -5.5849e-02, -4.1545e-02,  ...,  9.2630e-03,\n",
       "            1.4008e-02,  4.6543e-02]]],\n",
       "\n",
       "\n",
       "        [[[ 7.2948e-02, -5.0297e-03, -9.5311e-02,  ..., -2.2611e-01,\n",
       "           -1.9363e-01, -5.2183e-02],\n",
       "          [ 9.1886e-03,  7.3022e-02, -7.3908e-02,  ..., -2.2780e-01,\n",
       "           -9.0305e-02, -4.5083e-02],\n",
       "          [ 8.1163e-02,  8.6958e-02, -6.7066e-02,  ..., -1.3937e-01,\n",
       "           -8.6716e-02,  4.2491e-02],\n",
       "          ...,\n",
       "          [ 1.1895e-01, -8.6960e-05,  5.3851e-02,  ..., -8.7827e-02,\n",
       "           -9.4325e-02, -7.1561e-02],\n",
       "          [ 3.6767e-02,  3.1232e-03,  6.5480e-02,  ..., -7.0795e-02,\n",
       "           -1.0636e-01, -1.5064e-01],\n",
       "          [ 1.9138e-02,  6.7843e-03,  2.7486e-02,  ..., -1.7454e-01,\n",
       "           -1.4136e-01, -1.9966e-01]],\n",
       "\n",
       "         [[ 2.7920e-02,  4.0527e-02, -3.9371e-02,  ..., -2.5246e-01,\n",
       "           -2.1920e-01, -2.8435e-02],\n",
       "          [ 6.1656e-02, -1.5727e-02, -6.6222e-02,  ..., -1.9815e-01,\n",
       "           -1.2072e-01, -8.1679e-02],\n",
       "          [ 5.1695e-02,  8.0483e-02,  7.4753e-03,  ..., -7.2136e-02,\n",
       "           -9.6550e-02,  2.8818e-03],\n",
       "          ...,\n",
       "          [ 5.9685e-02,  1.0474e-01, -4.0188e-02,  ..., -3.9373e-02,\n",
       "           -6.2418e-02, -6.9178e-02],\n",
       "          [ 5.4509e-02,  8.1713e-02, -3.0402e-02,  ..., -5.0889e-02,\n",
       "           -9.2696e-02, -5.2293e-02],\n",
       "          [ 8.9390e-02,  3.0308e-02,  1.1745e-02,  ..., -1.6698e-01,\n",
       "           -1.1038e-01, -1.5817e-01]],\n",
       "\n",
       "         [[ 6.7546e-02, -1.6384e-02, -5.8296e-02,  ..., -1.7597e-01,\n",
       "           -1.9303e-01, -7.1055e-02],\n",
       "          [ 5.1676e-02,  2.0851e-02, -5.7961e-03,  ..., -2.0987e-01,\n",
       "           -1.6685e-01,  1.3815e-02],\n",
       "          [ 5.3260e-02,  9.9922e-02, -3.2465e-02,  ..., -1.0257e-01,\n",
       "           -1.7507e-02,  5.7940e-02],\n",
       "          ...,\n",
       "          [ 3.6576e-02,  1.1977e-01,  2.9952e-02,  ..., -6.2111e-02,\n",
       "           -2.9806e-02,  2.2611e-02],\n",
       "          [-9.1445e-05,  4.6523e-02,  2.8570e-02,  ..., -6.4583e-02,\n",
       "           -9.0164e-02, -9.4137e-02],\n",
       "          [ 1.2428e-02, -2.8556e-02,  1.0065e-02,  ..., -1.6109e-01,\n",
       "           -1.2655e-01, -1.2723e-01]]],\n",
       "\n",
       "\n",
       "        [[[-2.5058e-02,  4.2456e-02, -4.8368e-02,  ..., -2.2880e-01,\n",
       "           -2.7389e-01, -2.9117e-01],\n",
       "          [-1.5872e-02,  2.5002e-02, -3.5630e-02,  ..., -2.1079e-01,\n",
       "           -2.7201e-01, -2.4384e-01],\n",
       "          [-4.4969e-02, -6.1470e-02,  4.8532e-02,  ..., -1.7754e-01,\n",
       "           -1.5898e-01, -2.4520e-01],\n",
       "          ...,\n",
       "          [-9.1320e-03, -4.9170e-03, -5.5330e-02,  ..., -4.7776e-02,\n",
       "           -3.6281e-02, -7.0633e-02],\n",
       "          [-4.1868e-02,  3.7470e-02, -2.5711e-02,  ..., -6.4652e-03,\n",
       "            6.9636e-02, -2.2977e-02],\n",
       "          [-3.7126e-02,  8.1601e-03,  5.9761e-02,  ..., -5.6832e-03,\n",
       "           -9.0633e-03,  8.7804e-02]],\n",
       "\n",
       "         [[ 2.1084e-02,  3.3918e-02, -5.1926e-02,  ..., -1.9948e-01,\n",
       "           -2.1582e-01, -3.2535e-01],\n",
       "          [ 1.3869e-02, -7.5986e-03, -3.4964e-03,  ..., -1.7581e-01,\n",
       "           -2.2602e-01, -2.3329e-01],\n",
       "          [-4.4648e-02,  4.4810e-02, -3.6605e-02,  ..., -1.7890e-01,\n",
       "           -1.2856e-01, -1.9189e-01],\n",
       "          ...,\n",
       "          [-5.3627e-02, -3.8037e-02,  2.7375e-02,  ..., -6.4448e-02,\n",
       "           -8.4702e-02, -5.8912e-02],\n",
       "          [-7.5123e-02,  5.2217e-02, -3.5087e-02,  ..., -4.2509e-02,\n",
       "           -4.1850e-02, -3.7910e-02],\n",
       "          [-3.1696e-03, -4.2108e-02,  6.0555e-02,  ...,  2.5411e-03,\n",
       "            6.0245e-02,  4.1728e-02]],\n",
       "\n",
       "         [[ 5.1332e-02, -3.6511e-02, -2.4572e-02,  ..., -2.7295e-01,\n",
       "           -2.4353e-01, -2.5208e-01],\n",
       "          [-4.6851e-03, -1.3332e-02, -5.0418e-03,  ..., -2.1196e-01,\n",
       "           -2.6570e-01, -2.6874e-01],\n",
       "          [ 8.8724e-03, -3.9369e-02,  2.1554e-02,  ..., -1.2571e-01,\n",
       "           -1.6831e-01, -2.2872e-01],\n",
       "          ...,\n",
       "          [-1.0120e-02, -7.3047e-02,  4.4443e-02,  ..., -8.1115e-02,\n",
       "            2.8500e-02,  3.8303e-02],\n",
       "          [-6.7953e-02, -3.7434e-02,  1.9671e-02,  ...,  5.5274e-02,\n",
       "           -5.1167e-02,  2.5844e-02],\n",
       "          [-1.0848e-03,  8.2177e-03,  3.7994e-02,  ...,  1.9779e-02,\n",
       "           -4.0101e-03,  6.7839e-02]]],\n",
       "\n",
       "\n",
       "        [[[ 6.4202e-02,  8.0109e-02,  1.6863e-02,  ..., -7.5839e-03,\n",
       "           -8.4534e-02, -3.9530e-02],\n",
       "          [ 1.5039e-01,  1.3214e-02,  6.5571e-02,  ...,  2.1964e-02,\n",
       "           -7.3699e-02, -9.0846e-02],\n",
       "          [ 7.7477e-02,  2.8292e-02,  3.6166e-02,  ..., -4.6385e-02,\n",
       "           -8.2992e-02, -2.8122e-02],\n",
       "          ...,\n",
       "          [ 1.4060e-01,  1.4271e-01,  4.0379e-02,  ...,  7.7283e-02,\n",
       "            1.8092e-02, -2.6872e-02],\n",
       "          [ 1.3985e-01,  8.0143e-02,  1.3371e-02,  ..., -2.0160e-02,\n",
       "            4.8425e-02,  6.2731e-03],\n",
       "          [ 1.0581e-01,  1.3568e-01, -5.2750e-03,  ...,  3.9136e-02,\n",
       "            3.9077e-02, -5.0493e-03]],\n",
       "\n",
       "         [[ 8.5234e-02,  1.0380e-01,  2.7478e-02,  ..., -5.2641e-02,\n",
       "           -2.5253e-02, -4.4753e-02],\n",
       "          [ 6.8499e-02,  5.7355e-02,  2.2820e-02,  ..., -2.2703e-02,\n",
       "           -8.8314e-02, -4.2179e-02],\n",
       "          [ 1.0848e-01,  6.2879e-02,  5.9973e-02,  ..., -2.8301e-02,\n",
       "            1.9235e-02, -7.3728e-02],\n",
       "          ...,\n",
       "          [ 8.4692e-02,  5.3575e-02, -1.6679e-02,  ..., -2.8708e-02,\n",
       "            1.4643e-02, -5.2568e-02],\n",
       "          [ 1.3416e-01,  3.3002e-02,  9.4121e-02,  ..., -5.7379e-03,\n",
       "            2.9173e-03,  6.0965e-02],\n",
       "          [ 1.1058e-01,  3.6521e-02,  8.3165e-02,  ...,  8.4458e-02,\n",
       "            9.2172e-02, -2.6767e-02]],\n",
       "\n",
       "         [[ 5.1239e-02,  2.0415e-02,  6.5360e-03,  ..., -8.5667e-02,\n",
       "           -5.4862e-02, -7.0159e-02],\n",
       "          [ 1.0348e-01,  1.3292e-02,  4.5024e-02,  ..., -6.1562e-03,\n",
       "           -8.9628e-02, -1.2759e-02],\n",
       "          [ 6.1715e-02,  8.0078e-02, -1.3355e-02,  ..., -6.5345e-03,\n",
       "           -1.7288e-02, -3.7347e-02],\n",
       "          ...,\n",
       "          [ 1.9938e-01,  6.5279e-02, -2.0601e-03,  ...,  8.9755e-02,\n",
       "            4.7912e-02, -4.6946e-02],\n",
       "          [ 1.0923e-01,  6.4114e-02,  3.2618e-02,  ..., -7.5545e-03,\n",
       "            8.6265e-02,  1.9957e-02],\n",
       "          [ 1.5546e-01,  3.3052e-02,  3.8733e-02,  ...,  6.5241e-02,\n",
       "            3.1193e-02, -4.4703e-03]]]], device='cuda:0', requires_grad=True)"
      ]
     },
     "execution_count": 35,
     "metadata": {},
     "output_type": "execute_result"
    }
   ],
   "source": [
    "model.sc1.conv1.weight"
   ]
  },
  {
   "cell_type": "code",
   "execution_count": 30,
   "metadata": {},
   "outputs": [
    {
     "data": {
      "text/plain": [
       "Net(\n",
       "  (sc1): SCModule(\n",
       "    (conv1): Conv2d(3, 6, kernel_size=(9, 9), stride=(9, 9), padding=(4, 4))\n",
       "    (conv2): Conv2d(3, 6, kernel_size=(3, 3), stride=(3, 3), padding=(1, 1))\n",
       "    (conv3): Conv2d(3, 6, kernel_size=(1, 1), stride=(1, 1))\n",
       "  )\n",
       "  (bn1_1): BatchNorm2d(18, eps=1e-05, momentum=0.1, affine=True, track_running_stats=True)\n",
       "  (bn1_2): BatchNorm2d(18, eps=1e-05, momentum=0.1, affine=True, track_running_stats=True)\n",
       "  (bn1_3): BatchNorm2d(18, eps=1e-05, momentum=0.1, affine=True, track_running_stats=True)\n",
       "  (sc2): SCModule(\n",
       "    (conv1): Conv2d(18, 10, kernel_size=(9, 9), stride=(9, 9), padding=(4, 4))\n",
       "    (conv2): Conv2d(18, 10, kernel_size=(3, 3), stride=(3, 3), padding=(1, 1))\n",
       "    (conv3): Conv2d(18, 10, kernel_size=(1, 1), stride=(1, 1))\n",
       "  )\n",
       "  (bn2_1): BatchNorm2d(30, eps=1e-05, momentum=0.1, affine=True, track_running_stats=True)\n",
       "  (bn2_2): BatchNorm2d(30, eps=1e-05, momentum=0.1, affine=True, track_running_stats=True)\n",
       "  (bn2_3): BatchNorm2d(30, eps=1e-05, momentum=0.1, affine=True, track_running_stats=True)\n",
       "  (sc3): SCModule(\n",
       "    (conv1): Conv2d(30, 15, kernel_size=(9, 9), stride=(9, 9), padding=(4, 4))\n",
       "    (conv2): Conv2d(30, 15, kernel_size=(3, 3), stride=(3, 3), padding=(1, 1))\n",
       "    (conv3): Conv2d(30, 15, kernel_size=(1, 1), stride=(1, 1))\n",
       "  )\n",
       "  (bn3_1): BatchNorm2d(45, eps=1e-05, momentum=0.1, affine=True, track_running_stats=True)\n",
       "  (bn3_2): BatchNorm2d(45, eps=1e-05, momentum=0.1, affine=True, track_running_stats=True)\n",
       "  (bn3_3): BatchNorm2d(45, eps=1e-05, momentum=0.1, affine=True, track_running_stats=True)\n",
       "  (sc4): SCModule(\n",
       "    (conv1): Conv2d(45, 20, kernel_size=(9, 9), stride=(9, 9), padding=(4, 4))\n",
       "    (conv2): Conv2d(45, 20, kernel_size=(3, 3), stride=(3, 3), padding=(1, 1))\n",
       "    (conv3): Conv2d(45, 20, kernel_size=(1, 1), stride=(1, 1))\n",
       "  )\n",
       "  (bn4_1): BatchNorm2d(60, eps=1e-05, momentum=0.1, affine=True, track_running_stats=True)\n",
       "  (bn4_2): BatchNorm2d(60, eps=1e-05, momentum=0.1, affine=True, track_running_stats=True)\n",
       "  (bn4_3): BatchNorm2d(60, eps=1e-05, momentum=0.1, affine=True, track_running_stats=True)\n",
       "  (sc5): SCModule(\n",
       "    (conv1): Conv2d(60, 90, kernel_size=(9, 9), stride=(9, 9), padding=(4, 4))\n",
       "    (conv2): Conv2d(60, 90, kernel_size=(3, 3), stride=(3, 3), padding=(1, 1))\n",
       "    (conv3): Conv2d(60, 90, kernel_size=(1, 1), stride=(1, 1))\n",
       "  )\n",
       "  (bn5): BatchNorm2d(90, eps=1e-05, momentum=0.1, affine=True, track_running_stats=True)\n",
       "  (fc2): Linear(in_features=810, out_features=120, bias=True)\n",
       "  (fc3): Linear(in_features=120, out_features=84, bias=True)\n",
       "  (fc4): Linear(in_features=84, out_features=10, bias=True)\n",
       ")"
      ]
     },
     "execution_count": 30,
     "metadata": {},
     "output_type": "execute_result"
    }
   ],
   "source": [
    "model.eval()"
   ]
  },
  {
   "cell_type": "code",
   "execution_count": null,
   "metadata": {},
   "outputs": [],
   "source": [
    "len(trainloader)"
   ]
  },
  {
   "cell_type": "code",
   "execution_count": null,
   "metadata": {
    "colab": {},
    "colab_type": "code",
    "id": "2moJYh4OpSP6"
   },
   "outputs": [],
   "source": [
    "correct = 0\n",
    "total = 0\n",
    "with torch.no_grad():\n",
    "    for images in tqdm(testloader):\n",
    "        c1 = images[0][0].to(device)\n",
    "        c2 = images[1][0].to(device)\n",
    "        c3 = images[2][0].to(device)\n",
    "        c4 = images[3][0].to(device)\n",
    "        c5 = images[4][0].to(device)\n",
    "        labels = images[0][1].to(device)\n",
    "        outputs = model(c1,c2,c3,c4,c5)\n",
    "        _, predicted = torch.max(outputs.data, 1)\n",
    "        total += labels.size(0)\n",
    "        correct += (predicted == labels).sum().item()\n",
    "        print(total,correct,end='')\n",
    "\n",
    "print('Accuracy of the network on the 10000 test images: %d %%' % (100 * correct / total))"
   ]
  },
  {
   "cell_type": "code",
   "execution_count": null,
   "metadata": {},
   "outputs": [],
   "source": [
    "c1.size()[0]"
   ]
  },
  {
   "cell_type": "code",
   "execution_count": null,
   "metadata": {},
   "outputs": [],
   "source": [
    "class_correct = list(0. for i in range(10))\n",
    "class_total = list(0. for i in range(10))\n",
    "with torch.no_grad():\n",
    "    for images in tqdm(testloader):\n",
    "        c1 = images[0][0].to(device)\n",
    "        c2 = images[1][0].to(device)\n",
    "        c3 = images[2][0].to(device)\n",
    "        c4 = images[3][0].to(device)\n",
    "        c5 = images[4][0].to(device)\n",
    "        labels = images[0][1].to(device)\n",
    "        outputs = model(c1,c2,c3,c4,c5)\n",
    "        _, predicted = torch.max(outputs, 1)\n",
    "        c = (predicted == labels).squeeze()\n",
    "        for i in range(len(labels)):\n",
    "            label = labels[i]\n",
    "            class_correct[label] += c[i].item()\n",
    "            class_total[label] += 1\n",
    "\n",
    "\n",
    "for i in range(10):\n",
    "    print('Accuracy of %5s : %2d %%' % (i, 100 * class_correct[i] / class_total[i]))"
   ]
  },
  {
   "cell_type": "code",
   "execution_count": null,
   "metadata": {},
   "outputs": [],
   "source": [
    "for i in range(10):\n",
    "    print('Accuracy of %5s : %2d %%' % (i, 100 * class_correct[i] / class_total[i]))"
   ]
  },
  {
   "cell_type": "code",
   "execution_count": null,
   "metadata": {},
   "outputs": [],
   "source": [
    "labels"
   ]
  },
  {
   "cell_type": "code",
   "execution_count": null,
   "metadata": {},
   "outputs": [],
   "source": [
    "output.size()"
   ]
  },
  {
   "cell_type": "code",
   "execution_count": null,
   "metadata": {},
   "outputs": [],
   "source": [
    "c6.size()"
   ]
  },
  {
   "cell_type": "code",
   "execution_count": 36,
   "metadata": {},
   "outputs": [],
   "source": [
    "SIZED_VAL_PATH = 'sized_val'\n",
    "\n",
    "new_path = []\n",
    "\n",
    "for i in os.listdir('mnist_sized'):\n",
    "    #print(i)\n",
    "    temp = []\n",
    "    for j in range(1,6):\n",
    "        temp.append(os.path.join(SIZED_VAL_PATH,str(i),'ds'+str(j)))\n",
    "    new_path.append(temp)\n",
    "\n",
    "#new_path"
   ]
  },
  {
   "cell_type": "code",
   "execution_count": 37,
   "metadata": {},
   "outputs": [
    {
     "data": {
      "text/plain": [
       "[['sized_val/1/ds1',\n",
       "  'sized_val/1/ds2',\n",
       "  'sized_val/1/ds3',\n",
       "  'sized_val/1/ds4',\n",
       "  'sized_val/1/ds5'],\n",
       " ['sized_val/2/ds1',\n",
       "  'sized_val/2/ds2',\n",
       "  'sized_val/2/ds3',\n",
       "  'sized_val/2/ds4',\n",
       "  'sized_val/2/ds5'],\n",
       " ['sized_val/3/ds1',\n",
       "  'sized_val/3/ds2',\n",
       "  'sized_val/3/ds3',\n",
       "  'sized_val/3/ds4',\n",
       "  'sized_val/3/ds5'],\n",
       " ['sized_val/4/ds1',\n",
       "  'sized_val/4/ds2',\n",
       "  'sized_val/4/ds3',\n",
       "  'sized_val/4/ds4',\n",
       "  'sized_val/4/ds5'],\n",
       " ['sized_val/5/ds1',\n",
       "  'sized_val/5/ds2',\n",
       "  'sized_val/5/ds3',\n",
       "  'sized_val/5/ds4',\n",
       "  'sized_val/5/ds5'],\n",
       " ['sized_val/6/ds1',\n",
       "  'sized_val/6/ds2',\n",
       "  'sized_val/6/ds3',\n",
       "  'sized_val/6/ds4',\n",
       "  'sized_val/6/ds5'],\n",
       " ['sized_val/7/ds1',\n",
       "  'sized_val/7/ds2',\n",
       "  'sized_val/7/ds3',\n",
       "  'sized_val/7/ds4',\n",
       "  'sized_val/7/ds5'],\n",
       " ['sized_val/8/ds1',\n",
       "  'sized_val/8/ds2',\n",
       "  'sized_val/8/ds3',\n",
       "  'sized_val/8/ds4',\n",
       "  'sized_val/8/ds5'],\n",
       " ['sized_val/9/ds1',\n",
       "  'sized_val/9/ds2',\n",
       "  'sized_val/9/ds3',\n",
       "  'sized_val/9/ds4',\n",
       "  'sized_val/9/ds5'],\n",
       " ['sized_val/10/ds1',\n",
       "  'sized_val/10/ds2',\n",
       "  'sized_val/10/ds3',\n",
       "  'sized_val/10/ds4',\n",
       "  'sized_val/10/ds5'],\n",
       " ['sized_val/11/ds1',\n",
       "  'sized_val/11/ds2',\n",
       "  'sized_val/11/ds3',\n",
       "  'sized_val/11/ds4',\n",
       "  'sized_val/11/ds5'],\n",
       " ['sized_val/12/ds1',\n",
       "  'sized_val/12/ds2',\n",
       "  'sized_val/12/ds3',\n",
       "  'sized_val/12/ds4',\n",
       "  'sized_val/12/ds5'],\n",
       " ['sized_val/13/ds1',\n",
       "  'sized_val/13/ds2',\n",
       "  'sized_val/13/ds3',\n",
       "  'sized_val/13/ds4',\n",
       "  'sized_val/13/ds5'],\n",
       " ['sized_val/14/ds1',\n",
       "  'sized_val/14/ds2',\n",
       "  'sized_val/14/ds3',\n",
       "  'sized_val/14/ds4',\n",
       "  'sized_val/14/ds5'],\n",
       " ['sized_val/15/ds1',\n",
       "  'sized_val/15/ds2',\n",
       "  'sized_val/15/ds3',\n",
       "  'sized_val/15/ds4',\n",
       "  'sized_val/15/ds5'],\n",
       " ['sized_val/16/ds1',\n",
       "  'sized_val/16/ds2',\n",
       "  'sized_val/16/ds3',\n",
       "  'sized_val/16/ds4',\n",
       "  'sized_val/16/ds5'],\n",
       " ['sized_val/17/ds1',\n",
       "  'sized_val/17/ds2',\n",
       "  'sized_val/17/ds3',\n",
       "  'sized_val/17/ds4',\n",
       "  'sized_val/17/ds5'],\n",
       " ['sized_val/18/ds1',\n",
       "  'sized_val/18/ds2',\n",
       "  'sized_val/18/ds3',\n",
       "  'sized_val/18/ds4',\n",
       "  'sized_val/18/ds5'],\n",
       " ['sized_val/19/ds1',\n",
       "  'sized_val/19/ds2',\n",
       "  'sized_val/19/ds3',\n",
       "  'sized_val/19/ds4',\n",
       "  'sized_val/19/ds5'],\n",
       " ['sized_val/20/ds1',\n",
       "  'sized_val/20/ds2',\n",
       "  'sized_val/20/ds3',\n",
       "  'sized_val/20/ds4',\n",
       "  'sized_val/20/ds5'],\n",
       " ['sized_val/21/ds1',\n",
       "  'sized_val/21/ds2',\n",
       "  'sized_val/21/ds3',\n",
       "  'sized_val/21/ds4',\n",
       "  'sized_val/21/ds5'],\n",
       " ['sized_val/22/ds1',\n",
       "  'sized_val/22/ds2',\n",
       "  'sized_val/22/ds3',\n",
       "  'sized_val/22/ds4',\n",
       "  'sized_val/22/ds5'],\n",
       " ['sized_val/23/ds1',\n",
       "  'sized_val/23/ds2',\n",
       "  'sized_val/23/ds3',\n",
       "  'sized_val/23/ds4',\n",
       "  'sized_val/23/ds5'],\n",
       " ['sized_val/24/ds1',\n",
       "  'sized_val/24/ds2',\n",
       "  'sized_val/24/ds3',\n",
       "  'sized_val/24/ds4',\n",
       "  'sized_val/24/ds5'],\n",
       " ['sized_val/25/ds1',\n",
       "  'sized_val/25/ds2',\n",
       "  'sized_val/25/ds3',\n",
       "  'sized_val/25/ds4',\n",
       "  'sized_val/25/ds5'],\n",
       " ['sized_val/26/ds1',\n",
       "  'sized_val/26/ds2',\n",
       "  'sized_val/26/ds3',\n",
       "  'sized_val/26/ds4',\n",
       "  'sized_val/26/ds5'],\n",
       " ['sized_val/27/ds1',\n",
       "  'sized_val/27/ds2',\n",
       "  'sized_val/27/ds3',\n",
       "  'sized_val/27/ds4',\n",
       "  'sized_val/27/ds5'],\n",
       " ['sized_val/28/ds1',\n",
       "  'sized_val/28/ds2',\n",
       "  'sized_val/28/ds3',\n",
       "  'sized_val/28/ds4',\n",
       "  'sized_val/28/ds5'],\n",
       " ['sized_val/29/ds1',\n",
       "  'sized_val/29/ds2',\n",
       "  'sized_val/29/ds3',\n",
       "  'sized_val/29/ds4',\n",
       "  'sized_val/29/ds5'],\n",
       " ['sized_val/30/ds1',\n",
       "  'sized_val/30/ds2',\n",
       "  'sized_val/30/ds3',\n",
       "  'sized_val/30/ds4',\n",
       "  'sized_val/30/ds5'],\n",
       " ['sized_val/31/ds1',\n",
       "  'sized_val/31/ds2',\n",
       "  'sized_val/31/ds3',\n",
       "  'sized_val/31/ds4',\n",
       "  'sized_val/31/ds5'],\n",
       " ['sized_val/32/ds1',\n",
       "  'sized_val/32/ds2',\n",
       "  'sized_val/32/ds3',\n",
       "  'sized_val/32/ds4',\n",
       "  'sized_val/32/ds5'],\n",
       " ['sized_val/33/ds1',\n",
       "  'sized_val/33/ds2',\n",
       "  'sized_val/33/ds3',\n",
       "  'sized_val/33/ds4',\n",
       "  'sized_val/33/ds5'],\n",
       " ['sized_val/34/ds1',\n",
       "  'sized_val/34/ds2',\n",
       "  'sized_val/34/ds3',\n",
       "  'sized_val/34/ds4',\n",
       "  'sized_val/34/ds5'],\n",
       " ['sized_val/35/ds1',\n",
       "  'sized_val/35/ds2',\n",
       "  'sized_val/35/ds3',\n",
       "  'sized_val/35/ds4',\n",
       "  'sized_val/35/ds5'],\n",
       " ['sized_val/36/ds1',\n",
       "  'sized_val/36/ds2',\n",
       "  'sized_val/36/ds3',\n",
       "  'sized_val/36/ds4',\n",
       "  'sized_val/36/ds5'],\n",
       " ['sized_val/37/ds1',\n",
       "  'sized_val/37/ds2',\n",
       "  'sized_val/37/ds3',\n",
       "  'sized_val/37/ds4',\n",
       "  'sized_val/37/ds5'],\n",
       " ['sized_val/38/ds1',\n",
       "  'sized_val/38/ds2',\n",
       "  'sized_val/38/ds3',\n",
       "  'sized_val/38/ds4',\n",
       "  'sized_val/38/ds5'],\n",
       " ['sized_val/39/ds1',\n",
       "  'sized_val/39/ds2',\n",
       "  'sized_val/39/ds3',\n",
       "  'sized_val/39/ds4',\n",
       "  'sized_val/39/ds5'],\n",
       " ['sized_val/40/ds1',\n",
       "  'sized_val/40/ds2',\n",
       "  'sized_val/40/ds3',\n",
       "  'sized_val/40/ds4',\n",
       "  'sized_val/40/ds5'],\n",
       " ['sized_val/41/ds1',\n",
       "  'sized_val/41/ds2',\n",
       "  'sized_val/41/ds3',\n",
       "  'sized_val/41/ds4',\n",
       "  'sized_val/41/ds5'],\n",
       " ['sized_val/42/ds1',\n",
       "  'sized_val/42/ds2',\n",
       "  'sized_val/42/ds3',\n",
       "  'sized_val/42/ds4',\n",
       "  'sized_val/42/ds5'],\n",
       " ['sized_val/43/ds1',\n",
       "  'sized_val/43/ds2',\n",
       "  'sized_val/43/ds3',\n",
       "  'sized_val/43/ds4',\n",
       "  'sized_val/43/ds5'],\n",
       " ['sized_val/44/ds1',\n",
       "  'sized_val/44/ds2',\n",
       "  'sized_val/44/ds3',\n",
       "  'sized_val/44/ds4',\n",
       "  'sized_val/44/ds5'],\n",
       " ['sized_val/45/ds1',\n",
       "  'sized_val/45/ds2',\n",
       "  'sized_val/45/ds3',\n",
       "  'sized_val/45/ds4',\n",
       "  'sized_val/45/ds5'],\n",
       " ['sized_val/46/ds1',\n",
       "  'sized_val/46/ds2',\n",
       "  'sized_val/46/ds3',\n",
       "  'sized_val/46/ds4',\n",
       "  'sized_val/46/ds5'],\n",
       " ['sized_val/47/ds1',\n",
       "  'sized_val/47/ds2',\n",
       "  'sized_val/47/ds3',\n",
       "  'sized_val/47/ds4',\n",
       "  'sized_val/47/ds5'],\n",
       " ['sized_val/48/ds1',\n",
       "  'sized_val/48/ds2',\n",
       "  'sized_val/48/ds3',\n",
       "  'sized_val/48/ds4',\n",
       "  'sized_val/48/ds5'],\n",
       " ['sized_val/49/ds1',\n",
       "  'sized_val/49/ds2',\n",
       "  'sized_val/49/ds3',\n",
       "  'sized_val/49/ds4',\n",
       "  'sized_val/49/ds5'],\n",
       " ['sized_val/50/ds1',\n",
       "  'sized_val/50/ds2',\n",
       "  'sized_val/50/ds3',\n",
       "  'sized_val/50/ds4',\n",
       "  'sized_val/50/ds5'],\n",
       " ['sized_val/51/ds1',\n",
       "  'sized_val/51/ds2',\n",
       "  'sized_val/51/ds3',\n",
       "  'sized_val/51/ds4',\n",
       "  'sized_val/51/ds5'],\n",
       " ['sized_val/52/ds1',\n",
       "  'sized_val/52/ds2',\n",
       "  'sized_val/52/ds3',\n",
       "  'sized_val/52/ds4',\n",
       "  'sized_val/52/ds5'],\n",
       " ['sized_val/53/ds1',\n",
       "  'sized_val/53/ds2',\n",
       "  'sized_val/53/ds3',\n",
       "  'sized_val/53/ds4',\n",
       "  'sized_val/53/ds5'],\n",
       " ['sized_val/54/ds1',\n",
       "  'sized_val/54/ds2',\n",
       "  'sized_val/54/ds3',\n",
       "  'sized_val/54/ds4',\n",
       "  'sized_val/54/ds5'],\n",
       " ['sized_val/55/ds1',\n",
       "  'sized_val/55/ds2',\n",
       "  'sized_val/55/ds3',\n",
       "  'sized_val/55/ds4',\n",
       "  'sized_val/55/ds5'],\n",
       " ['sized_val/56/ds1',\n",
       "  'sized_val/56/ds2',\n",
       "  'sized_val/56/ds3',\n",
       "  'sized_val/56/ds4',\n",
       "  'sized_val/56/ds5'],\n",
       " ['sized_val/57/ds1',\n",
       "  'sized_val/57/ds2',\n",
       "  'sized_val/57/ds3',\n",
       "  'sized_val/57/ds4',\n",
       "  'sized_val/57/ds5'],\n",
       " ['sized_val/58/ds1',\n",
       "  'sized_val/58/ds2',\n",
       "  'sized_val/58/ds3',\n",
       "  'sized_val/58/ds4',\n",
       "  'sized_val/58/ds5'],\n",
       " ['sized_val/59/ds1',\n",
       "  'sized_val/59/ds2',\n",
       "  'sized_val/59/ds3',\n",
       "  'sized_val/59/ds4',\n",
       "  'sized_val/59/ds5'],\n",
       " ['sized_val/60/ds1',\n",
       "  'sized_val/60/ds2',\n",
       "  'sized_val/60/ds3',\n",
       "  'sized_val/60/ds4',\n",
       "  'sized_val/60/ds5'],\n",
       " ['sized_val/61/ds1',\n",
       "  'sized_val/61/ds2',\n",
       "  'sized_val/61/ds3',\n",
       "  'sized_val/61/ds4',\n",
       "  'sized_val/61/ds5'],\n",
       " ['sized_val/62/ds1',\n",
       "  'sized_val/62/ds2',\n",
       "  'sized_val/62/ds3',\n",
       "  'sized_val/62/ds4',\n",
       "  'sized_val/62/ds5'],\n",
       " ['sized_val/63/ds1',\n",
       "  'sized_val/63/ds2',\n",
       "  'sized_val/63/ds3',\n",
       "  'sized_val/63/ds4',\n",
       "  'sized_val/63/ds5'],\n",
       " ['sized_val/64/ds1',\n",
       "  'sized_val/64/ds2',\n",
       "  'sized_val/64/ds3',\n",
       "  'sized_val/64/ds4',\n",
       "  'sized_val/64/ds5'],\n",
       " ['sized_val/65/ds1',\n",
       "  'sized_val/65/ds2',\n",
       "  'sized_val/65/ds3',\n",
       "  'sized_val/65/ds4',\n",
       "  'sized_val/65/ds5'],\n",
       " ['sized_val/66/ds1',\n",
       "  'sized_val/66/ds2',\n",
       "  'sized_val/66/ds3',\n",
       "  'sized_val/66/ds4',\n",
       "  'sized_val/66/ds5'],\n",
       " ['sized_val/67/ds1',\n",
       "  'sized_val/67/ds2',\n",
       "  'sized_val/67/ds3',\n",
       "  'sized_val/67/ds4',\n",
       "  'sized_val/67/ds5'],\n",
       " ['sized_val/68/ds1',\n",
       "  'sized_val/68/ds2',\n",
       "  'sized_val/68/ds3',\n",
       "  'sized_val/68/ds4',\n",
       "  'sized_val/68/ds5'],\n",
       " ['sized_val/69/ds1',\n",
       "  'sized_val/69/ds2',\n",
       "  'sized_val/69/ds3',\n",
       "  'sized_val/69/ds4',\n",
       "  'sized_val/69/ds5'],\n",
       " ['sized_val/70/ds1',\n",
       "  'sized_val/70/ds2',\n",
       "  'sized_val/70/ds3',\n",
       "  'sized_val/70/ds4',\n",
       "  'sized_val/70/ds5'],\n",
       " ['sized_val/71/ds1',\n",
       "  'sized_val/71/ds2',\n",
       "  'sized_val/71/ds3',\n",
       "  'sized_val/71/ds4',\n",
       "  'sized_val/71/ds5'],\n",
       " ['sized_val/72/ds1',\n",
       "  'sized_val/72/ds2',\n",
       "  'sized_val/72/ds3',\n",
       "  'sized_val/72/ds4',\n",
       "  'sized_val/72/ds5'],\n",
       " ['sized_val/73/ds1',\n",
       "  'sized_val/73/ds2',\n",
       "  'sized_val/73/ds3',\n",
       "  'sized_val/73/ds4',\n",
       "  'sized_val/73/ds5'],\n",
       " ['sized_val/74/ds1',\n",
       "  'sized_val/74/ds2',\n",
       "  'sized_val/74/ds3',\n",
       "  'sized_val/74/ds4',\n",
       "  'sized_val/74/ds5'],\n",
       " ['sized_val/75/ds1',\n",
       "  'sized_val/75/ds2',\n",
       "  'sized_val/75/ds3',\n",
       "  'sized_val/75/ds4',\n",
       "  'sized_val/75/ds5'],\n",
       " ['sized_val/76/ds1',\n",
       "  'sized_val/76/ds2',\n",
       "  'sized_val/76/ds3',\n",
       "  'sized_val/76/ds4',\n",
       "  'sized_val/76/ds5'],\n",
       " ['sized_val/77/ds1',\n",
       "  'sized_val/77/ds2',\n",
       "  'sized_val/77/ds3',\n",
       "  'sized_val/77/ds4',\n",
       "  'sized_val/77/ds5'],\n",
       " ['sized_val/78/ds1',\n",
       "  'sized_val/78/ds2',\n",
       "  'sized_val/78/ds3',\n",
       "  'sized_val/78/ds4',\n",
       "  'sized_val/78/ds5'],\n",
       " ['sized_val/79/ds1',\n",
       "  'sized_val/79/ds2',\n",
       "  'sized_val/79/ds3',\n",
       "  'sized_val/79/ds4',\n",
       "  'sized_val/79/ds5'],\n",
       " ['sized_val/80/ds1',\n",
       "  'sized_val/80/ds2',\n",
       "  'sized_val/80/ds3',\n",
       "  'sized_val/80/ds4',\n",
       "  'sized_val/80/ds5'],\n",
       " ['sized_val/81/ds1',\n",
       "  'sized_val/81/ds2',\n",
       "  'sized_val/81/ds3',\n",
       "  'sized_val/81/ds4',\n",
       "  'sized_val/81/ds5'],\n",
       " ['sized_val/82/ds1',\n",
       "  'sized_val/82/ds2',\n",
       "  'sized_val/82/ds3',\n",
       "  'sized_val/82/ds4',\n",
       "  'sized_val/82/ds5'],\n",
       " ['sized_val/83/ds1',\n",
       "  'sized_val/83/ds2',\n",
       "  'sized_val/83/ds3',\n",
       "  'sized_val/83/ds4',\n",
       "  'sized_val/83/ds5'],\n",
       " ['sized_val/84/ds1',\n",
       "  'sized_val/84/ds2',\n",
       "  'sized_val/84/ds3',\n",
       "  'sized_val/84/ds4',\n",
       "  'sized_val/84/ds5'],\n",
       " ['sized_val/85/ds1',\n",
       "  'sized_val/85/ds2',\n",
       "  'sized_val/85/ds3',\n",
       "  'sized_val/85/ds4',\n",
       "  'sized_val/85/ds5'],\n",
       " ['sized_val/86/ds1',\n",
       "  'sized_val/86/ds2',\n",
       "  'sized_val/86/ds3',\n",
       "  'sized_val/86/ds4',\n",
       "  'sized_val/86/ds5'],\n",
       " ['sized_val/87/ds1',\n",
       "  'sized_val/87/ds2',\n",
       "  'sized_val/87/ds3',\n",
       "  'sized_val/87/ds4',\n",
       "  'sized_val/87/ds5'],\n",
       " ['sized_val/88/ds1',\n",
       "  'sized_val/88/ds2',\n",
       "  'sized_val/88/ds3',\n",
       "  'sized_val/88/ds4',\n",
       "  'sized_val/88/ds5'],\n",
       " ['sized_val/89/ds1',\n",
       "  'sized_val/89/ds2',\n",
       "  'sized_val/89/ds3',\n",
       "  'sized_val/89/ds4',\n",
       "  'sized_val/89/ds5'],\n",
       " ['sized_val/90/ds1',\n",
       "  'sized_val/90/ds2',\n",
       "  'sized_val/90/ds3',\n",
       "  'sized_val/90/ds4',\n",
       "  'sized_val/90/ds5'],\n",
       " ['sized_val/91/ds1',\n",
       "  'sized_val/91/ds2',\n",
       "  'sized_val/91/ds3',\n",
       "  'sized_val/91/ds4',\n",
       "  'sized_val/91/ds5'],\n",
       " ['sized_val/92/ds1',\n",
       "  'sized_val/92/ds2',\n",
       "  'sized_val/92/ds3',\n",
       "  'sized_val/92/ds4',\n",
       "  'sized_val/92/ds5'],\n",
       " ['sized_val/93/ds1',\n",
       "  'sized_val/93/ds2',\n",
       "  'sized_val/93/ds3',\n",
       "  'sized_val/93/ds4',\n",
       "  'sized_val/93/ds5'],\n",
       " ['sized_val/94/ds1',\n",
       "  'sized_val/94/ds2',\n",
       "  'sized_val/94/ds3',\n",
       "  'sized_val/94/ds4',\n",
       "  'sized_val/94/ds5'],\n",
       " ['sized_val/95/ds1',\n",
       "  'sized_val/95/ds2',\n",
       "  'sized_val/95/ds3',\n",
       "  'sized_val/95/ds4',\n",
       "  'sized_val/95/ds5'],\n",
       " ['sized_val/96/ds1',\n",
       "  'sized_val/96/ds2',\n",
       "  'sized_val/96/ds3',\n",
       "  'sized_val/96/ds4',\n",
       "  'sized_val/96/ds5'],\n",
       " ['sized_val/97/ds1',\n",
       "  'sized_val/97/ds2',\n",
       "  'sized_val/97/ds3',\n",
       "  'sized_val/97/ds4',\n",
       "  'sized_val/97/ds5'],\n",
       " ['sized_val/98/ds1',\n",
       "  'sized_val/98/ds2',\n",
       "  'sized_val/98/ds3',\n",
       "  'sized_val/98/ds4',\n",
       "  'sized_val/98/ds5'],\n",
       " ['sized_val/99/ds1',\n",
       "  'sized_val/99/ds2',\n",
       "  'sized_val/99/ds3',\n",
       "  'sized_val/99/ds4',\n",
       "  'sized_val/99/ds5'],\n",
       " ['sized_val/100/ds1',\n",
       "  'sized_val/100/ds2',\n",
       "  'sized_val/100/ds3',\n",
       "  'sized_val/100/ds4',\n",
       "  'sized_val/100/ds5'],\n",
       " ['sized_val/101/ds1',\n",
       "  'sized_val/101/ds2',\n",
       "  'sized_val/101/ds3',\n",
       "  'sized_val/101/ds4',\n",
       "  'sized_val/101/ds5'],\n",
       " ['sized_val/102/ds1',\n",
       "  'sized_val/102/ds2',\n",
       "  'sized_val/102/ds3',\n",
       "  'sized_val/102/ds4',\n",
       "  'sized_val/102/ds5'],\n",
       " ['sized_val/103/ds1',\n",
       "  'sized_val/103/ds2',\n",
       "  'sized_val/103/ds3',\n",
       "  'sized_val/103/ds4',\n",
       "  'sized_val/103/ds5'],\n",
       " ['sized_val/104/ds1',\n",
       "  'sized_val/104/ds2',\n",
       "  'sized_val/104/ds3',\n",
       "  'sized_val/104/ds4',\n",
       "  'sized_val/104/ds5'],\n",
       " ['sized_val/105/ds1',\n",
       "  'sized_val/105/ds2',\n",
       "  'sized_val/105/ds3',\n",
       "  'sized_val/105/ds4',\n",
       "  'sized_val/105/ds5'],\n",
       " ['sized_val/106/ds1',\n",
       "  'sized_val/106/ds2',\n",
       "  'sized_val/106/ds3',\n",
       "  'sized_val/106/ds4',\n",
       "  'sized_val/106/ds5'],\n",
       " ['sized_val/107/ds1',\n",
       "  'sized_val/107/ds2',\n",
       "  'sized_val/107/ds3',\n",
       "  'sized_val/107/ds4',\n",
       "  'sized_val/107/ds5'],\n",
       " ['sized_val/108/ds1',\n",
       "  'sized_val/108/ds2',\n",
       "  'sized_val/108/ds3',\n",
       "  'sized_val/108/ds4',\n",
       "  'sized_val/108/ds5'],\n",
       " ['sized_val/109/ds1',\n",
       "  'sized_val/109/ds2',\n",
       "  'sized_val/109/ds3',\n",
       "  'sized_val/109/ds4',\n",
       "  'sized_val/109/ds5'],\n",
       " ['sized_val/110/ds1',\n",
       "  'sized_val/110/ds2',\n",
       "  'sized_val/110/ds3',\n",
       "  'sized_val/110/ds4',\n",
       "  'sized_val/110/ds5'],\n",
       " ['sized_val/111/ds1',\n",
       "  'sized_val/111/ds2',\n",
       "  'sized_val/111/ds3',\n",
       "  'sized_val/111/ds4',\n",
       "  'sized_val/111/ds5'],\n",
       " ['sized_val/112/ds1',\n",
       "  'sized_val/112/ds2',\n",
       "  'sized_val/112/ds3',\n",
       "  'sized_val/112/ds4',\n",
       "  'sized_val/112/ds5']]"
      ]
     },
     "execution_count": 37,
     "metadata": {},
     "output_type": "execute_result"
    }
   ],
   "source": [
    "new_path.sort(key=lambda x:int(x[0].split('/')[1]))\n",
    "new_path"
   ]
  },
  {
   "cell_type": "code",
   "execution_count": 38,
   "metadata": {},
   "outputs": [
    {
     "name": "stderr",
     "output_type": "stream",
     "text": [
      "100%|██████████| 112/112 [00:01<00:00, 88.82it/s]\n"
     ]
    }
   ],
   "source": [
    "val_gen_arr = []\n",
    "for i in tqdm(range(len(new_path))):\n",
    "    transform = transforms.Compose(\n",
    "        [\n",
    "        transforms.ToTensor(),\n",
    "        transforms.Normalize((0.5, 0.5, 0.5), (0.5, 0.5, 0.5))])\n",
    "\n",
    "    testMnistDataset = SizedMnistDataset(new_path[i],transform)\n",
    "\n",
    "    testloader = torch.utils.data.DataLoader(testMnistDataset,\n",
    "                                              batch_size = 32, \n",
    "                                              shuffle=False,\n",
    "                                            num_workers=8,\n",
    "                                            pin_memory=True)\n",
    "    val_gen_arr.append(testloader)"
   ]
  },
  {
   "cell_type": "code",
   "execution_count": 39,
   "metadata": {},
   "outputs": [],
   "source": [
    "#val_gen_arr"
   ]
  },
  {
   "cell_type": "code",
   "execution_count": 40,
   "metadata": {
    "scrolled": true
   },
   "outputs": [
    {
     "name": "stderr",
     "output_type": "stream",
     "text": [
      "  1%|          | 1/112 [00:01<01:58,  1.07s/it]"
     ]
    },
    {
     "name": "stdout",
     "output_type": "stream",
     "text": [
      "Accuracy of     0 :  0 %\n",
      "Accuracy of     1 : 100 %\n",
      "Accuracy of     2 :  0 %\n",
      "Accuracy of     3 :  0 %\n",
      "Accuracy of     4 :  0 %\n",
      "Accuracy of     5 :  0 %\n",
      "Accuracy of     6 :  0 %\n",
      "Accuracy of     7 :  0 %\n",
      "Accuracy of     8 :  0 %\n",
      "Accuracy of     9 :  0 %\n",
      "Accuracy of the network on the 10000 test images: 10 %\n"
     ]
    },
    {
     "name": "stderr",
     "output_type": "stream",
     "text": [
      "\r",
      "  2%|▏         | 2/112 [00:02<01:57,  1.06s/it]"
     ]
    },
    {
     "name": "stdout",
     "output_type": "stream",
     "text": [
      "Accuracy of     0 :  0 %\n",
      "Accuracy of     1 : 100 %\n",
      "Accuracy of     2 :  0 %\n",
      "Accuracy of     3 :  0 %\n",
      "Accuracy of     4 :  0 %\n",
      "Accuracy of     5 :  0 %\n",
      "Accuracy of     6 :  0 %\n",
      "Accuracy of     7 :  0 %\n",
      "Accuracy of     8 :  0 %\n",
      "Accuracy of     9 :  0 %\n",
      "Accuracy of the network on the 10000 test images: 10 %\n"
     ]
    },
    {
     "name": "stderr",
     "output_type": "stream",
     "text": [
      "\r",
      "  3%|▎         | 3/112 [00:03<01:54,  1.05s/it]"
     ]
    },
    {
     "name": "stdout",
     "output_type": "stream",
     "text": [
      "Accuracy of     0 :  0 %\n",
      "Accuracy of     1 : 100 %\n",
      "Accuracy of     2 :  0 %\n",
      "Accuracy of     3 :  0 %\n",
      "Accuracy of     4 :  0 %\n",
      "Accuracy of     5 :  0 %\n",
      "Accuracy of     6 :  0 %\n",
      "Accuracy of     7 :  0 %\n",
      "Accuracy of     8 :  0 %\n",
      "Accuracy of     9 :  0 %\n",
      "Accuracy of the network on the 10000 test images: 10 %\n"
     ]
    },
    {
     "name": "stderr",
     "output_type": "stream",
     "text": [
      "\r",
      "  4%|▎         | 4/112 [00:04<01:52,  1.04s/it]"
     ]
    },
    {
     "name": "stdout",
     "output_type": "stream",
     "text": [
      "Accuracy of     0 :  0 %\n",
      "Accuracy of     1 : 100 %\n",
      "Accuracy of     2 :  0 %\n",
      "Accuracy of     3 :  0 %\n",
      "Accuracy of     4 :  0 %\n",
      "Accuracy of     5 :  0 %\n",
      "Accuracy of     6 :  0 %\n",
      "Accuracy of     7 :  0 %\n",
      "Accuracy of     8 :  0 %\n",
      "Accuracy of     9 :  0 %\n",
      "Accuracy of the network on the 10000 test images: 10 %\n"
     ]
    },
    {
     "name": "stderr",
     "output_type": "stream",
     "text": [
      "\r",
      "  4%|▍         | 5/112 [00:05<01:53,  1.06s/it]"
     ]
    },
    {
     "name": "stdout",
     "output_type": "stream",
     "text": [
      "Accuracy of     0 :  0 %\n",
      "Accuracy of     1 : 100 %\n",
      "Accuracy of     2 :  0 %\n",
      "Accuracy of     3 :  0 %\n",
      "Accuracy of     4 :  0 %\n",
      "Accuracy of     5 :  0 %\n",
      "Accuracy of     6 :  0 %\n",
      "Accuracy of     7 :  0 %\n",
      "Accuracy of     8 :  0 %\n",
      "Accuracy of     9 :  0 %\n",
      "Accuracy of the network on the 10000 test images: 10 %\n"
     ]
    },
    {
     "name": "stderr",
     "output_type": "stream",
     "text": [
      "\r",
      "  5%|▌         | 6/112 [00:06<01:52,  1.06s/it]"
     ]
    },
    {
     "name": "stdout",
     "output_type": "stream",
     "text": [
      "Accuracy of     0 :  0 %\n",
      "Accuracy of     1 : 100 %\n",
      "Accuracy of     2 :  0 %\n",
      "Accuracy of     3 :  0 %\n",
      "Accuracy of     4 :  0 %\n",
      "Accuracy of     5 :  0 %\n",
      "Accuracy of     6 :  0 %\n",
      "Accuracy of     7 :  0 %\n",
      "Accuracy of     8 :  0 %\n",
      "Accuracy of     9 :  0 %\n",
      "Accuracy of the network on the 10000 test images: 10 %\n"
     ]
    },
    {
     "name": "stderr",
     "output_type": "stream",
     "text": [
      "\r",
      "  6%|▋         | 7/112 [00:07<01:50,  1.06s/it]"
     ]
    },
    {
     "name": "stdout",
     "output_type": "stream",
     "text": [
      "Accuracy of     0 :  0 %\n",
      "Accuracy of     1 : 100 %\n",
      "Accuracy of     2 :  0 %\n",
      "Accuracy of     3 :  0 %\n",
      "Accuracy of     4 :  0 %\n",
      "Accuracy of     5 :  0 %\n",
      "Accuracy of     6 :  0 %\n",
      "Accuracy of     7 :  0 %\n",
      "Accuracy of     8 :  0 %\n",
      "Accuracy of     9 :  0 %\n",
      "Accuracy of the network on the 10000 test images: 10 %\n"
     ]
    },
    {
     "name": "stderr",
     "output_type": "stream",
     "text": [
      "\r",
      "  7%|▋         | 8/112 [00:08<01:49,  1.06s/it]"
     ]
    },
    {
     "name": "stdout",
     "output_type": "stream",
     "text": [
      "Accuracy of     0 :  0 %\n",
      "Accuracy of     1 : 100 %\n",
      "Accuracy of     2 :  0 %\n",
      "Accuracy of     3 :  0 %\n",
      "Accuracy of     4 :  0 %\n",
      "Accuracy of     5 :  0 %\n",
      "Accuracy of     6 :  0 %\n",
      "Accuracy of     7 :  0 %\n",
      "Accuracy of     8 :  0 %\n",
      "Accuracy of     9 :  0 %\n",
      "Accuracy of the network on the 10000 test images: 10 %\n"
     ]
    },
    {
     "name": "stderr",
     "output_type": "stream",
     "text": [
      "\r",
      "  8%|▊         | 9/112 [00:09<01:49,  1.06s/it]"
     ]
    },
    {
     "name": "stdout",
     "output_type": "stream",
     "text": [
      "Accuracy of     0 :  0 %\n",
      "Accuracy of     1 : 100 %\n",
      "Accuracy of     2 :  0 %\n",
      "Accuracy of     3 :  0 %\n",
      "Accuracy of     4 :  0 %\n",
      "Accuracy of     5 :  0 %\n",
      "Accuracy of     6 :  0 %\n",
      "Accuracy of     7 :  0 %\n",
      "Accuracy of     8 :  0 %\n",
      "Accuracy of     9 :  0 %\n",
      "Accuracy of the network on the 10000 test images: 10 %\n"
     ]
    },
    {
     "name": "stderr",
     "output_type": "stream",
     "text": [
      "\r",
      "  9%|▉         | 10/112 [00:10<01:47,  1.06s/it]"
     ]
    },
    {
     "name": "stdout",
     "output_type": "stream",
     "text": [
      "Accuracy of     0 :  0 %\n",
      "Accuracy of     1 : 100 %\n",
      "Accuracy of     2 :  0 %\n",
      "Accuracy of     3 :  0 %\n",
      "Accuracy of     4 :  0 %\n",
      "Accuracy of     5 :  0 %\n",
      "Accuracy of     6 :  0 %\n",
      "Accuracy of     7 :  0 %\n",
      "Accuracy of     8 :  0 %\n",
      "Accuracy of     9 :  0 %\n",
      "Accuracy of the network on the 10000 test images: 10 %\n"
     ]
    },
    {
     "name": "stderr",
     "output_type": "stream",
     "text": [
      "\r",
      " 10%|▉         | 11/112 [00:11<01:46,  1.06s/it]"
     ]
    },
    {
     "name": "stdout",
     "output_type": "stream",
     "text": [
      "Accuracy of     0 :  0 %\n",
      "Accuracy of     1 : 100 %\n",
      "Accuracy of     2 :  0 %\n",
      "Accuracy of     3 :  0 %\n",
      "Accuracy of     4 :  0 %\n",
      "Accuracy of     5 :  0 %\n",
      "Accuracy of     6 :  0 %\n",
      "Accuracy of     7 :  0 %\n",
      "Accuracy of     8 :  0 %\n",
      "Accuracy of     9 :  0 %\n",
      "Accuracy of the network on the 10000 test images: 10 %\n"
     ]
    },
    {
     "name": "stderr",
     "output_type": "stream",
     "text": [
      "\r",
      " 11%|█         | 12/112 [00:12<01:45,  1.05s/it]"
     ]
    },
    {
     "name": "stdout",
     "output_type": "stream",
     "text": [
      "Accuracy of     0 :  0 %\n",
      "Accuracy of     1 : 100 %\n",
      "Accuracy of     2 :  0 %\n",
      "Accuracy of     3 :  0 %\n",
      "Accuracy of     4 :  0 %\n",
      "Accuracy of     5 :  0 %\n",
      "Accuracy of     6 :  0 %\n",
      "Accuracy of     7 :  0 %\n",
      "Accuracy of     8 :  0 %\n",
      "Accuracy of     9 :  0 %\n",
      "Accuracy of the network on the 10000 test images: 10 %\n"
     ]
    },
    {
     "name": "stderr",
     "output_type": "stream",
     "text": [
      "\r",
      " 12%|█▏        | 13/112 [00:13<01:44,  1.05s/it]"
     ]
    },
    {
     "name": "stdout",
     "output_type": "stream",
     "text": [
      "Accuracy of     0 :  0 %\n",
      "Accuracy of     1 : 100 %\n",
      "Accuracy of     2 :  0 %\n",
      "Accuracy of     3 :  0 %\n",
      "Accuracy of     4 :  0 %\n",
      "Accuracy of     5 :  0 %\n",
      "Accuracy of     6 :  0 %\n",
      "Accuracy of     7 :  0 %\n",
      "Accuracy of     8 :  0 %\n",
      "Accuracy of     9 :  0 %\n",
      "Accuracy of the network on the 10000 test images: 10 %\n"
     ]
    },
    {
     "name": "stderr",
     "output_type": "stream",
     "text": [
      "\r",
      " 12%|█▎        | 14/112 [00:14<01:42,  1.05s/it]"
     ]
    },
    {
     "name": "stdout",
     "output_type": "stream",
     "text": [
      "Accuracy of     0 :  0 %\n",
      "Accuracy of     1 : 100 %\n",
      "Accuracy of     2 :  0 %\n",
      "Accuracy of     3 :  0 %\n",
      "Accuracy of     4 :  0 %\n",
      "Accuracy of     5 :  0 %\n",
      "Accuracy of     6 :  0 %\n",
      "Accuracy of     7 :  0 %\n",
      "Accuracy of     8 :  0 %\n",
      "Accuracy of     9 :  0 %\n",
      "Accuracy of the network on the 10000 test images: 10 %\n"
     ]
    },
    {
     "name": "stderr",
     "output_type": "stream",
     "text": [
      "\r",
      " 13%|█▎        | 15/112 [00:15<01:42,  1.05s/it]"
     ]
    },
    {
     "name": "stdout",
     "output_type": "stream",
     "text": [
      "Accuracy of     0 :  0 %\n",
      "Accuracy of     1 : 100 %\n",
      "Accuracy of     2 :  0 %\n",
      "Accuracy of     3 :  0 %\n",
      "Accuracy of     4 :  0 %\n",
      "Accuracy of     5 :  0 %\n",
      "Accuracy of     6 :  0 %\n",
      "Accuracy of     7 :  0 %\n",
      "Accuracy of     8 :  0 %\n",
      "Accuracy of     9 :  0 %\n",
      "Accuracy of the network on the 10000 test images: 10 %\n"
     ]
    },
    {
     "name": "stderr",
     "output_type": "stream",
     "text": [
      "\r",
      " 14%|█▍        | 16/112 [00:16<01:41,  1.05s/it]"
     ]
    },
    {
     "name": "stdout",
     "output_type": "stream",
     "text": [
      "Accuracy of     0 :  0 %\n",
      "Accuracy of     1 : 100 %\n",
      "Accuracy of     2 :  0 %\n",
      "Accuracy of     3 :  0 %\n",
      "Accuracy of     4 :  0 %\n",
      "Accuracy of     5 :  0 %\n",
      "Accuracy of     6 :  0 %\n",
      "Accuracy of     7 :  0 %\n",
      "Accuracy of     8 :  0 %\n",
      "Accuracy of     9 :  0 %\n",
      "Accuracy of the network on the 10000 test images: 10 %\n"
     ]
    },
    {
     "name": "stderr",
     "output_type": "stream",
     "text": [
      "\r",
      " 15%|█▌        | 17/112 [00:17<01:38,  1.04s/it]"
     ]
    },
    {
     "name": "stdout",
     "output_type": "stream",
     "text": [
      "Accuracy of     0 :  0 %\n",
      "Accuracy of     1 : 100 %\n",
      "Accuracy of     2 :  0 %\n",
      "Accuracy of     3 :  0 %\n",
      "Accuracy of     4 :  0 %\n",
      "Accuracy of     5 :  0 %\n",
      "Accuracy of     6 :  0 %\n",
      "Accuracy of     7 :  0 %\n",
      "Accuracy of     8 :  0 %\n",
      "Accuracy of     9 :  0 %\n",
      "Accuracy of the network on the 10000 test images: 10 %\n"
     ]
    },
    {
     "name": "stderr",
     "output_type": "stream",
     "text": [
      "\r",
      " 16%|█▌        | 18/112 [00:18<01:37,  1.04s/it]"
     ]
    },
    {
     "name": "stdout",
     "output_type": "stream",
     "text": [
      "Accuracy of     0 :  0 %\n",
      "Accuracy of     1 : 100 %\n",
      "Accuracy of     2 :  0 %\n",
      "Accuracy of     3 :  0 %\n",
      "Accuracy of     4 :  0 %\n",
      "Accuracy of     5 :  0 %\n",
      "Accuracy of     6 :  0 %\n",
      "Accuracy of     7 :  0 %\n",
      "Accuracy of     8 :  0 %\n",
      "Accuracy of     9 :  0 %\n",
      "Accuracy of the network on the 10000 test images: 10 %\n"
     ]
    },
    {
     "name": "stderr",
     "output_type": "stream",
     "text": [
      "\r",
      " 17%|█▋        | 19/112 [00:19<01:37,  1.05s/it]"
     ]
    },
    {
     "name": "stdout",
     "output_type": "stream",
     "text": [
      "Accuracy of     0 :  0 %\n",
      "Accuracy of     1 : 100 %\n",
      "Accuracy of     2 :  0 %\n",
      "Accuracy of     3 :  0 %\n",
      "Accuracy of     4 :  0 %\n",
      "Accuracy of     5 :  0 %\n",
      "Accuracy of     6 :  0 %\n",
      "Accuracy of     7 :  0 %\n",
      "Accuracy of     8 :  0 %\n",
      "Accuracy of     9 :  0 %\n",
      "Accuracy of the network on the 10000 test images: 10 %\n"
     ]
    },
    {
     "name": "stderr",
     "output_type": "stream",
     "text": [
      "\r",
      " 18%|█▊        | 20/112 [00:20<01:36,  1.04s/it]"
     ]
    },
    {
     "name": "stdout",
     "output_type": "stream",
     "text": [
      "Accuracy of     0 :  0 %\n",
      "Accuracy of     1 : 100 %\n",
      "Accuracy of     2 :  0 %\n",
      "Accuracy of     3 :  0 %\n",
      "Accuracy of     4 :  0 %\n",
      "Accuracy of     5 :  0 %\n",
      "Accuracy of     6 :  0 %\n",
      "Accuracy of     7 :  0 %\n",
      "Accuracy of     8 :  0 %\n",
      "Accuracy of     9 :  0 %\n",
      "Accuracy of the network on the 10000 test images: 10 %\n"
     ]
    },
    {
     "name": "stderr",
     "output_type": "stream",
     "text": [
      "\r",
      " 19%|█▉        | 21/112 [00:22<01:34,  1.04s/it]"
     ]
    },
    {
     "name": "stdout",
     "output_type": "stream",
     "text": [
      "Accuracy of     0 :  0 %\n",
      "Accuracy of     1 : 100 %\n",
      "Accuracy of     2 :  0 %\n",
      "Accuracy of     3 :  0 %\n",
      "Accuracy of     4 :  0 %\n",
      "Accuracy of     5 :  0 %\n",
      "Accuracy of     6 :  0 %\n",
      "Accuracy of     7 :  0 %\n",
      "Accuracy of     8 :  0 %\n",
      "Accuracy of     9 :  0 %\n",
      "Accuracy of the network on the 10000 test images: 10 %\n"
     ]
    },
    {
     "name": "stderr",
     "output_type": "stream",
     "text": [
      "\r",
      " 20%|█▉        | 22/112 [00:23<01:33,  1.04s/it]"
     ]
    },
    {
     "name": "stdout",
     "output_type": "stream",
     "text": [
      "Accuracy of     0 :  0 %\n",
      "Accuracy of     1 : 100 %\n",
      "Accuracy of     2 :  0 %\n",
      "Accuracy of     3 :  0 %\n",
      "Accuracy of     4 :  0 %\n",
      "Accuracy of     5 :  0 %\n",
      "Accuracy of     6 :  0 %\n",
      "Accuracy of     7 :  0 %\n",
      "Accuracy of     8 :  0 %\n",
      "Accuracy of     9 :  0 %\n",
      "Accuracy of the network on the 10000 test images: 10 %\n"
     ]
    },
    {
     "name": "stderr",
     "output_type": "stream",
     "text": [
      "\r",
      " 21%|██        | 23/112 [00:24<01:32,  1.04s/it]"
     ]
    },
    {
     "name": "stdout",
     "output_type": "stream",
     "text": [
      "Accuracy of     0 :  0 %\n",
      "Accuracy of     1 : 100 %\n",
      "Accuracy of     2 :  0 %\n",
      "Accuracy of     3 :  0 %\n",
      "Accuracy of     4 :  0 %\n",
      "Accuracy of     5 :  0 %\n",
      "Accuracy of     6 :  0 %\n",
      "Accuracy of     7 :  0 %\n",
      "Accuracy of     8 :  0 %\n",
      "Accuracy of     9 :  0 %\n",
      "Accuracy of the network on the 10000 test images: 10 %\n"
     ]
    },
    {
     "name": "stderr",
     "output_type": "stream",
     "text": [
      "\r",
      " 21%|██▏       | 24/112 [00:25<01:31,  1.04s/it]"
     ]
    },
    {
     "name": "stdout",
     "output_type": "stream",
     "text": [
      "Accuracy of     0 :  0 %\n",
      "Accuracy of     1 : 100 %\n",
      "Accuracy of     2 :  0 %\n",
      "Accuracy of     3 :  0 %\n",
      "Accuracy of     4 :  0 %\n",
      "Accuracy of     5 :  0 %\n",
      "Accuracy of     6 :  0 %\n",
      "Accuracy of     7 :  0 %\n",
      "Accuracy of     8 :  0 %\n",
      "Accuracy of     9 :  0 %\n",
      "Accuracy of the network on the 10000 test images: 10 %\n"
     ]
    },
    {
     "name": "stderr",
     "output_type": "stream",
     "text": [
      "\r",
      " 22%|██▏       | 25/112 [00:26<01:29,  1.03s/it]"
     ]
    },
    {
     "name": "stdout",
     "output_type": "stream",
     "text": [
      "Accuracy of     0 :  0 %\n",
      "Accuracy of     1 : 100 %\n",
      "Accuracy of     2 :  0 %\n",
      "Accuracy of     3 :  0 %\n",
      "Accuracy of     4 :  0 %\n",
      "Accuracy of     5 :  0 %\n",
      "Accuracy of     6 :  0 %\n",
      "Accuracy of     7 :  0 %\n",
      "Accuracy of     8 :  0 %\n",
      "Accuracy of     9 :  0 %\n",
      "Accuracy of the network on the 10000 test images: 10 %\n"
     ]
    },
    {
     "name": "stderr",
     "output_type": "stream",
     "text": [
      "\r",
      " 23%|██▎       | 26/112 [00:27<01:29,  1.04s/it]"
     ]
    },
    {
     "name": "stdout",
     "output_type": "stream",
     "text": [
      "Accuracy of     0 :  0 %\n",
      "Accuracy of     1 : 100 %\n",
      "Accuracy of     2 :  0 %\n",
      "Accuracy of     3 :  0 %\n",
      "Accuracy of     4 :  0 %\n",
      "Accuracy of     5 :  0 %\n",
      "Accuracy of     6 :  0 %\n",
      "Accuracy of     7 :  0 %\n",
      "Accuracy of     8 :  0 %\n",
      "Accuracy of     9 :  0 %\n",
      "Accuracy of the network on the 10000 test images: 10 %\n"
     ]
    },
    {
     "name": "stderr",
     "output_type": "stream",
     "text": [
      "\r",
      " 24%|██▍       | 27/112 [00:28<01:28,  1.04s/it]"
     ]
    },
    {
     "name": "stdout",
     "output_type": "stream",
     "text": [
      "Accuracy of     0 :  0 %\n",
      "Accuracy of     1 : 100 %\n",
      "Accuracy of     2 :  0 %\n",
      "Accuracy of     3 :  0 %\n",
      "Accuracy of     4 :  0 %\n",
      "Accuracy of     5 :  0 %\n",
      "Accuracy of     6 :  0 %\n",
      "Accuracy of     7 :  0 %\n",
      "Accuracy of     8 :  0 %\n",
      "Accuracy of     9 :  0 %\n",
      "Accuracy of the network on the 10000 test images: 10 %\n"
     ]
    },
    {
     "name": "stderr",
     "output_type": "stream",
     "text": [
      "\r",
      " 25%|██▌       | 28/112 [00:29<01:28,  1.05s/it]"
     ]
    },
    {
     "name": "stdout",
     "output_type": "stream",
     "text": [
      "Accuracy of     0 :  0 %\n",
      "Accuracy of     1 : 100 %\n",
      "Accuracy of     2 :  0 %\n",
      "Accuracy of     3 :  0 %\n",
      "Accuracy of     4 :  0 %\n",
      "Accuracy of     5 :  0 %\n",
      "Accuracy of     6 :  0 %\n",
      "Accuracy of     7 :  0 %\n",
      "Accuracy of     8 :  0 %\n",
      "Accuracy of     9 :  0 %\n",
      "Accuracy of the network on the 10000 test images: 10 %\n"
     ]
    },
    {
     "name": "stderr",
     "output_type": "stream",
     "text": [
      "\r",
      " 26%|██▌       | 29/112 [00:30<01:27,  1.05s/it]"
     ]
    },
    {
     "name": "stdout",
     "output_type": "stream",
     "text": [
      "Accuracy of     0 :  0 %\n",
      "Accuracy of     1 : 100 %\n",
      "Accuracy of     2 :  0 %\n",
      "Accuracy of     3 :  0 %\n",
      "Accuracy of     4 :  2 %\n",
      "Accuracy of     5 :  0 %\n",
      "Accuracy of     6 :  1 %\n",
      "Accuracy of     7 :  0 %\n",
      "Accuracy of     8 :  0 %\n",
      "Accuracy of     9 :  0 %\n",
      "Accuracy of the network on the 10000 test images: 10 %\n"
     ]
    },
    {
     "name": "stderr",
     "output_type": "stream",
     "text": [
      "\r",
      " 27%|██▋       | 30/112 [00:31<01:26,  1.05s/it]"
     ]
    },
    {
     "name": "stdout",
     "output_type": "stream",
     "text": [
      "Accuracy of     0 :  0 %\n",
      "Accuracy of     1 : 100 %\n",
      "Accuracy of     2 :  0 %\n",
      "Accuracy of     3 :  0 %\n",
      "Accuracy of     4 :  0 %\n",
      "Accuracy of     5 :  0 %\n",
      "Accuracy of     6 :  1 %\n",
      "Accuracy of     7 :  0 %\n",
      "Accuracy of     8 :  0 %\n",
      "Accuracy of     9 :  0 %\n",
      "Accuracy of the network on the 10000 test images: 10 %\n"
     ]
    },
    {
     "name": "stderr",
     "output_type": "stream",
     "text": [
      "\r",
      " 28%|██▊       | 31/112 [00:32<01:25,  1.05s/it]"
     ]
    },
    {
     "name": "stdout",
     "output_type": "stream",
     "text": [
      "Accuracy of     0 :  0 %\n",
      "Accuracy of     1 : 100 %\n",
      "Accuracy of     2 :  0 %\n",
      "Accuracy of     3 :  0 %\n",
      "Accuracy of     4 :  3 %\n",
      "Accuracy of     5 :  0 %\n",
      "Accuracy of     6 :  2 %\n",
      "Accuracy of     7 :  0 %\n",
      "Accuracy of     8 :  0 %\n",
      "Accuracy of     9 :  0 %\n",
      "Accuracy of the network on the 10000 test images: 10 %\n"
     ]
    },
    {
     "name": "stderr",
     "output_type": "stream",
     "text": [
      "\r",
      " 29%|██▊       | 32/112 [00:33<01:24,  1.05s/it]"
     ]
    },
    {
     "name": "stdout",
     "output_type": "stream",
     "text": [
      "Accuracy of     0 :  0 %\n",
      "Accuracy of     1 : 100 %\n",
      "Accuracy of     2 :  0 %\n",
      "Accuracy of     3 :  0 %\n",
      "Accuracy of     4 :  3 %\n",
      "Accuracy of     5 :  0 %\n",
      "Accuracy of     6 :  1 %\n",
      "Accuracy of     7 :  0 %\n",
      "Accuracy of     8 :  0 %\n",
      "Accuracy of     9 :  0 %\n",
      "Accuracy of the network on the 10000 test images: 10 %\n"
     ]
    },
    {
     "name": "stderr",
     "output_type": "stream",
     "text": [
      "\r",
      " 29%|██▉       | 33/112 [00:34<01:23,  1.06s/it]"
     ]
    },
    {
     "name": "stdout",
     "output_type": "stream",
     "text": [
      "Accuracy of     0 :  0 %\n",
      "Accuracy of     1 : 100 %\n",
      "Accuracy of     2 :  0 %\n",
      "Accuracy of     3 :  1 %\n",
      "Accuracy of     4 :  7 %\n",
      "Accuracy of     5 :  2 %\n",
      "Accuracy of     6 :  1 %\n",
      "Accuracy of     7 :  0 %\n",
      "Accuracy of     8 :  0 %\n",
      "Accuracy of     9 :  0 %\n",
      "Accuracy of the network on the 10000 test images: 11 %\n"
     ]
    },
    {
     "name": "stderr",
     "output_type": "stream",
     "text": [
      "\r",
      " 30%|███       | 34/112 [00:35<01:22,  1.06s/it]"
     ]
    },
    {
     "name": "stdout",
     "output_type": "stream",
     "text": [
      "Accuracy of     0 :  0 %\n",
      "Accuracy of     1 : 100 %\n",
      "Accuracy of     2 :  3 %\n",
      "Accuracy of     3 :  0 %\n",
      "Accuracy of     4 :  6 %\n",
      "Accuracy of     5 :  5 %\n",
      "Accuracy of     6 :  2 %\n",
      "Accuracy of     7 :  0 %\n",
      "Accuracy of     8 :  0 %\n",
      "Accuracy of     9 :  0 %\n",
      "Accuracy of the network on the 10000 test images: 11 %\n"
     ]
    },
    {
     "name": "stderr",
     "output_type": "stream",
     "text": [
      "\r",
      " 31%|███▏      | 35/112 [00:36<01:20,  1.05s/it]"
     ]
    },
    {
     "name": "stdout",
     "output_type": "stream",
     "text": [
      "Accuracy of     0 :  0 %\n",
      "Accuracy of     1 : 100 %\n",
      "Accuracy of     2 :  1 %\n",
      "Accuracy of     3 :  2 %\n",
      "Accuracy of     4 : 11 %\n",
      "Accuracy of     5 :  9 %\n",
      "Accuracy of     6 :  1 %\n",
      "Accuracy of     7 :  0 %\n",
      "Accuracy of     8 :  0 %\n",
      "Accuracy of     9 :  0 %\n",
      "Accuracy of the network on the 10000 test images: 12 %\n"
     ]
    },
    {
     "name": "stderr",
     "output_type": "stream",
     "text": [
      "\r",
      " 32%|███▏      | 36/112 [00:37<01:19,  1.05s/it]"
     ]
    },
    {
     "name": "stdout",
     "output_type": "stream",
     "text": [
      "Accuracy of     0 :  0 %\n",
      "Accuracy of     1 : 100 %\n",
      "Accuracy of     2 :  5 %\n",
      "Accuracy of     3 :  1 %\n",
      "Accuracy of     4 : 11 %\n",
      "Accuracy of     5 :  8 %\n",
      "Accuracy of     6 :  2 %\n",
      "Accuracy of     7 :  0 %\n",
      "Accuracy of     8 :  0 %\n",
      "Accuracy of     9 :  0 %\n",
      "Accuracy of the network on the 10000 test images: 12 %\n"
     ]
    },
    {
     "name": "stderr",
     "output_type": "stream",
     "text": [
      "\r",
      " 33%|███▎      | 37/112 [00:38<01:17,  1.04s/it]"
     ]
    },
    {
     "name": "stdout",
     "output_type": "stream",
     "text": [
      "Accuracy of     0 :  0 %\n",
      "Accuracy of     1 : 100 %\n",
      "Accuracy of     2 :  6 %\n",
      "Accuracy of     3 :  1 %\n",
      "Accuracy of     4 : 15 %\n",
      "Accuracy of     5 : 25 %\n",
      "Accuracy of     6 :  2 %\n",
      "Accuracy of     7 :  0 %\n",
      "Accuracy of     8 :  0 %\n",
      "Accuracy of     9 :  0 %\n",
      "Accuracy of the network on the 10000 test images: 14 %\n"
     ]
    },
    {
     "name": "stderr",
     "output_type": "stream",
     "text": [
      "\r",
      " 34%|███▍      | 38/112 [00:39<01:16,  1.04s/it]"
     ]
    },
    {
     "name": "stdout",
     "output_type": "stream",
     "text": [
      "Accuracy of     0 :  0 %\n",
      "Accuracy of     1 : 100 %\n",
      "Accuracy of     2 :  7 %\n",
      "Accuracy of     3 :  1 %\n",
      "Accuracy of     4 : 16 %\n",
      "Accuracy of     5 : 27 %\n",
      "Accuracy of     6 :  2 %\n",
      "Accuracy of     7 :  1 %\n",
      "Accuracy of     8 :  0 %\n",
      "Accuracy of     9 :  0 %\n",
      "Accuracy of the network on the 10000 test images: 15 %\n"
     ]
    },
    {
     "name": "stderr",
     "output_type": "stream",
     "text": [
      "\r",
      " 35%|███▍      | 39/112 [00:40<01:16,  1.05s/it]"
     ]
    },
    {
     "name": "stdout",
     "output_type": "stream",
     "text": [
      "Accuracy of     0 :  0 %\n",
      "Accuracy of     1 : 100 %\n",
      "Accuracy of     2 :  7 %\n",
      "Accuracy of     3 :  2 %\n",
      "Accuracy of     4 : 24 %\n",
      "Accuracy of     5 : 40 %\n",
      "Accuracy of     6 :  5 %\n",
      "Accuracy of     7 :  0 %\n",
      "Accuracy of     8 :  0 %\n",
      "Accuracy of     9 :  0 %\n",
      "Accuracy of the network on the 10000 test images: 17 %\n"
     ]
    },
    {
     "name": "stderr",
     "output_type": "stream",
     "text": [
      "\r",
      " 36%|███▌      | 40/112 [00:41<01:15,  1.05s/it]"
     ]
    },
    {
     "name": "stdout",
     "output_type": "stream",
     "text": [
      "Accuracy of     0 :  0 %\n",
      "Accuracy of     1 : 100 %\n",
      "Accuracy of     2 : 12 %\n",
      "Accuracy of     3 :  4 %\n",
      "Accuracy of     4 : 19 %\n",
      "Accuracy of     5 : 34 %\n",
      "Accuracy of     6 :  3 %\n",
      "Accuracy of     7 :  1 %\n",
      "Accuracy of     8 :  0 %\n",
      "Accuracy of     9 :  0 %\n",
      "Accuracy of the network on the 10000 test images: 17 %\n"
     ]
    },
    {
     "name": "stderr",
     "output_type": "stream",
     "text": [
      "\r",
      " 37%|███▋      | 41/112 [00:43<01:14,  1.05s/it]"
     ]
    },
    {
     "name": "stdout",
     "output_type": "stream",
     "text": [
      "Accuracy of     0 :  0 %\n",
      "Accuracy of     1 : 100 %\n",
      "Accuracy of     2 : 12 %\n",
      "Accuracy of     3 :  4 %\n",
      "Accuracy of     4 : 30 %\n",
      "Accuracy of     5 : 49 %\n",
      "Accuracy of     6 :  7 %\n",
      "Accuracy of     7 :  0 %\n",
      "Accuracy of     8 :  1 %\n",
      "Accuracy of     9 :  0 %\n",
      "Accuracy of the network on the 10000 test images: 20 %\n"
     ]
    },
    {
     "name": "stderr",
     "output_type": "stream",
     "text": [
      "\r",
      " 38%|███▊      | 42/112 [00:44<01:14,  1.06s/it]"
     ]
    },
    {
     "name": "stdout",
     "output_type": "stream",
     "text": [
      "Accuracy of     0 :  0 %\n",
      "Accuracy of     1 : 100 %\n",
      "Accuracy of     2 : 20 %\n",
      "Accuracy of     3 :  9 %\n",
      "Accuracy of     4 : 28 %\n",
      "Accuracy of     5 : 51 %\n",
      "Accuracy of     6 :  7 %\n",
      "Accuracy of     7 :  1 %\n",
      "Accuracy of     8 :  0 %\n",
      "Accuracy of     9 :  0 %\n",
      "Accuracy of the network on the 10000 test images: 21 %\n"
     ]
    },
    {
     "name": "stderr",
     "output_type": "stream",
     "text": [
      "\r",
      " 38%|███▊      | 43/112 [00:45<01:12,  1.06s/it]"
     ]
    },
    {
     "name": "stdout",
     "output_type": "stream",
     "text": [
      "Accuracy of     0 :  0 %\n",
      "Accuracy of     1 : 100 %\n",
      "Accuracy of     2 : 14 %\n",
      "Accuracy of     3 :  4 %\n",
      "Accuracy of     4 : 34 %\n",
      "Accuracy of     5 : 63 %\n",
      "Accuracy of     6 : 10 %\n",
      "Accuracy of     7 :  2 %\n",
      "Accuracy of     8 :  1 %\n",
      "Accuracy of     9 :  1 %\n",
      "Accuracy of the network on the 10000 test images: 22 %\n"
     ]
    },
    {
     "name": "stderr",
     "output_type": "stream",
     "text": [
      "\r",
      " 39%|███▉      | 44/112 [00:46<01:11,  1.05s/it]"
     ]
    },
    {
     "name": "stdout",
     "output_type": "stream",
     "text": [
      "Accuracy of     0 :  1 %\n",
      "Accuracy of     1 : 100 %\n",
      "Accuracy of     2 : 22 %\n",
      "Accuracy of     3 :  6 %\n",
      "Accuracy of     4 : 45 %\n",
      "Accuracy of     5 : 64 %\n",
      "Accuracy of     6 : 13 %\n",
      "Accuracy of     7 :  2 %\n",
      "Accuracy of     8 :  0 %\n",
      "Accuracy of     9 :  2 %\n",
      "Accuracy of the network on the 10000 test images: 25 %\n"
     ]
    },
    {
     "name": "stderr",
     "output_type": "stream",
     "text": [
      "\r",
      " 40%|████      | 45/112 [00:47<01:10,  1.05s/it]"
     ]
    },
    {
     "name": "stdout",
     "output_type": "stream",
     "text": [
      "Accuracy of     0 :  4 %\n",
      "Accuracy of     1 : 100 %\n",
      "Accuracy of     2 : 24 %\n",
      "Accuracy of     3 :  5 %\n",
      "Accuracy of     4 : 43 %\n",
      "Accuracy of     5 : 68 %\n",
      "Accuracy of     6 :  8 %\n",
      "Accuracy of     7 :  2 %\n",
      "Accuracy of     8 :  0 %\n",
      "Accuracy of     9 :  3 %\n",
      "Accuracy of the network on the 10000 test images: 25 %\n"
     ]
    },
    {
     "name": "stderr",
     "output_type": "stream",
     "text": [
      "\r",
      " 41%|████      | 46/112 [00:48<01:09,  1.06s/it]"
     ]
    },
    {
     "name": "stdout",
     "output_type": "stream",
     "text": [
      "Accuracy of     0 :  4 %\n",
      "Accuracy of     1 : 100 %\n",
      "Accuracy of     2 : 33 %\n",
      "Accuracy of     3 :  8 %\n",
      "Accuracy of     4 : 47 %\n",
      "Accuracy of     5 : 75 %\n",
      "Accuracy of     6 : 17 %\n",
      "Accuracy of     7 :  4 %\n",
      "Accuracy of     8 :  0 %\n",
      "Accuracy of     9 :  2 %\n",
      "Accuracy of the network on the 10000 test images: 29 %\n"
     ]
    },
    {
     "name": "stderr",
     "output_type": "stream",
     "text": [
      "\r",
      " 42%|████▏     | 47/112 [00:49<01:08,  1.05s/it]"
     ]
    },
    {
     "name": "stdout",
     "output_type": "stream",
     "text": [
      "Accuracy of     0 :  2 %\n",
      "Accuracy of     1 : 100 %\n",
      "Accuracy of     2 : 35 %\n",
      "Accuracy of     3 :  5 %\n",
      "Accuracy of     4 : 51 %\n",
      "Accuracy of     5 : 69 %\n",
      "Accuracy of     6 : 20 %\n",
      "Accuracy of     7 :  8 %\n",
      "Accuracy of     8 :  1 %\n",
      "Accuracy of     9 :  8 %\n",
      "Accuracy of the network on the 10000 test images: 29 %\n"
     ]
    },
    {
     "name": "stderr",
     "output_type": "stream",
     "text": [
      "\r",
      " 43%|████▎     | 48/112 [00:50<01:06,  1.04s/it]"
     ]
    },
    {
     "name": "stdout",
     "output_type": "stream",
     "text": [
      "Accuracy of     0 :  8 %\n",
      "Accuracy of     1 : 100 %\n",
      "Accuracy of     2 : 44 %\n",
      "Accuracy of     3 :  9 %\n",
      "Accuracy of     4 : 53 %\n",
      "Accuracy of     5 : 72 %\n",
      "Accuracy of     6 : 24 %\n",
      "Accuracy of     7 :  8 %\n",
      "Accuracy of     8 :  3 %\n",
      "Accuracy of     9 :  8 %\n",
      "Accuracy of the network on the 10000 test images: 32 %\n"
     ]
    },
    {
     "name": "stderr",
     "output_type": "stream",
     "text": [
      "\r",
      " 44%|████▍     | 49/112 [00:51<01:06,  1.05s/it]"
     ]
    },
    {
     "name": "stdout",
     "output_type": "stream",
     "text": [
      "Accuracy of     0 :  6 %\n",
      "Accuracy of     1 : 100 %\n",
      "Accuracy of     2 : 50 %\n",
      "Accuracy of     3 :  8 %\n",
      "Accuracy of     4 : 57 %\n",
      "Accuracy of     5 : 74 %\n",
      "Accuracy of     6 : 28 %\n",
      "Accuracy of     7 :  9 %\n",
      "Accuracy of     8 :  2 %\n",
      "Accuracy of     9 : 11 %\n",
      "Accuracy of the network on the 10000 test images: 34 %\n"
     ]
    },
    {
     "name": "stderr",
     "output_type": "stream",
     "text": [
      "\r",
      " 45%|████▍     | 50/112 [00:52<01:05,  1.05s/it]"
     ]
    },
    {
     "name": "stdout",
     "output_type": "stream",
     "text": [
      "Accuracy of     0 : 10 %\n",
      "Accuracy of     1 : 100 %\n",
      "Accuracy of     2 : 59 %\n",
      "Accuracy of     3 : 13 %\n",
      "Accuracy of     4 : 57 %\n",
      "Accuracy of     5 : 75 %\n",
      "Accuracy of     6 : 35 %\n",
      "Accuracy of     7 : 10 %\n",
      "Accuracy of     8 :  5 %\n",
      "Accuracy of     9 :  9 %\n",
      "Accuracy of the network on the 10000 test images: 37 %\n"
     ]
    },
    {
     "name": "stderr",
     "output_type": "stream",
     "text": [
      "\r",
      " 46%|████▌     | 51/112 [00:53<01:03,  1.05s/it]"
     ]
    },
    {
     "name": "stdout",
     "output_type": "stream",
     "text": [
      "Accuracy of     0 : 12 %\n",
      "Accuracy of     1 : 100 %\n",
      "Accuracy of     2 : 52 %\n",
      "Accuracy of     3 : 11 %\n",
      "Accuracy of     4 : 61 %\n",
      "Accuracy of     5 : 74 %\n",
      "Accuracy of     6 : 36 %\n",
      "Accuracy of     7 : 14 %\n",
      "Accuracy of     8 :  6 %\n",
      "Accuracy of     9 : 16 %\n",
      "Accuracy of the network on the 10000 test images: 38 %\n"
     ]
    },
    {
     "name": "stderr",
     "output_type": "stream",
     "text": [
      "\r",
      " 46%|████▋     | 52/112 [00:54<01:03,  1.05s/it]"
     ]
    },
    {
     "name": "stdout",
     "output_type": "stream",
     "text": [
      "Accuracy of     0 : 13 %\n",
      "Accuracy of     1 : 100 %\n",
      "Accuracy of     2 : 67 %\n",
      "Accuracy of     3 : 14 %\n",
      "Accuracy of     4 : 61 %\n",
      "Accuracy of     5 : 84 %\n",
      "Accuracy of     6 : 44 %\n",
      "Accuracy of     7 : 10 %\n",
      "Accuracy of     8 :  9 %\n",
      "Accuracy of     9 : 17 %\n",
      "Accuracy of the network on the 10000 test images: 41 %\n"
     ]
    },
    {
     "name": "stderr",
     "output_type": "stream",
     "text": [
      "\r",
      " 47%|████▋     | 53/112 [00:55<01:01,  1.04s/it]"
     ]
    },
    {
     "name": "stdout",
     "output_type": "stream",
     "text": [
      "Accuracy of     0 : 19 %\n",
      "Accuracy of     1 : 100 %\n",
      "Accuracy of     2 : 69 %\n",
      "Accuracy of     3 : 19 %\n",
      "Accuracy of     4 : 64 %\n",
      "Accuracy of     5 : 77 %\n",
      "Accuracy of     6 : 45 %\n",
      "Accuracy of     7 : 16 %\n",
      "Accuracy of     8 : 13 %\n",
      "Accuracy of     9 : 18 %\n",
      "Accuracy of the network on the 10000 test images: 44 %\n"
     ]
    },
    {
     "name": "stderr",
     "output_type": "stream",
     "text": [
      "\r",
      " 48%|████▊     | 54/112 [00:56<01:00,  1.04s/it]"
     ]
    },
    {
     "name": "stdout",
     "output_type": "stream",
     "text": [
      "Accuracy of     0 : 15 %\n",
      "Accuracy of     1 : 100 %\n",
      "Accuracy of     2 : 75 %\n",
      "Accuracy of     3 : 30 %\n",
      "Accuracy of     4 : 65 %\n",
      "Accuracy of     5 : 83 %\n",
      "Accuracy of     6 : 55 %\n",
      "Accuracy of     7 : 21 %\n",
      "Accuracy of     8 : 13 %\n",
      "Accuracy of     9 : 20 %\n",
      "Accuracy of the network on the 10000 test images: 47 %\n"
     ]
    },
    {
     "name": "stderr",
     "output_type": "stream",
     "text": [
      "\r",
      " 49%|████▉     | 55/112 [00:57<00:59,  1.05s/it]"
     ]
    },
    {
     "name": "stdout",
     "output_type": "stream",
     "text": [
      "Accuracy of     0 : 23 %\n",
      "Accuracy of     1 : 100 %\n",
      "Accuracy of     2 : 70 %\n",
      "Accuracy of     3 : 31 %\n",
      "Accuracy of     4 : 70 %\n",
      "Accuracy of     5 : 75 %\n",
      "Accuracy of     6 : 56 %\n",
      "Accuracy of     7 : 23 %\n",
      "Accuracy of     8 : 20 %\n",
      "Accuracy of     9 : 27 %\n",
      "Accuracy of the network on the 10000 test images: 49 %\n"
     ]
    },
    {
     "name": "stderr",
     "output_type": "stream",
     "text": [
      "\r",
      " 50%|█████     | 56/112 [00:58<00:58,  1.04s/it]"
     ]
    },
    {
     "name": "stdout",
     "output_type": "stream",
     "text": [
      "Accuracy of     0 : 22 %\n",
      "Accuracy of     1 : 100 %\n",
      "Accuracy of     2 : 78 %\n",
      "Accuracy of     3 : 39 %\n",
      "Accuracy of     4 : 73 %\n",
      "Accuracy of     5 : 84 %\n",
      "Accuracy of     6 : 62 %\n",
      "Accuracy of     7 : 27 %\n",
      "Accuracy of     8 : 20 %\n",
      "Accuracy of     9 : 24 %\n",
      "Accuracy of the network on the 10000 test images: 52 %\n"
     ]
    },
    {
     "name": "stderr",
     "output_type": "stream",
     "text": [
      "\r",
      " 51%|█████     | 57/112 [00:59<00:56,  1.03s/it]"
     ]
    },
    {
     "name": "stdout",
     "output_type": "stream",
     "text": [
      "Accuracy of     0 : 18 %\n",
      "Accuracy of     1 : 100 %\n",
      "Accuracy of     2 : 73 %\n",
      "Accuracy of     3 : 38 %\n",
      "Accuracy of     4 : 76 %\n",
      "Accuracy of     5 : 71 %\n",
      "Accuracy of     6 : 58 %\n",
      "Accuracy of     7 : 26 %\n",
      "Accuracy of     8 : 23 %\n",
      "Accuracy of     9 : 37 %\n",
      "Accuracy of the network on the 10000 test images: 52 %\n"
     ]
    },
    {
     "name": "stderr",
     "output_type": "stream",
     "text": [
      "\r",
      " 52%|█████▏    | 58/112 [01:00<00:55,  1.03s/it]"
     ]
    },
    {
     "name": "stdout",
     "output_type": "stream",
     "text": [
      "Accuracy of     0 : 27 %\n",
      "Accuracy of     1 : 100 %\n",
      "Accuracy of     2 : 76 %\n",
      "Accuracy of     3 : 43 %\n",
      "Accuracy of     4 : 76 %\n",
      "Accuracy of     5 : 81 %\n",
      "Accuracy of     6 : 68 %\n",
      "Accuracy of     7 : 31 %\n",
      "Accuracy of     8 : 30 %\n",
      "Accuracy of     9 : 46 %\n",
      "Accuracy of the network on the 10000 test images: 57 %\n"
     ]
    },
    {
     "name": "stderr",
     "output_type": "stream",
     "text": [
      "\r",
      " 53%|█████▎    | 59/112 [01:01<00:55,  1.04s/it]"
     ]
    },
    {
     "name": "stdout",
     "output_type": "stream",
     "text": [
      "Accuracy of     0 : 23 %\n",
      "Accuracy of     1 : 100 %\n",
      "Accuracy of     2 : 72 %\n",
      "Accuracy of     3 : 44 %\n",
      "Accuracy of     4 : 81 %\n",
      "Accuracy of     5 : 73 %\n",
      "Accuracy of     6 : 62 %\n",
      "Accuracy of     7 : 28 %\n",
      "Accuracy of     8 : 24 %\n",
      "Accuracy of     9 : 51 %\n",
      "Accuracy of the network on the 10000 test images: 55 %\n"
     ]
    },
    {
     "name": "stderr",
     "output_type": "stream",
     "text": [
      "\r",
      " 54%|█████▎    | 60/112 [01:02<00:53,  1.03s/it]"
     ]
    },
    {
     "name": "stdout",
     "output_type": "stream",
     "text": [
      "Accuracy of     0 : 29 %\n",
      "Accuracy of     1 : 100 %\n",
      "Accuracy of     2 : 78 %\n",
      "Accuracy of     3 : 54 %\n",
      "Accuracy of     4 : 79 %\n",
      "Accuracy of     5 : 86 %\n",
      "Accuracy of     6 : 74 %\n",
      "Accuracy of     7 : 33 %\n",
      "Accuracy of     8 : 32 %\n",
      "Accuracy of     9 : 56 %\n",
      "Accuracy of the network on the 10000 test images: 62 %\n"
     ]
    },
    {
     "name": "stderr",
     "output_type": "stream",
     "text": [
      "\r",
      " 54%|█████▍    | 61/112 [01:03<00:52,  1.03s/it]"
     ]
    },
    {
     "name": "stdout",
     "output_type": "stream",
     "text": [
      "Accuracy of     0 : 25 %\n",
      "Accuracy of     1 : 100 %\n",
      "Accuracy of     2 : 76 %\n",
      "Accuracy of     3 : 53 %\n",
      "Accuracy of     4 : 84 %\n",
      "Accuracy of     5 : 78 %\n",
      "Accuracy of     6 : 71 %\n",
      "Accuracy of     7 : 37 %\n",
      "Accuracy of     8 : 27 %\n",
      "Accuracy of     9 : 62 %\n",
      "Accuracy of the network on the 10000 test images: 61 %\n"
     ]
    },
    {
     "name": "stderr",
     "output_type": "stream",
     "text": [
      "\r",
      " 55%|█████▌    | 62/112 [01:04<00:51,  1.04s/it]"
     ]
    },
    {
     "name": "stdout",
     "output_type": "stream",
     "text": [
      "Accuracy of     0 : 32 %\n",
      "Accuracy of     1 : 100 %\n",
      "Accuracy of     2 : 78 %\n",
      "Accuracy of     3 : 59 %\n",
      "Accuracy of     4 : 86 %\n",
      "Accuracy of     5 : 89 %\n",
      "Accuracy of     6 : 76 %\n",
      "Accuracy of     7 : 38 %\n",
      "Accuracy of     8 : 35 %\n",
      "Accuracy of     9 : 65 %\n",
      "Accuracy of the network on the 10000 test images: 65 %\n"
     ]
    },
    {
     "name": "stderr",
     "output_type": "stream",
     "text": [
      "\r",
      " 56%|█████▋    | 63/112 [01:05<00:50,  1.04s/it]"
     ]
    },
    {
     "name": "stdout",
     "output_type": "stream",
     "text": [
      "Accuracy of     0 : 31 %\n",
      "Accuracy of     1 : 100 %\n",
      "Accuracy of     2 : 76 %\n",
      "Accuracy of     3 : 58 %\n",
      "Accuracy of     4 : 85 %\n",
      "Accuracy of     5 : 84 %\n",
      "Accuracy of     6 : 73 %\n",
      "Accuracy of     7 : 42 %\n",
      "Accuracy of     8 : 28 %\n",
      "Accuracy of     9 : 72 %\n",
      "Accuracy of the network on the 10000 test images: 64 %\n"
     ]
    },
    {
     "name": "stderr",
     "output_type": "stream",
     "text": [
      "\r",
      " 57%|█████▋    | 64/112 [01:07<00:50,  1.05s/it]"
     ]
    },
    {
     "name": "stdout",
     "output_type": "stream",
     "text": [
      "Accuracy of     0 : 39 %\n",
      "Accuracy of     1 : 100 %\n",
      "Accuracy of     2 : 81 %\n",
      "Accuracy of     3 : 64 %\n",
      "Accuracy of     4 : 86 %\n",
      "Accuracy of     5 : 88 %\n",
      "Accuracy of     6 : 78 %\n",
      "Accuracy of     7 : 44 %\n",
      "Accuracy of     8 : 46 %\n",
      "Accuracy of     9 : 71 %\n",
      "Accuracy of the network on the 10000 test images: 69 %\n"
     ]
    },
    {
     "name": "stderr",
     "output_type": "stream",
     "text": [
      "\r",
      " 58%|█████▊    | 65/112 [01:08<00:49,  1.05s/it]"
     ]
    },
    {
     "name": "stdout",
     "output_type": "stream",
     "text": [
      "Accuracy of     0 : 36 %\n",
      "Accuracy of     1 : 100 %\n",
      "Accuracy of     2 : 77 %\n",
      "Accuracy of     3 : 67 %\n",
      "Accuracy of     4 : 89 %\n",
      "Accuracy of     5 : 86 %\n",
      "Accuracy of     6 : 74 %\n",
      "Accuracy of     7 : 46 %\n",
      "Accuracy of     8 : 40 %\n",
      "Accuracy of     9 : 74 %\n",
      "Accuracy of the network on the 10000 test images: 68 %\n"
     ]
    },
    {
     "name": "stderr",
     "output_type": "stream",
     "text": [
      "\r",
      " 59%|█████▉    | 66/112 [01:09<00:48,  1.05s/it]"
     ]
    },
    {
     "name": "stdout",
     "output_type": "stream",
     "text": [
      "Accuracy of     0 : 49 %\n",
      "Accuracy of     1 : 100 %\n",
      "Accuracy of     2 : 82 %\n",
      "Accuracy of     3 : 73 %\n",
      "Accuracy of     4 : 89 %\n",
      "Accuracy of     5 : 86 %\n",
      "Accuracy of     6 : 82 %\n",
      "Accuracy of     7 : 49 %\n",
      "Accuracy of     8 : 52 %\n",
      "Accuracy of     9 : 75 %\n",
      "Accuracy of the network on the 10000 test images: 73 %\n"
     ]
    },
    {
     "name": "stderr",
     "output_type": "stream",
     "text": [
      "\r",
      " 60%|█████▉    | 67/112 [01:10<00:47,  1.05s/it]"
     ]
    },
    {
     "name": "stdout",
     "output_type": "stream",
     "text": [
      "Accuracy of     0 : 42 %\n",
      "Accuracy of     1 : 100 %\n",
      "Accuracy of     2 : 77 %\n",
      "Accuracy of     3 : 72 %\n",
      "Accuracy of     4 : 88 %\n",
      "Accuracy of     5 : 86 %\n",
      "Accuracy of     6 : 78 %\n",
      "Accuracy of     7 : 45 %\n",
      "Accuracy of     8 : 49 %\n",
      "Accuracy of     9 : 81 %\n",
      "Accuracy of the network on the 10000 test images: 71 %\n"
     ]
    },
    {
     "name": "stderr",
     "output_type": "stream",
     "text": [
      "\r",
      " 61%|██████    | 68/112 [01:11<00:46,  1.05s/it]"
     ]
    },
    {
     "name": "stdout",
     "output_type": "stream",
     "text": [
      "Accuracy of     0 : 55 %\n",
      "Accuracy of     1 : 100 %\n",
      "Accuracy of     2 : 81 %\n",
      "Accuracy of     3 : 75 %\n",
      "Accuracy of     4 : 90 %\n",
      "Accuracy of     5 : 89 %\n",
      "Accuracy of     6 : 85 %\n",
      "Accuracy of     7 : 54 %\n",
      "Accuracy of     8 : 56 %\n",
      "Accuracy of     9 : 73 %\n",
      "Accuracy of the network on the 10000 test images: 75 %\n"
     ]
    },
    {
     "name": "stderr",
     "output_type": "stream",
     "text": [
      "\r",
      " 62%|██████▏   | 69/112 [01:12<00:44,  1.04s/it]"
     ]
    },
    {
     "name": "stdout",
     "output_type": "stream",
     "text": [
      "Accuracy of     0 : 51 %\n",
      "Accuracy of     1 : 99 %\n",
      "Accuracy of     2 : 84 %\n",
      "Accuracy of     3 : 74 %\n",
      "Accuracy of     4 : 92 %\n",
      "Accuracy of     5 : 89 %\n",
      "Accuracy of     6 : 86 %\n",
      "Accuracy of     7 : 47 %\n",
      "Accuracy of     8 : 57 %\n",
      "Accuracy of     9 : 88 %\n",
      "Accuracy of the network on the 10000 test images: 76 %\n"
     ]
    },
    {
     "name": "stderr",
     "output_type": "stream",
     "text": [
      "\r",
      " 62%|██████▎   | 70/112 [01:13<00:43,  1.04s/it]"
     ]
    },
    {
     "name": "stdout",
     "output_type": "stream",
     "text": [
      "Accuracy of     0 : 60 %\n",
      "Accuracy of     1 : 99 %\n",
      "Accuracy of     2 : 88 %\n",
      "Accuracy of     3 : 79 %\n",
      "Accuracy of     4 : 91 %\n",
      "Accuracy of     5 : 89 %\n",
      "Accuracy of     6 : 89 %\n",
      "Accuracy of     7 : 58 %\n",
      "Accuracy of     8 : 62 %\n",
      "Accuracy of     9 : 85 %\n",
      "Accuracy of the network on the 10000 test images: 80 %\n"
     ]
    },
    {
     "name": "stderr",
     "output_type": "stream",
     "text": [
      "\r",
      " 63%|██████▎   | 71/112 [01:14<00:42,  1.04s/it]"
     ]
    },
    {
     "name": "stdout",
     "output_type": "stream",
     "text": [
      "Accuracy of     0 : 56 %\n",
      "Accuracy of     1 : 99 %\n",
      "Accuracy of     2 : 87 %\n",
      "Accuracy of     3 : 78 %\n",
      "Accuracy of     4 : 93 %\n",
      "Accuracy of     5 : 91 %\n",
      "Accuracy of     6 : 88 %\n",
      "Accuracy of     7 : 50 %\n",
      "Accuracy of     8 : 63 %\n",
      "Accuracy of     9 : 89 %\n",
      "Accuracy of the network on the 10000 test images: 79 %\n"
     ]
    },
    {
     "name": "stderr",
     "output_type": "stream",
     "text": [
      "\r",
      " 64%|██████▍   | 72/112 [01:15<00:41,  1.05s/it]"
     ]
    },
    {
     "name": "stdout",
     "output_type": "stream",
     "text": [
      "Accuracy of     0 : 66 %\n",
      "Accuracy of     1 : 99 %\n",
      "Accuracy of     2 : 90 %\n",
      "Accuracy of     3 : 83 %\n",
      "Accuracy of     4 : 94 %\n",
      "Accuracy of     5 : 91 %\n",
      "Accuracy of     6 : 91 %\n",
      "Accuracy of     7 : 57 %\n",
      "Accuracy of     8 : 68 %\n",
      "Accuracy of     9 : 86 %\n",
      "Accuracy of the network on the 10000 test images: 82 %\n"
     ]
    },
    {
     "name": "stderr",
     "output_type": "stream",
     "text": [
      "\r",
      " 65%|██████▌   | 73/112 [01:16<00:41,  1.06s/it]"
     ]
    },
    {
     "name": "stdout",
     "output_type": "stream",
     "text": [
      "Accuracy of     0 : 64 %\n",
      "Accuracy of     1 : 99 %\n",
      "Accuracy of     2 : 89 %\n",
      "Accuracy of     3 : 82 %\n",
      "Accuracy of     4 : 94 %\n",
      "Accuracy of     5 : 94 %\n",
      "Accuracy of     6 : 91 %\n",
      "Accuracy of     7 : 59 %\n",
      "Accuracy of     8 : 65 %\n",
      "Accuracy of     9 : 89 %\n",
      "Accuracy of the network on the 10000 test images: 82 %\n"
     ]
    },
    {
     "name": "stderr",
     "output_type": "stream",
     "text": [
      "\r",
      " 66%|██████▌   | 74/112 [01:17<00:40,  1.06s/it]"
     ]
    },
    {
     "name": "stdout",
     "output_type": "stream",
     "text": [
      "Accuracy of     0 : 80 %\n",
      "Accuracy of     1 : 100 %\n",
      "Accuracy of     2 : 91 %\n",
      "Accuracy of     3 : 86 %\n",
      "Accuracy of     4 : 96 %\n",
      "Accuracy of     5 : 95 %\n",
      "Accuracy of     6 : 90 %\n",
      "Accuracy of     7 : 60 %\n",
      "Accuracy of     8 : 76 %\n",
      "Accuracy of     9 : 88 %\n",
      "Accuracy of the network on the 10000 test images: 86 %\n"
     ]
    },
    {
     "name": "stderr",
     "output_type": "stream",
     "text": [
      "\r",
      " 67%|██████▋   | 75/112 [01:18<00:38,  1.05s/it]"
     ]
    },
    {
     "name": "stdout",
     "output_type": "stream",
     "text": [
      "Accuracy of     0 : 76 %\n",
      "Accuracy of     1 : 100 %\n",
      "Accuracy of     2 : 92 %\n",
      "Accuracy of     3 : 85 %\n",
      "Accuracy of     4 : 96 %\n",
      "Accuracy of     5 : 93 %\n",
      "Accuracy of     6 : 92 %\n",
      "Accuracy of     7 : 57 %\n",
      "Accuracy of     8 : 77 %\n",
      "Accuracy of     9 : 90 %\n",
      "Accuracy of the network on the 10000 test images: 85 %\n"
     ]
    },
    {
     "name": "stderr",
     "output_type": "stream",
     "text": [
      "\r",
      " 68%|██████▊   | 76/112 [01:19<00:37,  1.05s/it]"
     ]
    },
    {
     "name": "stdout",
     "output_type": "stream",
     "text": [
      "Accuracy of     0 : 86 %\n",
      "Accuracy of     1 : 99 %\n",
      "Accuracy of     2 : 94 %\n",
      "Accuracy of     3 : 89 %\n",
      "Accuracy of     4 : 96 %\n",
      "Accuracy of     5 : 93 %\n",
      "Accuracy of     6 : 88 %\n",
      "Accuracy of     7 : 69 %\n",
      "Accuracy of     8 : 84 %\n",
      "Accuracy of     9 : 90 %\n",
      "Accuracy of the network on the 10000 test images: 88 %\n"
     ]
    },
    {
     "name": "stderr",
     "output_type": "stream",
     "text": [
      "\r",
      " 69%|██████▉   | 77/112 [01:20<00:36,  1.05s/it]"
     ]
    },
    {
     "name": "stdout",
     "output_type": "stream",
     "text": [
      "Accuracy of     0 : 82 %\n",
      "Accuracy of     1 : 100 %\n",
      "Accuracy of     2 : 95 %\n",
      "Accuracy of     3 : 91 %\n",
      "Accuracy of     4 : 96 %\n",
      "Accuracy of     5 : 93 %\n",
      "Accuracy of     6 : 89 %\n",
      "Accuracy of     7 : 64 %\n",
      "Accuracy of     8 : 82 %\n",
      "Accuracy of     9 : 91 %\n",
      "Accuracy of the network on the 10000 test images: 88 %\n"
     ]
    },
    {
     "name": "stderr",
     "output_type": "stream",
     "text": [
      "\r",
      " 70%|██████▉   | 78/112 [01:21<00:35,  1.05s/it]"
     ]
    },
    {
     "name": "stdout",
     "output_type": "stream",
     "text": [
      "Accuracy of     0 : 89 %\n",
      "Accuracy of     1 : 99 %\n",
      "Accuracy of     2 : 98 %\n",
      "Accuracy of     3 : 91 %\n",
      "Accuracy of     4 : 97 %\n",
      "Accuracy of     5 : 93 %\n",
      "Accuracy of     6 : 93 %\n",
      "Accuracy of     7 : 75 %\n",
      "Accuracy of     8 : 87 %\n",
      "Accuracy of     9 : 90 %\n",
      "Accuracy of the network on the 10000 test images: 91 %\n"
     ]
    },
    {
     "name": "stderr",
     "output_type": "stream",
     "text": [
      "\r",
      " 71%|███████   | 79/112 [01:22<00:34,  1.04s/it]"
     ]
    },
    {
     "name": "stdout",
     "output_type": "stream",
     "text": [
      "Accuracy of     0 : 86 %\n",
      "Accuracy of     1 : 100 %\n",
      "Accuracy of     2 : 97 %\n",
      "Accuracy of     3 : 93 %\n",
      "Accuracy of     4 : 97 %\n",
      "Accuracy of     5 : 94 %\n",
      "Accuracy of     6 : 92 %\n",
      "Accuracy of     7 : 71 %\n",
      "Accuracy of     8 : 86 %\n",
      "Accuracy of     9 : 93 %\n",
      "Accuracy of the network on the 10000 test images: 90 %\n"
     ]
    },
    {
     "name": "stderr",
     "output_type": "stream",
     "text": [
      "\r",
      " 71%|███████▏  | 80/112 [01:23<00:33,  1.04s/it]"
     ]
    },
    {
     "name": "stdout",
     "output_type": "stream",
     "text": [
      "Accuracy of     0 : 87 %\n",
      "Accuracy of     1 : 100 %\n",
      "Accuracy of     2 : 98 %\n",
      "Accuracy of     3 : 91 %\n",
      "Accuracy of     4 : 98 %\n",
      "Accuracy of     5 : 95 %\n",
      "Accuracy of     6 : 94 %\n",
      "Accuracy of     7 : 80 %\n",
      "Accuracy of     8 : 88 %\n",
      "Accuracy of     9 : 90 %\n",
      "Accuracy of the network on the 10000 test images: 92 %\n"
     ]
    },
    {
     "name": "stderr",
     "output_type": "stream",
     "text": [
      "\r",
      " 72%|███████▏  | 81/112 [01:24<00:32,  1.05s/it]"
     ]
    },
    {
     "name": "stdout",
     "output_type": "stream",
     "text": [
      "Accuracy of     0 : 80 %\n",
      "Accuracy of     1 : 100 %\n",
      "Accuracy of     2 : 98 %\n",
      "Accuracy of     3 : 93 %\n",
      "Accuracy of     4 : 97 %\n",
      "Accuracy of     5 : 95 %\n",
      "Accuracy of     6 : 93 %\n",
      "Accuracy of     7 : 77 %\n",
      "Accuracy of     8 : 87 %\n",
      "Accuracy of     9 : 94 %\n",
      "Accuracy of the network on the 10000 test images: 91 %\n"
     ]
    },
    {
     "name": "stderr",
     "output_type": "stream",
     "text": [
      "\r",
      " 73%|███████▎  | 82/112 [01:25<00:31,  1.05s/it]"
     ]
    },
    {
     "name": "stdout",
     "output_type": "stream",
     "text": [
      "Accuracy of     0 : 88 %\n",
      "Accuracy of     1 : 100 %\n",
      "Accuracy of     2 : 98 %\n",
      "Accuracy of     3 : 93 %\n",
      "Accuracy of     4 : 98 %\n",
      "Accuracy of     5 : 95 %\n",
      "Accuracy of     6 : 95 %\n",
      "Accuracy of     7 : 86 %\n",
      "Accuracy of     8 : 90 %\n",
      "Accuracy of     9 : 90 %\n",
      "Accuracy of the network on the 10000 test images: 93 %\n"
     ]
    },
    {
     "name": "stderr",
     "output_type": "stream",
     "text": [
      "\r",
      " 74%|███████▍  | 83/112 [01:26<00:30,  1.05s/it]"
     ]
    },
    {
     "name": "stdout",
     "output_type": "stream",
     "text": [
      "Accuracy of     0 : 84 %\n",
      "Accuracy of     1 : 100 %\n",
      "Accuracy of     2 : 98 %\n",
      "Accuracy of     3 : 93 %\n",
      "Accuracy of     4 : 97 %\n",
      "Accuracy of     5 : 95 %\n",
      "Accuracy of     6 : 94 %\n",
      "Accuracy of     7 : 85 %\n",
      "Accuracy of     8 : 89 %\n",
      "Accuracy of     9 : 93 %\n",
      "Accuracy of the network on the 10000 test images: 92 %\n"
     ]
    },
    {
     "name": "stderr",
     "output_type": "stream",
     "text": [
      "\r",
      " 75%|███████▌  | 84/112 [01:27<00:29,  1.05s/it]"
     ]
    },
    {
     "name": "stdout",
     "output_type": "stream",
     "text": [
      "Accuracy of     0 : 90 %\n",
      "Accuracy of     1 : 100 %\n",
      "Accuracy of     2 : 98 %\n",
      "Accuracy of     3 : 93 %\n",
      "Accuracy of     4 : 98 %\n",
      "Accuracy of     5 : 95 %\n",
      "Accuracy of     6 : 97 %\n",
      "Accuracy of     7 : 90 %\n",
      "Accuracy of     8 : 93 %\n",
      "Accuracy of     9 : 91 %\n",
      "Accuracy of the network on the 10000 test images: 94 %\n"
     ]
    },
    {
     "name": "stderr",
     "output_type": "stream",
     "text": [
      "\r",
      " 76%|███████▌  | 85/112 [01:29<00:28,  1.05s/it]"
     ]
    },
    {
     "name": "stdout",
     "output_type": "stream",
     "text": [
      "Accuracy of     0 : 86 %\n",
      "Accuracy of     1 : 100 %\n",
      "Accuracy of     2 : 98 %\n",
      "Accuracy of     3 : 94 %\n",
      "Accuracy of     4 : 97 %\n",
      "Accuracy of     5 : 95 %\n",
      "Accuracy of     6 : 96 %\n",
      "Accuracy of     7 : 88 %\n",
      "Accuracy of     8 : 92 %\n",
      "Accuracy of     9 : 91 %\n",
      "Accuracy of the network on the 10000 test images: 93 %\n"
     ]
    },
    {
     "name": "stderr",
     "output_type": "stream",
     "text": [
      "\r",
      " 77%|███████▋  | 86/112 [01:30<00:27,  1.04s/it]"
     ]
    },
    {
     "name": "stdout",
     "output_type": "stream",
     "text": [
      "Accuracy of     0 : 94 %\n",
      "Accuracy of     1 : 100 %\n",
      "Accuracy of     2 : 99 %\n",
      "Accuracy of     3 : 94 %\n",
      "Accuracy of     4 : 99 %\n",
      "Accuracy of     5 : 97 %\n",
      "Accuracy of     6 : 96 %\n",
      "Accuracy of     7 : 92 %\n",
      "Accuracy of     8 : 93 %\n",
      "Accuracy of     9 : 91 %\n",
      "Accuracy of the network on the 10000 test images: 95 %\n"
     ]
    },
    {
     "name": "stderr",
     "output_type": "stream",
     "text": [
      "\r",
      " 78%|███████▊  | 87/112 [01:31<00:26,  1.04s/it]"
     ]
    },
    {
     "name": "stdout",
     "output_type": "stream",
     "text": [
      "Accuracy of     0 : 93 %\n",
      "Accuracy of     1 : 100 %\n",
      "Accuracy of     2 : 98 %\n",
      "Accuracy of     3 : 95 %\n",
      "Accuracy of     4 : 98 %\n",
      "Accuracy of     5 : 97 %\n",
      "Accuracy of     6 : 97 %\n",
      "Accuracy of     7 : 92 %\n",
      "Accuracy of     8 : 94 %\n",
      "Accuracy of     9 : 91 %\n",
      "Accuracy of the network on the 10000 test images: 95 %\n"
     ]
    },
    {
     "name": "stderr",
     "output_type": "stream",
     "text": [
      "\r",
      " 79%|███████▊  | 88/112 [01:32<00:25,  1.05s/it]"
     ]
    },
    {
     "name": "stdout",
     "output_type": "stream",
     "text": [
      "Accuracy of     0 : 95 %\n",
      "Accuracy of     1 : 100 %\n",
      "Accuracy of     2 : 99 %\n",
      "Accuracy of     3 : 97 %\n",
      "Accuracy of     4 : 99 %\n",
      "Accuracy of     5 : 96 %\n",
      "Accuracy of     6 : 96 %\n",
      "Accuracy of     7 : 94 %\n",
      "Accuracy of     8 : 96 %\n",
      "Accuracy of     9 : 91 %\n",
      "Accuracy of the network on the 10000 test images: 96 %\n"
     ]
    },
    {
     "name": "stderr",
     "output_type": "stream",
     "text": [
      "\r",
      " 79%|███████▉  | 89/112 [01:33<00:24,  1.05s/it]"
     ]
    },
    {
     "name": "stdout",
     "output_type": "stream",
     "text": [
      "Accuracy of     0 : 93 %\n",
      "Accuracy of     1 : 100 %\n",
      "Accuracy of     2 : 98 %\n",
      "Accuracy of     3 : 95 %\n",
      "Accuracy of     4 : 99 %\n",
      "Accuracy of     5 : 97 %\n",
      "Accuracy of     6 : 97 %\n",
      "Accuracy of     7 : 95 %\n",
      "Accuracy of     8 : 95 %\n",
      "Accuracy of     9 : 92 %\n",
      "Accuracy of the network on the 10000 test images: 96 %\n"
     ]
    },
    {
     "name": "stderr",
     "output_type": "stream",
     "text": [
      "\r",
      " 80%|████████  | 90/112 [01:34<00:23,  1.05s/it]"
     ]
    },
    {
     "name": "stdout",
     "output_type": "stream",
     "text": [
      "Accuracy of     0 : 99 %\n",
      "Accuracy of     1 : 100 %\n",
      "Accuracy of     2 : 98 %\n",
      "Accuracy of     3 : 96 %\n",
      "Accuracy of     4 : 99 %\n",
      "Accuracy of     5 : 97 %\n",
      "Accuracy of     6 : 98 %\n",
      "Accuracy of     7 : 95 %\n",
      "Accuracy of     8 : 96 %\n",
      "Accuracy of     9 : 93 %\n",
      "Accuracy of the network on the 10000 test images: 97 %\n"
     ]
    },
    {
     "name": "stderr",
     "output_type": "stream",
     "text": [
      "\r",
      " 81%|████████▏ | 91/112 [01:35<00:21,  1.04s/it]"
     ]
    },
    {
     "name": "stdout",
     "output_type": "stream",
     "text": [
      "Accuracy of     0 : 92 %\n",
      "Accuracy of     1 : 100 %\n",
      "Accuracy of     2 : 99 %\n",
      "Accuracy of     3 : 97 %\n",
      "Accuracy of     4 : 99 %\n",
      "Accuracy of     5 : 97 %\n",
      "Accuracy of     6 : 99 %\n",
      "Accuracy of     7 : 96 %\n",
      "Accuracy of     8 : 95 %\n",
      "Accuracy of     9 : 93 %\n",
      "Accuracy of the network on the 10000 test images: 96 %\n"
     ]
    },
    {
     "name": "stderr",
     "output_type": "stream",
     "text": [
      "\r",
      " 82%|████████▏ | 92/112 [01:36<00:20,  1.04s/it]"
     ]
    },
    {
     "name": "stdout",
     "output_type": "stream",
     "text": [
      "Accuracy of     0 : 100 %\n",
      "Accuracy of     1 : 100 %\n",
      "Accuracy of     2 : 97 %\n",
      "Accuracy of     3 : 98 %\n",
      "Accuracy of     4 : 99 %\n",
      "Accuracy of     5 : 98 %\n",
      "Accuracy of     6 : 99 %\n",
      "Accuracy of     7 : 98 %\n",
      "Accuracy of     8 : 96 %\n",
      "Accuracy of     9 : 95 %\n",
      "Accuracy of the network on the 10000 test images: 98 %\n"
     ]
    },
    {
     "name": "stderr",
     "output_type": "stream",
     "text": [
      "\r",
      " 83%|████████▎ | 93/112 [01:37<00:19,  1.04s/it]"
     ]
    },
    {
     "name": "stdout",
     "output_type": "stream",
     "text": [
      "Accuracy of     0 : 94 %\n",
      "Accuracy of     1 : 100 %\n",
      "Accuracy of     2 : 98 %\n",
      "Accuracy of     3 : 99 %\n",
      "Accuracy of     4 : 99 %\n",
      "Accuracy of     5 : 99 %\n",
      "Accuracy of     6 : 100 %\n",
      "Accuracy of     7 : 97 %\n",
      "Accuracy of     8 : 97 %\n",
      "Accuracy of     9 : 93 %\n",
      "Accuracy of the network on the 10000 test images: 97 %\n"
     ]
    },
    {
     "name": "stderr",
     "output_type": "stream",
     "text": [
      "\r",
      " 84%|████████▍ | 94/112 [01:38<00:18,  1.04s/it]"
     ]
    },
    {
     "name": "stdout",
     "output_type": "stream",
     "text": [
      "Accuracy of     0 : 99 %\n",
      "Accuracy of     1 : 100 %\n",
      "Accuracy of     2 : 97 %\n",
      "Accuracy of     3 : 99 %\n",
      "Accuracy of     4 : 100 %\n",
      "Accuracy of     5 : 100 %\n",
      "Accuracy of     6 : 99 %\n",
      "Accuracy of     7 : 97 %\n",
      "Accuracy of     8 : 97 %\n",
      "Accuracy of     9 : 95 %\n",
      "Accuracy of the network on the 10000 test images: 98 %\n"
     ]
    },
    {
     "name": "stderr",
     "output_type": "stream",
     "text": [
      "\r",
      " 85%|████████▍ | 95/112 [01:39<00:17,  1.04s/it]"
     ]
    },
    {
     "name": "stdout",
     "output_type": "stream",
     "text": [
      "Accuracy of     0 : 97 %\n",
      "Accuracy of     1 : 100 %\n",
      "Accuracy of     2 : 99 %\n",
      "Accuracy of     3 : 99 %\n",
      "Accuracy of     4 : 99 %\n",
      "Accuracy of     5 : 100 %\n",
      "Accuracy of     6 : 100 %\n",
      "Accuracy of     7 : 97 %\n",
      "Accuracy of     8 : 98 %\n",
      "Accuracy of     9 : 93 %\n",
      "Accuracy of the network on the 10000 test images: 98 %\n"
     ]
    },
    {
     "name": "stderr",
     "output_type": "stream",
     "text": [
      "\r",
      " 86%|████████▌ | 96/112 [01:40<00:16,  1.04s/it]"
     ]
    },
    {
     "name": "stdout",
     "output_type": "stream",
     "text": [
      "Accuracy of     0 : 99 %\n",
      "Accuracy of     1 : 100 %\n",
      "Accuracy of     2 : 98 %\n",
      "Accuracy of     3 : 99 %\n",
      "Accuracy of     4 : 100 %\n",
      "Accuracy of     5 : 99 %\n",
      "Accuracy of     6 : 100 %\n",
      "Accuracy of     7 : 97 %\n",
      "Accuracy of     8 : 97 %\n",
      "Accuracy of     9 : 95 %\n",
      "Accuracy of the network on the 10000 test images: 98 %\n"
     ]
    },
    {
     "name": "stderr",
     "output_type": "stream",
     "text": [
      "\r",
      " 87%|████████▋ | 97/112 [01:41<00:15,  1.04s/it]"
     ]
    },
    {
     "name": "stdout",
     "output_type": "stream",
     "text": [
      "Accuracy of     0 : 98 %\n",
      "Accuracy of     1 : 100 %\n",
      "Accuracy of     2 : 99 %\n",
      "Accuracy of     3 : 99 %\n",
      "Accuracy of     4 : 99 %\n",
      "Accuracy of     5 : 98 %\n",
      "Accuracy of     6 : 100 %\n",
      "Accuracy of     7 : 100 %\n",
      "Accuracy of     8 : 97 %\n",
      "Accuracy of     9 : 94 %\n",
      "Accuracy of the network on the 10000 test images: 98 %\n"
     ]
    },
    {
     "name": "stderr",
     "output_type": "stream",
     "text": [
      "\r",
      " 88%|████████▊ | 98/112 [01:42<00:14,  1.05s/it]"
     ]
    },
    {
     "name": "stdout",
     "output_type": "stream",
     "text": [
      "Accuracy of     0 : 99 %\n",
      "Accuracy of     1 : 100 %\n",
      "Accuracy of     2 : 98 %\n",
      "Accuracy of     3 : 99 %\n",
      "Accuracy of     4 : 100 %\n",
      "Accuracy of     5 : 99 %\n",
      "Accuracy of     6 : 100 %\n",
      "Accuracy of     7 : 99 %\n",
      "Accuracy of     8 : 98 %\n",
      "Accuracy of     9 : 95 %\n",
      "Accuracy of the network on the 10000 test images: 98 %\n"
     ]
    },
    {
     "name": "stderr",
     "output_type": "stream",
     "text": [
      "\r",
      " 88%|████████▊ | 99/112 [01:43<00:13,  1.05s/it]"
     ]
    },
    {
     "name": "stdout",
     "output_type": "stream",
     "text": [
      "Accuracy of     0 : 98 %\n",
      "Accuracy of     1 : 100 %\n",
      "Accuracy of     2 : 99 %\n",
      "Accuracy of     3 : 99 %\n",
      "Accuracy of     4 : 100 %\n",
      "Accuracy of     5 : 99 %\n",
      "Accuracy of     6 : 100 %\n",
      "Accuracy of     7 : 98 %\n",
      "Accuracy of     8 : 97 %\n",
      "Accuracy of     9 : 93 %\n",
      "Accuracy of the network on the 10000 test images: 98 %\n"
     ]
    },
    {
     "name": "stderr",
     "output_type": "stream",
     "text": [
      "\r",
      " 89%|████████▉ | 100/112 [01:44<00:12,  1.05s/it]"
     ]
    },
    {
     "name": "stdout",
     "output_type": "stream",
     "text": [
      "Accuracy of     0 : 99 %\n",
      "Accuracy of     1 : 100 %\n",
      "Accuracy of     2 : 99 %\n",
      "Accuracy of     3 : 99 %\n",
      "Accuracy of     4 : 100 %\n",
      "Accuracy of     5 : 98 %\n",
      "Accuracy of     6 : 100 %\n",
      "Accuracy of     7 : 99 %\n",
      "Accuracy of     8 : 98 %\n",
      "Accuracy of     9 : 95 %\n",
      "Accuracy of the network on the 10000 test images: 98 %\n"
     ]
    },
    {
     "name": "stderr",
     "output_type": "stream",
     "text": [
      "\r",
      " 90%|█████████ | 101/112 [01:45<00:11,  1.04s/it]"
     ]
    },
    {
     "name": "stdout",
     "output_type": "stream",
     "text": [
      "Accuracy of     0 : 99 %\n",
      "Accuracy of     1 : 100 %\n",
      "Accuracy of     2 : 99 %\n",
      "Accuracy of     3 : 99 %\n",
      "Accuracy of     4 : 100 %\n",
      "Accuracy of     5 : 99 %\n",
      "Accuracy of     6 : 100 %\n",
      "Accuracy of     7 : 98 %\n",
      "Accuracy of     8 : 98 %\n",
      "Accuracy of     9 : 94 %\n",
      "Accuracy of the network on the 10000 test images: 98 %\n"
     ]
    },
    {
     "name": "stderr",
     "output_type": "stream",
     "text": [
      "\r",
      " 91%|█████████ | 102/112 [01:46<00:10,  1.06s/it]"
     ]
    },
    {
     "name": "stdout",
     "output_type": "stream",
     "text": [
      "Accuracy of     0 : 99 %\n",
      "Accuracy of     1 : 100 %\n",
      "Accuracy of     2 : 99 %\n",
      "Accuracy of     3 : 99 %\n",
      "Accuracy of     4 : 100 %\n",
      "Accuracy of     5 : 99 %\n",
      "Accuracy of     6 : 100 %\n",
      "Accuracy of     7 : 99 %\n",
      "Accuracy of     8 : 98 %\n",
      "Accuracy of     9 : 94 %\n",
      "Accuracy of the network on the 10000 test images: 98 %\n"
     ]
    },
    {
     "name": "stderr",
     "output_type": "stream",
     "text": [
      "\r",
      " 92%|█████████▏| 103/112 [01:47<00:09,  1.05s/it]"
     ]
    },
    {
     "name": "stdout",
     "output_type": "stream",
     "text": [
      "Accuracy of     0 : 99 %\n",
      "Accuracy of     1 : 100 %\n",
      "Accuracy of     2 : 99 %\n",
      "Accuracy of     3 : 99 %\n",
      "Accuracy of     4 : 100 %\n",
      "Accuracy of     5 : 99 %\n",
      "Accuracy of     6 : 100 %\n",
      "Accuracy of     7 : 98 %\n",
      "Accuracy of     8 : 98 %\n",
      "Accuracy of     9 : 95 %\n",
      "Accuracy of the network on the 10000 test images: 98 %\n"
     ]
    },
    {
     "name": "stderr",
     "output_type": "stream",
     "text": [
      "\r",
      " 93%|█████████▎| 104/112 [01:48<00:08,  1.05s/it]"
     ]
    },
    {
     "name": "stdout",
     "output_type": "stream",
     "text": [
      "Accuracy of     0 : 99 %\n",
      "Accuracy of     1 : 100 %\n",
      "Accuracy of     2 : 99 %\n",
      "Accuracy of     3 : 99 %\n",
      "Accuracy of     4 : 100 %\n",
      "Accuracy of     5 : 99 %\n",
      "Accuracy of     6 : 100 %\n",
      "Accuracy of     7 : 99 %\n",
      "Accuracy of     8 : 98 %\n",
      "Accuracy of     9 : 95 %\n",
      "Accuracy of the network on the 10000 test images: 98 %\n"
     ]
    },
    {
     "name": "stderr",
     "output_type": "stream",
     "text": [
      "\r",
      " 94%|█████████▍| 105/112 [01:49<00:07,  1.04s/it]"
     ]
    },
    {
     "name": "stdout",
     "output_type": "stream",
     "text": [
      "Accuracy of     0 : 99 %\n",
      "Accuracy of     1 : 100 %\n",
      "Accuracy of     2 : 99 %\n",
      "Accuracy of     3 : 99 %\n",
      "Accuracy of     4 : 100 %\n",
      "Accuracy of     5 : 99 %\n",
      "Accuracy of     6 : 99 %\n",
      "Accuracy of     7 : 99 %\n",
      "Accuracy of     8 : 98 %\n",
      "Accuracy of     9 : 94 %\n",
      "Accuracy of the network on the 10000 test images: 98 %\n"
     ]
    },
    {
     "name": "stderr",
     "output_type": "stream",
     "text": [
      "\r",
      " 95%|█████████▍| 106/112 [01:50<00:06,  1.05s/it]"
     ]
    },
    {
     "name": "stdout",
     "output_type": "stream",
     "text": [
      "Accuracy of     0 : 99 %\n",
      "Accuracy of     1 : 100 %\n",
      "Accuracy of     2 : 99 %\n",
      "Accuracy of     3 : 99 %\n",
      "Accuracy of     4 : 100 %\n",
      "Accuracy of     5 : 99 %\n",
      "Accuracy of     6 : 100 %\n",
      "Accuracy of     7 : 99 %\n",
      "Accuracy of     8 : 98 %\n",
      "Accuracy of     9 : 95 %\n",
      "Accuracy of the network on the 10000 test images: 98 %\n"
     ]
    },
    {
     "name": "stderr",
     "output_type": "stream",
     "text": [
      "\r",
      " 96%|█████████▌| 107/112 [01:52<00:05,  1.05s/it]"
     ]
    },
    {
     "name": "stdout",
     "output_type": "stream",
     "text": [
      "Accuracy of     0 : 99 %\n",
      "Accuracy of     1 : 100 %\n",
      "Accuracy of     2 : 99 %\n",
      "Accuracy of     3 : 99 %\n",
      "Accuracy of     4 : 100 %\n",
      "Accuracy of     5 : 100 %\n",
      "Accuracy of     6 : 99 %\n",
      "Accuracy of     7 : 99 %\n",
      "Accuracy of     8 : 98 %\n",
      "Accuracy of     9 : 95 %\n",
      "Accuracy of the network on the 10000 test images: 98 %\n"
     ]
    },
    {
     "name": "stderr",
     "output_type": "stream",
     "text": [
      "\r",
      " 96%|█████████▋| 108/112 [01:53<00:04,  1.05s/it]"
     ]
    },
    {
     "name": "stdout",
     "output_type": "stream",
     "text": [
      "Accuracy of     0 : 99 %\n",
      "Accuracy of     1 : 100 %\n",
      "Accuracy of     2 : 99 %\n",
      "Accuracy of     3 : 99 %\n",
      "Accuracy of     4 : 100 %\n",
      "Accuracy of     5 : 100 %\n",
      "Accuracy of     6 : 99 %\n",
      "Accuracy of     7 : 99 %\n",
      "Accuracy of     8 : 98 %\n",
      "Accuracy of     9 : 95 %\n",
      "Accuracy of the network on the 10000 test images: 98 %\n"
     ]
    },
    {
     "name": "stderr",
     "output_type": "stream",
     "text": [
      "\r",
      " 97%|█████████▋| 109/112 [01:54<00:03,  1.06s/it]"
     ]
    },
    {
     "name": "stdout",
     "output_type": "stream",
     "text": [
      "Accuracy of     0 : 99 %\n",
      "Accuracy of     1 : 100 %\n",
      "Accuracy of     2 : 99 %\n",
      "Accuracy of     3 : 99 %\n",
      "Accuracy of     4 : 100 %\n",
      "Accuracy of     5 : 100 %\n",
      "Accuracy of     6 : 99 %\n",
      "Accuracy of     7 : 99 %\n",
      "Accuracy of     8 : 98 %\n",
      "Accuracy of     9 : 96 %\n",
      "Accuracy of the network on the 10000 test images: 98 %\n"
     ]
    },
    {
     "name": "stderr",
     "output_type": "stream",
     "text": [
      "\r",
      " 98%|█████████▊| 110/112 [01:55<00:02,  1.06s/it]"
     ]
    },
    {
     "name": "stdout",
     "output_type": "stream",
     "text": [
      "Accuracy of     0 : 99 %\n",
      "Accuracy of     1 : 100 %\n",
      "Accuracy of     2 : 99 %\n",
      "Accuracy of     3 : 99 %\n",
      "Accuracy of     4 : 100 %\n",
      "Accuracy of     5 : 100 %\n",
      "Accuracy of     6 : 99 %\n",
      "Accuracy of     7 : 99 %\n",
      "Accuracy of     8 : 98 %\n",
      "Accuracy of     9 : 96 %\n",
      "Accuracy of the network on the 10000 test images: 98 %\n"
     ]
    },
    {
     "name": "stderr",
     "output_type": "stream",
     "text": [
      "\r",
      " 99%|█████████▉| 111/112 [01:56<00:01,  1.06s/it]"
     ]
    },
    {
     "name": "stdout",
     "output_type": "stream",
     "text": [
      "Accuracy of     0 : 99 %\n",
      "Accuracy of     1 : 100 %\n",
      "Accuracy of     2 : 99 %\n",
      "Accuracy of     3 : 100 %\n",
      "Accuracy of     4 : 100 %\n",
      "Accuracy of     5 : 100 %\n",
      "Accuracy of     6 : 99 %\n",
      "Accuracy of     7 : 99 %\n",
      "Accuracy of     8 : 98 %\n",
      "Accuracy of     9 : 95 %\n",
      "Accuracy of the network on the 10000 test images: 98 %\n"
     ]
    },
    {
     "name": "stderr",
     "output_type": "stream",
     "text": [
      "100%|██████████| 112/112 [01:57<00:00,  1.05s/it]"
     ]
    },
    {
     "name": "stdout",
     "output_type": "stream",
     "text": [
      "Accuracy of     0 : 99 %\n",
      "Accuracy of     1 : 100 %\n",
      "Accuracy of     2 : 99 %\n",
      "Accuracy of     3 : 100 %\n",
      "Accuracy of     4 : 100 %\n",
      "Accuracy of     5 : 100 %\n",
      "Accuracy of     6 : 99 %\n",
      "Accuracy of     7 : 99 %\n",
      "Accuracy of     8 : 97 %\n",
      "Accuracy of     9 : 95 %\n",
      "Accuracy of the network on the 10000 test images: 98 %\n"
     ]
    },
    {
     "name": "stderr",
     "output_type": "stream",
     "text": [
      "\n"
     ]
    }
   ],
   "source": [
    "accuracy = []\n",
    "\n",
    "for testloader in tqdm(val_gen_arr):\n",
    "    correct = 0\n",
    "    total = 0\n",
    "    class_correct = list(0. for i in range(10))\n",
    "    class_total = list(0. for i in range(10))\n",
    "    with torch.no_grad():\n",
    "        for images in testloader:\n",
    "            c1 = images[0][0].to(device)\n",
    "            c2 = images[1][0].to(device)\n",
    "            c3 = images[2][0].to(device)\n",
    "            c4 = images[3][0].to(device)\n",
    "            c5 = images[4][0].to(device)\n",
    "            val_labels = images[0][1].to(device)\n",
    "            outputs = model(c1,c2,c3,c4,c5)\n",
    "            _, predicted = torch.max(outputs.data, 1)\n",
    "            c = (predicted == val_labels).squeeze()\n",
    "            total += val_labels.size(0)\n",
    "            correct += (predicted == val_labels).sum().item()\n",
    "            for i in range(len(val_labels)):\n",
    "                val_label = val_labels[i]\n",
    "                class_correct[val_label] += c[i].item()\n",
    "                class_total[val_label] += 1\n",
    "\n",
    "        for i in range(10):\n",
    "            if class_total[i]==0:\n",
    "                print('class_total = 0',class_correct,class_total)\n",
    "            else:\n",
    "                print('Accuracy of %5s : %2d %%' % (i, 100 * class_correct[i] / class_total[i]))\n",
    "            #print(total,correct,end='')\n",
    "\n",
    "    print('Accuracy of the network on the 10000 test images: %d %%' % (100 * correct / total))\n",
    "    accuracy.append((100 * correct / total))"
   ]
  },
  {
   "cell_type": "code",
   "execution_count": 41,
   "metadata": {},
   "outputs": [
    {
     "name": "stdout",
     "output_type": "stream",
     "text": [
      "0 10.0\n",
      "1 10.0\n",
      "2 10.0\n",
      "3 10.0\n",
      "4 10.0\n",
      "5 10.0\n",
      "6 10.0\n",
      "7 10.0\n",
      "8 10.0\n",
      "9 10.0\n",
      "10 10.0\n",
      "11 10.0\n",
      "12 10.0\n",
      "13 10.0\n",
      "14 10.0\n",
      "15 10.0\n",
      "16 10.0\n",
      "17 10.0\n",
      "18 10.0\n",
      "19 10.0\n",
      "20 10.0\n",
      "21 10.0\n",
      "22 10.0\n",
      "23 10.0\n",
      "24 10.0\n",
      "25 10.0\n",
      "26 10.0\n",
      "27 10.0\n",
      "28 10.3\n",
      "29 10.1\n",
      "30 10.5\n",
      "31 10.4\n",
      "32 11.1\n",
      "33 11.6\n",
      "34 12.4\n",
      "35 12.7\n",
      "36 14.9\n",
      "37 15.4\n",
      "38 17.8\n",
      "39 17.3\n",
      "40 20.3\n",
      "41 21.6\n",
      "42 22.9\n",
      "43 25.5\n",
      "44 25.7\n",
      "45 29.0\n",
      "46 29.9\n",
      "47 32.9\n",
      "48 34.5\n",
      "49 37.3\n",
      "50 38.2\n",
      "51 41.9\n",
      "52 44.0\n",
      "53 47.7\n",
      "54 49.5\n",
      "55 52.9\n",
      "56 52.0\n",
      "57 57.8\n",
      "58 55.8\n",
      "59 62.1\n",
      "60 61.3\n",
      "61 65.8\n",
      "62 64.9\n",
      "63 69.7\n",
      "64 68.9\n",
      "65 73.7\n",
      "66 71.8\n",
      "67 75.8\n",
      "68 76.7\n",
      "69 80.0\n",
      "70 79.4\n",
      "71 82.5\n",
      "72 82.6\n",
      "73 86.2\n",
      "74 85.8\n",
      "75 88.8\n",
      "76 88.3\n",
      "77 91.2\n",
      "78 90.9\n",
      "79 92.1\n",
      "80 91.4\n",
      "81 93.3\n",
      "82 92.8\n",
      "83 94.5\n",
      "84 93.7\n",
      "85 95.5\n",
      "86 95.5\n",
      "87 96.3\n",
      "88 96.1\n",
      "89 97.1\n",
      "90 96.7\n",
      "91 98.0\n",
      "92 97.6\n",
      "93 98.3\n",
      "94 98.2\n",
      "95 98.4\n",
      "96 98.4\n",
      "97 98.7\n",
      "98 98.3\n",
      "99 98.7\n",
      "100 98.6\n",
      "101 98.7\n",
      "102 98.7\n",
      "103 98.8\n",
      "104 98.6\n",
      "105 98.8\n",
      "106 98.8\n",
      "107 98.8\n",
      "108 98.9\n",
      "109 98.9\n",
      "110 98.9\n",
      "111 98.8\n"
     ]
    }
   ],
   "source": [
    "for i in range(len(accuracy)):\n",
    "    print(i,accuracy[i])"
   ]
  },
  {
   "cell_type": "code",
   "execution_count": 42,
   "metadata": {},
   "outputs": [
    {
     "name": "stdout",
     "output_type": "stream",
     "text": [
      "10.0 ,10.0 ,10.0 ,10.0 ,10.0 ,10.0 ,10.0 ,10.0 ,10.0 ,10.0 ,10.0 ,10.0 ,10.0 ,10.0 ,10.0 ,10.0 ,10.0 ,10.0 ,10.0 ,10.0 ,10.0 ,10.0 ,10.0 ,10.0 ,10.0 ,10.0 ,10.0 ,10.0 ,10.3 ,10.1 ,10.5 ,10.4 ,11.1 ,11.6 ,12.4 ,12.7 ,14.9 ,15.4 ,17.8 ,17.3 ,20.3 ,21.6 ,22.9 ,25.5 ,25.7 ,29.0 ,29.9 ,32.9 ,34.5 ,37.3 ,38.2 ,41.9 ,44.0 ,47.7 ,49.5 ,52.9 ,52.0 ,57.8 ,55.8 ,62.1 ,61.3 ,65.8 ,64.9 ,69.7 ,68.9 ,73.7 ,71.8 ,75.8 ,76.7 ,80.0 ,79.4 ,82.5 ,82.6 ,86.2 ,85.8 ,88.8 ,88.3 ,91.2 ,90.9 ,92.1 ,91.4 ,93.3 ,92.8 ,94.5 ,93.7 ,95.5 ,95.5 ,96.3 ,96.1 ,97.1 ,96.7 ,98.0 ,97.6 ,98.3 ,98.2 ,98.4 ,98.4 ,98.7 ,98.3 ,98.7 ,98.6 ,98.7 ,98.7 ,98.8 ,98.6 ,98.8 ,98.8 ,98.8 ,98.9 ,98.9 ,98.9 ,98.8 ,"
     ]
    }
   ],
   "source": [
    "for i in range(len(accuracy)):\n",
    "    print(accuracy[i],',',end='')"
   ]
  },
  {
   "cell_type": "code",
   "execution_count": 43,
   "metadata": {},
   "outputs": [],
   "source": [
    "torch.save(model.state_dict(),'deepscln_jan20.pt')"
   ]
  },
  {
   "cell_type": "code",
   "execution_count": 45,
   "metadata": {},
   "outputs": [
    {
     "data": {
      "image/png": "[encoded data removed]",
      "text/plain": [
       "<Figure size 432x288 with 1 Axes>"
      ]
     },
     "metadata": {
      "needs_background": "light"
     },
     "output_type": "display_data"
    }
   ],
   "source": [
    "import matplotlib.pyplot as plt\n",
    "\n",
    "plt.plot(accuracy)\n",
    "plt.show()"
   ]
  },
  {
   "cell_type": "code",
   "execution_count": 48,
   "metadata": {},
   "outputs": [],
   "source": [
    "import csv\n",
    "\n",
    "csvfile = open('test.csv','w',newline=\"\")\n",
    "\n",
    "csvwriter = csv.writer(csvfile)\n",
    "for row in [accuracy]:\n",
    "    csvwriter.writerow(row)\n",
    "    \n",
    "csvfile.close()"
   ]
  },
  {
   "cell_type": "code",
   "execution_count": null,
   "metadata": {},
   "outputs": [],
   "source": []
  }
 ],
 "metadata": {
  "accelerator": "GPU",
  "colab": {
   "collapsed_sections": [],
   "name": "SC_CNN_v0.ipynb",
   "provenance": []
  },
  "kernelspec": {
   "display_name": "Python 3",
   "language": "python",
   "name": "python3"
  },
  "language_info": {
   "codemirror_mode": {
    "name": "ipython",
    "version": 3
   },
   "file_extension": ".py",
   "mimetype": "text/x-python",
   "name": "python",
   "nbconvert_exporter": "python",
   "pygments_lexer": "ipython3",
   "version": "3.6.9"
  }
 },
 "nbformat": 4,
 "nbformat_minor": 1
}
