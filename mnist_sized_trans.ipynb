{
 "cells": [
  {
   "cell_type": "code",
   "execution_count": 1,
   "metadata": {},
   "outputs": [],
   "source": [
    "INTERNAL_DATA_PATH = 'mnist_sized'"
   ]
  },
  {
   "cell_type": "code",
   "execution_count": 2,
   "metadata": {},
   "outputs": [],
   "source": [
    "import os\n",
    "import fnmatch\n",
    " \n",
    "# Get a list of all files in directory\n",
    "for rootDir, subdirs, filenames in os.walk(INTERNAL_DATA_PATH):\n",
    "    # Find the files that matches the given patterm\n",
    "    for filename in fnmatch.filter(filenames, '.*'):\n",
    "        try:\n",
    "            #print(filename)\n",
    "            os.remove(os.path.join(rootDir, filename))\n",
    "        except OSError:\n",
    "            print(\"Error while deleting file\")"
   ]
  },
  {
   "cell_type": "code",
   "execution_count": 3,
   "metadata": {},
   "outputs": [
    {
     "name": "stderr",
     "output_type": "stream",
     "text": [
      "  1%|          | 1/112 [00:00<00:18,  6.06it/s]"
     ]
    },
    {
     "name": "stdout",
     "output_type": "stream",
     "text": [
      "[['sized_val/78/ds5'], ['sized_val/9/ds5'], ['sized_val/106/ds5'], ['sized_val/3/ds5'], ['sized_val/45/ds5'], ['sized_val/84/ds5'], ['sized_val/88/ds5'], ['sized_val/58/ds5'], ['sized_val/38/ds5'], ['sized_val/33/ds5'], ['sized_val/92/ds5'], ['sized_val/1/ds5'], ['sized_val/89/ds5'], ['sized_val/91/ds5'], ['sized_val/49/ds5'], ['sized_val/74/ds5'], ['sized_val/17/ds5'], ['sized_val/40/ds5'], ['sized_val/18/ds5'], ['sized_val/19/ds5'], ['sized_val/12/ds5'], ['sized_val/76/ds5'], ['sized_val/25/ds5'], ['sized_val/2/ds5'], ['sized_val/50/ds5'], ['sized_val/11/ds5'], ['sized_val/34/ds5'], ['sized_val/36/ds5'], ['sized_val/39/ds5'], ['sized_val/30/ds5'], ['sized_val/102/ds5'], ['sized_val/73/ds5'], ['sized_val/85/ds5'], ['sized_val/95/ds5'], ['sized_val/109/ds5'], ['sized_val/64/ds5'], ['sized_val/13/ds5'], ['sized_val/87/ds5'], ['sized_val/104/ds5'], ['sized_val/37/ds5'], ['sized_val/63/ds5'], ['sized_val/6/ds5'], ['sized_val/15/ds5'], ['sized_val/31/ds5'], ['sized_val/51/ds5'], ['sized_val/72/ds5'], ['sized_val/22/ds5'], ['sized_val/8/ds5'], ['sized_val/35/ds5'], ['sized_val/47/ds5'], ['sized_val/94/ds5'], ['sized_val/5/ds5'], ['sized_val/81/ds5'], ['sized_val/93/ds5'], ['sized_val/110/ds5'], ['sized_val/26/ds5'], ['sized_val/24/ds5'], ['sized_val/20/ds5'], ['sized_val/103/ds5'], ['sized_val/44/ds5'], ['sized_val/66/ds5'], ['sized_val/27/ds5'], ['sized_val/86/ds5'], ['sized_val/90/ds5'], ['sized_val/62/ds5'], ['sized_val/97/ds5'], ['sized_val/65/ds5'], ['sized_val/53/ds5'], ['sized_val/70/ds5'], ['sized_val/46/ds5'], ['sized_val/14/ds5'], ['sized_val/105/ds5'], ['sized_val/42/ds5'], ['sized_val/21/ds5'], ['sized_val/108/ds5'], ['sized_val/77/ds5'], ['sized_val/99/ds5'], ['sized_val/54/ds5'], ['sized_val/67/ds5'], ['sized_val/82/ds5'], ['sized_val/96/ds5'], ['sized_val/43/ds5'], ['sized_val/80/ds5'], ['sized_val/29/ds5'], ['sized_val/28/ds5'], ['sized_val/7/ds5'], ['sized_val/112/ds5'], ['sized_val/23/ds5'], ['sized_val/41/ds5'], ['sized_val/10/ds5'], ['sized_val/4/ds5'], ['sized_val/57/ds5'], ['sized_val/59/ds5'], ['sized_val/16/ds5'], ['sized_val/32/ds5'], ['sized_val/71/ds5'], ['sized_val/111/ds5'], ['sized_val/69/ds5'], ['sized_val/101/ds5'], ['sized_val/68/ds5'], ['sized_val/75/ds5'], ['sized_val/83/ds5'], ['sized_val/52/ds5'], ['sized_val/100/ds5'], ['sized_val/98/ds5'], ['sized_val/61/ds5'], ['sized_val/79/ds5'], ['sized_val/48/ds5'], ['sized_val/107/ds5'], ['sized_val/55/ds5'], ['sized_val/56/ds5'], ['sized_val/60/ds5']]\n"
     ]
    },
    {
     "name": "stderr",
     "output_type": "stream",
     "text": [
      "100%|██████████| 112/112 [00:17<00:00,  6.53it/s]\n"
     ]
    },
    {
     "data": {
      "text/plain": [
       "'for l in range(4):\\n    os.mkdir(new_path[l])\\n    for i in os.listdir(INTERNAL_DATA_PATH_MAIN):\\n        os.mkdir(os.path.join(new_path[l],i))\\n        for j in os.listdir(os.path.join(INTERNAL_DATA_PATH_MAIN,i)):\\n            os.mkdir(os.path.join(new_path[l],i,j))\\n            for k in tqdm(os.listdir(os.path.join(INTERNAL_DATA_PATH_MAIN,i,j))):\\n                img_origin = cv2.imread(os.path.join(INTERNAL_DATA_PATH_MAIN,i,j,k))\\n                img_resized = cv2.resize(img_origin,(img_size[l],img_size[l]))\\n                cv2.imwrite(os.path.join(new_path[l],i,j,k),img_resized)'"
      ]
     },
     "execution_count": 3,
     "metadata": {},
     "output_type": "execute_result"
    }
   ],
   "source": [
    "import cv2\n",
    "import os\n",
    "from tqdm import tqdm\n",
    "\n",
    "'''new_path = ['data/ds2','data/ds3','data/ds4','data/ds5']'''\n",
    "img_size = [3]#[729,243,81,27,9]  \n",
    "SIZED_VAL_PATH = 'sized_val'\n",
    "\n",
    "new_path = []\n",
    "\n",
    "for i in os.listdir(INTERNAL_DATA_PATH):\n",
    "    #print(i)\n",
    "    temp = []\n",
    "    for j in range(5,6):\n",
    "        temp.append(os.path.join(SIZED_VAL_PATH,str(i),'ds'+str(j)))\n",
    "    new_path.append(temp)\n",
    "        \n",
    "print(new_path)\n",
    "\n",
    "#os.mkdir(SIZED_VAL_PATH)\n",
    "for i in tqdm(range(len(new_path))):\n",
    "    #os.mkdir(os.path.join(SIZED_VAL_PATH,new_path[i][0].split('/')[1]))\n",
    "    for j in range(1):\n",
    "        os.mkdir(new_path[i][j])\n",
    "        for k in os.listdir(os.path.join(INTERNAL_DATA_PATH,new_path[i][0].split('/')[1])):\n",
    "            os.mkdir(os.path.join(new_path[i][j],str(k)))\n",
    "            for l in os.listdir(os.path.join(INTERNAL_DATA_PATH,new_path[i][j].split('/')[1],k)):\n",
    "                img_origin = cv2.imread(os.path.join(INTERNAL_DATA_PATH,new_path[i][j].split('/')[1],k,l))\n",
    "                img_resized = cv2.resize(img_origin,(img_size[j],img_size[j]))\n",
    "                cv2.imwrite(os.path.join(new_path[i][j],k,l),img_resized)\n",
    "        \n",
    "            \n",
    "'''for l in range(4):\n",
    "    os.mkdir(new_path[l])\n",
    "    for i in os.listdir(INTERNAL_DATA_PATH_MAIN):\n",
    "        os.mkdir(os.path.join(new_path[l],i))\n",
    "        for j in os.listdir(os.path.join(INTERNAL_DATA_PATH_MAIN,i)):\n",
    "            os.mkdir(os.path.join(new_path[l],i,j))\n",
    "            for k in tqdm(os.listdir(os.path.join(INTERNAL_DATA_PATH_MAIN,i,j))):\n",
    "                img_origin = cv2.imread(os.path.join(INTERNAL_DATA_PATH_MAIN,i,j,k))\n",
    "                img_resized = cv2.resize(img_origin,(img_size[l],img_size[l]))\n",
    "                cv2.imwrite(os.path.join(new_path[l],i,j,k),img_resized)'''"
   ]
  },
  {
   "cell_type": "code",
   "execution_count": null,
   "metadata": {},
   "outputs": [],
   "source": [
    "os.listdir(os.path.join(INTERNAL_DATA_PATH,new_path[i][j].split('/')[1],k))"
   ]
  },
  {
   "cell_type": "code",
   "execution_count": null,
   "metadata": {},
   "outputs": [],
   "source": [
    "new_path"
   ]
  },
  {
   "cell_type": "code",
   "execution_count": null,
   "metadata": {},
   "outputs": [],
   "source": []
  }
 ],
 "metadata": {
  "kernelspec": {
   "display_name": "Python 3",
   "language": "python",
   "name": "python3"
  },
  "language_info": {
   "codemirror_mode": {
    "name": "ipython",
    "version": 3
   },
   "file_extension": ".py",
   "mimetype": "text/x-python",
   "name": "python",
   "nbconvert_exporter": "python",
   "pygments_lexer": "ipython3",
   "version": "3.6.9"
  }
 },
 "nbformat": 4,
 "nbformat_minor": 4
}
