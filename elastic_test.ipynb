{
 "cells": [
  {
   "cell_type": "code",
   "execution_count": 1,
   "metadata": {
    "scrolled": true
   },
   "outputs": [],
   "source": [
    "\"\"\"import torch\n",
    "import torch.nn as nn\n",
    "import math\n",
    "import torch.utils.model_zoo as model_zoo\n",
    "from torch.utils.checkpoint import *\n",
    "import torch.nn.functional as F\n",
    "from torch.nn import init\n",
    "import numpy as np\n",
    "\n",
    "\n",
    "class ASPP(nn.Module):\n",
    "    def __init__(self, C, depth, num_classes, norm=nn.BatchNorm2d, momentum=0.0003, mult=1):\n",
    "        super(ASPP, self).__init__()\n",
    "        self._C = C\n",
    "        self._depth = depth\n",
    "        self._num_classes = num_classes\n",
    "        self._norm = norm\n",
    "\n",
    "        self.global_pooling = nn.AdaptiveAvgPool2d(1)\n",
    "        self.relu = nn.ReLU(inplace=True)\n",
    "        self.aspp1 = nn.Conv2d(C, depth, kernel_size=1, stride=1, bias=False)\n",
    "        self.aspp2 = nn.Conv2d(C, depth, kernel_size=3, stride=1,\n",
    "                               dilation=int(6*mult), padding=int(6*mult),\n",
    "                               bias=False)\n",
    "        self.aspp3 = nn.Conv2d(C, depth, kernel_size=3, stride=1,\n",
    "                               dilation=int(12*mult), padding=int(12*mult),\n",
    "                               bias=False)\n",
    "        self.aspp4 = nn.Conv2d(C, depth, kernel_size=3, stride=1,\n",
    "                               dilation=int(18*mult), padding=int(18*mult),\n",
    "                               bias=False)\n",
    "        self.aspp5 = nn.Conv2d(C, depth, kernel_size=1, stride=1, bias=False)\n",
    "        self.aspp1_bn = self._norm(depth, momentum)\n",
    "        self.aspp2_bn = self._norm(depth, momentum)\n",
    "        self.aspp3_bn = self._norm(depth, momentum)\n",
    "        self.aspp4_bn = self._norm(depth, momentum)\n",
    "        self.aspp5_bn = self._norm(depth, momentum)\n",
    "        self.conv2 = nn.Conv2d(depth * 5, depth, kernel_size=1, stride=1,\n",
    "                               bias=False)\n",
    "        self.bn2 = self._norm(depth, momentum)\n",
    "        self.conv3 = nn.Conv2d(depth, num_classes, kernel_size=1, stride=1)\n",
    "\n",
    "    def forward(self, x):\n",
    "        x1 = self.aspp1(x)\n",
    "        x1 = self.aspp1_bn(x1)\n",
    "        x1 = self.relu(x1)\n",
    "        x2 = self.aspp2(x)\n",
    "        x2 = self.aspp2_bn(x2)\n",
    "        x2 = self.relu(x2)\n",
    "        x3 = self.aspp3(x)\n",
    "        x3 = self.aspp3_bn(x3)\n",
    "        x3 = self.relu(x3)\n",
    "        x4 = self.aspp4(x)\n",
    "        x4 = self.aspp4_bn(x4)\n",
    "        x4 = self.relu(x4)\n",
    "        x5 = self.global_pooling(x)\n",
    "        x5 = self.aspp5(x5)\n",
    "        x5 = self.aspp5_bn(x5)\n",
    "        x5 = self.relu(x5)\n",
    "        x5 = nn.Upsample((x.shape[2], x.shape[3]), mode='bilinear',\n",
    "                         align_corners=True)(x5)\n",
    "        x = torch.cat((x1, x2, x3, x4, x5), 1)\n",
    "        x = self.conv2(x)\n",
    "        x = self.bn2(x)\n",
    "        x = self.relu(x)\n",
    "        x = self.conv3(x)\n",
    "\n",
    "        return x\n",
    "\n",
    "\n",
    "class Selayer(nn.Module):\n",
    "\n",
    "    def __init__(self, inplanes):\n",
    "        super(Selayer, self).__init__()\n",
    "        self.global_avgpool = nn.AdaptiveAvgPool2d(1)\n",
    "        self.conv1 = nn.Conv2d(inplanes, inplanes // 16, kernel_size=1, stride=1)\n",
    "        self.conv2 = nn.Conv2d(inplanes // 16, inplanes, kernel_size=1, stride=1)\n",
    "        self.relu = nn.ReLU(inplace=True)\n",
    "        self.sigmoid = nn.Sigmoid()\n",
    "\n",
    "    def forward(self, x):\n",
    "\n",
    "        out = self.global_avgpool(x)\n",
    "\n",
    "        out = self.conv1(out)\n",
    "        out = self.relu(out)\n",
    "\n",
    "        out = self.conv2(out)\n",
    "        out = self.sigmoid(out)\n",
    "\n",
    "        return x * out\n",
    "\n",
    "\n",
    "class BottleneckX(nn.Module):\n",
    "    expansion = 4\n",
    "    def __init__(self, inplanes, planes, cardinality, stride=1, downsample=None, dilation=1, norm=None, elastic=False, se=False):\n",
    "        super(BottleneckX, self).__init__()\n",
    "        self.se = se\n",
    "        self.elastic = elastic and stride == 1 and planes < 512\n",
    "        if self.elastic:\n",
    "            self.down = nn.AvgPool2d(2, stride=2)\n",
    "            self.ups = nn.Upsample(scale_factor=2, mode='bilinear', align_corners=False)\n",
    "        # half resolution\n",
    "        self.conv1_d = nn.Conv2d(inplanes, planes, kernel_size=1, bias=False)\n",
    "        self.bn1_d = norm(planes)\n",
    "        self.conv2_d = nn.Conv2d(planes, planes, kernel_size=3, stride=stride, groups=cardinality // 2,\n",
    "                                 dilation=dilation, padding=dilation, bias=False)\n",
    "        self.bn2_d = norm(planes)\n",
    "        self.conv3_d = nn.Conv2d(planes, planes * self.expansion, kernel_size=1, bias=False)\n",
    "        # full resolution\n",
    "        self.conv1 = nn.Conv2d(inplanes, planes, kernel_size=1, bias=False)\n",
    "        self.bn1 = norm(planes)\n",
    "        self.conv2 = nn.Conv2d(planes, planes, kernel_size=3, stride=stride, groups=cardinality // 2,\n",
    "                               dilation=dilation, padding=dilation, bias=False)\n",
    "        self.bn2 = norm(planes)\n",
    "        self.conv3 = nn.Conv2d(planes, planes * self.expansion, kernel_size=1, bias=False)\n",
    "        # after merging\n",
    "        self.bn3 = norm(planes * self.expansion)\n",
    "        if self.se:\n",
    "            self.selayer = Selayer(planes * 4)\n",
    "        self.relu = nn.ReLU(inplace=True)\n",
    "        self.downsample = downsample\n",
    "        self.stride = stride\n",
    "        self.__flops__ = 0\n",
    "\n",
    "    def forward(self, x):\n",
    "        residual = x\n",
    "        out_d = x\n",
    "        if self.elastic:\n",
    "            if x.size(2) % 2 > 0 or x.size(3) % 2 > 0:\n",
    "                out_d = F.pad(out_d, (0, x.size(3) % 2, 0, x.size(2) % 2), mode='replicate')\n",
    "            out_d = self.down(out_d)\n",
    "\n",
    "        out_d = self.conv1_d(out_d)\n",
    "        out_d = self.bn1_d(out_d)\n",
    "        out_d = self.relu(out_d)\n",
    "\n",
    "        out_d = self.conv2_d(out_d)\n",
    "        out_d = self.bn2_d(out_d)\n",
    "        out_d = self.relu(out_d)\n",
    "\n",
    "        out_d = self.conv3_d(out_d)\n",
    "\n",
    "        if self.elastic:\n",
    "            out_d = self.ups(out_d)\n",
    "            self.__flops__ += np.prod(out_d[0].shape) * 8\n",
    "            if out_d.size(2) > x.size(2) or out_d.size(3) > x.size(3):\n",
    "                out_d = out_d[:, :, :x.size(2), :x.size(3)]\n",
    "\n",
    "        out = self.conv1(x)\n",
    "        out = self.bn1(out)\n",
    "        out = self.relu(out)\n",
    "\n",
    "        out = self.conv2(out)\n",
    "        out = self.bn2(out)\n",
    "        out = self.relu(out)\n",
    "\n",
    "        out = self.conv3(out)\n",
    "        out = out + out_d\n",
    "        out = self.bn3(out)\n",
    "\n",
    "        if self.se:\n",
    "            out = self.selayer(out)\n",
    "\n",
    "        if self.downsample is not None:\n",
    "            residual = self.downsample(x)\n",
    "\n",
    "        out += residual\n",
    "        out = self.relu(out)\n",
    "\n",
    "        return out\n",
    "\n",
    "\n",
    "class ResNext(nn.Module):\n",
    "\n",
    "    def __init__(self, block, layers, num_classes=1000, seg=False, elastic=False, se=False):\n",
    "        self.inplanes = 8\n",
    "        self.cardinality = 32\n",
    "        self.seg = seg\n",
    "        self._norm = lambda planes, momentum=0.05 if seg else 0.1: torch.nn.BatchNorm2d(planes, momentum=momentum)\n",
    "\n",
    "        super(ResNext, self).__init__()\n",
    "        self.conv1 = nn.Conv2d(3, 8, kernel_size=7, stride=2, padding=3, bias=False)\n",
    "        self.bn1 = self._norm(8)\n",
    "        self.relu = nn.ReLU(inplace=True)\n",
    "        self.maxpool = nn.MaxPool2d(kernel_size=3, stride=2, padding=1)\n",
    "        self.layer1 = self._make_layer(block, 16, layers[0], elastic=elastic, se=se)\n",
    "        self.layer2 = self._make_layer(block, 32, layers[1], stride=2, elastic=elastic, se=se)\n",
    "        self.layer3 = self._make_layer(block, 64, layers[2], stride=2, elastic=elastic, se=se)\n",
    "        if seg:\n",
    "            self.layer4 = self._make_mg(block, 512, se=se)\n",
    "            self.aspp = ASPP(512 * block.expansion, 256, num_classes, self._norm)\n",
    "            for m in self.modules():\n",
    "                if isinstance(m, nn.Conv2d):\n",
    "                    n = m.kernel_size[0] * m.kernel_size[1] * m.out_channels\n",
    "                    m.weight.data.normal_(0, math.sqrt(2. / n))\n",
    "                elif isinstance(m, torch.nn.BatchNorm2d):\n",
    "                    m.weight.data.fill_(1)\n",
    "                    m.bias.data.zero_()\n",
    "        else:\n",
    "            self.layer4 = self._make_layer(block, 64, layers[3], stride=2, elastic=False, se=se)\n",
    "            self.avgpool = nn.AdaptiveAvgPool2d(1)\n",
    "            self.fc = nn.Linear(64 * block.expansion, num_classes)\n",
    "            init.normal_(self.fc.weight, std=0.01)\n",
    "            for n, p in self.named_parameters():\n",
    "                if n.split('.')[-1] == 'weight':\n",
    "                    if 'conv' in n:\n",
    "                        init.kaiming_normal_(p, mode='fan_in', nonlinearity='relu')\n",
    "                    if 'bn' in n:\n",
    "                        p.data.fill_(1)\n",
    "                    if 'bn3' in n:\n",
    "                        p.data.fill_(0)\n",
    "                elif n.split('.')[-1] == 'bias':\n",
    "                    p.data.fill_(0)\n",
    "\n",
    "    def _make_layer(self, block, planes, blocks, stride=1, elastic=False, se=False):\n",
    "        downsample = None\n",
    "        if stride != 1 or self.inplanes != planes * block.expansion:\n",
    "            downsample = nn.Sequential(\n",
    "                nn.Conv2d(self.inplanes, planes * block.expansion,\n",
    "                          kernel_size=1, stride=stride, bias=False),\n",
    "                self._norm(planes * block.expansion),\n",
    "            )\n",
    "\n",
    "        layers = list()\n",
    "        layers.append(block(self.inplanes, planes, self.cardinality, stride, downsample=downsample, norm=self._norm, elastic=elastic, se=se))\n",
    "        self.inplanes = planes * block.expansion\n",
    "        for i in range(1, blocks):\n",
    "            layers.append(block(self.inplanes, planes, self.cardinality, norm=self._norm, elastic=elastic, se=se))\n",
    "        return nn.Sequential(*layers)\n",
    "\n",
    "    def _make_mg(self, block, planes, dilation=2, multi_grid=(1, 2, 4), se=False):\n",
    "        downsample = nn.Sequential(\n",
    "            nn.Conv2d(self.inplanes, planes * block.expansion,\n",
    "                      kernel_size=1, stride=1, dilation=1, bias=False),\n",
    "            self._norm(planes * block.expansion),\n",
    "        )\n",
    "\n",
    "        layers = list()\n",
    "        layers.append(block(self.inplanes, planes, self.cardinality, downsample=downsample, dilation=dilation*multi_grid[0], norm=self._norm, se=se))\n",
    "        self.inplanes = planes * block.expansion\n",
    "        layers.append(block(self.inplanes, planes, self.cardinality, dilation=dilation*multi_grid[1], norm=self._norm, se=se))\n",
    "        layers.append(block(self.inplanes, planes, self.cardinality, dilation=dilation*multi_grid[2], norm=self._norm, se=se))\n",
    "        return nn.Sequential(*layers)\n",
    "\n",
    "    def forward(self, x):\n",
    "        size = (x.shape[2], x.shape[3])\n",
    "        x = self.conv1(x)\n",
    "        x = self.bn1(x)\n",
    "        x = self.relu(x)\n",
    "        x = self.maxpool(x)\n",
    "        if self.seg:\n",
    "            for module in self.layer1._modules.values():\n",
    "                x = checkpoint(module, x)\n",
    "            for module in self.layer2._modules.values():\n",
    "                x = checkpoint(module, x)\n",
    "            for module in self.layer3._modules.values():\n",
    "                x = checkpoint(module, x)\n",
    "            for module in self.layer4._modules.values():\n",
    "                x = checkpoint(module, x)\n",
    "            x = self.aspp(x)\n",
    "            x = nn.Upsample(size, mode='bilinear', align_corners=True)(x)\n",
    "        else:\n",
    "            x = self.layer1(x)\n",
    "            x = self.layer2(x)\n",
    "            x = self.layer3(x)\n",
    "            x = self.layer4(x)\n",
    "            x = self.avgpool(x)\n",
    "            x = x.view(x.size(0), -1)\n",
    "            x = self.fc(x)\n",
    "        return x\n",
    "\n",
    "\n",
    "def resnext50(seg=False, **kwargs):\n",
    "    model = ResNext(BottleneckX, [3, 4, 6, 3], seg=seg, elastic=False, **kwargs)\n",
    "    return model\n",
    "\n",
    "\n",
    "def se_resnext50(seg=False, **kwargs):\n",
    "    model = ResNext(BottleneckX, [3, 4, 6, 3], seg=seg, elastic=False, se=True, **kwargs)\n",
    "    return model\n",
    "\n",
    "\n",
    "def resnext50_elastic(seg=False, **kwargs):\n",
    "    model = ResNext(BottleneckX, [6, 8, 5, 3], seg=seg, elastic=True, **kwargs)\n",
    "    return model\n",
    "\n",
    "\n",
    "def se_resnext50_elastic(seg=False, **kwargs):\n",
    "    model = ResNext(BottleneckX, [6, 8, 5, 3], seg=seg, elastic=True, se=True, **kwargs)\n",
    "    return model\n",
    "\n",
    "\n",
    "def resnext101(seg=False, **kwargs):\n",
    "    model = ResNext(BottleneckX, [3, 4, 23, 3], seg=seg, elastic=False, **kwargs)\n",
    "    return model\n",
    "\n",
    "\n",
    "def resnext101_elastic(seg=False, **kwargs):\n",
    "    model = ResNext(BottleneckX, [12, 14, 20, 3], seg=seg, elastic=True, **kwargs)\n",
    "    return model\"\"\"\n",
    "tempsfsdkshfls = []"
   ]
  },
  {
   "cell_type": "code",
   "execution_count": 2,
   "metadata": {},
   "outputs": [],
   "source": [
    "import torch\n",
    "import torch.nn as nn\n",
    "import math\n",
    "import torch.utils.model_zoo as model_zoo\n",
    "from torch.utils.checkpoint import *\n",
    "import torch.nn.functional as F\n",
    "from torch.nn import init\n",
    "import numpy as np\n",
    "\n",
    "\n",
    "class ASPP(nn.Module):\n",
    "    def __init__(self, C, depth, num_classes, norm=nn.BatchNorm2d, momentum=0.0003, mult=1):\n",
    "        super(ASPP, self).__init__()\n",
    "        self._C = C\n",
    "        self._depth = depth\n",
    "        self._num_classes = num_classes\n",
    "        self._norm = norm\n",
    "\n",
    "        self.global_pooling = nn.AdaptiveAvgPool2d(1)\n",
    "        self.relu = nn.ReLU(inplace=True)\n",
    "        self.aspp1 = nn.Conv2d(C, depth, kernel_size=1, stride=1, bias=False)\n",
    "        self.aspp2 = nn.Conv2d(C, depth, kernel_size=3, stride=1,\n",
    "                               dilation=int(6*mult), padding=int(6*mult),\n",
    "                               bias=False)\n",
    "        self.aspp3 = nn.Conv2d(C, depth, kernel_size=3, stride=1,\n",
    "                               dilation=int(12*mult), padding=int(12*mult),\n",
    "                               bias=False)\n",
    "        self.aspp4 = nn.Conv2d(C, depth, kernel_size=3, stride=1,\n",
    "                               dilation=int(18*mult), padding=int(18*mult),\n",
    "                               bias=False)\n",
    "        self.aspp5 = nn.Conv2d(C, depth, kernel_size=1, stride=1, bias=False)\n",
    "        self.aspp1_bn = self._norm(depth, momentum)\n",
    "        self.aspp2_bn = self._norm(depth, momentum)\n",
    "        self.aspp3_bn = self._norm(depth, momentum)\n",
    "        self.aspp4_bn = self._norm(depth, momentum)\n",
    "        self.aspp5_bn = self._norm(depth, momentum)\n",
    "        self.conv2 = nn.Conv2d(depth * 5, depth, kernel_size=1, stride=1,\n",
    "                               bias=False)\n",
    "        self.bn2 = self._norm(depth, momentum)\n",
    "        self.conv3 = nn.Conv2d(depth, num_classes, kernel_size=1, stride=1)\n",
    "\n",
    "    def forward(self, x):\n",
    "        x1 = self.aspp1(x)\n",
    "        x1 = self.aspp1_bn(x1)\n",
    "        x1 = self.relu(x1)\n",
    "        x2 = self.aspp2(x)\n",
    "        x2 = self.aspp2_bn(x2)\n",
    "        x2 = self.relu(x2)\n",
    "        x3 = self.aspp3(x)\n",
    "        x3 = self.aspp3_bn(x3)\n",
    "        x3 = self.relu(x3)\n",
    "        x4 = self.aspp4(x)\n",
    "        x4 = self.aspp4_bn(x4)\n",
    "        x4 = self.relu(x4)\n",
    "        x5 = self.global_pooling(x)\n",
    "        x5 = self.aspp5(x5)\n",
    "        x5 = self.aspp5_bn(x5)\n",
    "        x5 = self.relu(x5)\n",
    "        x5 = nn.Upsample((x.shape[2], x.shape[3]), mode='bilinear',\n",
    "                         align_corners=True)(x5)\n",
    "        x = torch.cat((x1, x2, x3, x4, x5), 1)\n",
    "        x = self.conv2(x)\n",
    "        x = self.bn2(x)\n",
    "        x = self.relu(x)\n",
    "        x = self.conv3(x)\n",
    "\n",
    "        return x\n",
    "\n",
    "\n",
    "class Selayer(nn.Module):\n",
    "\n",
    "    def __init__(self, inplanes):\n",
    "        super(Selayer, self).__init__()\n",
    "        self.global_avgpool = nn.AdaptiveAvgPool2d(1)\n",
    "        self.conv1 = nn.Conv2d(inplanes, inplanes // 16, kernel_size=1, stride=1)\n",
    "        self.conv2 = nn.Conv2d(inplanes // 16, inplanes, kernel_size=1, stride=1)\n",
    "        self.relu = nn.ReLU(inplace=True)\n",
    "        self.sigmoid = nn.Sigmoid()\n",
    "\n",
    "    def forward(self, x):\n",
    "\n",
    "        out = self.global_avgpool(x)\n",
    "\n",
    "        out = self.conv1(out)\n",
    "        out = self.relu(out)\n",
    "\n",
    "        out = self.conv2(out)\n",
    "        out = self.sigmoid(out)\n",
    "\n",
    "        return x * out\n",
    "\n",
    "\n",
    "class BottleneckX(nn.Module):\n",
    "    expansion = 4\n",
    "    def __init__(self, inplanes, planes, cardinality, stride=1, downsample=None, dilation=1, norm=None, elastic=False, se=False):\n",
    "        super(BottleneckX, self).__init__()\n",
    "        self.se = se\n",
    "        self.elastic = elastic and stride == 1 and planes < 512\n",
    "        if self.elastic:\n",
    "            self.down = nn.AvgPool2d(2, stride=2)\n",
    "            self.ups = nn.Upsample(scale_factor=2, mode='bilinear', align_corners=False)\n",
    "        # half resolution\n",
    "        self.conv1_d = nn.Conv2d(inplanes, planes, kernel_size=1, bias=False)\n",
    "        self.bn1_d = norm(planes)\n",
    "        self.conv2_d = nn.Conv2d(planes, planes, kernel_size=3, stride=stride, groups=cardinality // 2,\n",
    "                                 dilation=dilation, padding=dilation, bias=False)\n",
    "        self.bn2_d = norm(planes)\n",
    "        self.conv3_d = nn.Conv2d(planes, planes * self.expansion, kernel_size=1, bias=False)\n",
    "        # full resolution\n",
    "        self.conv1 = nn.Conv2d(inplanes, planes, kernel_size=1, bias=False)\n",
    "        self.bn1 = norm(planes)\n",
    "        self.conv2 = nn.Conv2d(planes, planes, kernel_size=3, stride=stride, groups=cardinality // 2,\n",
    "                               dilation=dilation, padding=dilation, bias=False)\n",
    "        self.bn2 = norm(planes)\n",
    "        self.conv3 = nn.Conv2d(planes, planes * self.expansion, kernel_size=1, bias=False)\n",
    "        # after merging\n",
    "        self.bn3 = norm(planes * self.expansion)\n",
    "        if self.se:\n",
    "            self.selayer = Selayer(planes * 4)\n",
    "        self.relu = nn.ReLU(inplace=True)\n",
    "        self.downsample = downsample\n",
    "        self.stride = stride\n",
    "        self.__flops__ = 0\n",
    "\n",
    "    def forward(self, x):\n",
    "        residual = x\n",
    "        out_d = x\n",
    "        if self.elastic:\n",
    "            if x.size(2) % 2 > 0 or x.size(3) % 2 > 0:\n",
    "                out_d = F.pad(out_d, (0, x.size(3) % 2, 0, x.size(2) % 2), mode='replicate')\n",
    "            out_d = self.down(out_d)\n",
    "\n",
    "        out_d = self.conv1_d(out_d)\n",
    "        out_d = self.bn1_d(out_d)\n",
    "        out_d = self.relu(out_d)\n",
    "\n",
    "        out_d = self.conv2_d(out_d)\n",
    "        out_d = self.bn2_d(out_d)\n",
    "        out_d = self.relu(out_d)\n",
    "\n",
    "        out_d = self.conv3_d(out_d)\n",
    "\n",
    "        if self.elastic:\n",
    "            out_d = self.ups(out_d)\n",
    "            self.__flops__ += np.prod(out_d[0].shape) * 8\n",
    "            if out_d.size(2) > x.size(2) or out_d.size(3) > x.size(3):\n",
    "                out_d = out_d[:, :, :x.size(2), :x.size(3)]\n",
    "\n",
    "        out = self.conv1(x)\n",
    "        out = self.bn1(out)\n",
    "        out = self.relu(out)\n",
    "\n",
    "        out = self.conv2(out)\n",
    "        out = self.bn2(out)\n",
    "        out = self.relu(out)\n",
    "\n",
    "        out = self.conv3(out)\n",
    "        out = out + out_d\n",
    "        out = self.bn3(out)\n",
    "\n",
    "        if self.se:\n",
    "            out = self.selayer(out)\n",
    "\n",
    "        if self.downsample is not None:\n",
    "            residual = self.downsample(x)\n",
    "\n",
    "        out += residual\n",
    "        out = self.relu(out)\n",
    "\n",
    "        return out\n",
    "\n",
    "\n",
    "class ResNext(nn.Module):\n",
    "\n",
    "    def __init__(self, block, layers, num_classes=1000, seg=False, elastic=False, se=False):\n",
    "        self.inplanes = 64\n",
    "        self.cardinality = 32\n",
    "        self.seg = seg\n",
    "        self._norm = lambda planes, momentum=0.05 if seg else 0.1: torch.nn.BatchNorm2d(planes, momentum=momentum)\n",
    "\n",
    "        super(ResNext, self).__init__()\n",
    "        self.conv1 = nn.Conv2d(3, 64, kernel_size=7, stride=2, padding=3, bias=False)\n",
    "        self.bn1 = self._norm(64)\n",
    "        self.relu = nn.ReLU(inplace=True)\n",
    "        self.maxpool = nn.MaxPool2d(kernel_size=3, stride=2, padding=1)\n",
    "        self.layer1 = self._make_layer(block, 64, layers[0], elastic=elastic, se=se)\n",
    "        self.layer2 = self._make_layer(block, 128, layers[1], stride=2, elastic=elastic, se=se)\n",
    "        self.layer3 = self._make_layer(block, 256, layers[2], stride=2, elastic=elastic, se=se)\n",
    "        if seg:\n",
    "            self.layer4 = self._make_mg(block, 512, se=se)\n",
    "            self.aspp = ASPP(512 * block.expansion, 256, num_classes, self._norm)\n",
    "            for m in self.modules():\n",
    "                if isinstance(m, nn.Conv2d):\n",
    "                    n = m.kernel_size[0] * m.kernel_size[1] * m.out_channels\n",
    "                    m.weight.data.normal_(0, math.sqrt(2. / n))\n",
    "                elif isinstance(m, torch.nn.BatchNorm2d):\n",
    "                    m.weight.data.fill_(1)\n",
    "                    m.bias.data.zero_()\n",
    "        else:\n",
    "            self.layer4 = self._make_layer(block, 512, layers[3], stride=2, elastic=False, se=se)\n",
    "            self.avgpool = nn.AdaptiveAvgPool2d(1)\n",
    "            self.fc = nn.Linear(512 * block.expansion, num_classes)\n",
    "            init.normal_(self.fc.weight, std=0.01)\n",
    "            for n, p in self.named_parameters():\n",
    "                if n.split('.')[-1] == 'weight':\n",
    "                    if 'conv' in n:\n",
    "                        init.kaiming_normal_(p, mode='fan_in', nonlinearity='relu')\n",
    "                    if 'bn' in n:\n",
    "                        p.data.fill_(1)\n",
    "                    if 'bn3' in n:\n",
    "                        p.data.fill_(0)\n",
    "                elif n.split('.')[-1] == 'bias':\n",
    "                    p.data.fill_(0)\n",
    "\n",
    "    def _make_layer(self, block, planes, blocks, stride=1, elastic=False, se=False):\n",
    "        downsample = None\n",
    "        if stride != 1 or self.inplanes != planes * block.expansion:\n",
    "            downsample = nn.Sequential(\n",
    "                nn.Conv2d(self.inplanes, planes * block.expansion,\n",
    "                          kernel_size=1, stride=stride, bias=False),\n",
    "                self._norm(planes * block.expansion),\n",
    "            )\n",
    "\n",
    "        layers = list()\n",
    "        layers.append(block(self.inplanes, planes, self.cardinality, stride, downsample=downsample, norm=self._norm, elastic=elastic, se=se))\n",
    "        self.inplanes = planes * block.expansion\n",
    "        for i in range(1, blocks):\n",
    "            layers.append(block(self.inplanes, planes, self.cardinality, norm=self._norm, elastic=elastic, se=se))\n",
    "        return nn.Sequential(*layers)\n",
    "\n",
    "    def _make_mg(self, block, planes, dilation=2, multi_grid=(1, 2, 4), se=False):\n",
    "        downsample = nn.Sequential(\n",
    "            nn.Conv2d(self.inplanes, planes * block.expansion,\n",
    "                      kernel_size=1, stride=1, dilation=1, bias=False),\n",
    "            self._norm(planes * block.expansion),\n",
    "        )\n",
    "\n",
    "        layers = list()\n",
    "        layers.append(block(self.inplanes, planes, self.cardinality, downsample=downsample, dilation=dilation*multi_grid[0], norm=self._norm, se=se))\n",
    "        self.inplanes = planes * block.expansion\n",
    "        layers.append(block(self.inplanes, planes, self.cardinality, dilation=dilation*multi_grid[1], norm=self._norm, se=se))\n",
    "        layers.append(block(self.inplanes, planes, self.cardinality, dilation=dilation*multi_grid[2], norm=self._norm, se=se))\n",
    "        return nn.Sequential(*layers)\n",
    "\n",
    "    def forward(self, x):\n",
    "        size = (x.shape[2], x.shape[3])\n",
    "        x = self.conv1(x)\n",
    "        x = self.bn1(x)\n",
    "        x = self.relu(x)\n",
    "        x = self.maxpool(x)\n",
    "        if self.seg:\n",
    "            for module in self.layer1._modules.values():\n",
    "                x = checkpoint(module, x)\n",
    "            for module in self.layer2._modules.values():\n",
    "                x = checkpoint(module, x)\n",
    "            for module in self.layer3._modules.values():\n",
    "                x = checkpoint(module, x)\n",
    "            for module in self.layer4._modules.values():\n",
    "                x = checkpoint(module, x)\n",
    "            x = self.aspp(x)\n",
    "            x = nn.Upsample(size, mode='bilinear', align_corners=True)(x)\n",
    "        else:\n",
    "            x = self.layer1(x)\n",
    "            x = self.layer2(x)\n",
    "            x = self.layer3(x)\n",
    "            x = self.layer4(x)\n",
    "            x = self.avgpool(x)\n",
    "            x = x.view(x.size(0), -1)\n",
    "            x = self.fc(x)\n",
    "        return x\n",
    "\n",
    "\n",
    "def resnext50(seg=False, **kwargs):\n",
    "    model = ResNext(BottleneckX, [3, 4, 6, 3], seg=seg, elastic=False, **kwargs)\n",
    "    return model\n",
    "\n",
    "\n",
    "def se_resnext50(seg=False, **kwargs):\n",
    "    model = ResNext(BottleneckX, [3, 4, 6, 3], seg=seg, elastic=False, se=True, **kwargs)\n",
    "    return model\n",
    "\n",
    "\n",
    "def resnext50_elastic(seg=False, **kwargs):\n",
    "    model = ResNext(BottleneckX, [6, 8, 5, 3], seg=seg, elastic=True, **kwargs)\n",
    "    return model\n",
    "\n",
    "\n",
    "def se_resnext50_elastic(seg=False, **kwargs):\n",
    "    model = ResNext(BottleneckX, [6, 8, 5, 3], seg=seg, elastic=True, se=True, **kwargs)\n",
    "    return model\n",
    "\n",
    "\n",
    "def resnext101(seg=False, **kwargs):\n",
    "    model = ResNext(BottleneckX, [3, 4, 23, 3], seg=seg, elastic=False, **kwargs)\n",
    "    return model\n",
    "\n",
    "\n",
    "def resnext101_elastic(seg=False, **kwargs):\n",
    "    model = ResNext(BottleneckX, [12, 14, 20, 3], seg=seg, elastic=True, **kwargs)\n",
    "    return model"
   ]
  },
  {
   "cell_type": "code",
   "execution_count": 3,
   "metadata": {},
   "outputs": [],
   "source": [
    "INTERNAL_DATA_PATH = 'mnist_4x/'\n",
    "INTERNAL_DATA_PATH_MAIN = 'mnist_4x/resized'"
   ]
  },
  {
   "cell_type": "code",
   "execution_count": 4,
   "metadata": {},
   "outputs": [],
   "source": [
    "import torchvision.datasets as datasets\n",
    "import torchvision.transforms as transforms\n",
    "import torchvision\n",
    "import torch\n",
    "from torch.utils.data import Dataset, DataLoader\n",
    "import os\n",
    "import matplotlib.pyplot as plt\n",
    "import numpy as np\n"
   ]
  },
  {
   "cell_type": "code",
   "execution_count": 5,
   "metadata": {},
   "outputs": [],
   "source": [
    "device = torch.device(\"cuda\" if torch.cuda.is_available() else \"cpu\")"
   ]
  },
  {
   "cell_type": "code",
   "execution_count": 6,
   "metadata": {},
   "outputs": [],
   "source": [
    "transform = transforms.Compose(\n",
    "    [\n",
    "    transforms.ToTensor(),\n",
    "    transforms.Normalize((0.5, 0.5, 0.5), (0.5, 0.5, 0.5))])\n",
    "\n",
    "transform1 = transforms.Compose(\n",
    "    [\n",
    "    transforms.RandomAffine(0, scale=(0.8, 1.2)),\n",
    "    transforms.ToTensor(),\n",
    "    transforms.Normalize((0.5, 0.5, 0.5), (0.5, 0.5, 0.5))])\n",
    "\n"
   ]
  },
  {
   "cell_type": "code",
   "execution_count": 7,
   "metadata": {},
   "outputs": [],
   "source": [
    "trainMnistDataset = datasets.ImageFolder(root=os.path.join(INTERNAL_DATA_PATH_MAIN,'training'),transform = transform1)\n",
    "testMnistDataset = datasets.ImageFolder(root=os.path.join(INTERNAL_DATA_PATH_MAIN,'testing'),transform = transform)\n",
    "\n",
    "trainloader = torch.utils.data.DataLoader(trainMnistDataset,\n",
    "                                          batch_size = 32, \n",
    "                                          shuffle=True,\n",
    "                                         num_workers=8)\n",
    "\n",
    "testloader = torch.utils.data.DataLoader(testMnistDataset,\n",
    "                                          batch_size = 32, \n",
    "                                          shuffle=False,\n",
    "                                        num_workers=8)"
   ]
  },
  {
   "cell_type": "code",
   "execution_count": 8,
   "metadata": {},
   "outputs": [
    {
     "data": {
      "text/plain": [
       "'for i,image in enumerate(trainloader):\\n    print(image[0])\\n    print(image[1])\\n    break'"
      ]
     },
     "execution_count": 8,
     "metadata": {},
     "output_type": "execute_result"
    }
   ],
   "source": [
    "'''for i,image in enumerate(trainloader):\n",
    "    print(image[0])\n",
    "    print(image[1])\n",
    "    break'''"
   ]
  },
  {
   "cell_type": "code",
   "execution_count": 9,
   "metadata": {},
   "outputs": [
    {
     "data": {
      "text/plain": [
       "DataParallel(\n",
       "  (module): ResNext(\n",
       "    (conv1): Conv2d(3, 64, kernel_size=(7, 7), stride=(2, 2), padding=(3, 3), bias=False)\n",
       "    (bn1): BatchNorm2d(64, eps=1e-05, momentum=0.1, affine=True, track_running_stats=True)\n",
       "    (relu): ReLU(inplace=True)\n",
       "    (maxpool): MaxPool2d(kernel_size=3, stride=2, padding=1, dilation=1, ceil_mode=False)\n",
       "    (layer1): Sequential(\n",
       "      (0): BottleneckX(\n",
       "        (down): AvgPool2d(kernel_size=2, stride=2, padding=0)\n",
       "        (ups): Upsample(scale_factor=2.0, mode=bilinear)\n",
       "        (conv1_d): Conv2d(64, 64, kernel_size=(1, 1), stride=(1, 1), bias=False)\n",
       "        (bn1_d): BatchNorm2d(64, eps=1e-05, momentum=0.1, affine=True, track_running_stats=True)\n",
       "        (conv2_d): Conv2d(64, 64, kernel_size=(3, 3), stride=(1, 1), padding=(1, 1), groups=16, bias=False)\n",
       "        (bn2_d): BatchNorm2d(64, eps=1e-05, momentum=0.1, affine=True, track_running_stats=True)\n",
       "        (conv3_d): Conv2d(64, 256, kernel_size=(1, 1), stride=(1, 1), bias=False)\n",
       "        (conv1): Conv2d(64, 64, kernel_size=(1, 1), stride=(1, 1), bias=False)\n",
       "        (bn1): BatchNorm2d(64, eps=1e-05, momentum=0.1, affine=True, track_running_stats=True)\n",
       "        (conv2): Conv2d(64, 64, kernel_size=(3, 3), stride=(1, 1), padding=(1, 1), groups=16, bias=False)\n",
       "        (bn2): BatchNorm2d(64, eps=1e-05, momentum=0.1, affine=True, track_running_stats=True)\n",
       "        (conv3): Conv2d(64, 256, kernel_size=(1, 1), stride=(1, 1), bias=False)\n",
       "        (bn3): BatchNorm2d(256, eps=1e-05, momentum=0.1, affine=True, track_running_stats=True)\n",
       "        (relu): ReLU(inplace=True)\n",
       "        (downsample): Sequential(\n",
       "          (0): Conv2d(64, 256, kernel_size=(1, 1), stride=(1, 1), bias=False)\n",
       "          (1): BatchNorm2d(256, eps=1e-05, momentum=0.1, affine=True, track_running_stats=True)\n",
       "        )\n",
       "      )\n",
       "      (1): BottleneckX(\n",
       "        (down): AvgPool2d(kernel_size=2, stride=2, padding=0)\n",
       "        (ups): Upsample(scale_factor=2.0, mode=bilinear)\n",
       "        (conv1_d): Conv2d(256, 64, kernel_size=(1, 1), stride=(1, 1), bias=False)\n",
       "        (bn1_d): BatchNorm2d(64, eps=1e-05, momentum=0.1, affine=True, track_running_stats=True)\n",
       "        (conv2_d): Conv2d(64, 64, kernel_size=(3, 3), stride=(1, 1), padding=(1, 1), groups=16, bias=False)\n",
       "        (bn2_d): BatchNorm2d(64, eps=1e-05, momentum=0.1, affine=True, track_running_stats=True)\n",
       "        (conv3_d): Conv2d(64, 256, kernel_size=(1, 1), stride=(1, 1), bias=False)\n",
       "        (conv1): Conv2d(256, 64, kernel_size=(1, 1), stride=(1, 1), bias=False)\n",
       "        (bn1): BatchNorm2d(64, eps=1e-05, momentum=0.1, affine=True, track_running_stats=True)\n",
       "        (conv2): Conv2d(64, 64, kernel_size=(3, 3), stride=(1, 1), padding=(1, 1), groups=16, bias=False)\n",
       "        (bn2): BatchNorm2d(64, eps=1e-05, momentum=0.1, affine=True, track_running_stats=True)\n",
       "        (conv3): Conv2d(64, 256, kernel_size=(1, 1), stride=(1, 1), bias=False)\n",
       "        (bn3): BatchNorm2d(256, eps=1e-05, momentum=0.1, affine=True, track_running_stats=True)\n",
       "        (relu): ReLU(inplace=True)\n",
       "      )\n",
       "      (2): BottleneckX(\n",
       "        (down): AvgPool2d(kernel_size=2, stride=2, padding=0)\n",
       "        (ups): Upsample(scale_factor=2.0, mode=bilinear)\n",
       "        (conv1_d): Conv2d(256, 64, kernel_size=(1, 1), stride=(1, 1), bias=False)\n",
       "        (bn1_d): BatchNorm2d(64, eps=1e-05, momentum=0.1, affine=True, track_running_stats=True)\n",
       "        (conv2_d): Conv2d(64, 64, kernel_size=(3, 3), stride=(1, 1), padding=(1, 1), groups=16, bias=False)\n",
       "        (bn2_d): BatchNorm2d(64, eps=1e-05, momentum=0.1, affine=True, track_running_stats=True)\n",
       "        (conv3_d): Conv2d(64, 256, kernel_size=(1, 1), stride=(1, 1), bias=False)\n",
       "        (conv1): Conv2d(256, 64, kernel_size=(1, 1), stride=(1, 1), bias=False)\n",
       "        (bn1): BatchNorm2d(64, eps=1e-05, momentum=0.1, affine=True, track_running_stats=True)\n",
       "        (conv2): Conv2d(64, 64, kernel_size=(3, 3), stride=(1, 1), padding=(1, 1), groups=16, bias=False)\n",
       "        (bn2): BatchNorm2d(64, eps=1e-05, momentum=0.1, affine=True, track_running_stats=True)\n",
       "        (conv3): Conv2d(64, 256, kernel_size=(1, 1), stride=(1, 1), bias=False)\n",
       "        (bn3): BatchNorm2d(256, eps=1e-05, momentum=0.1, affine=True, track_running_stats=True)\n",
       "        (relu): ReLU(inplace=True)\n",
       "      )\n",
       "      (3): BottleneckX(\n",
       "        (down): AvgPool2d(kernel_size=2, stride=2, padding=0)\n",
       "        (ups): Upsample(scale_factor=2.0, mode=bilinear)\n",
       "        (conv1_d): Conv2d(256, 64, kernel_size=(1, 1), stride=(1, 1), bias=False)\n",
       "        (bn1_d): BatchNorm2d(64, eps=1e-05, momentum=0.1, affine=True, track_running_stats=True)\n",
       "        (conv2_d): Conv2d(64, 64, kernel_size=(3, 3), stride=(1, 1), padding=(1, 1), groups=16, bias=False)\n",
       "        (bn2_d): BatchNorm2d(64, eps=1e-05, momentum=0.1, affine=True, track_running_stats=True)\n",
       "        (conv3_d): Conv2d(64, 256, kernel_size=(1, 1), stride=(1, 1), bias=False)\n",
       "        (conv1): Conv2d(256, 64, kernel_size=(1, 1), stride=(1, 1), bias=False)\n",
       "        (bn1): BatchNorm2d(64, eps=1e-05, momentum=0.1, affine=True, track_running_stats=True)\n",
       "        (conv2): Conv2d(64, 64, kernel_size=(3, 3), stride=(1, 1), padding=(1, 1), groups=16, bias=False)\n",
       "        (bn2): BatchNorm2d(64, eps=1e-05, momentum=0.1, affine=True, track_running_stats=True)\n",
       "        (conv3): Conv2d(64, 256, kernel_size=(1, 1), stride=(1, 1), bias=False)\n",
       "        (bn3): BatchNorm2d(256, eps=1e-05, momentum=0.1, affine=True, track_running_stats=True)\n",
       "        (relu): ReLU(inplace=True)\n",
       "      )\n",
       "      (4): BottleneckX(\n",
       "        (down): AvgPool2d(kernel_size=2, stride=2, padding=0)\n",
       "        (ups): Upsample(scale_factor=2.0, mode=bilinear)\n",
       "        (conv1_d): Conv2d(256, 64, kernel_size=(1, 1), stride=(1, 1), bias=False)\n",
       "        (bn1_d): BatchNorm2d(64, eps=1e-05, momentum=0.1, affine=True, track_running_stats=True)\n",
       "        (conv2_d): Conv2d(64, 64, kernel_size=(3, 3), stride=(1, 1), padding=(1, 1), groups=16, bias=False)\n",
       "        (bn2_d): BatchNorm2d(64, eps=1e-05, momentum=0.1, affine=True, track_running_stats=True)\n",
       "        (conv3_d): Conv2d(64, 256, kernel_size=(1, 1), stride=(1, 1), bias=False)\n",
       "        (conv1): Conv2d(256, 64, kernel_size=(1, 1), stride=(1, 1), bias=False)\n",
       "        (bn1): BatchNorm2d(64, eps=1e-05, momentum=0.1, affine=True, track_running_stats=True)\n",
       "        (conv2): Conv2d(64, 64, kernel_size=(3, 3), stride=(1, 1), padding=(1, 1), groups=16, bias=False)\n",
       "        (bn2): BatchNorm2d(64, eps=1e-05, momentum=0.1, affine=True, track_running_stats=True)\n",
       "        (conv3): Conv2d(64, 256, kernel_size=(1, 1), stride=(1, 1), bias=False)\n",
       "        (bn3): BatchNorm2d(256, eps=1e-05, momentum=0.1, affine=True, track_running_stats=True)\n",
       "        (relu): ReLU(inplace=True)\n",
       "      )\n",
       "      (5): BottleneckX(\n",
       "        (down): AvgPool2d(kernel_size=2, stride=2, padding=0)\n",
       "        (ups): Upsample(scale_factor=2.0, mode=bilinear)\n",
       "        (conv1_d): Conv2d(256, 64, kernel_size=(1, 1), stride=(1, 1), bias=False)\n",
       "        (bn1_d): BatchNorm2d(64, eps=1e-05, momentum=0.1, affine=True, track_running_stats=True)\n",
       "        (conv2_d): Conv2d(64, 64, kernel_size=(3, 3), stride=(1, 1), padding=(1, 1), groups=16, bias=False)\n",
       "        (bn2_d): BatchNorm2d(64, eps=1e-05, momentum=0.1, affine=True, track_running_stats=True)\n",
       "        (conv3_d): Conv2d(64, 256, kernel_size=(1, 1), stride=(1, 1), bias=False)\n",
       "        (conv1): Conv2d(256, 64, kernel_size=(1, 1), stride=(1, 1), bias=False)\n",
       "        (bn1): BatchNorm2d(64, eps=1e-05, momentum=0.1, affine=True, track_running_stats=True)\n",
       "        (conv2): Conv2d(64, 64, kernel_size=(3, 3), stride=(1, 1), padding=(1, 1), groups=16, bias=False)\n",
       "        (bn2): BatchNorm2d(64, eps=1e-05, momentum=0.1, affine=True, track_running_stats=True)\n",
       "        (conv3): Conv2d(64, 256, kernel_size=(1, 1), stride=(1, 1), bias=False)\n",
       "        (bn3): BatchNorm2d(256, eps=1e-05, momentum=0.1, affine=True, track_running_stats=True)\n",
       "        (relu): ReLU(inplace=True)\n",
       "      )\n",
       "    )\n",
       "    (layer2): Sequential(\n",
       "      (0): BottleneckX(\n",
       "        (conv1_d): Conv2d(256, 128, kernel_size=(1, 1), stride=(1, 1), bias=False)\n",
       "        (bn1_d): BatchNorm2d(128, eps=1e-05, momentum=0.1, affine=True, track_running_stats=True)\n",
       "        (conv2_d): Conv2d(128, 128, kernel_size=(3, 3), stride=(2, 2), padding=(1, 1), groups=16, bias=False)\n",
       "        (bn2_d): BatchNorm2d(128, eps=1e-05, momentum=0.1, affine=True, track_running_stats=True)\n",
       "        (conv3_d): Conv2d(128, 512, kernel_size=(1, 1), stride=(1, 1), bias=False)\n",
       "        (conv1): Conv2d(256, 128, kernel_size=(1, 1), stride=(1, 1), bias=False)\n",
       "        (bn1): BatchNorm2d(128, eps=1e-05, momentum=0.1, affine=True, track_running_stats=True)\n",
       "        (conv2): Conv2d(128, 128, kernel_size=(3, 3), stride=(2, 2), padding=(1, 1), groups=16, bias=False)\n",
       "        (bn2): BatchNorm2d(128, eps=1e-05, momentum=0.1, affine=True, track_running_stats=True)\n",
       "        (conv3): Conv2d(128, 512, kernel_size=(1, 1), stride=(1, 1), bias=False)\n",
       "        (bn3): BatchNorm2d(512, eps=1e-05, momentum=0.1, affine=True, track_running_stats=True)\n",
       "        (relu): ReLU(inplace=True)\n",
       "        (downsample): Sequential(\n",
       "          (0): Conv2d(256, 512, kernel_size=(1, 1), stride=(2, 2), bias=False)\n",
       "          (1): BatchNorm2d(512, eps=1e-05, momentum=0.1, affine=True, track_running_stats=True)\n",
       "        )\n",
       "      )\n",
       "      (1): BottleneckX(\n",
       "        (down): AvgPool2d(kernel_size=2, stride=2, padding=0)\n",
       "        (ups): Upsample(scale_factor=2.0, mode=bilinear)\n",
       "        (conv1_d): Conv2d(512, 128, kernel_size=(1, 1), stride=(1, 1), bias=False)\n",
       "        (bn1_d): BatchNorm2d(128, eps=1e-05, momentum=0.1, affine=True, track_running_stats=True)\n",
       "        (conv2_d): Conv2d(128, 128, kernel_size=(3, 3), stride=(1, 1), padding=(1, 1), groups=16, bias=False)\n",
       "        (bn2_d): BatchNorm2d(128, eps=1e-05, momentum=0.1, affine=True, track_running_stats=True)\n",
       "        (conv3_d): Conv2d(128, 512, kernel_size=(1, 1), stride=(1, 1), bias=False)\n",
       "        (conv1): Conv2d(512, 128, kernel_size=(1, 1), stride=(1, 1), bias=False)\n",
       "        (bn1): BatchNorm2d(128, eps=1e-05, momentum=0.1, affine=True, track_running_stats=True)\n",
       "        (conv2): Conv2d(128, 128, kernel_size=(3, 3), stride=(1, 1), padding=(1, 1), groups=16, bias=False)\n",
       "        (bn2): BatchNorm2d(128, eps=1e-05, momentum=0.1, affine=True, track_running_stats=True)\n",
       "        (conv3): Conv2d(128, 512, kernel_size=(1, 1), stride=(1, 1), bias=False)\n",
       "        (bn3): BatchNorm2d(512, eps=1e-05, momentum=0.1, affine=True, track_running_stats=True)\n",
       "        (relu): ReLU(inplace=True)\n",
       "      )\n",
       "      (2): BottleneckX(\n",
       "        (down): AvgPool2d(kernel_size=2, stride=2, padding=0)\n",
       "        (ups): Upsample(scale_factor=2.0, mode=bilinear)\n",
       "        (conv1_d): Conv2d(512, 128, kernel_size=(1, 1), stride=(1, 1), bias=False)\n",
       "        (bn1_d): BatchNorm2d(128, eps=1e-05, momentum=0.1, affine=True, track_running_stats=True)\n",
       "        (conv2_d): Conv2d(128, 128, kernel_size=(3, 3), stride=(1, 1), padding=(1, 1), groups=16, bias=False)\n",
       "        (bn2_d): BatchNorm2d(128, eps=1e-05, momentum=0.1, affine=True, track_running_stats=True)\n",
       "        (conv3_d): Conv2d(128, 512, kernel_size=(1, 1), stride=(1, 1), bias=False)\n",
       "        (conv1): Conv2d(512, 128, kernel_size=(1, 1), stride=(1, 1), bias=False)\n",
       "        (bn1): BatchNorm2d(128, eps=1e-05, momentum=0.1, affine=True, track_running_stats=True)\n",
       "        (conv2): Conv2d(128, 128, kernel_size=(3, 3), stride=(1, 1), padding=(1, 1), groups=16, bias=False)\n",
       "        (bn2): BatchNorm2d(128, eps=1e-05, momentum=0.1, affine=True, track_running_stats=True)\n",
       "        (conv3): Conv2d(128, 512, kernel_size=(1, 1), stride=(1, 1), bias=False)\n",
       "        (bn3): BatchNorm2d(512, eps=1e-05, momentum=0.1, affine=True, track_running_stats=True)\n",
       "        (relu): ReLU(inplace=True)\n",
       "      )\n",
       "      (3): BottleneckX(\n",
       "        (down): AvgPool2d(kernel_size=2, stride=2, padding=0)\n",
       "        (ups): Upsample(scale_factor=2.0, mode=bilinear)\n",
       "        (conv1_d): Conv2d(512, 128, kernel_size=(1, 1), stride=(1, 1), bias=False)\n",
       "        (bn1_d): BatchNorm2d(128, eps=1e-05, momentum=0.1, affine=True, track_running_stats=True)\n",
       "        (conv2_d): Conv2d(128, 128, kernel_size=(3, 3), stride=(1, 1), padding=(1, 1), groups=16, bias=False)\n",
       "        (bn2_d): BatchNorm2d(128, eps=1e-05, momentum=0.1, affine=True, track_running_stats=True)\n",
       "        (conv3_d): Conv2d(128, 512, kernel_size=(1, 1), stride=(1, 1), bias=False)\n",
       "        (conv1): Conv2d(512, 128, kernel_size=(1, 1), stride=(1, 1), bias=False)\n",
       "        (bn1): BatchNorm2d(128, eps=1e-05, momentum=0.1, affine=True, track_running_stats=True)\n",
       "        (conv2): Conv2d(128, 128, kernel_size=(3, 3), stride=(1, 1), padding=(1, 1), groups=16, bias=False)\n",
       "        (bn2): BatchNorm2d(128, eps=1e-05, momentum=0.1, affine=True, track_running_stats=True)\n",
       "        (conv3): Conv2d(128, 512, kernel_size=(1, 1), stride=(1, 1), bias=False)\n",
       "        (bn3): BatchNorm2d(512, eps=1e-05, momentum=0.1, affine=True, track_running_stats=True)\n",
       "        (relu): ReLU(inplace=True)\n",
       "      )\n",
       "      (4): BottleneckX(\n",
       "        (down): AvgPool2d(kernel_size=2, stride=2, padding=0)\n",
       "        (ups): Upsample(scale_factor=2.0, mode=bilinear)\n",
       "        (conv1_d): Conv2d(512, 128, kernel_size=(1, 1), stride=(1, 1), bias=False)\n",
       "        (bn1_d): BatchNorm2d(128, eps=1e-05, momentum=0.1, affine=True, track_running_stats=True)\n",
       "        (conv2_d): Conv2d(128, 128, kernel_size=(3, 3), stride=(1, 1), padding=(1, 1), groups=16, bias=False)\n",
       "        (bn2_d): BatchNorm2d(128, eps=1e-05, momentum=0.1, affine=True, track_running_stats=True)\n",
       "        (conv3_d): Conv2d(128, 512, kernel_size=(1, 1), stride=(1, 1), bias=False)\n",
       "        (conv1): Conv2d(512, 128, kernel_size=(1, 1), stride=(1, 1), bias=False)\n",
       "        (bn1): BatchNorm2d(128, eps=1e-05, momentum=0.1, affine=True, track_running_stats=True)\n",
       "        (conv2): Conv2d(128, 128, kernel_size=(3, 3), stride=(1, 1), padding=(1, 1), groups=16, bias=False)\n",
       "        (bn2): BatchNorm2d(128, eps=1e-05, momentum=0.1, affine=True, track_running_stats=True)\n",
       "        (conv3): Conv2d(128, 512, kernel_size=(1, 1), stride=(1, 1), bias=False)\n",
       "        (bn3): BatchNorm2d(512, eps=1e-05, momentum=0.1, affine=True, track_running_stats=True)\n",
       "        (relu): ReLU(inplace=True)\n",
       "      )\n",
       "      (5): BottleneckX(\n",
       "        (down): AvgPool2d(kernel_size=2, stride=2, padding=0)\n",
       "        (ups): Upsample(scale_factor=2.0, mode=bilinear)\n",
       "        (conv1_d): Conv2d(512, 128, kernel_size=(1, 1), stride=(1, 1), bias=False)\n",
       "        (bn1_d): BatchNorm2d(128, eps=1e-05, momentum=0.1, affine=True, track_running_stats=True)\n",
       "        (conv2_d): Conv2d(128, 128, kernel_size=(3, 3), stride=(1, 1), padding=(1, 1), groups=16, bias=False)\n",
       "        (bn2_d): BatchNorm2d(128, eps=1e-05, momentum=0.1, affine=True, track_running_stats=True)\n",
       "        (conv3_d): Conv2d(128, 512, kernel_size=(1, 1), stride=(1, 1), bias=False)\n",
       "        (conv1): Conv2d(512, 128, kernel_size=(1, 1), stride=(1, 1), bias=False)\n",
       "        (bn1): BatchNorm2d(128, eps=1e-05, momentum=0.1, affine=True, track_running_stats=True)\n",
       "        (conv2): Conv2d(128, 128, kernel_size=(3, 3), stride=(1, 1), padding=(1, 1), groups=16, bias=False)\n",
       "        (bn2): BatchNorm2d(128, eps=1e-05, momentum=0.1, affine=True, track_running_stats=True)\n",
       "        (conv3): Conv2d(128, 512, kernel_size=(1, 1), stride=(1, 1), bias=False)\n",
       "        (bn3): BatchNorm2d(512, eps=1e-05, momentum=0.1, affine=True, track_running_stats=True)\n",
       "        (relu): ReLU(inplace=True)\n",
       "      )\n",
       "      (6): BottleneckX(\n",
       "        (down): AvgPool2d(kernel_size=2, stride=2, padding=0)\n",
       "        (ups): Upsample(scale_factor=2.0, mode=bilinear)\n",
       "        (conv1_d): Conv2d(512, 128, kernel_size=(1, 1), stride=(1, 1), bias=False)\n",
       "        (bn1_d): BatchNorm2d(128, eps=1e-05, momentum=0.1, affine=True, track_running_stats=True)\n",
       "        (conv2_d): Conv2d(128, 128, kernel_size=(3, 3), stride=(1, 1), padding=(1, 1), groups=16, bias=False)\n",
       "        (bn2_d): BatchNorm2d(128, eps=1e-05, momentum=0.1, affine=True, track_running_stats=True)\n",
       "        (conv3_d): Conv2d(128, 512, kernel_size=(1, 1), stride=(1, 1), bias=False)\n",
       "        (conv1): Conv2d(512, 128, kernel_size=(1, 1), stride=(1, 1), bias=False)\n",
       "        (bn1): BatchNorm2d(128, eps=1e-05, momentum=0.1, affine=True, track_running_stats=True)\n",
       "        (conv2): Conv2d(128, 128, kernel_size=(3, 3), stride=(1, 1), padding=(1, 1), groups=16, bias=False)\n",
       "        (bn2): BatchNorm2d(128, eps=1e-05, momentum=0.1, affine=True, track_running_stats=True)\n",
       "        (conv3): Conv2d(128, 512, kernel_size=(1, 1), stride=(1, 1), bias=False)\n",
       "        (bn3): BatchNorm2d(512, eps=1e-05, momentum=0.1, affine=True, track_running_stats=True)\n",
       "        (relu): ReLU(inplace=True)\n",
       "      )\n",
       "      (7): BottleneckX(\n",
       "        (down): AvgPool2d(kernel_size=2, stride=2, padding=0)\n",
       "        (ups): Upsample(scale_factor=2.0, mode=bilinear)\n",
       "        (conv1_d): Conv2d(512, 128, kernel_size=(1, 1), stride=(1, 1), bias=False)\n",
       "        (bn1_d): BatchNorm2d(128, eps=1e-05, momentum=0.1, affine=True, track_running_stats=True)\n",
       "        (conv2_d): Conv2d(128, 128, kernel_size=(3, 3), stride=(1, 1), padding=(1, 1), groups=16, bias=False)\n",
       "        (bn2_d): BatchNorm2d(128, eps=1e-05, momentum=0.1, affine=True, track_running_stats=True)\n",
       "        (conv3_d): Conv2d(128, 512, kernel_size=(1, 1), stride=(1, 1), bias=False)\n",
       "        (conv1): Conv2d(512, 128, kernel_size=(1, 1), stride=(1, 1), bias=False)\n",
       "        (bn1): BatchNorm2d(128, eps=1e-05, momentum=0.1, affine=True, track_running_stats=True)\n",
       "        (conv2): Conv2d(128, 128, kernel_size=(3, 3), stride=(1, 1), padding=(1, 1), groups=16, bias=False)\n",
       "        (bn2): BatchNorm2d(128, eps=1e-05, momentum=0.1, affine=True, track_running_stats=True)\n",
       "        (conv3): Conv2d(128, 512, kernel_size=(1, 1), stride=(1, 1), bias=False)\n",
       "        (bn3): BatchNorm2d(512, eps=1e-05, momentum=0.1, affine=True, track_running_stats=True)\n",
       "        (relu): ReLU(inplace=True)\n",
       "      )\n",
       "    )\n",
       "    (layer3): Sequential(\n",
       "      (0): BottleneckX(\n",
       "        (conv1_d): Conv2d(512, 256, kernel_size=(1, 1), stride=(1, 1), bias=False)\n",
       "        (bn1_d): BatchNorm2d(256, eps=1e-05, momentum=0.1, affine=True, track_running_stats=True)\n",
       "        (conv2_d): Conv2d(256, 256, kernel_size=(3, 3), stride=(2, 2), padding=(1, 1), groups=16, bias=False)\n",
       "        (bn2_d): BatchNorm2d(256, eps=1e-05, momentum=0.1, affine=True, track_running_stats=True)\n",
       "        (conv3_d): Conv2d(256, 1024, kernel_size=(1, 1), stride=(1, 1), bias=False)\n",
       "        (conv1): Conv2d(512, 256, kernel_size=(1, 1), stride=(1, 1), bias=False)\n",
       "        (bn1): BatchNorm2d(256, eps=1e-05, momentum=0.1, affine=True, track_running_stats=True)\n",
       "        (conv2): Conv2d(256, 256, kernel_size=(3, 3), stride=(2, 2), padding=(1, 1), groups=16, bias=False)\n",
       "        (bn2): BatchNorm2d(256, eps=1e-05, momentum=0.1, affine=True, track_running_stats=True)\n",
       "        (conv3): Conv2d(256, 1024, kernel_size=(1, 1), stride=(1, 1), bias=False)\n",
       "        (bn3): BatchNorm2d(1024, eps=1e-05, momentum=0.1, affine=True, track_running_stats=True)\n",
       "        (relu): ReLU(inplace=True)\n",
       "        (downsample): Sequential(\n",
       "          (0): Conv2d(512, 1024, kernel_size=(1, 1), stride=(2, 2), bias=False)\n",
       "          (1): BatchNorm2d(1024, eps=1e-05, momentum=0.1, affine=True, track_running_stats=True)\n",
       "        )\n",
       "      )\n",
       "      (1): BottleneckX(\n",
       "        (down): AvgPool2d(kernel_size=2, stride=2, padding=0)\n",
       "        (ups): Upsample(scale_factor=2.0, mode=bilinear)\n",
       "        (conv1_d): Conv2d(1024, 256, kernel_size=(1, 1), stride=(1, 1), bias=False)\n",
       "        (bn1_d): BatchNorm2d(256, eps=1e-05, momentum=0.1, affine=True, track_running_stats=True)\n",
       "        (conv2_d): Conv2d(256, 256, kernel_size=(3, 3), stride=(1, 1), padding=(1, 1), groups=16, bias=False)\n",
       "        (bn2_d): BatchNorm2d(256, eps=1e-05, momentum=0.1, affine=True, track_running_stats=True)\n",
       "        (conv3_d): Conv2d(256, 1024, kernel_size=(1, 1), stride=(1, 1), bias=False)\n",
       "        (conv1): Conv2d(1024, 256, kernel_size=(1, 1), stride=(1, 1), bias=False)\n",
       "        (bn1): BatchNorm2d(256, eps=1e-05, momentum=0.1, affine=True, track_running_stats=True)\n",
       "        (conv2): Conv2d(256, 256, kernel_size=(3, 3), stride=(1, 1), padding=(1, 1), groups=16, bias=False)\n",
       "        (bn2): BatchNorm2d(256, eps=1e-05, momentum=0.1, affine=True, track_running_stats=True)\n",
       "        (conv3): Conv2d(256, 1024, kernel_size=(1, 1), stride=(1, 1), bias=False)\n",
       "        (bn3): BatchNorm2d(1024, eps=1e-05, momentum=0.1, affine=True, track_running_stats=True)\n",
       "        (relu): ReLU(inplace=True)\n",
       "      )\n",
       "      (2): BottleneckX(\n",
       "        (down): AvgPool2d(kernel_size=2, stride=2, padding=0)\n",
       "        (ups): Upsample(scale_factor=2.0, mode=bilinear)\n",
       "        (conv1_d): Conv2d(1024, 256, kernel_size=(1, 1), stride=(1, 1), bias=False)\n",
       "        (bn1_d): BatchNorm2d(256, eps=1e-05, momentum=0.1, affine=True, track_running_stats=True)\n",
       "        (conv2_d): Conv2d(256, 256, kernel_size=(3, 3), stride=(1, 1), padding=(1, 1), groups=16, bias=False)\n",
       "        (bn2_d): BatchNorm2d(256, eps=1e-05, momentum=0.1, affine=True, track_running_stats=True)\n",
       "        (conv3_d): Conv2d(256, 1024, kernel_size=(1, 1), stride=(1, 1), bias=False)\n",
       "        (conv1): Conv2d(1024, 256, kernel_size=(1, 1), stride=(1, 1), bias=False)\n",
       "        (bn1): BatchNorm2d(256, eps=1e-05, momentum=0.1, affine=True, track_running_stats=True)\n",
       "        (conv2): Conv2d(256, 256, kernel_size=(3, 3), stride=(1, 1), padding=(1, 1), groups=16, bias=False)\n",
       "        (bn2): BatchNorm2d(256, eps=1e-05, momentum=0.1, affine=True, track_running_stats=True)\n",
       "        (conv3): Conv2d(256, 1024, kernel_size=(1, 1), stride=(1, 1), bias=False)\n",
       "        (bn3): BatchNorm2d(1024, eps=1e-05, momentum=0.1, affine=True, track_running_stats=True)\n",
       "        (relu): ReLU(inplace=True)\n",
       "      )\n",
       "      (3): BottleneckX(\n",
       "        (down): AvgPool2d(kernel_size=2, stride=2, padding=0)\n",
       "        (ups): Upsample(scale_factor=2.0, mode=bilinear)\n",
       "        (conv1_d): Conv2d(1024, 256, kernel_size=(1, 1), stride=(1, 1), bias=False)\n",
       "        (bn1_d): BatchNorm2d(256, eps=1e-05, momentum=0.1, affine=True, track_running_stats=True)\n",
       "        (conv2_d): Conv2d(256, 256, kernel_size=(3, 3), stride=(1, 1), padding=(1, 1), groups=16, bias=False)\n",
       "        (bn2_d): BatchNorm2d(256, eps=1e-05, momentum=0.1, affine=True, track_running_stats=True)\n",
       "        (conv3_d): Conv2d(256, 1024, kernel_size=(1, 1), stride=(1, 1), bias=False)\n",
       "        (conv1): Conv2d(1024, 256, kernel_size=(1, 1), stride=(1, 1), bias=False)\n",
       "        (bn1): BatchNorm2d(256, eps=1e-05, momentum=0.1, affine=True, track_running_stats=True)\n",
       "        (conv2): Conv2d(256, 256, kernel_size=(3, 3), stride=(1, 1), padding=(1, 1), groups=16, bias=False)\n",
       "        (bn2): BatchNorm2d(256, eps=1e-05, momentum=0.1, affine=True, track_running_stats=True)\n",
       "        (conv3): Conv2d(256, 1024, kernel_size=(1, 1), stride=(1, 1), bias=False)\n",
       "        (bn3): BatchNorm2d(1024, eps=1e-05, momentum=0.1, affine=True, track_running_stats=True)\n",
       "        (relu): ReLU(inplace=True)\n",
       "      )\n",
       "      (4): BottleneckX(\n",
       "        (down): AvgPool2d(kernel_size=2, stride=2, padding=0)\n",
       "        (ups): Upsample(scale_factor=2.0, mode=bilinear)\n",
       "        (conv1_d): Conv2d(1024, 256, kernel_size=(1, 1), stride=(1, 1), bias=False)\n",
       "        (bn1_d): BatchNorm2d(256, eps=1e-05, momentum=0.1, affine=True, track_running_stats=True)\n",
       "        (conv2_d): Conv2d(256, 256, kernel_size=(3, 3), stride=(1, 1), padding=(1, 1), groups=16, bias=False)\n",
       "        (bn2_d): BatchNorm2d(256, eps=1e-05, momentum=0.1, affine=True, track_running_stats=True)\n",
       "        (conv3_d): Conv2d(256, 1024, kernel_size=(1, 1), stride=(1, 1), bias=False)\n",
       "        (conv1): Conv2d(1024, 256, kernel_size=(1, 1), stride=(1, 1), bias=False)\n",
       "        (bn1): BatchNorm2d(256, eps=1e-05, momentum=0.1, affine=True, track_running_stats=True)\n",
       "        (conv2): Conv2d(256, 256, kernel_size=(3, 3), stride=(1, 1), padding=(1, 1), groups=16, bias=False)\n",
       "        (bn2): BatchNorm2d(256, eps=1e-05, momentum=0.1, affine=True, track_running_stats=True)\n",
       "        (conv3): Conv2d(256, 1024, kernel_size=(1, 1), stride=(1, 1), bias=False)\n",
       "        (bn3): BatchNorm2d(1024, eps=1e-05, momentum=0.1, affine=True, track_running_stats=True)\n",
       "        (relu): ReLU(inplace=True)\n",
       "      )\n",
       "    )\n",
       "    (layer4): Sequential(\n",
       "      (0): BottleneckX(\n",
       "        (conv1_d): Conv2d(1024, 512, kernel_size=(1, 1), stride=(1, 1), bias=False)\n",
       "        (bn1_d): BatchNorm2d(512, eps=1e-05, momentum=0.1, affine=True, track_running_stats=True)\n",
       "        (conv2_d): Conv2d(512, 512, kernel_size=(3, 3), stride=(2, 2), padding=(1, 1), groups=16, bias=False)\n",
       "        (bn2_d): BatchNorm2d(512, eps=1e-05, momentum=0.1, affine=True, track_running_stats=True)\n",
       "        (conv3_d): Conv2d(512, 2048, kernel_size=(1, 1), stride=(1, 1), bias=False)\n",
       "        (conv1): Conv2d(1024, 512, kernel_size=(1, 1), stride=(1, 1), bias=False)\n",
       "        (bn1): BatchNorm2d(512, eps=1e-05, momentum=0.1, affine=True, track_running_stats=True)\n",
       "        (conv2): Conv2d(512, 512, kernel_size=(3, 3), stride=(2, 2), padding=(1, 1), groups=16, bias=False)\n",
       "        (bn2): BatchNorm2d(512, eps=1e-05, momentum=0.1, affine=True, track_running_stats=True)\n",
       "        (conv3): Conv2d(512, 2048, kernel_size=(1, 1), stride=(1, 1), bias=False)\n",
       "        (bn3): BatchNorm2d(2048, eps=1e-05, momentum=0.1, affine=True, track_running_stats=True)\n",
       "        (relu): ReLU(inplace=True)\n",
       "        (downsample): Sequential(\n",
       "          (0): Conv2d(1024, 2048, kernel_size=(1, 1), stride=(2, 2), bias=False)\n",
       "          (1): BatchNorm2d(2048, eps=1e-05, momentum=0.1, affine=True, track_running_stats=True)\n",
       "        )\n",
       "      )\n",
       "      (1): BottleneckX(\n",
       "        (conv1_d): Conv2d(2048, 512, kernel_size=(1, 1), stride=(1, 1), bias=False)\n",
       "        (bn1_d): BatchNorm2d(512, eps=1e-05, momentum=0.1, affine=True, track_running_stats=True)\n",
       "        (conv2_d): Conv2d(512, 512, kernel_size=(3, 3), stride=(1, 1), padding=(1, 1), groups=16, bias=False)\n",
       "        (bn2_d): BatchNorm2d(512, eps=1e-05, momentum=0.1, affine=True, track_running_stats=True)\n",
       "        (conv3_d): Conv2d(512, 2048, kernel_size=(1, 1), stride=(1, 1), bias=False)\n",
       "        (conv1): Conv2d(2048, 512, kernel_size=(1, 1), stride=(1, 1), bias=False)\n",
       "        (bn1): BatchNorm2d(512, eps=1e-05, momentum=0.1, affine=True, track_running_stats=True)\n",
       "        (conv2): Conv2d(512, 512, kernel_size=(3, 3), stride=(1, 1), padding=(1, 1), groups=16, bias=False)\n",
       "        (bn2): BatchNorm2d(512, eps=1e-05, momentum=0.1, affine=True, track_running_stats=True)\n",
       "        (conv3): Conv2d(512, 2048, kernel_size=(1, 1), stride=(1, 1), bias=False)\n",
       "        (bn3): BatchNorm2d(2048, eps=1e-05, momentum=0.1, affine=True, track_running_stats=True)\n",
       "        (relu): ReLU(inplace=True)\n",
       "      )\n",
       "      (2): BottleneckX(\n",
       "        (conv1_d): Conv2d(2048, 512, kernel_size=(1, 1), stride=(1, 1), bias=False)\n",
       "        (bn1_d): BatchNorm2d(512, eps=1e-05, momentum=0.1, affine=True, track_running_stats=True)\n",
       "        (conv2_d): Conv2d(512, 512, kernel_size=(3, 3), stride=(1, 1), padding=(1, 1), groups=16, bias=False)\n",
       "        (bn2_d): BatchNorm2d(512, eps=1e-05, momentum=0.1, affine=True, track_running_stats=True)\n",
       "        (conv3_d): Conv2d(512, 2048, kernel_size=(1, 1), stride=(1, 1), bias=False)\n",
       "        (conv1): Conv2d(2048, 512, kernel_size=(1, 1), stride=(1, 1), bias=False)\n",
       "        (bn1): BatchNorm2d(512, eps=1e-05, momentum=0.1, affine=True, track_running_stats=True)\n",
       "        (conv2): Conv2d(512, 512, kernel_size=(3, 3), stride=(1, 1), padding=(1, 1), groups=16, bias=False)\n",
       "        (bn2): BatchNorm2d(512, eps=1e-05, momentum=0.1, affine=True, track_running_stats=True)\n",
       "        (conv3): Conv2d(512, 2048, kernel_size=(1, 1), stride=(1, 1), bias=False)\n",
       "        (bn3): BatchNorm2d(2048, eps=1e-05, momentum=0.1, affine=True, track_running_stats=True)\n",
       "        (relu): ReLU(inplace=True)\n",
       "      )\n",
       "    )\n",
       "    (avgpool): AdaptiveAvgPool2d(output_size=1)\n",
       "    (fc): Linear(in_features=2048, out_features=10, bias=True)\n",
       "  )\n",
       ")"
      ]
     },
     "execution_count": 9,
     "metadata": {},
     "output_type": "execute_result"
    }
   ],
   "source": [
    "from parallel import DataParallelModel,DataParallelCriterion\n",
    "from torch.nn.parallel.data_parallel import DataParallel\n",
    "\n",
    "device = torch.device(\"cuda\" if torch.cuda.is_available() else \"cpu\")\n",
    "model = resnext50_elastic(num_classes=10)\n",
    "if torch.cuda.device_count() > 1:\n",
    "    model = DataParallel(model)\n",
    "model.to(device)"
   ]
  },
  {
   "cell_type": "code",
   "execution_count": 10,
   "metadata": {},
   "outputs": [],
   "source": [
    "import torch.optim as optim\n",
    "\n",
    "criterion = nn.CrossEntropyLoss()\n",
    "#criterion = DataParallelCriterion(criterion,device_ids=[0,1])\n",
    "optimizer = optim.SGD(model.parameters(), lr=0.1, \n",
    "                    momentum=0.9)"
   ]
  },
  {
   "cell_type": "code",
   "execution_count": 11,
   "metadata": {},
   "outputs": [
    {
     "name": "stderr",
     "output_type": "stream",
     "text": [
      "1875it [06:23,  4.89it/s]\n"
     ]
    },
    {
     "name": "stdout",
     "output_type": "stream",
     "text": [
      "Accuracy of     0 : 78 %\n",
      "Accuracy of     1 : 32 %\n",
      "Accuracy of     2 : 37 %\n",
      "Accuracy of     3 : 57 %\n",
      "Accuracy of     4 : 31 %\n",
      "Accuracy of     5 : 41 %\n",
      "Accuracy of     6 : 67 %\n",
      "Accuracy of     7 : 71 %\n",
      "Accuracy of     8 : 56 %\n",
      "Accuracy of     9 : 72 %\n",
      "epoch: 1/30 | step: 10/1875 | trn loss: 1.0417 | val loss: 2.1910\n",
      "Accuracy of the network on the 10000 test images: 54 %\n"
     ]
    },
    {
     "name": "stderr",
     "output_type": "stream",
     "text": [
      "1875it [06:21,  4.91it/s]\n"
     ]
    },
    {
     "name": "stdout",
     "output_type": "stream",
     "text": [
      "Accuracy of     0 : 84 %\n",
      "Accuracy of     1 : 29 %\n",
      "Accuracy of     2 : 67 %\n",
      "Accuracy of     3 : 47 %\n",
      "Accuracy of     4 : 31 %\n",
      "Accuracy of     5 : 77 %\n",
      "Accuracy of     6 : 59 %\n",
      "Accuracy of     7 : 84 %\n",
      "Accuracy of     8 : 78 %\n",
      "Accuracy of     9 : 59 %\n",
      "epoch: 2/30 | step: 10/1875 | trn loss: 0.1624 | val loss: 1.9212\n",
      "Accuracy of the network on the 10000 test images: 61 %\n"
     ]
    },
    {
     "name": "stderr",
     "output_type": "stream",
     "text": [
      "1875it [06:23,  4.89it/s]\n"
     ]
    },
    {
     "name": "stdout",
     "output_type": "stream",
     "text": [
      "Accuracy of     0 : 80 %\n",
      "Accuracy of     1 : 44 %\n",
      "Accuracy of     2 : 66 %\n",
      "Accuracy of     3 : 40 %\n",
      "Accuracy of     4 : 43 %\n",
      "Accuracy of     5 : 62 %\n",
      "Accuracy of     6 : 85 %\n",
      "Accuracy of     7 : 71 %\n",
      "Accuracy of     8 : 86 %\n",
      "Accuracy of     9 : 83 %\n",
      "epoch: 3/30 | step: 10/1875 | trn loss: 0.1123 | val loss: 1.7238\n",
      "Accuracy of the network on the 10000 test images: 66 %\n"
     ]
    },
    {
     "name": "stderr",
     "output_type": "stream",
     "text": [
      "1875it [06:23,  4.89it/s]\n"
     ]
    },
    {
     "name": "stdout",
     "output_type": "stream",
     "text": [
      "Accuracy of     0 : 77 %\n",
      "Accuracy of     1 : 29 %\n",
      "Accuracy of     2 : 81 %\n",
      "Accuracy of     3 : 39 %\n",
      "Accuracy of     4 : 50 %\n",
      "Accuracy of     5 : 79 %\n",
      "Accuracy of     6 : 77 %\n",
      "Accuracy of     7 : 55 %\n",
      "Accuracy of     8 : 85 %\n",
      "Accuracy of     9 : 83 %\n",
      "epoch: 4/30 | step: 10/1875 | trn loss: 0.0867 | val loss: 1.9700\n",
      "Accuracy of the network on the 10000 test images: 65 %\n"
     ]
    },
    {
     "name": "stderr",
     "output_type": "stream",
     "text": [
      "1875it [06:22,  4.90it/s]\n"
     ]
    },
    {
     "name": "stdout",
     "output_type": "stream",
     "text": [
      "Accuracy of     0 : 85 %\n",
      "Accuracy of     1 : 46 %\n",
      "Accuracy of     2 : 76 %\n",
      "Accuracy of     3 : 67 %\n",
      "Accuracy of     4 : 45 %\n",
      "Accuracy of     5 : 80 %\n",
      "Accuracy of     6 : 87 %\n",
      "Accuracy of     7 : 72 %\n",
      "Accuracy of     8 : 85 %\n",
      "Accuracy of     9 : 84 %\n",
      "epoch: 5/30 | step: 10/1875 | trn loss: 0.0730 | val loss: 1.3517\n",
      "Accuracy of the network on the 10000 test images: 72 %\n"
     ]
    },
    {
     "name": "stderr",
     "output_type": "stream",
     "text": [
      "1875it [06:22,  4.90it/s]\n"
     ]
    },
    {
     "name": "stdout",
     "output_type": "stream",
     "text": [
      "Accuracy of     0 : 92 %\n",
      "Accuracy of     1 : 43 %\n",
      "Accuracy of     2 : 84 %\n",
      "Accuracy of     3 : 66 %\n",
      "Accuracy of     4 : 62 %\n",
      "Accuracy of     5 : 74 %\n",
      "Accuracy of     6 : 91 %\n",
      "Accuracy of     7 : 69 %\n",
      "Accuracy of     8 : 81 %\n",
      "Accuracy of     9 : 91 %\n",
      "epoch: 6/30 | step: 10/1875 | trn loss: 0.0572 | val loss: 1.2762\n",
      "Accuracy of the network on the 10000 test images: 75 %\n"
     ]
    },
    {
     "name": "stderr",
     "output_type": "stream",
     "text": [
      "1875it [06:23,  4.89it/s]\n"
     ]
    },
    {
     "name": "stdout",
     "output_type": "stream",
     "text": [
      "Accuracy of     0 : 88 %\n",
      "Accuracy of     1 : 55 %\n",
      "Accuracy of     2 : 80 %\n",
      "Accuracy of     3 : 82 %\n",
      "Accuracy of     4 : 53 %\n",
      "Accuracy of     5 : 70 %\n",
      "Accuracy of     6 : 89 %\n",
      "Accuracy of     7 : 75 %\n",
      "Accuracy of     8 : 74 %\n",
      "Accuracy of     9 : 88 %\n",
      "epoch: 7/30 | step: 10/1875 | trn loss: 0.0480 | val loss: 1.2147\n",
      "Accuracy of the network on the 10000 test images: 75 %\n"
     ]
    },
    {
     "name": "stderr",
     "output_type": "stream",
     "text": [
      "1875it [06:24,  4.88it/s]\n"
     ]
    },
    {
     "name": "stdout",
     "output_type": "stream",
     "text": [
      "Accuracy of     0 : 91 %\n",
      "Accuracy of     1 : 59 %\n",
      "Accuracy of     2 : 78 %\n",
      "Accuracy of     3 : 60 %\n",
      "Accuracy of     4 : 70 %\n",
      "Accuracy of     5 : 89 %\n",
      "Accuracy of     6 : 90 %\n",
      "Accuracy of     7 : 87 %\n",
      "Accuracy of     8 : 87 %\n",
      "Accuracy of     9 : 77 %\n",
      "epoch: 8/30 | step: 10/1875 | trn loss: 0.0426 | val loss: 1.0842\n",
      "Accuracy of the network on the 10000 test images: 78 %\n"
     ]
    },
    {
     "name": "stderr",
     "output_type": "stream",
     "text": [
      "1875it [06:23,  4.90it/s]\n"
     ]
    },
    {
     "name": "stdout",
     "output_type": "stream",
     "text": [
      "Accuracy of     0 : 91 %\n",
      "Accuracy of     1 : 49 %\n",
      "Accuracy of     2 : 90 %\n",
      "Accuracy of     3 : 75 %\n",
      "Accuracy of     4 : 53 %\n",
      "Accuracy of     5 : 90 %\n",
      "Accuracy of     6 : 92 %\n",
      "Accuracy of     7 : 82 %\n",
      "Accuracy of     8 : 82 %\n",
      "Accuracy of     9 : 89 %\n",
      "epoch: 9/30 | step: 10/1875 | trn loss: 0.0396 | val loss: 1.0602\n",
      "Accuracy of the network on the 10000 test images: 79 %\n"
     ]
    },
    {
     "name": "stderr",
     "output_type": "stream",
     "text": [
      "1875it [06:22,  4.90it/s]\n"
     ]
    },
    {
     "name": "stdout",
     "output_type": "stream",
     "text": [
      "Accuracy of     0 : 95 %\n",
      "Accuracy of     1 : 42 %\n",
      "Accuracy of     2 : 83 %\n",
      "Accuracy of     3 : 71 %\n",
      "Accuracy of     4 : 74 %\n",
      "Accuracy of     5 : 86 %\n",
      "Accuracy of     6 : 90 %\n",
      "Accuracy of     7 : 88 %\n",
      "Accuracy of     8 : 83 %\n",
      "Accuracy of     9 : 86 %\n",
      "epoch: 10/30 | step: 10/1875 | trn loss: 0.0329 | val loss: 1.0948\n",
      "Accuracy of the network on the 10000 test images: 79 %\n"
     ]
    },
    {
     "name": "stderr",
     "output_type": "stream",
     "text": [
      "1875it [06:23,  4.89it/s]\n"
     ]
    },
    {
     "name": "stdout",
     "output_type": "stream",
     "text": [
      "Accuracy of     0 : 93 %\n",
      "Accuracy of     1 : 47 %\n",
      "Accuracy of     2 : 90 %\n",
      "Accuracy of     3 : 69 %\n",
      "Accuracy of     4 : 78 %\n",
      "Accuracy of     5 : 88 %\n",
      "Accuracy of     6 : 90 %\n",
      "Accuracy of     7 : 85 %\n",
      "Accuracy of     8 : 84 %\n",
      "Accuracy of     9 : 80 %\n",
      "epoch: 11/30 | step: 10/1875 | trn loss: 0.0263 | val loss: 1.0912\n",
      "Accuracy of the network on the 10000 test images: 80 %\n"
     ]
    },
    {
     "name": "stderr",
     "output_type": "stream",
     "text": [
      "1875it [06:22,  4.90it/s]\n"
     ]
    },
    {
     "name": "stdout",
     "output_type": "stream",
     "text": [
      "Accuracy of     0 : 95 %\n",
      "Accuracy of     1 : 43 %\n",
      "Accuracy of     2 : 93 %\n",
      "Accuracy of     3 : 74 %\n",
      "Accuracy of     4 : 73 %\n",
      "Accuracy of     5 : 83 %\n",
      "Accuracy of     6 : 79 %\n",
      "Accuracy of     7 : 86 %\n",
      "Accuracy of     8 : 78 %\n",
      "Accuracy of     9 : 90 %\n",
      "epoch: 12/30 | step: 10/1875 | trn loss: 0.0279 | val loss: 1.0883\n",
      "Accuracy of the network on the 10000 test images: 79 %\n"
     ]
    },
    {
     "name": "stderr",
     "output_type": "stream",
     "text": [
      "1875it [06:22,  4.90it/s]\n"
     ]
    },
    {
     "name": "stdout",
     "output_type": "stream",
     "text": [
      "Accuracy of     0 : 96 %\n",
      "Accuracy of     1 : 51 %\n",
      "Accuracy of     2 : 87 %\n",
      "Accuracy of     3 : 72 %\n",
      "Accuracy of     4 : 68 %\n",
      "Accuracy of     5 : 90 %\n",
      "Accuracy of     6 : 89 %\n",
      "Accuracy of     7 : 88 %\n",
      "Accuracy of     8 : 89 %\n",
      "Accuracy of     9 : 85 %\n",
      "epoch: 13/30 | step: 10/1875 | trn loss: 0.0268 | val loss: 1.0235\n",
      "Accuracy of the network on the 10000 test images: 81 %\n"
     ]
    },
    {
     "name": "stderr",
     "output_type": "stream",
     "text": [
      "1875it [06:21,  4.91it/s]\n"
     ]
    },
    {
     "name": "stdout",
     "output_type": "stream",
     "text": [
      "Accuracy of     0 : 95 %\n",
      "Accuracy of     1 : 67 %\n",
      "Accuracy of     2 : 88 %\n",
      "Accuracy of     3 : 72 %\n",
      "Accuracy of     4 : 69 %\n",
      "Accuracy of     5 : 89 %\n",
      "Accuracy of     6 : 90 %\n",
      "Accuracy of     7 : 90 %\n",
      "Accuracy of     8 : 84 %\n",
      "Accuracy of     9 : 88 %\n",
      "epoch: 14/30 | step: 10/1875 | trn loss: 0.0204 | val loss: 0.9415\n",
      "Accuracy of the network on the 10000 test images: 83 %\n"
     ]
    },
    {
     "name": "stderr",
     "output_type": "stream",
     "text": [
      "1875it [06:22,  4.90it/s]\n"
     ]
    },
    {
     "name": "stdout",
     "output_type": "stream",
     "text": [
      "Accuracy of     0 : 96 %\n",
      "Accuracy of     1 : 66 %\n",
      "Accuracy of     2 : 88 %\n",
      "Accuracy of     3 : 69 %\n",
      "Accuracy of     4 : 76 %\n",
      "Accuracy of     5 : 88 %\n",
      "Accuracy of     6 : 90 %\n",
      "Accuracy of     7 : 78 %\n",
      "Accuracy of     8 : 85 %\n",
      "Accuracy of     9 : 89 %\n",
      "epoch: 15/30 | step: 10/1875 | trn loss: 0.0162 | val loss: 0.9243\n",
      "Accuracy of the network on the 10000 test images: 82 %\n"
     ]
    },
    {
     "name": "stderr",
     "output_type": "stream",
     "text": [
      "1875it [06:22,  4.90it/s]\n"
     ]
    },
    {
     "name": "stdout",
     "output_type": "stream",
     "text": [
      "Accuracy of     0 : 91 %\n",
      "Accuracy of     1 : 67 %\n",
      "Accuracy of     2 : 83 %\n",
      "Accuracy of     3 : 75 %\n",
      "Accuracy of     4 : 79 %\n",
      "Accuracy of     5 : 85 %\n",
      "Accuracy of     6 : 94 %\n",
      "Accuracy of     7 : 82 %\n",
      "Accuracy of     8 : 82 %\n",
      "Accuracy of     9 : 90 %\n",
      "epoch: 16/30 | step: 10/1875 | trn loss: 0.0129 | val loss: 0.9186\n",
      "Accuracy of the network on the 10000 test images: 83 %\n"
     ]
    },
    {
     "name": "stderr",
     "output_type": "stream",
     "text": [
      "1875it [06:22,  4.90it/s]\n"
     ]
    },
    {
     "name": "stdout",
     "output_type": "stream",
     "text": [
      "Accuracy of     0 : 93 %\n",
      "Accuracy of     1 : 47 %\n",
      "Accuracy of     2 : 90 %\n",
      "Accuracy of     3 : 82 %\n",
      "Accuracy of     4 : 78 %\n",
      "Accuracy of     5 : 83 %\n",
      "Accuracy of     6 : 88 %\n",
      "Accuracy of     7 : 91 %\n",
      "Accuracy of     8 : 84 %\n",
      "Accuracy of     9 : 86 %\n",
      "epoch: 17/30 | step: 10/1875 | trn loss: 0.0127 | val loss: 1.0826\n",
      "Accuracy of the network on the 10000 test images: 82 %\n"
     ]
    },
    {
     "name": "stderr",
     "output_type": "stream",
     "text": [
      "1875it [06:21,  4.91it/s]\n"
     ]
    },
    {
     "name": "stdout",
     "output_type": "stream",
     "text": [
      "Accuracy of     0 : 97 %\n",
      "Accuracy of     1 : 62 %\n",
      "Accuracy of     2 : 86 %\n",
      "Accuracy of     3 : 75 %\n",
      "Accuracy of     4 : 75 %\n",
      "Accuracy of     5 : 89 %\n",
      "Accuracy of     6 : 88 %\n",
      "Accuracy of     7 : 88 %\n",
      "Accuracy of     8 : 86 %\n",
      "Accuracy of     9 : 89 %\n",
      "epoch: 18/30 | step: 10/1875 | trn loss: 0.0188 | val loss: 0.9837\n",
      "Accuracy of the network on the 10000 test images: 83 %\n"
     ]
    },
    {
     "name": "stderr",
     "output_type": "stream",
     "text": [
      "1875it [06:23,  4.89it/s]\n"
     ]
    },
    {
     "name": "stdout",
     "output_type": "stream",
     "text": [
      "Accuracy of     0 : 96 %\n",
      "Accuracy of     1 : 56 %\n",
      "Accuracy of     2 : 88 %\n",
      "Accuracy of     3 : 70 %\n",
      "Accuracy of     4 : 71 %\n",
      "Accuracy of     5 : 89 %\n",
      "Accuracy of     6 : 90 %\n",
      "Accuracy of     7 : 88 %\n",
      "Accuracy of     8 : 89 %\n",
      "Accuracy of     9 : 92 %\n",
      "epoch: 19/30 | step: 10/1875 | trn loss: 0.0158 | val loss: 0.9868\n",
      "Accuracy of the network on the 10000 test images: 82 %\n"
     ]
    },
    {
     "name": "stderr",
     "output_type": "stream",
     "text": [
      "1875it [06:22,  4.90it/s]\n"
     ]
    },
    {
     "name": "stdout",
     "output_type": "stream",
     "text": [
      "Accuracy of     0 : 94 %\n",
      "Accuracy of     1 : 54 %\n",
      "Accuracy of     2 : 93 %\n",
      "Accuracy of     3 : 80 %\n",
      "Accuracy of     4 : 75 %\n",
      "Accuracy of     5 : 90 %\n",
      "Accuracy of     6 : 89 %\n",
      "Accuracy of     7 : 87 %\n",
      "Accuracy of     8 : 83 %\n",
      "Accuracy of     9 : 88 %\n",
      "epoch: 20/30 | step: 10/1875 | trn loss: 0.0126 | val loss: 1.0140\n",
      "Accuracy of the network on the 10000 test images: 83 %\n"
     ]
    },
    {
     "name": "stderr",
     "output_type": "stream",
     "text": [
      "1875it [06:22,  4.90it/s]\n"
     ]
    },
    {
     "name": "stdout",
     "output_type": "stream",
     "text": [
      "Accuracy of     0 : 95 %\n",
      "Accuracy of     1 : 62 %\n",
      "Accuracy of     2 : 93 %\n",
      "Accuracy of     3 : 82 %\n",
      "Accuracy of     4 : 78 %\n",
      "Accuracy of     5 : 86 %\n",
      "Accuracy of     6 : 93 %\n",
      "Accuracy of     7 : 87 %\n",
      "Accuracy of     8 : 86 %\n",
      "Accuracy of     9 : 92 %\n",
      "epoch: 21/30 | step: 10/1875 | trn loss: 0.0119 | val loss: 0.8730\n",
      "Accuracy of the network on the 10000 test images: 85 %\n"
     ]
    },
    {
     "name": "stderr",
     "output_type": "stream",
     "text": [
      "1875it [06:22,  4.91it/s]\n"
     ]
    },
    {
     "name": "stdout",
     "output_type": "stream",
     "text": [
      "Accuracy of     0 : 97 %\n",
      "Accuracy of     1 : 59 %\n",
      "Accuracy of     2 : 90 %\n",
      "Accuracy of     3 : 83 %\n",
      "Accuracy of     4 : 76 %\n",
      "Accuracy of     5 : 88 %\n",
      "Accuracy of     6 : 91 %\n",
      "Accuracy of     7 : 91 %\n",
      "Accuracy of     8 : 86 %\n",
      "Accuracy of     9 : 92 %\n",
      "epoch: 22/30 | step: 10/1875 | trn loss: 0.0101 | val loss: 0.8607\n",
      "Accuracy of the network on the 10000 test images: 85 %\n"
     ]
    },
    {
     "name": "stderr",
     "output_type": "stream",
     "text": [
      "1875it [06:23,  4.90it/s]\n"
     ]
    },
    {
     "name": "stdout",
     "output_type": "stream",
     "text": [
      "Accuracy of     0 : 94 %\n",
      "Accuracy of     1 : 56 %\n",
      "Accuracy of     2 : 91 %\n",
      "Accuracy of     3 : 88 %\n",
      "Accuracy of     4 : 81 %\n",
      "Accuracy of     5 : 85 %\n",
      "Accuracy of     6 : 91 %\n",
      "Accuracy of     7 : 89 %\n",
      "Accuracy of     8 : 87 %\n",
      "Accuracy of     9 : 90 %\n",
      "epoch: 23/30 | step: 10/1875 | trn loss: 0.0095 | val loss: 0.8823\n",
      "Accuracy of the network on the 10000 test images: 85 %\n"
     ]
    },
    {
     "name": "stderr",
     "output_type": "stream",
     "text": [
      "1875it [06:22,  4.90it/s]\n"
     ]
    },
    {
     "name": "stdout",
     "output_type": "stream",
     "text": [
      "Accuracy of     0 : 94 %\n",
      "Accuracy of     1 : 61 %\n",
      "Accuracy of     2 : 93 %\n",
      "Accuracy of     3 : 80 %\n",
      "Accuracy of     4 : 74 %\n",
      "Accuracy of     5 : 91 %\n",
      "Accuracy of     6 : 90 %\n",
      "Accuracy of     7 : 83 %\n",
      "Accuracy of     8 : 86 %\n",
      "Accuracy of     9 : 93 %\n",
      "epoch: 24/30 | step: 10/1875 | trn loss: 0.0061 | val loss: 0.9787\n",
      "Accuracy of the network on the 10000 test images: 84 %\n"
     ]
    },
    {
     "name": "stderr",
     "output_type": "stream",
     "text": [
      "1875it [06:22,  4.90it/s]\n"
     ]
    },
    {
     "name": "stdout",
     "output_type": "stream",
     "text": [
      "Accuracy of     0 : 93 %\n",
      "Accuracy of     1 : 62 %\n",
      "Accuracy of     2 : 90 %\n",
      "Accuracy of     3 : 82 %\n",
      "Accuracy of     4 : 77 %\n",
      "Accuracy of     5 : 91 %\n",
      "Accuracy of     6 : 86 %\n",
      "Accuracy of     7 : 89 %\n",
      "Accuracy of     8 : 88 %\n",
      "Accuracy of     9 : 86 %\n",
      "epoch: 25/30 | step: 10/1875 | trn loss: 0.0087 | val loss: 0.9601\n",
      "Accuracy of the network on the 10000 test images: 84 %\n"
     ]
    },
    {
     "name": "stderr",
     "output_type": "stream",
     "text": [
      "1875it [06:21,  4.91it/s]\n"
     ]
    },
    {
     "name": "stdout",
     "output_type": "stream",
     "text": [
      "Accuracy of     0 : 95 %\n",
      "Accuracy of     1 : 52 %\n",
      "Accuracy of     2 : 92 %\n",
      "Accuracy of     3 : 78 %\n",
      "Accuracy of     4 : 82 %\n",
      "Accuracy of     5 : 81 %\n",
      "Accuracy of     6 : 93 %\n",
      "Accuracy of     7 : 82 %\n",
      "Accuracy of     8 : 91 %\n",
      "Accuracy of     9 : 91 %\n",
      "epoch: 26/30 | step: 10/1875 | trn loss: 0.0080 | val loss: 1.0137\n",
      "Accuracy of the network on the 10000 test images: 83 %\n"
     ]
    },
    {
     "name": "stderr",
     "output_type": "stream",
     "text": [
      "1875it [06:23,  4.89it/s]\n"
     ]
    },
    {
     "name": "stdout",
     "output_type": "stream",
     "text": [
      "Accuracy of     0 : 96 %\n",
      "Accuracy of     1 : 54 %\n",
      "Accuracy of     2 : 87 %\n",
      "Accuracy of     3 : 74 %\n",
      "Accuracy of     4 : 77 %\n",
      "Accuracy of     5 : 90 %\n",
      "Accuracy of     6 : 90 %\n",
      "Accuracy of     7 : 91 %\n",
      "Accuracy of     8 : 89 %\n",
      "Accuracy of     9 : 91 %\n",
      "epoch: 27/30 | step: 10/1875 | trn loss: 0.0087 | val loss: 0.9945\n",
      "Accuracy of the network on the 10000 test images: 83 %\n"
     ]
    },
    {
     "name": "stderr",
     "output_type": "stream",
     "text": [
      "1875it [06:22,  4.90it/s]\n"
     ]
    },
    {
     "name": "stdout",
     "output_type": "stream",
     "text": [
      "Accuracy of     0 : 93 %\n",
      "Accuracy of     1 : 66 %\n",
      "Accuracy of     2 : 87 %\n",
      "Accuracy of     3 : 74 %\n",
      "Accuracy of     4 : 74 %\n",
      "Accuracy of     5 : 91 %\n",
      "Accuracy of     6 : 93 %\n",
      "Accuracy of     7 : 88 %\n",
      "Accuracy of     8 : 90 %\n",
      "Accuracy of     9 : 85 %\n",
      "epoch: 28/30 | step: 10/1875 | trn loss: 0.0086 | val loss: 0.9591\n",
      "Accuracy of the network on the 10000 test images: 84 %\n"
     ]
    },
    {
     "name": "stderr",
     "output_type": "stream",
     "text": [
      "1875it [06:22,  4.90it/s]\n"
     ]
    },
    {
     "name": "stdout",
     "output_type": "stream",
     "text": [
      "Accuracy of     0 : 93 %\n",
      "Accuracy of     1 : 62 %\n",
      "Accuracy of     2 : 87 %\n",
      "Accuracy of     3 : 78 %\n",
      "Accuracy of     4 : 85 %\n",
      "Accuracy of     5 : 91 %\n",
      "Accuracy of     6 : 93 %\n",
      "Accuracy of     7 : 90 %\n",
      "Accuracy of     8 : 93 %\n",
      "Accuracy of     9 : 87 %\n",
      "epoch: 29/30 | step: 10/1875 | trn loss: 0.0078 | val loss: 0.8509\n",
      "Accuracy of the network on the 10000 test images: 85 %\n"
     ]
    },
    {
     "name": "stderr",
     "output_type": "stream",
     "text": [
      "1875it [06:21,  4.91it/s]\n"
     ]
    },
    {
     "name": "stdout",
     "output_type": "stream",
     "text": [
      "Accuracy of     0 : 97 %\n",
      "Accuracy of     1 : 58 %\n",
      "Accuracy of     2 : 89 %\n",
      "Accuracy of     3 : 81 %\n",
      "Accuracy of     4 : 80 %\n",
      "Accuracy of     5 : 90 %\n",
      "Accuracy of     6 : 93 %\n",
      "Accuracy of     7 : 86 %\n",
      "Accuracy of     8 : 91 %\n",
      "Accuracy of     9 : 89 %\n",
      "epoch: 30/30 | step: 10/1875 | trn loss: 0.0087 | val loss: 0.8534\n",
      "Accuracy of the network on the 10000 test images: 85 %\n"
     ]
    }
   ],
   "source": [
    "import torch.optim as optim\n",
    "from tqdm import tqdm\n",
    "import sys\n",
    "\n",
    "trn_loss_list = []\n",
    "val_loss_list = []\n",
    "num_batches = len(trainloader)\n",
    "for epoch in range(30):\n",
    "    running_loss = 0.0\n",
    "    for i,image in tqdm(enumerate(trainloader)):\n",
    "        #data, target = Variable(data), Variable(target)\n",
    "        optimizer.zero_grad()\n",
    "        c1 = image[0].to(device)\n",
    "        c6 = image[1].to(device)\n",
    "        output = model(c1)\n",
    "        #output = torch.nn.parallel.gather(output,'cuda:1')\n",
    "        loss = criterion(output, c6)\n",
    "        loss.backward()    # calc gradients\n",
    "        optimizer.step()   # update gradients\n",
    "        running_loss += loss.item()\n",
    "        #print(i)\n",
    "        \n",
    "        #if (i+1) % 600 == 0 :\n",
    "    with torch.no_grad(): # very very very very important!!!\n",
    "        val_loss = 0.0\n",
    "        class_correct = list(0. for i in range(10))\n",
    "        class_total = list(0. for i in range(10))\n",
    "        correct = 0\n",
    "        total = 0\n",
    "        for j,val in enumerate(testloader):\n",
    "            v1 = val[0].to(device)\n",
    "            val_labels = val[1].to(device)\n",
    "            val_output = model(v1)\n",
    "            v_loss = criterion(val_output, val_labels)\n",
    "            val_loss += v_loss\n",
    "            _, predicted = torch.max(val_output, 1)\n",
    "            c = (predicted == val_labels).squeeze()\n",
    "            total += val_labels.size(0)\n",
    "            correct += (predicted == val_labels).sum().item()\n",
    "            for i in range(len(val_labels)):\n",
    "                val_label = val_labels[i]\n",
    "                class_correct[val_label] += c[i].item()\n",
    "                class_total[val_label] += 1\n",
    "\n",
    "        for i in range(10):\n",
    "            if class_total[i]==0:\n",
    "                print('class_total = 0',class_correct,class_total)\n",
    "            else:\n",
    "                print('Accuracy of %5s : %2d %%' % (i, 100 * class_correct[i] / class_total[i]))\n",
    "\n",
    "    print(\"epoch: {}/{} | step: {}/{} | trn loss: {:.4f} | val loss: {:.4f}\".format(\n",
    "        epoch+1, 30, i+1, num_batches, running_loss / 600, val_loss / len(testloader)\n",
    "    ))        \n",
    "    print('Accuracy of the network on the 10000 test images: %d %%' % (100 * correct / total))\n",
    "\n",
    "    trn_loss_list.append(running_loss/600)\n",
    "    val_loss_list.append(val_loss/len(testloader))\n",
    "    running_loss = 0.0\n",
    "\n",
    "        \n",
    "    #optimizer = optim.SGD(model.parameters(), lr=0.001, momentum=0.9)\n",
    "    "
   ]
  },
  {
   "cell_type": "code",
   "execution_count": 12,
   "metadata": {},
   "outputs": [],
   "source": [
    "val_gen_arr = []\n",
    "for i in range(1,113):\n",
    "    transform = transforms.Compose(\n",
    "        [\n",
    "        transforms.ToTensor(),\n",
    "        transforms.Normalize((0.5, 0.5, 0.5), (0.5, 0.5, 0.5))])\n",
    "\n",
    "    testMnistDataset1 = datasets.ImageFolder(root=os.path.join('mnist_sized',str(i)),transform = transform)\n",
    "\n",
    "    testloader1 = torch.utils.data.DataLoader(testMnistDataset1,\n",
    "                                              batch_size = 32, \n",
    "                                              shuffle=False,\n",
    "                                            num_workers=8)\n",
    "    val_gen_arr.append(testloader1)\n",
    "    "
   ]
  },
  {
   "cell_type": "code",
   "execution_count": 16,
   "metadata": {},
   "outputs": [
    {
     "name": "stderr",
     "output_type": "stream",
     "text": [
      "  1%|          | 1/112 [00:03<06:14,  3.37s/it]"
     ]
    },
    {
     "name": "stdout",
     "output_type": "stream",
     "text": [
      "IMAGE SIZE : 1\n",
      "Accuracy of     0 :  0 %\n",
      "Accuracy of     1 :  0 %\n",
      "Accuracy of     2 :  0 %\n",
      "Accuracy of     3 :  0 %\n",
      "Accuracy of     4 : 78 %\n",
      "Accuracy of     5 :  0 %\n",
      "Accuracy of     6 :  0 %\n",
      "Accuracy of     7 :  0 %\n",
      "Accuracy of     8 :  0 %\n",
      "Accuracy of     9 :  1 %\n",
      "Accuracy of the network on the 10000 test images: 7 %\n"
     ]
    },
    {
     "name": "stderr",
     "output_type": "stream",
     "text": [
      "\r",
      "  2%|▏         | 2/112 [00:06<06:10,  3.37s/it]"
     ]
    },
    {
     "name": "stdout",
     "output_type": "stream",
     "text": [
      "IMAGE SIZE : 2\n",
      "Accuracy of     0 :  0 %\n",
      "Accuracy of     1 : 16 %\n",
      "Accuracy of     2 :  1 %\n",
      "Accuracy of     3 :  0 %\n",
      "Accuracy of     4 : 70 %\n",
      "Accuracy of     5 :  0 %\n",
      "Accuracy of     6 :  0 %\n",
      "Accuracy of     7 :  0 %\n",
      "Accuracy of     8 :  0 %\n",
      "Accuracy of     9 :  0 %\n",
      "Accuracy of the network on the 10000 test images: 8 %\n"
     ]
    },
    {
     "name": "stderr",
     "output_type": "stream",
     "text": [
      "\r",
      "  3%|▎         | 3/112 [00:10<06:06,  3.36s/it]"
     ]
    },
    {
     "name": "stdout",
     "output_type": "stream",
     "text": [
      "IMAGE SIZE : 3\n",
      "Accuracy of     0 :  0 %\n",
      "Accuracy of     1 :  9 %\n",
      "Accuracy of     2 :  0 %\n",
      "Accuracy of     3 :  0 %\n",
      "Accuracy of     4 : 79 %\n",
      "Accuracy of     5 :  0 %\n",
      "Accuracy of     6 :  0 %\n",
      "Accuracy of     7 :  0 %\n",
      "Accuracy of     8 :  0 %\n",
      "Accuracy of     9 : 16 %\n",
      "Accuracy of the network on the 10000 test images: 10 %\n"
     ]
    },
    {
     "name": "stderr",
     "output_type": "stream",
     "text": [
      "\r",
      "  4%|▎         | 4/112 [00:13<06:02,  3.36s/it]"
     ]
    },
    {
     "name": "stdout",
     "output_type": "stream",
     "text": [
      "IMAGE SIZE : 4\n",
      "Accuracy of     0 :  0 %\n",
      "Accuracy of     1 : 15 %\n",
      "Accuracy of     2 :  2 %\n",
      "Accuracy of     3 :  0 %\n",
      "Accuracy of     4 : 72 %\n",
      "Accuracy of     5 :  0 %\n",
      "Accuracy of     6 :  0 %\n",
      "Accuracy of     7 :  0 %\n",
      "Accuracy of     8 :  0 %\n",
      "Accuracy of     9 :  1 %\n",
      "Accuracy of the network on the 10000 test images: 9 %\n"
     ]
    },
    {
     "name": "stderr",
     "output_type": "stream",
     "text": [
      "\r",
      "  4%|▍         | 5/112 [00:16<05:59,  3.36s/it]"
     ]
    },
    {
     "name": "stdout",
     "output_type": "stream",
     "text": [
      "IMAGE SIZE : 5\n",
      "Accuracy of     0 :  0 %\n",
      "Accuracy of     1 : 15 %\n",
      "Accuracy of     2 :  1 %\n",
      "Accuracy of     3 :  0 %\n",
      "Accuracy of     4 : 58 %\n",
      "Accuracy of     5 : 18 %\n",
      "Accuracy of     6 :  0 %\n",
      "Accuracy of     7 :  0 %\n",
      "Accuracy of     8 :  0 %\n",
      "Accuracy of     9 :  0 %\n",
      "Accuracy of the network on the 10000 test images: 9 %\n"
     ]
    },
    {
     "name": "stderr",
     "output_type": "stream",
     "text": [
      "\r",
      "  5%|▌         | 6/112 [00:20<05:56,  3.36s/it]"
     ]
    },
    {
     "name": "stdout",
     "output_type": "stream",
     "text": [
      "IMAGE SIZE : 6\n",
      "Accuracy of     0 :  0 %\n",
      "Accuracy of     1 : 16 %\n",
      "Accuracy of     2 :  2 %\n",
      "Accuracy of     3 :  0 %\n",
      "Accuracy of     4 : 48 %\n",
      "Accuracy of     5 : 15 %\n",
      "Accuracy of     6 :  0 %\n",
      "Accuracy of     7 :  0 %\n",
      "Accuracy of     8 :  0 %\n",
      "Accuracy of     9 :  0 %\n",
      "Accuracy of the network on the 10000 test images: 8 %\n"
     ]
    },
    {
     "name": "stderr",
     "output_type": "stream",
     "text": [
      "\r",
      "  6%|▋         | 7/112 [00:23<05:53,  3.36s/it]"
     ]
    },
    {
     "name": "stdout",
     "output_type": "stream",
     "text": [
      "IMAGE SIZE : 7\n",
      "Accuracy of     0 :  0 %\n",
      "Accuracy of     1 : 24 %\n",
      "Accuracy of     2 :  7 %\n",
      "Accuracy of     3 :  0 %\n",
      "Accuracy of     4 : 48 %\n",
      "Accuracy of     5 : 11 %\n",
      "Accuracy of     6 :  0 %\n",
      "Accuracy of     7 :  0 %\n",
      "Accuracy of     8 :  0 %\n",
      "Accuracy of     9 :  0 %\n",
      "Accuracy of the network on the 10000 test images: 9 %\n"
     ]
    },
    {
     "name": "stderr",
     "output_type": "stream",
     "text": [
      "\r",
      "  7%|▋         | 8/112 [00:26<05:48,  3.35s/it]"
     ]
    },
    {
     "name": "stdout",
     "output_type": "stream",
     "text": [
      "IMAGE SIZE : 8\n",
      "Accuracy of     0 :  0 %\n",
      "Accuracy of     1 : 29 %\n",
      "Accuracy of     2 :  9 %\n",
      "Accuracy of     3 :  0 %\n",
      "Accuracy of     4 : 37 %\n",
      "Accuracy of     5 : 12 %\n",
      "Accuracy of     6 :  0 %\n",
      "Accuracy of     7 :  0 %\n",
      "Accuracy of     8 :  0 %\n",
      "Accuracy of     9 :  0 %\n",
      "Accuracy of the network on the 10000 test images: 8 %\n"
     ]
    },
    {
     "name": "stderr",
     "output_type": "stream",
     "text": [
      "\r",
      "  8%|▊         | 9/112 [00:30<05:45,  3.36s/it]"
     ]
    },
    {
     "name": "stdout",
     "output_type": "stream",
     "text": [
      "IMAGE SIZE : 9\n",
      "Accuracy of     0 :  0 %\n",
      "Accuracy of     1 : 35 %\n",
      "Accuracy of     2 :  8 %\n",
      "Accuracy of     3 :  0 %\n",
      "Accuracy of     4 : 30 %\n",
      "Accuracy of     5 :  8 %\n",
      "Accuracy of     6 :  0 %\n",
      "Accuracy of     7 :  0 %\n",
      "Accuracy of     8 :  0 %\n",
      "Accuracy of     9 :  0 %\n",
      "Accuracy of the network on the 10000 test images: 8 %\n"
     ]
    },
    {
     "name": "stderr",
     "output_type": "stream",
     "text": [
      "\r",
      "  9%|▉         | 10/112 [00:33<05:42,  3.36s/it]"
     ]
    },
    {
     "name": "stdout",
     "output_type": "stream",
     "text": [
      "IMAGE SIZE : 10\n",
      "Accuracy of     0 :  0 %\n",
      "Accuracy of     1 : 35 %\n",
      "Accuracy of     2 :  6 %\n",
      "Accuracy of     3 :  0 %\n",
      "Accuracy of     4 : 23 %\n",
      "Accuracy of     5 : 12 %\n",
      "Accuracy of     6 :  0 %\n",
      "Accuracy of     7 :  0 %\n",
      "Accuracy of     8 :  0 %\n",
      "Accuracy of     9 :  0 %\n",
      "Accuracy of the network on the 10000 test images: 7 %\n"
     ]
    },
    {
     "name": "stderr",
     "output_type": "stream",
     "text": [
      "\r",
      " 10%|▉         | 11/112 [00:36<05:39,  3.36s/it]"
     ]
    },
    {
     "name": "stdout",
     "output_type": "stream",
     "text": [
      "IMAGE SIZE : 11\n",
      "Accuracy of     0 :  0 %\n",
      "Accuracy of     1 : 41 %\n",
      "Accuracy of     2 :  5 %\n",
      "Accuracy of     3 :  0 %\n",
      "Accuracy of     4 : 24 %\n",
      "Accuracy of     5 : 10 %\n",
      "Accuracy of     6 :  0 %\n",
      "Accuracy of     7 :  0 %\n",
      "Accuracy of     8 :  0 %\n",
      "Accuracy of     9 :  0 %\n",
      "Accuracy of the network on the 10000 test images: 8 %\n"
     ]
    },
    {
     "name": "stderr",
     "output_type": "stream",
     "text": [
      "\r",
      " 11%|█         | 12/112 [00:40<05:35,  3.36s/it]"
     ]
    },
    {
     "name": "stdout",
     "output_type": "stream",
     "text": [
      "IMAGE SIZE : 12\n",
      "Accuracy of     0 :  0 %\n",
      "Accuracy of     1 : 41 %\n",
      "Accuracy of     2 :  4 %\n",
      "Accuracy of     3 :  0 %\n",
      "Accuracy of     4 : 21 %\n",
      "Accuracy of     5 : 11 %\n",
      "Accuracy of     6 :  0 %\n",
      "Accuracy of     7 :  0 %\n",
      "Accuracy of     8 :  0 %\n",
      "Accuracy of     9 :  0 %\n",
      "Accuracy of the network on the 10000 test images: 7 %\n"
     ]
    },
    {
     "name": "stderr",
     "output_type": "stream",
     "text": [
      "\r",
      " 12%|█▏        | 13/112 [00:43<05:32,  3.36s/it]"
     ]
    },
    {
     "name": "stdout",
     "output_type": "stream",
     "text": [
      "IMAGE SIZE : 13\n",
      "Accuracy of     0 :  0 %\n",
      "Accuracy of     1 : 45 %\n",
      "Accuracy of     2 :  6 %\n",
      "Accuracy of     3 :  0 %\n",
      "Accuracy of     4 : 22 %\n",
      "Accuracy of     5 : 16 %\n",
      "Accuracy of     6 :  1 %\n",
      "Accuracy of     7 :  0 %\n",
      "Accuracy of     8 :  0 %\n",
      "Accuracy of     9 :  0 %\n",
      "Accuracy of the network on the 10000 test images: 9 %\n"
     ]
    },
    {
     "name": "stderr",
     "output_type": "stream",
     "text": [
      "\r",
      " 12%|█▎        | 14/112 [00:47<05:28,  3.35s/it]"
     ]
    },
    {
     "name": "stdout",
     "output_type": "stream",
     "text": [
      "IMAGE SIZE : 14\n",
      "Accuracy of     0 :  0 %\n",
      "Accuracy of     1 : 50 %\n",
      "Accuracy of     2 :  5 %\n",
      "Accuracy of     3 :  0 %\n",
      "Accuracy of     4 : 18 %\n",
      "Accuracy of     5 : 13 %\n",
      "Accuracy of     6 :  1 %\n",
      "Accuracy of     7 :  0 %\n",
      "Accuracy of     8 :  0 %\n",
      "Accuracy of     9 :  0 %\n",
      "Accuracy of the network on the 10000 test images: 8 %\n"
     ]
    },
    {
     "name": "stderr",
     "output_type": "stream",
     "text": [
      "\r",
      " 13%|█▎        | 15/112 [00:50<05:25,  3.36s/it]"
     ]
    },
    {
     "name": "stdout",
     "output_type": "stream",
     "text": [
      "IMAGE SIZE : 15\n",
      "Accuracy of     0 :  2 %\n",
      "Accuracy of     1 : 53 %\n",
      "Accuracy of     2 :  8 %\n",
      "Accuracy of     3 :  0 %\n",
      "Accuracy of     4 :  9 %\n",
      "Accuracy of     5 : 14 %\n",
      "Accuracy of     6 :  1 %\n",
      "Accuracy of     7 :  0 %\n",
      "Accuracy of     8 :  0 %\n",
      "Accuracy of     9 :  0 %\n",
      "Accuracy of the network on the 10000 test images: 8 %\n"
     ]
    },
    {
     "name": "stderr",
     "output_type": "stream",
     "text": [
      "\r",
      " 14%|█▍        | 16/112 [00:53<05:22,  3.35s/it]"
     ]
    },
    {
     "name": "stdout",
     "output_type": "stream",
     "text": [
      "IMAGE SIZE : 16\n",
      "Accuracy of     0 :  1 %\n",
      "Accuracy of     1 : 54 %\n",
      "Accuracy of     2 :  5 %\n",
      "Accuracy of     3 :  1 %\n",
      "Accuracy of     4 : 11 %\n",
      "Accuracy of     5 : 13 %\n",
      "Accuracy of     6 :  1 %\n",
      "Accuracy of     7 :  0 %\n",
      "Accuracy of     8 :  0 %\n",
      "Accuracy of     9 :  0 %\n",
      "Accuracy of the network on the 10000 test images: 8 %\n"
     ]
    },
    {
     "name": "stderr",
     "output_type": "stream",
     "text": [
      "\r",
      " 15%|█▌        | 17/112 [00:57<05:18,  3.35s/it]"
     ]
    },
    {
     "name": "stdout",
     "output_type": "stream",
     "text": [
      "IMAGE SIZE : 17\n",
      "Accuracy of     0 :  1 %\n",
      "Accuracy of     1 : 59 %\n",
      "Accuracy of     2 :  4 %\n",
      "Accuracy of     3 :  0 %\n",
      "Accuracy of     4 :  4 %\n",
      "Accuracy of     5 : 10 %\n",
      "Accuracy of     6 :  2 %\n",
      "Accuracy of     7 :  0 %\n",
      "Accuracy of     8 :  0 %\n",
      "Accuracy of     9 :  0 %\n",
      "Accuracy of the network on the 10000 test images: 8 %\n"
     ]
    },
    {
     "name": "stderr",
     "output_type": "stream",
     "text": [
      "\r",
      " 16%|█▌        | 18/112 [01:00<05:14,  3.35s/it]"
     ]
    },
    {
     "name": "stdout",
     "output_type": "stream",
     "text": [
      "IMAGE SIZE : 18\n",
      "Accuracy of     0 :  1 %\n",
      "Accuracy of     1 : 63 %\n",
      "Accuracy of     2 :  4 %\n",
      "Accuracy of     3 :  2 %\n",
      "Accuracy of     4 :  7 %\n",
      "Accuracy of     5 : 11 %\n",
      "Accuracy of     6 :  2 %\n",
      "Accuracy of     7 :  0 %\n",
      "Accuracy of     8 :  0 %\n",
      "Accuracy of     9 :  1 %\n",
      "Accuracy of the network on the 10000 test images: 9 %\n"
     ]
    },
    {
     "name": "stderr",
     "output_type": "stream",
     "text": [
      "\r",
      " 17%|█▋        | 19/112 [01:03<05:11,  3.35s/it]"
     ]
    },
    {
     "name": "stdout",
     "output_type": "stream",
     "text": [
      "IMAGE SIZE : 19\n",
      "Accuracy of     0 :  0 %\n",
      "Accuracy of     1 : 63 %\n",
      "Accuracy of     2 :  4 %\n",
      "Accuracy of     3 :  1 %\n",
      "Accuracy of     4 :  4 %\n",
      "Accuracy of     5 :  9 %\n",
      "Accuracy of     6 :  3 %\n",
      "Accuracy of     7 :  1 %\n",
      "Accuracy of     8 :  0 %\n",
      "Accuracy of     9 :  1 %\n",
      "Accuracy of the network on the 10000 test images: 8 %\n"
     ]
    },
    {
     "name": "stderr",
     "output_type": "stream",
     "text": [
      "\r",
      " 18%|█▊        | 20/112 [01:07<05:07,  3.35s/it]"
     ]
    },
    {
     "name": "stdout",
     "output_type": "stream",
     "text": [
      "IMAGE SIZE : 20\n",
      "Accuracy of     0 :  0 %\n",
      "Accuracy of     1 : 73 %\n",
      "Accuracy of     2 :  2 %\n",
      "Accuracy of     3 :  3 %\n",
      "Accuracy of     4 :  4 %\n",
      "Accuracy of     5 : 11 %\n",
      "Accuracy of     6 :  2 %\n",
      "Accuracy of     7 :  0 %\n",
      "Accuracy of     8 :  0 %\n",
      "Accuracy of     9 :  3 %\n",
      "Accuracy of the network on the 10000 test images: 9 %\n"
     ]
    },
    {
     "name": "stderr",
     "output_type": "stream",
     "text": [
      "\r",
      " 19%|█▉        | 21/112 [01:10<05:04,  3.35s/it]"
     ]
    },
    {
     "name": "stdout",
     "output_type": "stream",
     "text": [
      "IMAGE SIZE : 21\n",
      "Accuracy of     0 :  0 %\n",
      "Accuracy of     1 : 70 %\n",
      "Accuracy of     2 :  1 %\n",
      "Accuracy of     3 :  2 %\n",
      "Accuracy of     4 :  5 %\n",
      "Accuracy of     5 :  9 %\n",
      "Accuracy of     6 :  4 %\n",
      "Accuracy of     7 :  0 %\n",
      "Accuracy of     8 :  0 %\n",
      "Accuracy of     9 :  2 %\n",
      "Accuracy of the network on the 10000 test images: 9 %\n"
     ]
    },
    {
     "name": "stderr",
     "output_type": "stream",
     "text": [
      "\r",
      " 20%|█▉        | 22/112 [01:13<05:01,  3.35s/it]"
     ]
    },
    {
     "name": "stdout",
     "output_type": "stream",
     "text": [
      "IMAGE SIZE : 22\n",
      "Accuracy of     0 :  0 %\n",
      "Accuracy of     1 : 80 %\n",
      "Accuracy of     2 :  1 %\n",
      "Accuracy of     3 :  6 %\n",
      "Accuracy of     4 :  7 %\n",
      "Accuracy of     5 : 10 %\n",
      "Accuracy of     6 :  4 %\n",
      "Accuracy of     7 :  0 %\n",
      "Accuracy of     8 :  1 %\n",
      "Accuracy of     9 :  3 %\n",
      "Accuracy of the network on the 10000 test images: 11 %\n"
     ]
    },
    {
     "name": "stderr",
     "output_type": "stream",
     "text": [
      "\r",
      " 21%|██        | 23/112 [01:17<04:58,  3.35s/it]"
     ]
    },
    {
     "name": "stdout",
     "output_type": "stream",
     "text": [
      "IMAGE SIZE : 23\n",
      "Accuracy of     0 :  1 %\n",
      "Accuracy of     1 : 75 %\n",
      "Accuracy of     2 :  1 %\n",
      "Accuracy of     3 :  6 %\n",
      "Accuracy of     4 :  8 %\n",
      "Accuracy of     5 :  6 %\n",
      "Accuracy of     6 :  5 %\n",
      "Accuracy of     7 :  0 %\n",
      "Accuracy of     8 :  1 %\n",
      "Accuracy of     9 :  4 %\n",
      "Accuracy of the network on the 10000 test images: 10 %\n"
     ]
    },
    {
     "name": "stderr",
     "output_type": "stream",
     "text": [
      "\r",
      " 21%|██▏       | 24/112 [01:20<04:54,  3.35s/it]"
     ]
    },
    {
     "name": "stdout",
     "output_type": "stream",
     "text": [
      "IMAGE SIZE : 24\n",
      "Accuracy of     0 :  0 %\n",
      "Accuracy of     1 : 82 %\n",
      "Accuracy of     2 :  1 %\n",
      "Accuracy of     3 :  8 %\n",
      "Accuracy of     4 : 11 %\n",
      "Accuracy of     5 :  8 %\n",
      "Accuracy of     6 :  5 %\n",
      "Accuracy of     7 :  0 %\n",
      "Accuracy of     8 :  3 %\n",
      "Accuracy of     9 :  3 %\n",
      "Accuracy of the network on the 10000 test images: 12 %\n"
     ]
    },
    {
     "name": "stderr",
     "output_type": "stream",
     "text": [
      "\r",
      " 22%|██▏       | 25/112 [01:23<04:51,  3.35s/it]"
     ]
    },
    {
     "name": "stdout",
     "output_type": "stream",
     "text": [
      "IMAGE SIZE : 25\n",
      "Accuracy of     0 :  0 %\n",
      "Accuracy of     1 : 83 %\n",
      "Accuracy of     2 :  1 %\n",
      "Accuracy of     3 : 11 %\n",
      "Accuracy of     4 :  9 %\n",
      "Accuracy of     5 : 11 %\n",
      "Accuracy of     6 :  4 %\n",
      "Accuracy of     7 :  0 %\n",
      "Accuracy of     8 :  3 %\n",
      "Accuracy of     9 :  4 %\n",
      "Accuracy of the network on the 10000 test images: 12 %\n"
     ]
    },
    {
     "name": "stderr",
     "output_type": "stream",
     "text": [
      "\r",
      " 23%|██▎       | 26/112 [01:27<04:48,  3.36s/it]"
     ]
    },
    {
     "name": "stdout",
     "output_type": "stream",
     "text": [
      "IMAGE SIZE : 26\n",
      "Accuracy of     0 :  0 %\n",
      "Accuracy of     1 : 82 %\n",
      "Accuracy of     2 :  1 %\n",
      "Accuracy of     3 : 16 %\n",
      "Accuracy of     4 : 12 %\n",
      "Accuracy of     5 :  6 %\n",
      "Accuracy of     6 :  4 %\n",
      "Accuracy of     7 :  1 %\n",
      "Accuracy of     8 :  9 %\n",
      "Accuracy of     9 :  5 %\n",
      "Accuracy of the network on the 10000 test images: 13 %\n"
     ]
    },
    {
     "name": "stderr",
     "output_type": "stream",
     "text": [
      "\r",
      " 24%|██▍       | 27/112 [01:30<04:45,  3.36s/it]"
     ]
    },
    {
     "name": "stdout",
     "output_type": "stream",
     "text": [
      "IMAGE SIZE : 27\n",
      "Accuracy of     0 :  0 %\n",
      "Accuracy of     1 : 80 %\n",
      "Accuracy of     2 :  1 %\n",
      "Accuracy of     3 : 19 %\n",
      "Accuracy of     4 : 13 %\n",
      "Accuracy of     5 :  9 %\n",
      "Accuracy of     6 :  4 %\n",
      "Accuracy of     7 :  1 %\n",
      "Accuracy of     8 :  8 %\n",
      "Accuracy of     9 :  4 %\n",
      "Accuracy of the network on the 10000 test images: 13 %\n"
     ]
    },
    {
     "name": "stderr",
     "output_type": "stream",
     "text": [
      "\r",
      " 25%|██▌       | 28/112 [01:33<04:41,  3.35s/it]"
     ]
    },
    {
     "name": "stdout",
     "output_type": "stream",
     "text": [
      "IMAGE SIZE : 28\n",
      "Accuracy of     0 :  3 %\n",
      "Accuracy of     1 : 79 %\n",
      "Accuracy of     2 :  2 %\n",
      "Accuracy of     3 : 17 %\n",
      "Accuracy of     4 : 13 %\n",
      "Accuracy of     5 :  7 %\n",
      "Accuracy of     6 :  9 %\n",
      "Accuracy of     7 :  1 %\n",
      "Accuracy of     8 : 15 %\n",
      "Accuracy of     9 :  7 %\n",
      "Accuracy of the network on the 10000 test images: 15 %\n"
     ]
    },
    {
     "name": "stderr",
     "output_type": "stream",
     "text": [
      "\r",
      " 26%|██▌       | 29/112 [01:37<04:38,  3.35s/it]"
     ]
    },
    {
     "name": "stdout",
     "output_type": "stream",
     "text": [
      "IMAGE SIZE : 29\n",
      "Accuracy of     0 :  2 %\n",
      "Accuracy of     1 : 78 %\n",
      "Accuracy of     2 :  2 %\n",
      "Accuracy of     3 : 20 %\n",
      "Accuracy of     4 : 16 %\n",
      "Accuracy of     5 : 13 %\n",
      "Accuracy of     6 :  8 %\n",
      "Accuracy of     7 :  0 %\n",
      "Accuracy of     8 :  8 %\n",
      "Accuracy of     9 :  6 %\n",
      "Accuracy of the network on the 10000 test images: 15 %\n"
     ]
    },
    {
     "name": "stderr",
     "output_type": "stream",
     "text": [
      "\r",
      " 27%|██▋       | 30/112 [01:40<04:34,  3.35s/it]"
     ]
    },
    {
     "name": "stdout",
     "output_type": "stream",
     "text": [
      "IMAGE SIZE : 30\n",
      "Accuracy of     0 :  1 %\n",
      "Accuracy of     1 : 78 %\n",
      "Accuracy of     2 :  2 %\n",
      "Accuracy of     3 : 24 %\n",
      "Accuracy of     4 : 16 %\n",
      "Accuracy of     5 : 15 %\n",
      "Accuracy of     6 : 12 %\n",
      "Accuracy of     7 :  1 %\n",
      "Accuracy of     8 : 13 %\n",
      "Accuracy of     9 :  9 %\n",
      "Accuracy of the network on the 10000 test images: 17 %\n"
     ]
    },
    {
     "name": "stderr",
     "output_type": "stream",
     "text": [
      "\r",
      " 28%|██▊       | 31/112 [01:43<04:31,  3.36s/it]"
     ]
    },
    {
     "name": "stdout",
     "output_type": "stream",
     "text": [
      "IMAGE SIZE : 31\n",
      "Accuracy of     0 :  3 %\n",
      "Accuracy of     1 : 78 %\n",
      "Accuracy of     2 :  2 %\n",
      "Accuracy of     3 : 22 %\n",
      "Accuracy of     4 : 14 %\n",
      "Accuracy of     5 : 19 %\n",
      "Accuracy of     6 :  9 %\n",
      "Accuracy of     7 :  0 %\n",
      "Accuracy of     8 :  6 %\n",
      "Accuracy of     9 : 12 %\n",
      "Accuracy of the network on the 10000 test images: 16 %\n"
     ]
    },
    {
     "name": "stderr",
     "output_type": "stream",
     "text": [
      "\r",
      " 29%|██▊       | 32/112 [01:47<04:28,  3.36s/it]"
     ]
    },
    {
     "name": "stdout",
     "output_type": "stream",
     "text": [
      "IMAGE SIZE : 32\n",
      "Accuracy of     0 :  5 %\n",
      "Accuracy of     1 : 79 %\n",
      "Accuracy of     2 :  1 %\n",
      "Accuracy of     3 : 20 %\n",
      "Accuracy of     4 : 18 %\n",
      "Accuracy of     5 : 24 %\n",
      "Accuracy of     6 : 13 %\n",
      "Accuracy of     7 :  1 %\n",
      "Accuracy of     8 : 14 %\n",
      "Accuracy of     9 : 14 %\n",
      "Accuracy of the network on the 10000 test images: 18 %\n"
     ]
    },
    {
     "name": "stderr",
     "output_type": "stream",
     "text": [
      "\r",
      " 29%|██▉       | 33/112 [01:50<04:24,  3.35s/it]"
     ]
    },
    {
     "name": "stdout",
     "output_type": "stream",
     "text": [
      "IMAGE SIZE : 33\n",
      "Accuracy of     0 :  6 %\n",
      "Accuracy of     1 : 77 %\n",
      "Accuracy of     2 :  1 %\n",
      "Accuracy of     3 : 22 %\n",
      "Accuracy of     4 : 20 %\n",
      "Accuracy of     5 : 25 %\n",
      "Accuracy of     6 : 13 %\n",
      "Accuracy of     7 :  1 %\n",
      "Accuracy of     8 :  8 %\n",
      "Accuracy of     9 : 16 %\n",
      "Accuracy of the network on the 10000 test images: 18 %\n"
     ]
    },
    {
     "name": "stderr",
     "output_type": "stream",
     "text": [
      "\r",
      " 30%|███       | 34/112 [01:54<04:21,  3.35s/it]"
     ]
    },
    {
     "name": "stdout",
     "output_type": "stream",
     "text": [
      "IMAGE SIZE : 34\n",
      "Accuracy of     0 : 10 %\n",
      "Accuracy of     1 : 80 %\n",
      "Accuracy of     2 :  1 %\n",
      "Accuracy of     3 : 22 %\n",
      "Accuracy of     4 : 19 %\n",
      "Accuracy of     5 : 33 %\n",
      "Accuracy of     6 : 15 %\n",
      "Accuracy of     7 :  1 %\n",
      "Accuracy of     8 : 10 %\n",
      "Accuracy of     9 : 18 %\n",
      "Accuracy of the network on the 10000 test images: 20 %\n"
     ]
    },
    {
     "name": "stderr",
     "output_type": "stream",
     "text": [
      "\r",
      " 31%|███▏      | 35/112 [01:57<04:18,  3.35s/it]"
     ]
    },
    {
     "name": "stdout",
     "output_type": "stream",
     "text": [
      "IMAGE SIZE : 35\n",
      "Accuracy of     0 :  8 %\n",
      "Accuracy of     1 : 74 %\n",
      "Accuracy of     2 :  1 %\n",
      "Accuracy of     3 : 19 %\n",
      "Accuracy of     4 : 21 %\n",
      "Accuracy of     5 : 34 %\n",
      "Accuracy of     6 : 15 %\n",
      "Accuracy of     7 :  1 %\n",
      "Accuracy of     8 :  7 %\n",
      "Accuracy of     9 : 22 %\n",
      "Accuracy of the network on the 10000 test images: 20 %\n"
     ]
    },
    {
     "name": "stderr",
     "output_type": "stream",
     "text": [
      "\r",
      " 32%|███▏      | 36/112 [02:00<04:14,  3.35s/it]"
     ]
    },
    {
     "name": "stdout",
     "output_type": "stream",
     "text": [
      "IMAGE SIZE : 36\n",
      "Accuracy of     0 : 21 %\n",
      "Accuracy of     1 : 76 %\n",
      "Accuracy of     2 :  2 %\n",
      "Accuracy of     3 : 22 %\n",
      "Accuracy of     4 : 25 %\n",
      "Accuracy of     5 : 36 %\n",
      "Accuracy of     6 : 15 %\n",
      "Accuracy of     7 :  1 %\n",
      "Accuracy of     8 :  7 %\n",
      "Accuracy of     9 : 20 %\n",
      "Accuracy of the network on the 10000 test images: 22 %\n"
     ]
    },
    {
     "name": "stderr",
     "output_type": "stream",
     "text": [
      "\r",
      " 33%|███▎      | 37/112 [02:04<04:11,  3.35s/it]"
     ]
    },
    {
     "name": "stdout",
     "output_type": "stream",
     "text": [
      "IMAGE SIZE : 37\n",
      "Accuracy of     0 : 20 %\n",
      "Accuracy of     1 : 75 %\n",
      "Accuracy of     2 :  2 %\n",
      "Accuracy of     3 : 20 %\n",
      "Accuracy of     4 : 23 %\n",
      "Accuracy of     5 : 41 %\n",
      "Accuracy of     6 : 18 %\n",
      "Accuracy of     7 :  1 %\n",
      "Accuracy of     8 :  9 %\n",
      "Accuracy of     9 : 25 %\n",
      "Accuracy of the network on the 10000 test images: 23 %\n"
     ]
    },
    {
     "name": "stderr",
     "output_type": "stream",
     "text": [
      "\r",
      " 34%|███▍      | 38/112 [02:07<04:08,  3.35s/it]"
     ]
    },
    {
     "name": "stdout",
     "output_type": "stream",
     "text": [
      "IMAGE SIZE : 38\n",
      "Accuracy of     0 : 29 %\n",
      "Accuracy of     1 : 76 %\n",
      "Accuracy of     2 :  3 %\n",
      "Accuracy of     3 : 21 %\n",
      "Accuracy of     4 : 28 %\n",
      "Accuracy of     5 : 41 %\n",
      "Accuracy of     6 : 18 %\n",
      "Accuracy of     7 :  1 %\n",
      "Accuracy of     8 : 10 %\n",
      "Accuracy of     9 : 25 %\n",
      "Accuracy of the network on the 10000 test images: 25 %\n"
     ]
    },
    {
     "name": "stderr",
     "output_type": "stream",
     "text": [
      "\r",
      " 35%|███▍      | 39/112 [02:10<04:04,  3.35s/it]"
     ]
    },
    {
     "name": "stdout",
     "output_type": "stream",
     "text": [
      "IMAGE SIZE : 39\n",
      "Accuracy of     0 : 30 %\n",
      "Accuracy of     1 : 79 %\n",
      "Accuracy of     2 :  5 %\n",
      "Accuracy of     3 : 21 %\n",
      "Accuracy of     4 : 28 %\n",
      "Accuracy of     5 : 43 %\n",
      "Accuracy of     6 : 18 %\n",
      "Accuracy of     7 :  1 %\n",
      "Accuracy of     8 : 11 %\n",
      "Accuracy of     9 : 30 %\n",
      "Accuracy of the network on the 10000 test images: 26 %\n"
     ]
    },
    {
     "name": "stderr",
     "output_type": "stream",
     "text": [
      "\r",
      " 36%|███▌      | 40/112 [02:14<04:01,  3.36s/it]"
     ]
    },
    {
     "name": "stdout",
     "output_type": "stream",
     "text": [
      "IMAGE SIZE : 40\n",
      "Accuracy of     0 : 37 %\n",
      "Accuracy of     1 : 79 %\n",
      "Accuracy of     2 :  8 %\n",
      "Accuracy of     3 : 24 %\n",
      "Accuracy of     4 : 30 %\n",
      "Accuracy of     5 : 46 %\n",
      "Accuracy of     6 : 21 %\n",
      "Accuracy of     7 :  1 %\n",
      "Accuracy of     8 : 18 %\n",
      "Accuracy of     9 : 32 %\n",
      "Accuracy of the network on the 10000 test images: 29 %\n"
     ]
    },
    {
     "name": "stderr",
     "output_type": "stream",
     "text": [
      "\r",
      " 37%|███▋      | 41/112 [02:17<03:58,  3.36s/it]"
     ]
    },
    {
     "name": "stdout",
     "output_type": "stream",
     "text": [
      "IMAGE SIZE : 41\n",
      "Accuracy of     0 : 36 %\n",
      "Accuracy of     1 : 79 %\n",
      "Accuracy of     2 :  7 %\n",
      "Accuracy of     3 : 22 %\n",
      "Accuracy of     4 : 32 %\n",
      "Accuracy of     5 : 47 %\n",
      "Accuracy of     6 : 23 %\n",
      "Accuracy of     7 :  1 %\n",
      "Accuracy of     8 : 18 %\n",
      "Accuracy of     9 : 35 %\n",
      "Accuracy of the network on the 10000 test images: 30 %\n"
     ]
    },
    {
     "name": "stderr",
     "output_type": "stream",
     "text": [
      "\r",
      " 38%|███▊      | 42/112 [02:20<03:54,  3.35s/it]"
     ]
    },
    {
     "name": "stdout",
     "output_type": "stream",
     "text": [
      "IMAGE SIZE : 42\n",
      "Accuracy of     0 : 44 %\n",
      "Accuracy of     1 : 78 %\n",
      "Accuracy of     2 : 10 %\n",
      "Accuracy of     3 : 27 %\n",
      "Accuracy of     4 : 33 %\n",
      "Accuracy of     5 : 50 %\n",
      "Accuracy of     6 : 27 %\n",
      "Accuracy of     7 :  1 %\n",
      "Accuracy of     8 : 20 %\n",
      "Accuracy of     9 : 37 %\n",
      "Accuracy of the network on the 10000 test images: 32 %\n"
     ]
    },
    {
     "name": "stderr",
     "output_type": "stream",
     "text": [
      "\r",
      " 38%|███▊      | 43/112 [02:24<03:51,  3.36s/it]"
     ]
    },
    {
     "name": "stdout",
     "output_type": "stream",
     "text": [
      "IMAGE SIZE : 43\n",
      "Accuracy of     0 : 43 %\n",
      "Accuracy of     1 : 79 %\n",
      "Accuracy of     2 : 11 %\n",
      "Accuracy of     3 : 27 %\n",
      "Accuracy of     4 : 32 %\n",
      "Accuracy of     5 : 52 %\n",
      "Accuracy of     6 : 25 %\n",
      "Accuracy of     7 :  1 %\n",
      "Accuracy of     8 : 22 %\n",
      "Accuracy of     9 : 38 %\n",
      "Accuracy of the network on the 10000 test images: 33 %\n"
     ]
    },
    {
     "name": "stderr",
     "output_type": "stream",
     "text": [
      "\r",
      " 39%|███▉      | 44/112 [02:27<03:47,  3.35s/it]"
     ]
    },
    {
     "name": "stdout",
     "output_type": "stream",
     "text": [
      "IMAGE SIZE : 44\n",
      "Accuracy of     0 : 54 %\n",
      "Accuracy of     1 : 76 %\n",
      "Accuracy of     2 : 14 %\n",
      "Accuracy of     3 : 27 %\n",
      "Accuracy of     4 : 33 %\n",
      "Accuracy of     5 : 50 %\n",
      "Accuracy of     6 : 30 %\n",
      "Accuracy of     7 :  2 %\n",
      "Accuracy of     8 : 24 %\n",
      "Accuracy of     9 : 43 %\n",
      "Accuracy of the network on the 10000 test images: 35 %\n"
     ]
    },
    {
     "name": "stderr",
     "output_type": "stream",
     "text": [
      "\r",
      " 40%|████      | 45/112 [02:30<03:44,  3.35s/it]"
     ]
    },
    {
     "name": "stdout",
     "output_type": "stream",
     "text": [
      "IMAGE SIZE : 45\n",
      "Accuracy of     0 : 54 %\n",
      "Accuracy of     1 : 78 %\n",
      "Accuracy of     2 : 12 %\n",
      "Accuracy of     3 : 29 %\n",
      "Accuracy of     4 : 34 %\n",
      "Accuracy of     5 : 55 %\n",
      "Accuracy of     6 : 31 %\n",
      "Accuracy of     7 :  1 %\n",
      "Accuracy of     8 : 22 %\n",
      "Accuracy of     9 : 46 %\n",
      "Accuracy of the network on the 10000 test images: 36 %\n"
     ]
    },
    {
     "name": "stderr",
     "output_type": "stream",
     "text": [
      "\r",
      " 41%|████      | 46/112 [02:34<03:41,  3.36s/it]"
     ]
    },
    {
     "name": "stdout",
     "output_type": "stream",
     "text": [
      "IMAGE SIZE : 46\n",
      "Accuracy of     0 : 59 %\n",
      "Accuracy of     1 : 77 %\n",
      "Accuracy of     2 : 13 %\n",
      "Accuracy of     3 : 29 %\n",
      "Accuracy of     4 : 37 %\n",
      "Accuracy of     5 : 53 %\n",
      "Accuracy of     6 : 33 %\n",
      "Accuracy of     7 :  3 %\n",
      "Accuracy of     8 : 24 %\n",
      "Accuracy of     9 : 51 %\n",
      "Accuracy of the network on the 10000 test images: 37 %\n"
     ]
    },
    {
     "name": "stderr",
     "output_type": "stream",
     "text": [
      "\r",
      " 42%|████▏     | 47/112 [02:37<03:38,  3.36s/it]"
     ]
    },
    {
     "name": "stdout",
     "output_type": "stream",
     "text": [
      "IMAGE SIZE : 47\n",
      "Accuracy of     0 : 58 %\n",
      "Accuracy of     1 : 77 %\n",
      "Accuracy of     2 : 17 %\n",
      "Accuracy of     3 : 29 %\n",
      "Accuracy of     4 : 39 %\n",
      "Accuracy of     5 : 56 %\n",
      "Accuracy of     6 : 30 %\n",
      "Accuracy of     7 :  5 %\n",
      "Accuracy of     8 : 25 %\n",
      "Accuracy of     9 : 56 %\n",
      "Accuracy of the network on the 10000 test images: 39 %\n"
     ]
    },
    {
     "name": "stderr",
     "output_type": "stream",
     "text": [
      "\r",
      " 43%|████▎     | 48/112 [02:41<03:34,  3.36s/it]"
     ]
    },
    {
     "name": "stdout",
     "output_type": "stream",
     "text": [
      "IMAGE SIZE : 48\n",
      "Accuracy of     0 : 63 %\n",
      "Accuracy of     1 : 76 %\n",
      "Accuracy of     2 : 16 %\n",
      "Accuracy of     3 : 35 %\n",
      "Accuracy of     4 : 40 %\n",
      "Accuracy of     5 : 57 %\n",
      "Accuracy of     6 : 36 %\n",
      "Accuracy of     7 :  5 %\n",
      "Accuracy of     8 : 25 %\n",
      "Accuracy of     9 : 52 %\n",
      "Accuracy of the network on the 10000 test images: 40 %\n"
     ]
    },
    {
     "name": "stderr",
     "output_type": "stream",
     "text": [
      "\r",
      " 44%|████▍     | 49/112 [02:44<03:31,  3.36s/it]"
     ]
    },
    {
     "name": "stdout",
     "output_type": "stream",
     "text": [
      "IMAGE SIZE : 49\n",
      "Accuracy of     0 : 62 %\n",
      "Accuracy of     1 : 76 %\n",
      "Accuracy of     2 : 19 %\n",
      "Accuracy of     3 : 33 %\n",
      "Accuracy of     4 : 42 %\n",
      "Accuracy of     5 : 60 %\n",
      "Accuracy of     6 : 31 %\n",
      "Accuracy of     7 :  9 %\n",
      "Accuracy of     8 : 27 %\n",
      "Accuracy of     9 : 58 %\n",
      "Accuracy of the network on the 10000 test images: 41 %\n"
     ]
    },
    {
     "name": "stderr",
     "output_type": "stream",
     "text": [
      "\r",
      " 45%|████▍     | 50/112 [02:47<03:27,  3.35s/it]"
     ]
    },
    {
     "name": "stdout",
     "output_type": "stream",
     "text": [
      "IMAGE SIZE : 50\n",
      "Accuracy of     0 : 69 %\n",
      "Accuracy of     1 : 74 %\n",
      "Accuracy of     2 : 20 %\n",
      "Accuracy of     3 : 35 %\n",
      "Accuracy of     4 : 42 %\n",
      "Accuracy of     5 : 62 %\n",
      "Accuracy of     6 : 39 %\n",
      "Accuracy of     7 :  9 %\n",
      "Accuracy of     8 : 29 %\n",
      "Accuracy of     9 : 58 %\n",
      "Accuracy of the network on the 10000 test images: 43 %\n"
     ]
    },
    {
     "name": "stderr",
     "output_type": "stream",
     "text": [
      "\r",
      " 46%|████▌     | 51/112 [02:51<03:24,  3.36s/it]"
     ]
    },
    {
     "name": "stdout",
     "output_type": "stream",
     "text": [
      "IMAGE SIZE : 51\n",
      "Accuracy of     0 : 69 %\n",
      "Accuracy of     1 : 74 %\n",
      "Accuracy of     2 : 20 %\n",
      "Accuracy of     3 : 35 %\n",
      "Accuracy of     4 : 42 %\n",
      "Accuracy of     5 : 67 %\n",
      "Accuracy of     6 : 36 %\n",
      "Accuracy of     7 :  9 %\n",
      "Accuracy of     8 : 33 %\n",
      "Accuracy of     9 : 60 %\n",
      "Accuracy of the network on the 10000 test images: 44 %\n"
     ]
    },
    {
     "name": "stderr",
     "output_type": "stream",
     "text": [
      "\r",
      " 46%|████▋     | 52/112 [02:54<03:21,  3.35s/it]"
     ]
    },
    {
     "name": "stdout",
     "output_type": "stream",
     "text": [
      "IMAGE SIZE : 52\n",
      "Accuracy of     0 : 74 %\n",
      "Accuracy of     1 : 74 %\n",
      "Accuracy of     2 : 25 %\n",
      "Accuracy of     3 : 37 %\n",
      "Accuracy of     4 : 44 %\n",
      "Accuracy of     5 : 65 %\n",
      "Accuracy of     6 : 40 %\n",
      "Accuracy of     7 : 13 %\n",
      "Accuracy of     8 : 34 %\n",
      "Accuracy of     9 : 60 %\n",
      "Accuracy of the network on the 10000 test images: 46 %\n"
     ]
    },
    {
     "name": "stderr",
     "output_type": "stream",
     "text": [
      "\r",
      " 47%|████▋     | 53/112 [02:57<03:18,  3.36s/it]"
     ]
    },
    {
     "name": "stdout",
     "output_type": "stream",
     "text": [
      "IMAGE SIZE : 53\n",
      "Accuracy of     0 : 73 %\n",
      "Accuracy of     1 : 74 %\n",
      "Accuracy of     2 : 28 %\n",
      "Accuracy of     3 : 36 %\n",
      "Accuracy of     4 : 41 %\n",
      "Accuracy of     5 : 66 %\n",
      "Accuracy of     6 : 39 %\n",
      "Accuracy of     7 : 13 %\n",
      "Accuracy of     8 : 39 %\n",
      "Accuracy of     9 : 62 %\n",
      "Accuracy of the network on the 10000 test images: 47 %\n"
     ]
    },
    {
     "name": "stderr",
     "output_type": "stream",
     "text": [
      "\r",
      " 48%|████▊     | 54/112 [03:01<03:14,  3.36s/it]"
     ]
    },
    {
     "name": "stdout",
     "output_type": "stream",
     "text": [
      "IMAGE SIZE : 54\n",
      "Accuracy of     0 : 75 %\n",
      "Accuracy of     1 : 73 %\n",
      "Accuracy of     2 : 30 %\n",
      "Accuracy of     3 : 39 %\n",
      "Accuracy of     4 : 47 %\n",
      "Accuracy of     5 : 69 %\n",
      "Accuracy of     6 : 46 %\n",
      "Accuracy of     7 : 18 %\n",
      "Accuracy of     8 : 38 %\n",
      "Accuracy of     9 : 65 %\n",
      "Accuracy of the network on the 10000 test images: 50 %\n"
     ]
    },
    {
     "name": "stderr",
     "output_type": "stream",
     "text": [
      "\r",
      " 49%|████▉     | 55/112 [03:04<03:11,  3.35s/it]"
     ]
    },
    {
     "name": "stdout",
     "output_type": "stream",
     "text": [
      "IMAGE SIZE : 55\n",
      "Accuracy of     0 : 76 %\n",
      "Accuracy of     1 : 72 %\n",
      "Accuracy of     2 : 31 %\n",
      "Accuracy of     3 : 38 %\n",
      "Accuracy of     4 : 47 %\n",
      "Accuracy of     5 : 68 %\n",
      "Accuracy of     6 : 44 %\n",
      "Accuracy of     7 : 20 %\n",
      "Accuracy of     8 : 47 %\n",
      "Accuracy of     9 : 66 %\n",
      "Accuracy of the network on the 10000 test images: 50 %\n"
     ]
    },
    {
     "name": "stderr",
     "output_type": "stream",
     "text": [
      "\r",
      " 50%|█████     | 56/112 [03:07<03:07,  3.35s/it]"
     ]
    },
    {
     "name": "stdout",
     "output_type": "stream",
     "text": [
      "IMAGE SIZE : 56\n",
      "Accuracy of     0 : 80 %\n",
      "Accuracy of     1 : 74 %\n",
      "Accuracy of     2 : 32 %\n",
      "Accuracy of     3 : 39 %\n",
      "Accuracy of     4 : 49 %\n",
      "Accuracy of     5 : 70 %\n",
      "Accuracy of     6 : 49 %\n",
      "Accuracy of     7 : 22 %\n",
      "Accuracy of     8 : 48 %\n",
      "Accuracy of     9 : 66 %\n",
      "Accuracy of the network on the 10000 test images: 52 %\n"
     ]
    },
    {
     "name": "stderr",
     "output_type": "stream",
     "text": [
      "\r",
      " 51%|█████     | 57/112 [03:11<03:04,  3.35s/it]"
     ]
    },
    {
     "name": "stdout",
     "output_type": "stream",
     "text": [
      "IMAGE SIZE : 57\n",
      "Accuracy of     0 : 78 %\n",
      "Accuracy of     1 : 72 %\n",
      "Accuracy of     2 : 36 %\n",
      "Accuracy of     3 : 38 %\n",
      "Accuracy of     4 : 49 %\n",
      "Accuracy of     5 : 70 %\n",
      "Accuracy of     6 : 45 %\n",
      "Accuracy of     7 : 29 %\n",
      "Accuracy of     8 : 50 %\n",
      "Accuracy of     9 : 69 %\n",
      "Accuracy of the network on the 10000 test images: 53 %\n"
     ]
    },
    {
     "name": "stderr",
     "output_type": "stream",
     "text": [
      "\r",
      " 52%|█████▏    | 58/112 [03:14<03:00,  3.35s/it]"
     ]
    },
    {
     "name": "stdout",
     "output_type": "stream",
     "text": [
      "IMAGE SIZE : 58\n",
      "Accuracy of     0 : 83 %\n",
      "Accuracy of     1 : 72 %\n",
      "Accuracy of     2 : 34 %\n",
      "Accuracy of     3 : 39 %\n",
      "Accuracy of     4 : 54 %\n",
      "Accuracy of     5 : 72 %\n",
      "Accuracy of     6 : 56 %\n",
      "Accuracy of     7 : 28 %\n",
      "Accuracy of     8 : 50 %\n",
      "Accuracy of     9 : 71 %\n",
      "Accuracy of the network on the 10000 test images: 55 %\n"
     ]
    },
    {
     "name": "stderr",
     "output_type": "stream",
     "text": [
      "\r",
      " 53%|█████▎    | 59/112 [03:17<02:57,  3.35s/it]"
     ]
    },
    {
     "name": "stdout",
     "output_type": "stream",
     "text": [
      "IMAGE SIZE : 59\n",
      "Accuracy of     0 : 83 %\n",
      "Accuracy of     1 : 72 %\n",
      "Accuracy of     2 : 37 %\n",
      "Accuracy of     3 : 40 %\n",
      "Accuracy of     4 : 55 %\n",
      "Accuracy of     5 : 74 %\n",
      "Accuracy of     6 : 51 %\n",
      "Accuracy of     7 : 35 %\n",
      "Accuracy of     8 : 50 %\n",
      "Accuracy of     9 : 72 %\n",
      "Accuracy of the network on the 10000 test images: 56 %\n"
     ]
    },
    {
     "name": "stderr",
     "output_type": "stream",
     "text": [
      "\r",
      " 54%|█████▎    | 60/112 [03:21<02:54,  3.35s/it]"
     ]
    },
    {
     "name": "stdout",
     "output_type": "stream",
     "text": [
      "IMAGE SIZE : 60\n",
      "Accuracy of     0 : 91 %\n",
      "Accuracy of     1 : 71 %\n",
      "Accuracy of     2 : 42 %\n",
      "Accuracy of     3 : 42 %\n",
      "Accuracy of     4 : 57 %\n",
      "Accuracy of     5 : 74 %\n",
      "Accuracy of     6 : 58 %\n",
      "Accuracy of     7 : 34 %\n",
      "Accuracy of     8 : 52 %\n",
      "Accuracy of     9 : 74 %\n",
      "Accuracy of the network on the 10000 test images: 59 %\n"
     ]
    },
    {
     "name": "stderr",
     "output_type": "stream",
     "text": [
      "\r",
      " 54%|█████▍    | 61/112 [03:24<02:50,  3.35s/it]"
     ]
    },
    {
     "name": "stdout",
     "output_type": "stream",
     "text": [
      "IMAGE SIZE : 61\n",
      "Accuracy of     0 : 88 %\n",
      "Accuracy of     1 : 71 %\n",
      "Accuracy of     2 : 41 %\n",
      "Accuracy of     3 : 43 %\n",
      "Accuracy of     4 : 55 %\n",
      "Accuracy of     5 : 77 %\n",
      "Accuracy of     6 : 55 %\n",
      "Accuracy of     7 : 43 %\n",
      "Accuracy of     8 : 54 %\n",
      "Accuracy of     9 : 76 %\n",
      "Accuracy of the network on the 10000 test images: 60 %\n"
     ]
    },
    {
     "name": "stderr",
     "output_type": "stream",
     "text": [
      "\r",
      " 55%|█████▌    | 62/112 [03:27<02:47,  3.35s/it]"
     ]
    },
    {
     "name": "stdout",
     "output_type": "stream",
     "text": [
      "IMAGE SIZE : 62\n",
      "Accuracy of     0 : 93 %\n",
      "Accuracy of     1 : 71 %\n",
      "Accuracy of     2 : 44 %\n",
      "Accuracy of     3 : 45 %\n",
      "Accuracy of     4 : 60 %\n",
      "Accuracy of     5 : 76 %\n",
      "Accuracy of     6 : 62 %\n",
      "Accuracy of     7 : 42 %\n",
      "Accuracy of     8 : 59 %\n",
      "Accuracy of     9 : 78 %\n",
      "Accuracy of the network on the 10000 test images: 63 %\n"
     ]
    },
    {
     "name": "stderr",
     "output_type": "stream",
     "text": [
      "\r",
      " 56%|█████▋    | 63/112 [03:31<02:44,  3.35s/it]"
     ]
    },
    {
     "name": "stdout",
     "output_type": "stream",
     "text": [
      "IMAGE SIZE : 63\n",
      "Accuracy of     0 : 92 %\n",
      "Accuracy of     1 : 68 %\n",
      "Accuracy of     2 : 44 %\n",
      "Accuracy of     3 : 46 %\n",
      "Accuracy of     4 : 62 %\n",
      "Accuracy of     5 : 79 %\n",
      "Accuracy of     6 : 62 %\n",
      "Accuracy of     7 : 48 %\n",
      "Accuracy of     8 : 58 %\n",
      "Accuracy of     9 : 76 %\n",
      "Accuracy of the network on the 10000 test images: 63 %\n"
     ]
    },
    {
     "name": "stderr",
     "output_type": "stream",
     "text": [
      "\r",
      " 57%|█████▋    | 64/112 [03:34<02:41,  3.35s/it]"
     ]
    },
    {
     "name": "stdout",
     "output_type": "stream",
     "text": [
      "IMAGE SIZE : 64\n",
      "Accuracy of     0 : 92 %\n",
      "Accuracy of     1 : 66 %\n",
      "Accuracy of     2 : 49 %\n",
      "Accuracy of     3 : 49 %\n",
      "Accuracy of     4 : 64 %\n",
      "Accuracy of     5 : 78 %\n",
      "Accuracy of     6 : 71 %\n",
      "Accuracy of     7 : 50 %\n",
      "Accuracy of     8 : 61 %\n",
      "Accuracy of     9 : 78 %\n",
      "Accuracy of the network on the 10000 test images: 65 %\n"
     ]
    },
    {
     "name": "stderr",
     "output_type": "stream",
     "text": [
      "\r",
      " 58%|█████▊    | 65/112 [03:38<02:37,  3.36s/it]"
     ]
    },
    {
     "name": "stdout",
     "output_type": "stream",
     "text": [
      "IMAGE SIZE : 65\n",
      "Accuracy of     0 : 92 %\n",
      "Accuracy of     1 : 68 %\n",
      "Accuracy of     2 : 51 %\n",
      "Accuracy of     3 : 51 %\n",
      "Accuracy of     4 : 63 %\n",
      "Accuracy of     5 : 85 %\n",
      "Accuracy of     6 : 67 %\n",
      "Accuracy of     7 : 52 %\n",
      "Accuracy of     8 : 62 %\n",
      "Accuracy of     9 : 77 %\n",
      "Accuracy of the network on the 10000 test images: 66 %\n"
     ]
    },
    {
     "name": "stderr",
     "output_type": "stream",
     "text": [
      "\r",
      " 59%|█████▉    | 66/112 [03:41<02:34,  3.36s/it]"
     ]
    },
    {
     "name": "stdout",
     "output_type": "stream",
     "text": [
      "IMAGE SIZE : 66\n",
      "Accuracy of     0 : 93 %\n",
      "Accuracy of     1 : 66 %\n",
      "Accuracy of     2 : 55 %\n",
      "Accuracy of     3 : 54 %\n",
      "Accuracy of     4 : 67 %\n",
      "Accuracy of     5 : 85 %\n",
      "Accuracy of     6 : 73 %\n",
      "Accuracy of     7 : 57 %\n",
      "Accuracy of     8 : 65 %\n",
      "Accuracy of     9 : 79 %\n",
      "Accuracy of the network on the 10000 test images: 69 %\n"
     ]
    },
    {
     "name": "stderr",
     "output_type": "stream",
     "text": [
      "\r",
      " 60%|█████▉    | 67/112 [03:44<02:30,  3.35s/it]"
     ]
    },
    {
     "name": "stdout",
     "output_type": "stream",
     "text": [
      "IMAGE SIZE : 67\n",
      "Accuracy of     0 : 92 %\n",
      "Accuracy of     1 : 66 %\n",
      "Accuracy of     2 : 57 %\n",
      "Accuracy of     3 : 52 %\n",
      "Accuracy of     4 : 63 %\n",
      "Accuracy of     5 : 84 %\n",
      "Accuracy of     6 : 74 %\n",
      "Accuracy of     7 : 58 %\n",
      "Accuracy of     8 : 67 %\n",
      "Accuracy of     9 : 80 %\n",
      "Accuracy of the network on the 10000 test images: 69 %\n"
     ]
    },
    {
     "name": "stderr",
     "output_type": "stream",
     "text": [
      "\r",
      " 61%|██████    | 68/112 [03:48<02:27,  3.35s/it]"
     ]
    },
    {
     "name": "stdout",
     "output_type": "stream",
     "text": [
      "IMAGE SIZE : 68\n",
      "Accuracy of     0 : 94 %\n",
      "Accuracy of     1 : 65 %\n",
      "Accuracy of     2 : 59 %\n",
      "Accuracy of     3 : 56 %\n",
      "Accuracy of     4 : 68 %\n",
      "Accuracy of     5 : 85 %\n",
      "Accuracy of     6 : 78 %\n",
      "Accuracy of     7 : 60 %\n",
      "Accuracy of     8 : 67 %\n",
      "Accuracy of     9 : 81 %\n",
      "Accuracy of the network on the 10000 test images: 71 %\n"
     ]
    },
    {
     "name": "stderr",
     "output_type": "stream",
     "text": [
      "\r",
      " 62%|██████▏   | 69/112 [03:51<02:24,  3.35s/it]"
     ]
    },
    {
     "name": "stdout",
     "output_type": "stream",
     "text": [
      "IMAGE SIZE : 69\n",
      "Accuracy of     0 : 93 %\n",
      "Accuracy of     1 : 66 %\n",
      "Accuracy of     2 : 63 %\n",
      "Accuracy of     3 : 56 %\n",
      "Accuracy of     4 : 66 %\n",
      "Accuracy of     5 : 88 %\n",
      "Accuracy of     6 : 79 %\n",
      "Accuracy of     7 : 63 %\n",
      "Accuracy of     8 : 69 %\n",
      "Accuracy of     9 : 81 %\n",
      "Accuracy of the network on the 10000 test images: 72 %\n"
     ]
    },
    {
     "name": "stderr",
     "output_type": "stream",
     "text": [
      "\r",
      " 62%|██████▎   | 70/112 [03:54<02:20,  3.35s/it]"
     ]
    },
    {
     "name": "stdout",
     "output_type": "stream",
     "text": [
      "IMAGE SIZE : 70\n",
      "Accuracy of     0 : 95 %\n",
      "Accuracy of     1 : 65 %\n",
      "Accuracy of     2 : 65 %\n",
      "Accuracy of     3 : 60 %\n",
      "Accuracy of     4 : 68 %\n",
      "Accuracy of     5 : 86 %\n",
      "Accuracy of     6 : 84 %\n",
      "Accuracy of     7 : 66 %\n",
      "Accuracy of     8 : 75 %\n",
      "Accuracy of     9 : 83 %\n",
      "Accuracy of the network on the 10000 test images: 74 %\n"
     ]
    },
    {
     "name": "stderr",
     "output_type": "stream",
     "text": [
      "\r",
      " 63%|██████▎   | 71/112 [03:58<02:17,  3.35s/it]"
     ]
    },
    {
     "name": "stdout",
     "output_type": "stream",
     "text": [
      "IMAGE SIZE : 71\n",
      "Accuracy of     0 : 94 %\n",
      "Accuracy of     1 : 65 %\n",
      "Accuracy of     2 : 67 %\n",
      "Accuracy of     3 : 55 %\n",
      "Accuracy of     4 : 67 %\n",
      "Accuracy of     5 : 86 %\n",
      "Accuracy of     6 : 83 %\n",
      "Accuracy of     7 : 66 %\n",
      "Accuracy of     8 : 73 %\n",
      "Accuracy of     9 : 83 %\n",
      "Accuracy of the network on the 10000 test images: 73 %\n"
     ]
    },
    {
     "name": "stderr",
     "output_type": "stream",
     "text": [
      "\r",
      " 64%|██████▍   | 72/112 [04:01<02:14,  3.35s/it]"
     ]
    },
    {
     "name": "stdout",
     "output_type": "stream",
     "text": [
      "IMAGE SIZE : 72\n",
      "Accuracy of     0 : 95 %\n",
      "Accuracy of     1 : 64 %\n",
      "Accuracy of     2 : 66 %\n",
      "Accuracy of     3 : 63 %\n",
      "Accuracy of     4 : 69 %\n",
      "Accuracy of     5 : 85 %\n",
      "Accuracy of     6 : 84 %\n",
      "Accuracy of     7 : 71 %\n",
      "Accuracy of     8 : 78 %\n",
      "Accuracy of     9 : 84 %\n",
      "Accuracy of the network on the 10000 test images: 75 %\n"
     ]
    },
    {
     "name": "stderr",
     "output_type": "stream",
     "text": [
      "\r",
      " 65%|██████▌   | 73/112 [04:04<02:10,  3.35s/it]"
     ]
    },
    {
     "name": "stdout",
     "output_type": "stream",
     "text": [
      "IMAGE SIZE : 73\n",
      "Accuracy of     0 : 94 %\n",
      "Accuracy of     1 : 65 %\n",
      "Accuracy of     2 : 72 %\n",
      "Accuracy of     3 : 60 %\n",
      "Accuracy of     4 : 68 %\n",
      "Accuracy of     5 : 87 %\n",
      "Accuracy of     6 : 84 %\n",
      "Accuracy of     7 : 68 %\n",
      "Accuracy of     8 : 76 %\n",
      "Accuracy of     9 : 85 %\n",
      "Accuracy of the network on the 10000 test images: 75 %\n"
     ]
    },
    {
     "name": "stderr",
     "output_type": "stream",
     "text": [
      "\r",
      " 66%|██████▌   | 74/112 [04:08<02:07,  3.35s/it]"
     ]
    },
    {
     "name": "stdout",
     "output_type": "stream",
     "text": [
      "IMAGE SIZE : 74\n",
      "Accuracy of     0 : 96 %\n",
      "Accuracy of     1 : 65 %\n",
      "Accuracy of     2 : 73 %\n",
      "Accuracy of     3 : 62 %\n",
      "Accuracy of     4 : 70 %\n",
      "Accuracy of     5 : 87 %\n",
      "Accuracy of     6 : 89 %\n",
      "Accuracy of     7 : 75 %\n",
      "Accuracy of     8 : 78 %\n",
      "Accuracy of     9 : 86 %\n",
      "Accuracy of the network on the 10000 test images: 78 %\n"
     ]
    },
    {
     "name": "stderr",
     "output_type": "stream",
     "text": [
      "\r",
      " 67%|██████▋   | 75/112 [04:11<02:04,  3.35s/it]"
     ]
    },
    {
     "name": "stdout",
     "output_type": "stream",
     "text": [
      "IMAGE SIZE : 75\n",
      "Accuracy of     0 : 96 %\n",
      "Accuracy of     1 : 66 %\n",
      "Accuracy of     2 : 75 %\n",
      "Accuracy of     3 : 61 %\n",
      "Accuracy of     4 : 71 %\n",
      "Accuracy of     5 : 89 %\n",
      "Accuracy of     6 : 87 %\n",
      "Accuracy of     7 : 73 %\n",
      "Accuracy of     8 : 78 %\n",
      "Accuracy of     9 : 86 %\n",
      "Accuracy of the network on the 10000 test images: 78 %\n"
     ]
    },
    {
     "name": "stderr",
     "output_type": "stream",
     "text": [
      "\r",
      " 68%|██████▊   | 76/112 [04:14<02:00,  3.35s/it]"
     ]
    },
    {
     "name": "stdout",
     "output_type": "stream",
     "text": [
      "IMAGE SIZE : 76\n",
      "Accuracy of     0 : 97 %\n",
      "Accuracy of     1 : 65 %\n",
      "Accuracy of     2 : 77 %\n",
      "Accuracy of     3 : 67 %\n",
      "Accuracy of     4 : 71 %\n",
      "Accuracy of     5 : 90 %\n",
      "Accuracy of     6 : 89 %\n",
      "Accuracy of     7 : 76 %\n",
      "Accuracy of     8 : 78 %\n",
      "Accuracy of     9 : 88 %\n",
      "Accuracy of the network on the 10000 test images: 79 %\n"
     ]
    },
    {
     "name": "stderr",
     "output_type": "stream",
     "text": [
      "\r",
      " 69%|██████▉   | 77/112 [04:18<01:57,  3.36s/it]"
     ]
    },
    {
     "name": "stdout",
     "output_type": "stream",
     "text": [
      "IMAGE SIZE : 77\n",
      "Accuracy of     0 : 97 %\n",
      "Accuracy of     1 : 63 %\n",
      "Accuracy of     2 : 77 %\n",
      "Accuracy of     3 : 63 %\n",
      "Accuracy of     4 : 71 %\n",
      "Accuracy of     5 : 91 %\n",
      "Accuracy of     6 : 89 %\n",
      "Accuracy of     7 : 74 %\n",
      "Accuracy of     8 : 82 %\n",
      "Accuracy of     9 : 86 %\n",
      "Accuracy of the network on the 10000 test images: 79 %\n"
     ]
    },
    {
     "name": "stderr",
     "output_type": "stream",
     "text": [
      "\r",
      " 70%|██████▉   | 78/112 [04:21<01:54,  3.36s/it]"
     ]
    },
    {
     "name": "stdout",
     "output_type": "stream",
     "text": [
      "IMAGE SIZE : 78\n",
      "Accuracy of     0 : 98 %\n",
      "Accuracy of     1 : 65 %\n",
      "Accuracy of     2 : 80 %\n",
      "Accuracy of     3 : 68 %\n",
      "Accuracy of     4 : 70 %\n",
      "Accuracy of     5 : 91 %\n",
      "Accuracy of     6 : 92 %\n",
      "Accuracy of     7 : 78 %\n",
      "Accuracy of     8 : 83 %\n",
      "Accuracy of     9 : 88 %\n",
      "Accuracy of the network on the 10000 test images: 81 %\n"
     ]
    },
    {
     "name": "stderr",
     "output_type": "stream",
     "text": [
      "\r",
      " 71%|███████   | 79/112 [04:24<01:50,  3.35s/it]"
     ]
    },
    {
     "name": "stdout",
     "output_type": "stream",
     "text": [
      "IMAGE SIZE : 79\n",
      "Accuracy of     0 : 99 %\n",
      "Accuracy of     1 : 62 %\n",
      "Accuracy of     2 : 80 %\n",
      "Accuracy of     3 : 72 %\n",
      "Accuracy of     4 : 71 %\n",
      "Accuracy of     5 : 91 %\n",
      "Accuracy of     6 : 92 %\n",
      "Accuracy of     7 : 76 %\n",
      "Accuracy of     8 : 83 %\n",
      "Accuracy of     9 : 88 %\n",
      "Accuracy of the network on the 10000 test images: 81 %\n"
     ]
    },
    {
     "name": "stderr",
     "output_type": "stream",
     "text": [
      "\r",
      " 71%|███████▏  | 80/112 [04:28<01:47,  3.35s/it]"
     ]
    },
    {
     "name": "stdout",
     "output_type": "stream",
     "text": [
      "IMAGE SIZE : 80\n",
      "Accuracy of     0 : 99 %\n",
      "Accuracy of     1 : 65 %\n",
      "Accuracy of     2 : 81 %\n",
      "Accuracy of     3 : 72 %\n",
      "Accuracy of     4 : 72 %\n",
      "Accuracy of     5 : 93 %\n",
      "Accuracy of     6 : 93 %\n",
      "Accuracy of     7 : 79 %\n",
      "Accuracy of     8 : 85 %\n",
      "Accuracy of     9 : 89 %\n",
      "Accuracy of the network on the 10000 test images: 82 %\n"
     ]
    },
    {
     "name": "stderr",
     "output_type": "stream",
     "text": [
      "\r",
      " 72%|███████▏  | 81/112 [04:31<01:43,  3.34s/it]"
     ]
    },
    {
     "name": "stdout",
     "output_type": "stream",
     "text": [
      "IMAGE SIZE : 81\n",
      "Accuracy of     0 : 98 %\n",
      "Accuracy of     1 : 63 %\n",
      "Accuracy of     2 : 82 %\n",
      "Accuracy of     3 : 76 %\n",
      "Accuracy of     4 : 72 %\n",
      "Accuracy of     5 : 93 %\n",
      "Accuracy of     6 : 92 %\n",
      "Accuracy of     7 : 80 %\n",
      "Accuracy of     8 : 85 %\n",
      "Accuracy of     9 : 88 %\n",
      "Accuracy of the network on the 10000 test images: 82 %\n"
     ]
    },
    {
     "name": "stderr",
     "output_type": "stream",
     "text": [
      "\r",
      " 73%|███████▎  | 82/112 [04:34<01:40,  3.35s/it]"
     ]
    },
    {
     "name": "stdout",
     "output_type": "stream",
     "text": [
      "IMAGE SIZE : 82\n",
      "Accuracy of     0 : 98 %\n",
      "Accuracy of     1 : 61 %\n",
      "Accuracy of     2 : 86 %\n",
      "Accuracy of     3 : 77 %\n",
      "Accuracy of     4 : 74 %\n",
      "Accuracy of     5 : 94 %\n",
      "Accuracy of     6 : 93 %\n",
      "Accuracy of     7 : 81 %\n",
      "Accuracy of     8 : 87 %\n",
      "Accuracy of     9 : 89 %\n",
      "Accuracy of the network on the 10000 test images: 84 %\n"
     ]
    },
    {
     "name": "stderr",
     "output_type": "stream",
     "text": [
      "\r",
      " 74%|███████▍  | 83/112 [04:38<01:37,  3.35s/it]"
     ]
    },
    {
     "name": "stdout",
     "output_type": "stream",
     "text": [
      "IMAGE SIZE : 83\n",
      "Accuracy of     0 : 98 %\n",
      "Accuracy of     1 : 61 %\n",
      "Accuracy of     2 : 87 %\n",
      "Accuracy of     3 : 77 %\n",
      "Accuracy of     4 : 73 %\n",
      "Accuracy of     5 : 93 %\n",
      "Accuracy of     6 : 92 %\n",
      "Accuracy of     7 : 80 %\n",
      "Accuracy of     8 : 87 %\n",
      "Accuracy of     9 : 89 %\n",
      "Accuracy of the network on the 10000 test images: 83 %\n"
     ]
    },
    {
     "name": "stderr",
     "output_type": "stream",
     "text": [
      "\r",
      " 75%|███████▌  | 84/112 [04:41<01:33,  3.34s/it]"
     ]
    },
    {
     "name": "stdout",
     "output_type": "stream",
     "text": [
      "IMAGE SIZE : 84\n",
      "Accuracy of     0 : 98 %\n",
      "Accuracy of     1 : 59 %\n",
      "Accuracy of     2 : 87 %\n",
      "Accuracy of     3 : 80 %\n",
      "Accuracy of     4 : 75 %\n",
      "Accuracy of     5 : 93 %\n",
      "Accuracy of     6 : 94 %\n",
      "Accuracy of     7 : 80 %\n",
      "Accuracy of     8 : 88 %\n",
      "Accuracy of     9 : 88 %\n",
      "Accuracy of the network on the 10000 test images: 84 %\n"
     ]
    },
    {
     "name": "stderr",
     "output_type": "stream",
     "text": [
      "\r",
      " 76%|███████▌  | 85/112 [04:45<01:30,  3.35s/it]"
     ]
    },
    {
     "name": "stdout",
     "output_type": "stream",
     "text": [
      "IMAGE SIZE : 85\n",
      "Accuracy of     0 : 98 %\n",
      "Accuracy of     1 : 61 %\n",
      "Accuracy of     2 : 87 %\n",
      "Accuracy of     3 : 81 %\n",
      "Accuracy of     4 : 73 %\n",
      "Accuracy of     5 : 94 %\n",
      "Accuracy of     6 : 92 %\n",
      "Accuracy of     7 : 81 %\n",
      "Accuracy of     8 : 90 %\n",
      "Accuracy of     9 : 88 %\n",
      "Accuracy of the network on the 10000 test images: 84 %\n"
     ]
    },
    {
     "name": "stderr",
     "output_type": "stream",
     "text": [
      "\r",
      " 77%|███████▋  | 86/112 [04:48<01:27,  3.35s/it]"
     ]
    },
    {
     "name": "stdout",
     "output_type": "stream",
     "text": [
      "IMAGE SIZE : 86\n",
      "Accuracy of     0 : 99 %\n",
      "Accuracy of     1 : 60 %\n",
      "Accuracy of     2 : 88 %\n",
      "Accuracy of     3 : 80 %\n",
      "Accuracy of     4 : 74 %\n",
      "Accuracy of     5 : 93 %\n",
      "Accuracy of     6 : 95 %\n",
      "Accuracy of     7 : 81 %\n",
      "Accuracy of     8 : 90 %\n",
      "Accuracy of     9 : 88 %\n",
      "Accuracy of the network on the 10000 test images: 84 %\n"
     ]
    },
    {
     "name": "stderr",
     "output_type": "stream",
     "text": [
      "\r",
      " 78%|███████▊  | 87/112 [04:51<01:23,  3.36s/it]"
     ]
    },
    {
     "name": "stdout",
     "output_type": "stream",
     "text": [
      "IMAGE SIZE : 87\n",
      "Accuracy of     0 : 99 %\n",
      "Accuracy of     1 : 61 %\n",
      "Accuracy of     2 : 89 %\n",
      "Accuracy of     3 : 81 %\n",
      "Accuracy of     4 : 74 %\n",
      "Accuracy of     5 : 94 %\n",
      "Accuracy of     6 : 94 %\n",
      "Accuracy of     7 : 82 %\n",
      "Accuracy of     8 : 90 %\n",
      "Accuracy of     9 : 88 %\n",
      "Accuracy of the network on the 10000 test images: 85 %\n"
     ]
    },
    {
     "name": "stderr",
     "output_type": "stream",
     "text": [
      "\r",
      " 79%|███████▊  | 88/112 [04:55<01:20,  3.35s/it]"
     ]
    },
    {
     "name": "stdout",
     "output_type": "stream",
     "text": [
      "IMAGE SIZE : 88\n",
      "Accuracy of     0 : 99 %\n",
      "Accuracy of     1 : 60 %\n",
      "Accuracy of     2 : 89 %\n",
      "Accuracy of     3 : 81 %\n",
      "Accuracy of     4 : 74 %\n",
      "Accuracy of     5 : 93 %\n",
      "Accuracy of     6 : 95 %\n",
      "Accuracy of     7 : 84 %\n",
      "Accuracy of     8 : 90 %\n",
      "Accuracy of     9 : 88 %\n",
      "Accuracy of the network on the 10000 test images: 85 %\n"
     ]
    },
    {
     "name": "stderr",
     "output_type": "stream",
     "text": [
      "\r",
      " 79%|███████▉  | 89/112 [04:58<01:17,  3.35s/it]"
     ]
    },
    {
     "name": "stdout",
     "output_type": "stream",
     "text": [
      "IMAGE SIZE : 89\n",
      "Accuracy of     0 : 99 %\n",
      "Accuracy of     1 : 60 %\n",
      "Accuracy of     2 : 89 %\n",
      "Accuracy of     3 : 81 %\n",
      "Accuracy of     4 : 74 %\n",
      "Accuracy of     5 : 95 %\n",
      "Accuracy of     6 : 95 %\n",
      "Accuracy of     7 : 84 %\n",
      "Accuracy of     8 : 90 %\n",
      "Accuracy of     9 : 88 %\n",
      "Accuracy of the network on the 10000 test images: 85 %\n"
     ]
    },
    {
     "name": "stderr",
     "output_type": "stream",
     "text": [
      "\r",
      " 80%|████████  | 90/112 [05:01<01:13,  3.35s/it]"
     ]
    },
    {
     "name": "stdout",
     "output_type": "stream",
     "text": [
      "IMAGE SIZE : 90\n",
      "Accuracy of     0 : 99 %\n",
      "Accuracy of     1 : 61 %\n",
      "Accuracy of     2 : 90 %\n",
      "Accuracy of     3 : 83 %\n",
      "Accuracy of     4 : 75 %\n",
      "Accuracy of     5 : 95 %\n",
      "Accuracy of     6 : 96 %\n",
      "Accuracy of     7 : 84 %\n",
      "Accuracy of     8 : 90 %\n",
      "Accuracy of     9 : 89 %\n",
      "Accuracy of the network on the 10000 test images: 86 %\n"
     ]
    },
    {
     "name": "stderr",
     "output_type": "stream",
     "text": [
      "\r",
      " 81%|████████▏ | 91/112 [05:05<01:10,  3.35s/it]"
     ]
    },
    {
     "name": "stdout",
     "output_type": "stream",
     "text": [
      "IMAGE SIZE : 91\n",
      "Accuracy of     0 : 99 %\n",
      "Accuracy of     1 : 62 %\n",
      "Accuracy of     2 : 91 %\n",
      "Accuracy of     3 : 82 %\n",
      "Accuracy of     4 : 73 %\n",
      "Accuracy of     5 : 95 %\n",
      "Accuracy of     6 : 95 %\n",
      "Accuracy of     7 : 84 %\n",
      "Accuracy of     8 : 90 %\n",
      "Accuracy of     9 : 88 %\n",
      "Accuracy of the network on the 10000 test images: 85 %\n"
     ]
    },
    {
     "name": "stderr",
     "output_type": "stream",
     "text": [
      "\r",
      " 82%|████████▏ | 92/112 [05:08<01:06,  3.35s/it]"
     ]
    },
    {
     "name": "stdout",
     "output_type": "stream",
     "text": [
      "IMAGE SIZE : 92\n",
      "Accuracy of     0 : 99 %\n",
      "Accuracy of     1 : 61 %\n",
      "Accuracy of     2 : 93 %\n",
      "Accuracy of     3 : 83 %\n",
      "Accuracy of     4 : 75 %\n",
      "Accuracy of     5 : 95 %\n",
      "Accuracy of     6 : 96 %\n",
      "Accuracy of     7 : 84 %\n",
      "Accuracy of     8 : 90 %\n",
      "Accuracy of     9 : 89 %\n",
      "Accuracy of the network on the 10000 test images: 86 %\n"
     ]
    },
    {
     "name": "stderr",
     "output_type": "stream",
     "text": [
      "\r",
      " 83%|████████▎ | 93/112 [05:11<01:03,  3.35s/it]"
     ]
    },
    {
     "name": "stdout",
     "output_type": "stream",
     "text": [
      "IMAGE SIZE : 93\n",
      "Accuracy of     0 : 99 %\n",
      "Accuracy of     1 : 61 %\n",
      "Accuracy of     2 : 93 %\n",
      "Accuracy of     3 : 82 %\n",
      "Accuracy of     4 : 75 %\n",
      "Accuracy of     5 : 96 %\n",
      "Accuracy of     6 : 95 %\n",
      "Accuracy of     7 : 85 %\n",
      "Accuracy of     8 : 91 %\n",
      "Accuracy of     9 : 88 %\n",
      "Accuracy of the network on the 10000 test images: 86 %\n"
     ]
    },
    {
     "name": "stderr",
     "output_type": "stream",
     "text": [
      "\r",
      " 84%|████████▍ | 94/112 [05:15<01:00,  3.34s/it]"
     ]
    },
    {
     "name": "stdout",
     "output_type": "stream",
     "text": [
      "IMAGE SIZE : 94\n",
      "Accuracy of     0 : 99 %\n",
      "Accuracy of     1 : 61 %\n",
      "Accuracy of     2 : 94 %\n",
      "Accuracy of     3 : 83 %\n",
      "Accuracy of     4 : 76 %\n",
      "Accuracy of     5 : 95 %\n",
      "Accuracy of     6 : 95 %\n",
      "Accuracy of     7 : 85 %\n",
      "Accuracy of     8 : 90 %\n",
      "Accuracy of     9 : 89 %\n",
      "Accuracy of the network on the 10000 test images: 86 %\n"
     ]
    },
    {
     "name": "stderr",
     "output_type": "stream",
     "text": [
      "\r",
      " 85%|████████▍ | 95/112 [05:18<00:56,  3.35s/it]"
     ]
    },
    {
     "name": "stdout",
     "output_type": "stream",
     "text": [
      "IMAGE SIZE : 95\n",
      "Accuracy of     0 : 99 %\n",
      "Accuracy of     1 : 59 %\n",
      "Accuracy of     2 : 93 %\n",
      "Accuracy of     3 : 81 %\n",
      "Accuracy of     4 : 75 %\n",
      "Accuracy of     5 : 96 %\n",
      "Accuracy of     6 : 95 %\n",
      "Accuracy of     7 : 85 %\n",
      "Accuracy of     8 : 91 %\n",
      "Accuracy of     9 : 88 %\n",
      "Accuracy of the network on the 10000 test images: 86 %\n"
     ]
    },
    {
     "name": "stderr",
     "output_type": "stream",
     "text": [
      "\r",
      " 86%|████████▌ | 96/112 [05:21<00:53,  3.35s/it]"
     ]
    },
    {
     "name": "stdout",
     "output_type": "stream",
     "text": [
      "IMAGE SIZE : 96\n",
      "Accuracy of     0 : 99 %\n",
      "Accuracy of     1 : 60 %\n",
      "Accuracy of     2 : 93 %\n",
      "Accuracy of     3 : 83 %\n",
      "Accuracy of     4 : 77 %\n",
      "Accuracy of     5 : 96 %\n",
      "Accuracy of     6 : 95 %\n",
      "Accuracy of     7 : 88 %\n",
      "Accuracy of     8 : 90 %\n",
      "Accuracy of     9 : 88 %\n",
      "Accuracy of the network on the 10000 test images: 86 %\n"
     ]
    },
    {
     "name": "stderr",
     "output_type": "stream",
     "text": [
      "\r",
      " 87%|████████▋ | 97/112 [05:25<00:50,  3.35s/it]"
     ]
    },
    {
     "name": "stdout",
     "output_type": "stream",
     "text": [
      "IMAGE SIZE : 97\n",
      "Accuracy of     0 : 99 %\n",
      "Accuracy of     1 : 58 %\n",
      "Accuracy of     2 : 93 %\n",
      "Accuracy of     3 : 82 %\n",
      "Accuracy of     4 : 77 %\n",
      "Accuracy of     5 : 97 %\n",
      "Accuracy of     6 : 95 %\n",
      "Accuracy of     7 : 87 %\n",
      "Accuracy of     8 : 91 %\n",
      "Accuracy of     9 : 88 %\n",
      "Accuracy of the network on the 10000 test images: 86 %\n"
     ]
    },
    {
     "name": "stderr",
     "output_type": "stream",
     "text": [
      "\r",
      " 88%|████████▊ | 98/112 [05:28<00:46,  3.35s/it]"
     ]
    },
    {
     "name": "stdout",
     "output_type": "stream",
     "text": [
      "IMAGE SIZE : 98\n",
      "Accuracy of     0 : 99 %\n",
      "Accuracy of     1 : 60 %\n",
      "Accuracy of     2 : 93 %\n",
      "Accuracy of     3 : 82 %\n",
      "Accuracy of     4 : 78 %\n",
      "Accuracy of     5 : 96 %\n",
      "Accuracy of     6 : 95 %\n",
      "Accuracy of     7 : 86 %\n",
      "Accuracy of     8 : 90 %\n",
      "Accuracy of     9 : 88 %\n",
      "Accuracy of the network on the 10000 test images: 86 %\n"
     ]
    },
    {
     "name": "stderr",
     "output_type": "stream",
     "text": [
      "\r",
      " 88%|████████▊ | 99/112 [05:31<00:43,  3.35s/it]"
     ]
    },
    {
     "name": "stdout",
     "output_type": "stream",
     "text": [
      "IMAGE SIZE : 99\n",
      "Accuracy of     0 : 99 %\n",
      "Accuracy of     1 : 58 %\n",
      "Accuracy of     2 : 93 %\n",
      "Accuracy of     3 : 83 %\n",
      "Accuracy of     4 : 77 %\n",
      "Accuracy of     5 : 96 %\n",
      "Accuracy of     6 : 94 %\n",
      "Accuracy of     7 : 88 %\n",
      "Accuracy of     8 : 91 %\n",
      "Accuracy of     9 : 88 %\n",
      "Accuracy of the network on the 10000 test images: 86 %\n"
     ]
    },
    {
     "name": "stderr",
     "output_type": "stream",
     "text": [
      "\r",
      " 89%|████████▉ | 100/112 [05:35<00:40,  3.35s/it]"
     ]
    },
    {
     "name": "stdout",
     "output_type": "stream",
     "text": [
      "IMAGE SIZE : 100\n",
      "Accuracy of     0 : 99 %\n",
      "Accuracy of     1 : 60 %\n",
      "Accuracy of     2 : 92 %\n",
      "Accuracy of     3 : 83 %\n",
      "Accuracy of     4 : 78 %\n",
      "Accuracy of     5 : 95 %\n",
      "Accuracy of     6 : 95 %\n",
      "Accuracy of     7 : 85 %\n",
      "Accuracy of     8 : 92 %\n",
      "Accuracy of     9 : 88 %\n",
      "Accuracy of the network on the 10000 test images: 86 %\n"
     ]
    },
    {
     "name": "stderr",
     "output_type": "stream",
     "text": [
      "\r",
      " 90%|█████████ | 101/112 [05:38<00:36,  3.34s/it]"
     ]
    },
    {
     "name": "stdout",
     "output_type": "stream",
     "text": [
      "IMAGE SIZE : 101\n",
      "Accuracy of     0 : 99 %\n",
      "Accuracy of     1 : 58 %\n",
      "Accuracy of     2 : 93 %\n",
      "Accuracy of     3 : 82 %\n",
      "Accuracy of     4 : 78 %\n",
      "Accuracy of     5 : 95 %\n",
      "Accuracy of     6 : 95 %\n",
      "Accuracy of     7 : 87 %\n",
      "Accuracy of     8 : 93 %\n",
      "Accuracy of     9 : 88 %\n",
      "Accuracy of the network on the 10000 test images: 86 %\n"
     ]
    },
    {
     "name": "stderr",
     "output_type": "stream",
     "text": [
      "\r",
      " 91%|█████████ | 102/112 [05:41<00:33,  3.35s/it]"
     ]
    },
    {
     "name": "stdout",
     "output_type": "stream",
     "text": [
      "IMAGE SIZE : 102\n",
      "Accuracy of     0 : 99 %\n",
      "Accuracy of     1 : 60 %\n",
      "Accuracy of     2 : 93 %\n",
      "Accuracy of     3 : 84 %\n",
      "Accuracy of     4 : 80 %\n",
      "Accuracy of     5 : 96 %\n",
      "Accuracy of     6 : 95 %\n",
      "Accuracy of     7 : 86 %\n",
      "Accuracy of     8 : 92 %\n",
      "Accuracy of     9 : 88 %\n",
      "Accuracy of the network on the 10000 test images: 87 %\n"
     ]
    },
    {
     "name": "stderr",
     "output_type": "stream",
     "text": [
      "\r",
      " 92%|█████████▏| 103/112 [05:45<00:30,  3.35s/it]"
     ]
    },
    {
     "name": "stdout",
     "output_type": "stream",
     "text": [
      "IMAGE SIZE : 103\n",
      "Accuracy of     0 : 99 %\n",
      "Accuracy of     1 : 62 %\n",
      "Accuracy of     2 : 92 %\n",
      "Accuracy of     3 : 81 %\n",
      "Accuracy of     4 : 78 %\n",
      "Accuracy of     5 : 95 %\n",
      "Accuracy of     6 : 96 %\n",
      "Accuracy of     7 : 86 %\n",
      "Accuracy of     8 : 93 %\n",
      "Accuracy of     9 : 88 %\n",
      "Accuracy of the network on the 10000 test images: 87 %\n"
     ]
    },
    {
     "name": "stderr",
     "output_type": "stream",
     "text": [
      "\r",
      " 93%|█████████▎| 104/112 [05:48<00:26,  3.35s/it]"
     ]
    },
    {
     "name": "stdout",
     "output_type": "stream",
     "text": [
      "IMAGE SIZE : 104\n",
      "Accuracy of     0 : 98 %\n",
      "Accuracy of     1 : 63 %\n",
      "Accuracy of     2 : 94 %\n",
      "Accuracy of     3 : 83 %\n",
      "Accuracy of     4 : 79 %\n",
      "Accuracy of     5 : 96 %\n",
      "Accuracy of     6 : 95 %\n",
      "Accuracy of     7 : 86 %\n",
      "Accuracy of     8 : 93 %\n",
      "Accuracy of     9 : 88 %\n",
      "Accuracy of the network on the 10000 test images: 87 %\n"
     ]
    },
    {
     "name": "stderr",
     "output_type": "stream",
     "text": [
      "\r",
      " 94%|█████████▍| 105/112 [05:52<00:23,  3.35s/it]"
     ]
    },
    {
     "name": "stdout",
     "output_type": "stream",
     "text": [
      "IMAGE SIZE : 105\n",
      "Accuracy of     0 : 98 %\n",
      "Accuracy of     1 : 63 %\n",
      "Accuracy of     2 : 92 %\n",
      "Accuracy of     3 : 82 %\n",
      "Accuracy of     4 : 78 %\n",
      "Accuracy of     5 : 95 %\n",
      "Accuracy of     6 : 95 %\n",
      "Accuracy of     7 : 86 %\n",
      "Accuracy of     8 : 93 %\n",
      "Accuracy of     9 : 88 %\n",
      "Accuracy of the network on the 10000 test images: 87 %\n"
     ]
    },
    {
     "name": "stderr",
     "output_type": "stream",
     "text": [
      "\r",
      " 95%|█████████▍| 106/112 [05:55<00:20,  3.35s/it]"
     ]
    },
    {
     "name": "stdout",
     "output_type": "stream",
     "text": [
      "IMAGE SIZE : 106\n",
      "Accuracy of     0 : 98 %\n",
      "Accuracy of     1 : 65 %\n",
      "Accuracy of     2 : 94 %\n",
      "Accuracy of     3 : 83 %\n",
      "Accuracy of     4 : 79 %\n",
      "Accuracy of     5 : 95 %\n",
      "Accuracy of     6 : 95 %\n",
      "Accuracy of     7 : 86 %\n",
      "Accuracy of     8 : 93 %\n",
      "Accuracy of     9 : 88 %\n",
      "Accuracy of the network on the 10000 test images: 87 %\n"
     ]
    },
    {
     "name": "stderr",
     "output_type": "stream",
     "text": [
      "\r",
      " 96%|█████████▌| 107/112 [05:58<00:16,  3.36s/it]"
     ]
    },
    {
     "name": "stdout",
     "output_type": "stream",
     "text": [
      "IMAGE SIZE : 107\n",
      "Accuracy of     0 : 98 %\n",
      "Accuracy of     1 : 63 %\n",
      "Accuracy of     2 : 93 %\n",
      "Accuracy of     3 : 82 %\n",
      "Accuracy of     4 : 80 %\n",
      "Accuracy of     5 : 95 %\n",
      "Accuracy of     6 : 95 %\n",
      "Accuracy of     7 : 86 %\n",
      "Accuracy of     8 : 93 %\n",
      "Accuracy of     9 : 88 %\n",
      "Accuracy of the network on the 10000 test images: 87 %\n"
     ]
    },
    {
     "name": "stderr",
     "output_type": "stream",
     "text": [
      "\r",
      " 96%|█████████▋| 108/112 [06:02<00:13,  3.35s/it]"
     ]
    },
    {
     "name": "stdout",
     "output_type": "stream",
     "text": [
      "IMAGE SIZE : 108\n",
      "Accuracy of     0 : 98 %\n",
      "Accuracy of     1 : 65 %\n",
      "Accuracy of     2 : 93 %\n",
      "Accuracy of     3 : 82 %\n",
      "Accuracy of     4 : 80 %\n",
      "Accuracy of     5 : 95 %\n",
      "Accuracy of     6 : 95 %\n",
      "Accuracy of     7 : 87 %\n",
      "Accuracy of     8 : 92 %\n",
      "Accuracy of     9 : 87 %\n",
      "Accuracy of the network on the 10000 test images: 87 %\n"
     ]
    },
    {
     "name": "stderr",
     "output_type": "stream",
     "text": [
      "\r",
      " 97%|█████████▋| 109/112 [06:05<00:10,  3.35s/it]"
     ]
    },
    {
     "name": "stdout",
     "output_type": "stream",
     "text": [
      "IMAGE SIZE : 109\n",
      "Accuracy of     0 : 98 %\n",
      "Accuracy of     1 : 65 %\n",
      "Accuracy of     2 : 93 %\n",
      "Accuracy of     3 : 82 %\n",
      "Accuracy of     4 : 79 %\n",
      "Accuracy of     5 : 95 %\n",
      "Accuracy of     6 : 95 %\n",
      "Accuracy of     7 : 86 %\n",
      "Accuracy of     8 : 93 %\n",
      "Accuracy of     9 : 87 %\n",
      "Accuracy of the network on the 10000 test images: 87 %\n"
     ]
    },
    {
     "name": "stderr",
     "output_type": "stream",
     "text": [
      "\r",
      " 98%|█████████▊| 110/112 [06:08<00:06,  3.35s/it]"
     ]
    },
    {
     "name": "stdout",
     "output_type": "stream",
     "text": [
      "IMAGE SIZE : 110\n",
      "Accuracy of     0 : 98 %\n",
      "Accuracy of     1 : 66 %\n",
      "Accuracy of     2 : 93 %\n",
      "Accuracy of     3 : 83 %\n",
      "Accuracy of     4 : 80 %\n",
      "Accuracy of     5 : 95 %\n",
      "Accuracy of     6 : 95 %\n",
      "Accuracy of     7 : 88 %\n",
      "Accuracy of     8 : 92 %\n",
      "Accuracy of     9 : 87 %\n",
      "Accuracy of the network on the 10000 test images: 87 %\n"
     ]
    },
    {
     "name": "stderr",
     "output_type": "stream",
     "text": [
      "\r",
      " 99%|█████████▉| 111/112 [06:12<00:03,  3.35s/it]"
     ]
    },
    {
     "name": "stdout",
     "output_type": "stream",
     "text": [
      "IMAGE SIZE : 111\n",
      "Accuracy of     0 : 98 %\n",
      "Accuracy of     1 : 65 %\n",
      "Accuracy of     2 : 92 %\n",
      "Accuracy of     3 : 83 %\n",
      "Accuracy of     4 : 80 %\n",
      "Accuracy of     5 : 95 %\n",
      "Accuracy of     6 : 95 %\n",
      "Accuracy of     7 : 86 %\n",
      "Accuracy of     8 : 92 %\n",
      "Accuracy of     9 : 87 %\n",
      "Accuracy of the network on the 10000 test images: 87 %\n"
     ]
    },
    {
     "name": "stderr",
     "output_type": "stream",
     "text": [
      "100%|██████████| 112/112 [06:15<00:00,  3.35s/it]"
     ]
    },
    {
     "name": "stdout",
     "output_type": "stream",
     "text": [
      "IMAGE SIZE : 112\n",
      "Accuracy of     0 : 98 %\n",
      "Accuracy of     1 : 68 %\n",
      "Accuracy of     2 : 92 %\n",
      "Accuracy of     3 : 83 %\n",
      "Accuracy of     4 : 80 %\n",
      "Accuracy of     5 : 94 %\n",
      "Accuracy of     6 : 95 %\n",
      "Accuracy of     7 : 85 %\n",
      "Accuracy of     8 : 92 %\n",
      "Accuracy of     9 : 87 %\n",
      "Accuracy of the network on the 10000 test images: 87 %\n"
     ]
    },
    {
     "name": "stderr",
     "output_type": "stream",
     "text": [
      "\n"
     ]
    }
   ],
   "source": [
    "accuracy = []\n",
    "\n",
    "for a in tqdm(range(len(val_gen_arr))):\n",
    "    testloader = val_gen_arr[a]\n",
    "    correct = 0\n",
    "    total = 0\n",
    "    class_correct = list(0. for i in range(10))\n",
    "    class_total = list(0. for i in range(10))\n",
    "    with torch.no_grad():\n",
    "        for image in testloader:\n",
    "            c1 = image[0].to(device)\n",
    "            val_labels = image[1].to(device)\n",
    "            outputs = model(c1)\n",
    "            _, predicted = torch.max(outputs.data, 1)\n",
    "            c = (predicted == val_labels).squeeze()\n",
    "            total += val_labels.size(0)\n",
    "            correct += (predicted == val_labels).sum().item()\n",
    "            for i in range(len(val_labels)):\n",
    "                val_label = val_labels[i]\n",
    "                class_correct[val_label] += c[i].item()\n",
    "                class_total[val_label] += 1\n",
    "        \n",
    "        print(\"IMAGE SIZE :\",str(a+1))\n",
    "        for k in range(10):\n",
    "            if class_total[k]==0:\n",
    "                print('class_total = 0',class_correct,class_total)\n",
    "            else:\n",
    "                print('Accuracy of %5s : %2d %%' % (k, 100 * class_correct[k] / class_total[k]))\n",
    "            #print(total,correct,end='')\n",
    "\n",
    "    print('Accuracy of the network on the 10000 test images: %d %%' % (100 * correct / total))\n",
    "    accuracy.append((100 * correct / total))"
   ]
  },
  {
   "cell_type": "code",
   "execution_count": 18,
   "metadata": {},
   "outputs": [
    {
     "name": "stdout",
     "output_type": "stream",
     "text": [
      "7.9 ,8.7 ,10.4 ,9.0 ,9.2 ,8.1 ,9.0 ,8.7 ,8.1 ,7.6 ,8.0 ,7.7 ,9.0 ,8.7 ,8.7 ,8.6 ,8.0 ,9.1 ,8.6 ,9.8 ,9.3 ,11.2 ,10.7 ,12.1 ,12.6 ,13.6 ,13.9 ,15.3 ,15.3 ,17.1 ,16.5 ,18.9 ,18.9 ,20.9 ,20.2 ,22.5 ,23.4 ,25.2 ,26.6 ,29.6 ,30.0 ,32.7 ,33.0 ,35.3 ,36.2 ,37.9 ,39.2 ,40.5 ,41.7 ,43.7 ,44.5 ,46.6 ,47.1 ,50.0 ,50.9 ,52.9 ,53.6 ,55.9 ,56.9 ,59.5 ,60.3 ,63.0 ,63.5 ,65.8 ,66.8 ,69.4 ,69.3 ,71.3 ,72.4 ,74.7 ,73.9 ,75.9 ,75.9 ,78.1 ,78.2 ,79.8 ,79.3 ,81.3 ,81.4 ,82.8 ,82.9 ,84.0 ,83.7 ,84.2 ,84.5 ,84.8 ,85.2 ,85.3 ,85.5 ,86.2 ,85.9 ,86.5 ,86.5 ,86.7 ,86.2 ,86.9 ,86.7 ,86.7 ,86.7 ,86.7 ,86.8 ,87.3 ,87.0 ,87.5 ,87.0 ,87.6 ,87.3 ,87.4 ,87.3 ,87.7 ,87.3 ,87.4 ,"
     ]
    }
   ],
   "source": [
    "for i in range(len(accuracy)):\n",
    "    print(accuracy[i],',',end='')"
   ]
  },
  {
   "cell_type": "code",
   "execution_count": 14,
   "metadata": {},
   "outputs": [
    {
     "name": "stdout",
     "output_type": "stream",
     "text": [
      "[tensor([[[[-1., -1., -1.,  ..., -1., -1., -1.],\n",
      "          [-1., -1., -1.,  ..., -1., -1., -1.],\n",
      "          [-1., -1., -1.,  ..., -1., -1., -1.],\n",
      "          ...,\n",
      "          [-1., -1., -1.,  ..., -1., -1., -1.],\n",
      "          [-1., -1., -1.,  ..., -1., -1., -1.],\n",
      "          [-1., -1., -1.,  ..., -1., -1., -1.]],\n",
      "\n",
      "         [[-1., -1., -1.,  ..., -1., -1., -1.],\n",
      "          [-1., -1., -1.,  ..., -1., -1., -1.],\n",
      "          [-1., -1., -1.,  ..., -1., -1., -1.],\n",
      "          ...,\n",
      "          [-1., -1., -1.,  ..., -1., -1., -1.],\n",
      "          [-1., -1., -1.,  ..., -1., -1., -1.],\n",
      "          [-1., -1., -1.,  ..., -1., -1., -1.]],\n",
      "\n",
      "         [[-1., -1., -1.,  ..., -1., -1., -1.],\n",
      "          [-1., -1., -1.,  ..., -1., -1., -1.],\n",
      "          [-1., -1., -1.,  ..., -1., -1., -1.],\n",
      "          ...,\n",
      "          [-1., -1., -1.,  ..., -1., -1., -1.],\n",
      "          [-1., -1., -1.,  ..., -1., -1., -1.],\n",
      "          [-1., -1., -1.,  ..., -1., -1., -1.]]],\n",
      "\n",
      "\n",
      "        [[[-1., -1., -1.,  ..., -1., -1., -1.],\n",
      "          [-1., -1., -1.,  ..., -1., -1., -1.],\n",
      "          [-1., -1., -1.,  ..., -1., -1., -1.],\n",
      "          ...,\n",
      "          [-1., -1., -1.,  ..., -1., -1., -1.],\n",
      "          [-1., -1., -1.,  ..., -1., -1., -1.],\n",
      "          [-1., -1., -1.,  ..., -1., -1., -1.]],\n",
      "\n",
      "         [[-1., -1., -1.,  ..., -1., -1., -1.],\n",
      "          [-1., -1., -1.,  ..., -1., -1., -1.],\n",
      "          [-1., -1., -1.,  ..., -1., -1., -1.],\n",
      "          ...,\n",
      "          [-1., -1., -1.,  ..., -1., -1., -1.],\n",
      "          [-1., -1., -1.,  ..., -1., -1., -1.],\n",
      "          [-1., -1., -1.,  ..., -1., -1., -1.]],\n",
      "\n",
      "         [[-1., -1., -1.,  ..., -1., -1., -1.],\n",
      "          [-1., -1., -1.,  ..., -1., -1., -1.],\n",
      "          [-1., -1., -1.,  ..., -1., -1., -1.],\n",
      "          ...,\n",
      "          [-1., -1., -1.,  ..., -1., -1., -1.],\n",
      "          [-1., -1., -1.,  ..., -1., -1., -1.],\n",
      "          [-1., -1., -1.,  ..., -1., -1., -1.]]],\n",
      "\n",
      "\n",
      "        [[[-1., -1., -1.,  ..., -1., -1., -1.],\n",
      "          [-1., -1., -1.,  ..., -1., -1., -1.],\n",
      "          [-1., -1., -1.,  ..., -1., -1., -1.],\n",
      "          ...,\n",
      "          [-1., -1., -1.,  ..., -1., -1., -1.],\n",
      "          [-1., -1., -1.,  ..., -1., -1., -1.],\n",
      "          [-1., -1., -1.,  ..., -1., -1., -1.]],\n",
      "\n",
      "         [[-1., -1., -1.,  ..., -1., -1., -1.],\n",
      "          [-1., -1., -1.,  ..., -1., -1., -1.],\n",
      "          [-1., -1., -1.,  ..., -1., -1., -1.],\n",
      "          ...,\n",
      "          [-1., -1., -1.,  ..., -1., -1., -1.],\n",
      "          [-1., -1., -1.,  ..., -1., -1., -1.],\n",
      "          [-1., -1., -1.,  ..., -1., -1., -1.]],\n",
      "\n",
      "         [[-1., -1., -1.,  ..., -1., -1., -1.],\n",
      "          [-1., -1., -1.,  ..., -1., -1., -1.],\n",
      "          [-1., -1., -1.,  ..., -1., -1., -1.],\n",
      "          ...,\n",
      "          [-1., -1., -1.,  ..., -1., -1., -1.],\n",
      "          [-1., -1., -1.,  ..., -1., -1., -1.],\n",
      "          [-1., -1., -1.,  ..., -1., -1., -1.]]],\n",
      "\n",
      "\n",
      "        ...,\n",
      "\n",
      "\n",
      "        [[[-1., -1., -1.,  ..., -1., -1., -1.],\n",
      "          [-1., -1., -1.,  ..., -1., -1., -1.],\n",
      "          [-1., -1., -1.,  ..., -1., -1., -1.],\n",
      "          ...,\n",
      "          [-1., -1., -1.,  ..., -1., -1., -1.],\n",
      "          [-1., -1., -1.,  ..., -1., -1., -1.],\n",
      "          [-1., -1., -1.,  ..., -1., -1., -1.]],\n",
      "\n",
      "         [[-1., -1., -1.,  ..., -1., -1., -1.],\n",
      "          [-1., -1., -1.,  ..., -1., -1., -1.],\n",
      "          [-1., -1., -1.,  ..., -1., -1., -1.],\n",
      "          ...,\n",
      "          [-1., -1., -1.,  ..., -1., -1., -1.],\n",
      "          [-1., -1., -1.,  ..., -1., -1., -1.],\n",
      "          [-1., -1., -1.,  ..., -1., -1., -1.]],\n",
      "\n",
      "         [[-1., -1., -1.,  ..., -1., -1., -1.],\n",
      "          [-1., -1., -1.,  ..., -1., -1., -1.],\n",
      "          [-1., -1., -1.,  ..., -1., -1., -1.],\n",
      "          ...,\n",
      "          [-1., -1., -1.,  ..., -1., -1., -1.],\n",
      "          [-1., -1., -1.,  ..., -1., -1., -1.],\n",
      "          [-1., -1., -1.,  ..., -1., -1., -1.]]],\n",
      "\n",
      "\n",
      "        [[[-1., -1., -1.,  ..., -1., -1., -1.],\n",
      "          [-1., -1., -1.,  ..., -1., -1., -1.],\n",
      "          [-1., -1., -1.,  ..., -1., -1., -1.],\n",
      "          ...,\n",
      "          [-1., -1., -1.,  ..., -1., -1., -1.],\n",
      "          [-1., -1., -1.,  ..., -1., -1., -1.],\n",
      "          [-1., -1., -1.,  ..., -1., -1., -1.]],\n",
      "\n",
      "         [[-1., -1., -1.,  ..., -1., -1., -1.],\n",
      "          [-1., -1., -1.,  ..., -1., -1., -1.],\n",
      "          [-1., -1., -1.,  ..., -1., -1., -1.],\n",
      "          ...,\n",
      "          [-1., -1., -1.,  ..., -1., -1., -1.],\n",
      "          [-1., -1., -1.,  ..., -1., -1., -1.],\n",
      "          [-1., -1., -1.,  ..., -1., -1., -1.]],\n",
      "\n",
      "         [[-1., -1., -1.,  ..., -1., -1., -1.],\n",
      "          [-1., -1., -1.,  ..., -1., -1., -1.],\n",
      "          [-1., -1., -1.,  ..., -1., -1., -1.],\n",
      "          ...,\n",
      "          [-1., -1., -1.,  ..., -1., -1., -1.],\n",
      "          [-1., -1., -1.,  ..., -1., -1., -1.],\n",
      "          [-1., -1., -1.,  ..., -1., -1., -1.]]],\n",
      "\n",
      "\n",
      "        [[[-1., -1., -1.,  ..., -1., -1., -1.],\n",
      "          [-1., -1., -1.,  ..., -1., -1., -1.],\n",
      "          [-1., -1., -1.,  ..., -1., -1., -1.],\n",
      "          ...,\n",
      "          [-1., -1., -1.,  ..., -1., -1., -1.],\n",
      "          [-1., -1., -1.,  ..., -1., -1., -1.],\n",
      "          [-1., -1., -1.,  ..., -1., -1., -1.]],\n",
      "\n",
      "         [[-1., -1., -1.,  ..., -1., -1., -1.],\n",
      "          [-1., -1., -1.,  ..., -1., -1., -1.],\n",
      "          [-1., -1., -1.,  ..., -1., -1., -1.],\n",
      "          ...,\n",
      "          [-1., -1., -1.,  ..., -1., -1., -1.],\n",
      "          [-1., -1., -1.,  ..., -1., -1., -1.],\n",
      "          [-1., -1., -1.,  ..., -1., -1., -1.]],\n",
      "\n",
      "         [[-1., -1., -1.,  ..., -1., -1., -1.],\n",
      "          [-1., -1., -1.,  ..., -1., -1., -1.],\n",
      "          [-1., -1., -1.,  ..., -1., -1., -1.],\n",
      "          ...,\n",
      "          [-1., -1., -1.,  ..., -1., -1., -1.],\n",
      "          [-1., -1., -1.,  ..., -1., -1., -1.],\n",
      "          [-1., -1., -1.,  ..., -1., -1., -1.]]]]), tensor([0, 0, 0, 0, 0, 0, 0, 0, 0, 0, 0, 0, 0, 0, 0, 0, 0, 0, 0, 0, 0, 0, 0, 0,\n",
      "        0, 0, 0, 0, 0, 0, 0, 0])]\n"
     ]
    }
   ],
   "source": [
    "for images in val_gen_arr[1]:\n",
    "    print(images)\n",
    "    break"
   ]
  },
  {
   "cell_type": "code",
   "execution_count": 15,
   "metadata": {},
   "outputs": [
    {
     "name": "stdout",
     "output_type": "stream",
     "text": [
      "Accuracy of     0 : 98 %\n",
      "Accuracy of     1 : 65 %\n",
      "Accuracy of     2 : 92 %\n",
      "Accuracy of     3 : 83 %\n",
      "Accuracy of     4 : 80 %\n",
      "Accuracy of     5 : 95 %\n",
      "Accuracy of     6 : 95 %\n",
      "Accuracy of     7 : 86 %\n",
      "Accuracy of     8 : 92 %\n",
      "Accuracy of     9 : 87 %\n",
      "epoch: 30/30 | step: 10/1875 | trn loss: 0.0000 | val loss: 0.7342\n",
      "Accuracy of the network on the 10000 test images: 87 %\n"
     ]
    }
   ],
   "source": [
    "with torch.no_grad(): # very very very very important!!!\n",
    "    val_loss = 0.0\n",
    "    class_correct = list(0. for i in range(10))\n",
    "    class_total = list(0. for i in range(10))\n",
    "    correct = 0\n",
    "    total = 0\n",
    "    for j,val in enumerate(testloader):\n",
    "        v1 = val[0].to(device)\n",
    "        val_labels = val[1].to(device)\n",
    "        val_output = model(v1)\n",
    "        v_loss = criterion(val_output, val_labels)\n",
    "        val_loss += v_loss\n",
    "        _, predicted = torch.max(val_output, 1)\n",
    "        c = (predicted == val_labels).squeeze()\n",
    "        total += val_labels.size(0)\n",
    "        correct += (predicted == val_labels).sum().item()\n",
    "        for i in range(len(val_labels)):\n",
    "            val_label = val_labels[i]\n",
    "            class_correct[val_label] += c[i].item()\n",
    "            class_total[val_label] += 1\n",
    "\n",
    "    for i in range(10):\n",
    "        if class_total[i]==0:\n",
    "            print('class_total = 0',class_correct,class_total)\n",
    "        else:\n",
    "            print('Accuracy of %5s : %2d %%' % (i, 100 * class_correct[i] / class_total[i]))\n",
    "\n",
    "print(\"epoch: {}/{} | step: {}/{} | trn loss: {:.4f} | val loss: {:.4f}\".format(\n",
    "    epoch+1, 30, i+1, num_batches, running_loss / 200, val_loss / len(testloader)\n",
    "))        \n",
    "print('Accuracy of the network on the 10000 test images: %d %%' % (100 * correct / total))"
   ]
  },
  {
   "cell_type": "code",
   "execution_count": null,
   "metadata": {},
   "outputs": [],
   "source": []
  },
  {
   "cell_type": "code",
   "execution_count": null,
   "metadata": {},
   "outputs": [],
   "source": []
  }
 ],
 "metadata": {
  "kernelspec": {
   "display_name": "Python 3",
   "language": "python",
   "name": "python3"
  },
  "language_info": {
   "codemirror_mode": {
    "name": "ipython",
    "version": 3
   },
   "file_extension": ".py",
   "mimetype": "text/x-python",
   "name": "python",
   "nbconvert_exporter": "python",
   "pygments_lexer": "ipython3",
   "version": "3.6.9"
  }
 },
 "nbformat": 4,
 "nbformat_minor": 4
}
